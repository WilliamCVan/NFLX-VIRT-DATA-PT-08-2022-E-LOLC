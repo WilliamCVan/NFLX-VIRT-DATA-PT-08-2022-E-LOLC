{
  "cells": [
    {
      "cell_type": "code",
      "execution_count": null,
      "metadata": {
        "colab": {
          "base_uri": "https://localhost:8080/"
        },
        "id": "eGA5-htN6oEN",
        "outputId": "eb773c8d-85fb-4003-ce19-96965ca68eed"
      },
      "outputs": [
        {
          "name": "stdout",
          "output_type": "stream",
          "text": [
            "\r0% [Working]\r            \rGet:1 http://security.ubuntu.com/ubuntu bionic-security InRelease [88.7 kB]\n",
            "\r0% [Connecting to archive.ubuntu.com (185.125.190.39)] [1 InRelease 0 B/88.7 kB\r0% [Connecting to archive.ubuntu.com (185.125.190.39)] [Waiting for headers] [C\r                                                                               \rGet:2 https://cloud.r-project.org/bin/linux/ubuntu bionic-cran40/ InRelease [3,626 B]\n",
            "\r                                                                               \rHit:3 https://developer.download.nvidia.com/compute/cuda/repos/ubuntu1804/x86_64  InRelease\n",
            "\r0% [Waiting for headers] [Connecting to ppa.launchpad.net (185.125.190.52)] [Wa\r0% [1 InRelease gpgv 88.7 kB] [Waiting for headers] [Waiting for headers] [Wait\r                                                                               \rHit:4 http://archive.ubuntu.com/ubuntu bionic InRelease\n",
            "\r0% [1 InRelease gpgv 88.7 kB] [Waiting for headers] [Waiting for headers] [Wait\r                                                                               \rHit:5 http://ppa.launchpad.net/c2d4u.team/c2d4u4.0+/ubuntu bionic InRelease\n",
            "\r                                                                               \r0% [1 InRelease gpgv 88.7 kB] [Waiting for headers] [Waiting for headers]\r                                                                         \rIgn:6 https://developer.download.nvidia.com/compute/machine-learning/repos/ubuntu1804/x86_64  InRelease\n",
            "\r0% [1 InRelease gpgv 88.7 kB] [Waiting for headers] [Connecting to ppa.launchpa\r                                                                               \rGet:7 http://archive.ubuntu.com/ubuntu bionic-updates InRelease [88.7 kB]\n",
            "Hit:8 https://developer.download.nvidia.com/compute/machine-learning/repos/ubuntu1804/x86_64  Release\n",
            "Hit:9 http://ppa.launchpad.net/cran/libgit2/ubuntu bionic InRelease\n",
            "Hit:10 http://ppa.launchpad.net/deadsnakes/ppa/ubuntu bionic InRelease\n",
            "Get:11 http://archive.ubuntu.com/ubuntu bionic-backports InRelease [74.6 kB]\n",
            "Hit:12 http://ppa.launchpad.net/graphics-drivers/ppa/ubuntu bionic InRelease\n",
            "Get:13 http://security.ubuntu.com/ubuntu bionic-security/universe amd64 Packages [1,521 kB]\n",
            "Get:14 http://security.ubuntu.com/ubuntu bionic-security/multiverse amd64 Packages [22.8 kB]\n",
            "Get:15 http://security.ubuntu.com/ubuntu bionic-security/main amd64 Packages [2,866 kB]\n",
            "Get:16 http://security.ubuntu.com/ubuntu bionic-security/restricted amd64 Packages [1,013 kB]\n",
            "Get:18 http://archive.ubuntu.com/ubuntu bionic-updates/universe amd64 Packages [2,297 kB]\n",
            "Get:19 http://archive.ubuntu.com/ubuntu bionic-updates/restricted amd64 Packages [1,047 kB]\n",
            "Get:20 http://archive.ubuntu.com/ubuntu bionic-updates/main amd64 Packages [3,298 kB]\n",
            "Get:21 http://archive.ubuntu.com/ubuntu bionic-updates/multiverse amd64 Packages [29.8 kB]\n",
            "Get:22 http://archive.ubuntu.com/ubuntu bionic-backports/main amd64 Packages [12.2 kB]\n",
            "Fetched 12.4 MB in 7s (1,897 kB/s)\n",
            "Reading package lists... Done\n"
          ]
        }
      ],
      "source": [
        "# Activate Spark in our Colab notebook.\n",
        "import os\n",
        "# Find the latest version of spark 3.0  from http://www.apache.org/dist/spark/ and enter as the spark version\n",
        "# For example: 'spark-3.2.2'\n",
        "spark_version = 'spark-3.2.2'\n",
        "# spark_version = 'spark-3.<enter version>'\n",
        "os.environ['SPARK_VERSION']=spark_version\n",
        "\n",
        "# Install Spark and Java\n",
        "!apt-get update\n",
        "!apt-get install openjdk-11-jdk-headless -qq > /dev/null\n",
        "!wget -q http://www.apache.org/dist/spark/$SPARK_VERSION/$SPARK_VERSION-bin-hadoop3.2.tgz\n",
        "!tar xf $SPARK_VERSION-bin-hadoop3.2.tgz\n",
        "!pip install -q findspark\n",
        "\n",
        "# Set Environment Variables\n",
        "os.environ[\"JAVA_HOME\"] = \"/usr/lib/jvm/java-11-openjdk-amd64\"\n",
        "os.environ[\"SPARK_HOME\"] = f\"/content/{spark_version}-bin-hadoop3.2\"\n",
        "\n",
        "# Start a SparkSession\n",
        "import findspark\n",
        "findspark.init()"
      ]
    },
    {
      "cell_type": "code",
      "execution_count": null,
      "metadata": {
        "id": "pIUo9MYO6vlj"
      },
      "outputs": [],
      "source": [
        "# Import packages\n",
        "from pyspark.sql import SparkSession\n",
        "import time\n",
        "\n",
        "# Create a SparkSession\n",
        "spark = SparkSession.builder.appName(\"SparkSQL\").getOrCreate()\n",
        "\n",
        "# Recall that the default shuffle partitions is 200.  We want to bring that down to a reasonable size for both our data and our Spark cluster\n",
        "# 4 is reasonable for a free Colab \n",
        "spark.conf.set(\"spark.sql.shuffle.partitions\", 4)"
      ]
    },
    {
      "cell_type": "code",
      "execution_count": null,
      "metadata": {
        "id": "Ej6Sabcd-1At"
      },
      "outputs": [],
      "source": [
        "# Read in data from S3 Bucket\n",
        "from pyspark import SparkFiles\n",
        "url = \"https://2u-data-curriculum-team.s3.amazonaws.com/nflx-data-science-adv/week-5/DelayedFlights.csv\"\n",
        "spark.sparkContext.addFile(url)\n",
        "df = spark.read.csv(SparkFiles.get(\"DelayedFlights.csv\"), sep=\",\", header=True)\n",
        "\n",
        "# Create a lookup table for the 500 cities. \n",
        "url_cities='https://2u-data-curriculum-team.s3.amazonaws.com/nflx-data-science-adv/week-5/cities500.txt'\n",
        "spark.sparkContext.addFile(url_cities)\n",
        "df_lookup_geo = spark.read.csv(SparkFiles.get(\"cities500.txt\"), sep=\"\\t\", header=True)\n",
        "\n",
        "# Create a lookup table for the airport codes. \n",
        "url_airportCodes ='https://2u-data-curriculum-team.s3.amazonaws.com/nflx-data-science-adv/week-5/airportCodes.csv'\n",
        "spark.sparkContext.addFile(url_airportCodes)\n",
        "df_lookup_codes = spark.read.csv(SparkFiles.get(\"airportCodes.csv\"), sep=\",\", header=True)\n"
      ]
    },
    {
      "cell_type": "code",
      "execution_count": null,
      "metadata": {
        "colab": {
          "base_uri": "https://localhost:8080/"
        },
        "id": "q0mhM9KxQkXS",
        "outputId": "87c5a0d8-23b5-4d90-e59e-853e8e360b0d"
      },
      "outputs": [
        {
          "name": "stdout",
          "output_type": "stream",
          "text": [
            "+---+----+-----+----------+---------+-------+----------+-------+----------+-------------+---------+-------+-----------------+--------------+-------+--------+--------+------+----+--------+------+-------+---------+----------------+--------+------------+------------+--------+-------------+-----------------+\n",
            "|_c0|Year|Month|DayofMonth|DayOfWeek|DepTime|CRSDepTime|ArrTime|CRSArrTime|UniqueCarrier|FlightNum|TailNum|ActualElapsedTime|CRSElapsedTime|AirTime|ArrDelay|DepDelay|Origin|Dest|Distance|TaxiIn|TaxiOut|Cancelled|CancellationCode|Diverted|CarrierDelay|WeatherDelay|NASDelay|SecurityDelay|LateAircraftDelay|\n",
            "+---+----+-----+----------+---------+-------+----------+-------+----------+-------------+---------+-------+-----------------+--------------+-------+--------+--------+------+----+--------+------+-------+---------+----------------+--------+------------+------------+--------+-------------+-----------------+\n",
            "|  0|2008|    1|         3|        4| 2003.0|      1955| 2211.0|      2225|           WN|      335| N712SW|            128.0|         150.0|  116.0|   -14.0|     8.0|   IAD| TPA|     810|   4.0|    8.0|        0|               N|       0|        null|        null|    null|         null|             null|\n",
            "|  1|2008|    1|         3|        4|  754.0|       735| 1002.0|      1000|           WN|     3231| N772SW|            128.0|         145.0|  113.0|     2.0|    19.0|   IAD| TPA|     810|   5.0|   10.0|        0|               N|       0|        null|        null|    null|         null|             null|\n",
            "|  2|2008|    1|         3|        4|  628.0|       620|  804.0|       750|           WN|      448| N428WN|             96.0|          90.0|   76.0|    14.0|     8.0|   IND| BWI|     515|   3.0|   17.0|        0|               N|       0|        null|        null|    null|         null|             null|\n",
            "|  4|2008|    1|         3|        4| 1829.0|      1755| 1959.0|      1925|           WN|     3920| N464WN|             90.0|          90.0|   77.0|    34.0|    34.0|   IND| BWI|     515|   3.0|   10.0|        0|               N|       0|         2.0|         0.0|     0.0|          0.0|             32.0|\n",
            "|  5|2008|    1|         3|        4| 1940.0|      1915| 2121.0|      2110|           WN|      378| N726SW|            101.0|         115.0|   87.0|    11.0|    25.0|   IND| JAX|     688|   4.0|   10.0|        0|               N|       0|        null|        null|    null|         null|             null|\n",
            "|  6|2008|    1|         3|        4| 1937.0|      1830| 2037.0|      1940|           WN|      509| N763SW|            240.0|         250.0|  230.0|    57.0|    67.0|   IND| LAS|    1591|   3.0|    7.0|        0|               N|       0|        10.0|         0.0|     0.0|          0.0|             47.0|\n",
            "| 10|2008|    1|         3|        4|  706.0|       700|  916.0|       915|           WN|      100| N690SW|            130.0|         135.0|  106.0|     1.0|     6.0|   IND| MCO|     828|   5.0|   19.0|        0|               N|       0|        null|        null|    null|         null|             null|\n",
            "| 11|2008|    1|         3|        4| 1644.0|      1510| 1845.0|      1725|           WN|     1333| N334SW|            121.0|         135.0|  107.0|    80.0|    94.0|   IND| MCO|     828|   6.0|    8.0|        0|               N|       0|         8.0|         0.0|     0.0|          0.0|             72.0|\n",
            "| 15|2008|    1|         3|        4| 1029.0|      1020| 1021.0|      1010|           WN|     2272| N263WN|             52.0|          50.0|   37.0|    11.0|     9.0|   IND| MDW|     162|   6.0|    9.0|        0|               N|       0|        null|        null|    null|         null|             null|\n",
            "| 16|2008|    1|         3|        4| 1452.0|      1425| 1640.0|      1625|           WN|      675| N286WN|            228.0|         240.0|  213.0|    15.0|    27.0|   IND| PHX|    1489|   7.0|    8.0|        0|               N|       0|         3.0|         0.0|     0.0|          0.0|             12.0|\n",
            "| 17|2008|    1|         3|        4|  754.0|       745|  940.0|       955|           WN|     1144| N778SW|            226.0|         250.0|  205.0|   -15.0|     9.0|   IND| PHX|    1489|   5.0|   16.0|        0|               N|       0|        null|        null|    null|         null|             null|\n",
            "| 18|2008|    1|         3|        4| 1323.0|      1255| 1526.0|      1510|           WN|        4| N674AA|            123.0|         135.0|  110.0|    16.0|    28.0|   IND| TPA|     838|   4.0|    9.0|        0|               N|       0|         0.0|         0.0|     0.0|          0.0|             16.0|\n",
            "| 19|2008|    1|         3|        4| 1416.0|      1325| 1512.0|      1435|           WN|       54| N643SW|             56.0|          70.0|   49.0|    37.0|    51.0|   ISP| BWI|     220|   2.0|    5.0|        0|               N|       0|        12.0|         0.0|     0.0|          0.0|             25.0|\n",
            "| 21|2008|    1|         3|        4| 1657.0|      1625| 1754.0|      1735|           WN|      623| N724SW|             57.0|          70.0|   47.0|    19.0|    32.0|   ISP| BWI|     220|   5.0|    5.0|        0|               N|       0|         7.0|         0.0|     0.0|          0.0|             12.0|\n",
            "| 22|2008|    1|         3|        4| 1900.0|      1840| 1956.0|      1950|           WN|      717| N786SW|             56.0|          70.0|   49.0|     6.0|    20.0|   ISP| BWI|     220|   2.0|    5.0|        0|               N|       0|        null|        null|    null|         null|             null|\n",
            "| 23|2008|    1|         3|        4| 1039.0|      1030| 1133.0|      1140|           WN|     1244| N714CB|             54.0|          70.0|   47.0|    -7.0|     9.0|   ISP| BWI|     220|   2.0|    5.0|        0|               N|       0|        null|        null|    null|         null|             null|\n",
            "| 25|2008|    1|         3|        4| 1520.0|      1455| 1619.0|      1605|           WN|     2553| N394SW|             59.0|          70.0|   50.0|    14.0|    25.0|   ISP| BWI|     220|   2.0|    7.0|        0|               N|       0|        null|        null|    null|         null|             null|\n",
            "| 26|2008|    1|         3|        4| 1422.0|      1255| 1657.0|      1610|           WN|      188| N215WN|            155.0|         195.0|  143.0|    47.0|    87.0|   ISP| FLL|    1093|   6.0|    6.0|        0|               N|       0|        40.0|         0.0|     0.0|          0.0|              7.0|\n",
            "| 27|2008|    1|         3|        4| 1954.0|      1925| 2239.0|      2235|           WN|     1754| N243WN|            165.0|         190.0|  155.0|     4.0|    29.0|   ISP| FLL|    1093|   3.0|    7.0|        0|               N|       0|        null|        null|    null|         null|             null|\n",
            "| 30|2008|    1|         3|        4| 2107.0|      1945| 2334.0|      2230|           WN|      362| N798SW|            147.0|         165.0|  134.0|    64.0|    82.0|   ISP| MCO|     972|   6.0|    7.0|        0|               N|       0|         5.0|         0.0|     0.0|          0.0|             59.0|\n",
            "+---+----+-----+----------+---------+-------+----------+-------+----------+-------------+---------+-------+-----------------+--------------+-------+--------+--------+------+----+--------+------+-------+---------+----------------+--------+------------+------------+--------+-------------+-----------------+\n",
            "only showing top 20 rows\n",
            "\n"
          ]
        }
      ],
      "source": [
        "# Look over the delayed flight data.\n",
        "df.show()"
      ]
    },
    {
      "cell_type": "code",
      "execution_count": null,
      "metadata": {
        "colab": {
          "base_uri": "https://localhost:8080/"
        },
        "id": "qDfaP9NvQnh9",
        "outputId": "a6882e1e-866d-4b35-a013-c92d8a8c3dcf"
      },
      "outputs": [
        {
          "name": "stdout",
          "output_type": "stream",
          "text": [
            "+---------+-------------------+-------------------+--------------------+--------+---------+-------------+------------+------------+----+-----------+-----------+-----------+-----------+----------+---------+----+--------------+-----------------+\n",
            "|geonameid|               name|          asciiname|      alternatenames|latitude|longitude|feature_class|feature_code|country_code| cc2|admin1_code|admin2_code|admin3_code|admin4_code|population|elevation| dem|      timezone|modification_date|\n",
            "+---------+-------------------+-------------------+--------------------+--------+---------+-------------+------------+------------+----+-----------+-----------+-----------+-----------+----------+---------+----+--------------+-----------------+\n",
            "|  3038999|             Soldeu|             Soldeu|                null|42.57688|  1.66769|            P|         PPL|          AD|null|         02|       null|       null|       null|       602|     null|1832|Europe/Andorra|       2017-11-06|\n",
            "|  3039154|          El Tarter|          El Tarter|Ehl Tarter,Эл Тартер|42.57952|  1.65362|            P|         PPL|          AD|null|         02|       null|       null|       null|      1052|     null|1721|Europe/Andorra|       2012-11-03|\n",
            "|  3039163|Sant Julià de Lòria|Sant Julia de Loria|San Julia,San Jul...|42.46372|  1.49129|            P|        PPLA|          AD|null|         06|       null|       null|       null|      8022|     null| 921|Europe/Andorra|       2013-11-23|\n",
            "|  3039604|     Pas de la Casa|     Pas de la Casa|Pas de la Kasa,Па...|42.54277|  1.73361|            P|         PPL|          AD|null|         03|       null|       null|       null|      2363|     2050|2106|Europe/Andorra|       2008-06-09|\n",
            "|  3039678|             Ordino|             Ordino|Ordino,ao er di n...|42.55623|  1.53319|            P|        PPLA|          AD|null|         05|       null|       null|       null|      3066|     null|1296|Europe/Andorra|       2018-10-26|\n",
            "|  3040051|       les Escaldes|       les Escaldes|Ehskal'des-Ehndzh...|42.50729|  1.53414|            P|        PPLA|          AD|null|         08|       null|       null|       null|     15853|     null|1033|Europe/Andorra|       2008-10-15|\n",
            "|  3040132|         la Massana|         la Massana|La Macana,La Mass...|42.54499|  1.51483|            P|        PPLA|          AD|null|         04|       null|       null|       null|      7211|     null|1245|Europe/Andorra|       2008-10-15|\n",
            "|  3040141|           l'Aldosa|           l'Aldosa|                null|42.54391|  1.52289|            P|         PPL|          AD|null|         04|       null|       null|       null|       594|     null|1296|Europe/Andorra|       2007-04-29|\n",
            "|  3040686|             Encamp|             Encamp|Ehnkam,Encamp,en ...|42.53474|  1.58014|            P|        PPLA|          AD|null|         03|       null|       null|       null|     11223|     null|1257|Europe/Andorra|       2018-10-26|\n",
            "|  3041204|            Canillo|            Canillo|Canillo,Kanil'o,k...| 42.5676|  1.59756|            P|        PPLA|          AD|null|         02|       null|       null|       null|      3292|     null|1561|Europe/Andorra|       2018-10-26|\n",
            "|  3041519|            Arinsal|            Arinsal|Arinsal,Arinsal',...|42.57205|  1.48453|            P|         PPL|          AD|null|         04|       null|       null|       null|      1419|     null|1465|Europe/Andorra|       2010-01-29|\n",
            "|  3041563|   Andorra la Vella|   Andorra la Vella|ALV,Ando-la-Vyey,...|42.50779|  1.52109|            P|        PPLC|          AD|null|         07|       null|       null|       null|     20430|     null|1037|Europe/Andorra|       2020-03-03|\n",
            "|   290594| Umm Al Quwain City| Umm Al Quwain City|Oumm al Qaiwain,O...|25.56473| 55.55517|            P|        PPLA|          AE|null|         07|       null|       null|       null|     62747|     null|   2|    Asia/Dubai|       2019-10-24|\n",
            "|   291074|Ras Al Khaimah City|Ras Al Khaimah City|Julfa,Khaimah,RAK...|25.78953|  55.9432|            P|        PPLA|          AE|null|         05|       null|       null|       null|    351943|     null|   2|    Asia/Dubai|       2019-09-09|\n",
            "|   291279|           Muzayri‘|           Muzayri`|Mezaira'a,Mezaira...|23.14355|  53.7881|            P|         PPL|          AE|null|         01|       null|       null|       null|     10000|     null| 123|    Asia/Dubai|       2013-10-24|\n",
            "|   291339|             Murbaḩ|             Murbah|Marbah,Mirba,Mirb...|25.27623| 56.36256|            P|         PPL|          AE|null|         06|       null|       null|       null|      2000|     null|  15|    Asia/Dubai|       2020-06-10|\n",
            "|   291580|         Zayed City|         Zayed City|Bid' Zayed,Bid’ Z...|23.65416| 53.70522|            P|         PPL|          AE|null|         01|        103|       null|       null|     63482|     null| 124|    Asia/Dubai|       2019-10-24|\n",
            "|   291696|       Khawr Fakkān|       Khawr Fakkan|Fakkan,Fakkān,Kha...|25.33132| 56.34199|            P|         PPL|          AE|null|         06|       null|       null|       null|     40677|     null|  20|    Asia/Dubai|       2020-06-10|\n",
            "|   292223|              Dubai|              Dubai|DXB,Dabei,Dibai,D...|25.07725| 55.30927|            P|        PPLA|          AE|null|         03|       null|       null|       null|   2956587|     null|  24|    Asia/Dubai|       2019-08-28|\n",
            "|   292231|  Dibba Al-Fujairah|  Dibba Al-Fujairah|Al-Fujairah,BYB,D...|25.59246| 56.26176|            P|         PPL|          AE|null|         04|       null|       null|       null|     30000|     null|  16|    Asia/Dubai|       2014-08-12|\n",
            "+---------+-------------------+-------------------+--------------------+--------+---------+-------------+------------+------------+----+-----------+-----------+-----------+-----------+----------+---------+----+--------------+-----------------+\n",
            "only showing top 20 rows\n",
            "\n"
          ]
        }
      ],
      "source": [
        "# Look over the data of the 500 cities.\n",
        "df_lookup_geo.show()"
      ]
    },
    {
      "cell_type": "code",
      "execution_count": null,
      "metadata": {
        "colab": {
          "base_uri": "https://localhost:8080/"
        },
        "id": "1LV1-sZ2QpZB",
        "outputId": "1070beea-2d44-4b84-d99a-e23fd633f6c1"
      },
      "outputs": [
        {
          "name": "stdout",
          "output_type": "stream",
          "text": [
            "+--------------+--------------------+-----------+\n",
            "|          City|             country|airportCode|\n",
            "+--------------+--------------------+-----------+\n",
            "|       Aalborg|             Denmark|        AAL|\n",
            "|      Aalesund|              Norway|        AES|\n",
            "|        Aarhus|             Denmark|        AAR|\n",
            "|Abbotsford, BC|              Canada|        YXX|\n",
            "|Abbotsford, BC|              Canada|        YXX|\n",
            "|      Aberdeen|            Scotland|        ABZ|\n",
            "|  Aberdeen, SD|                 USA|        ABR|\n",
            "|       Abidjan|         Ivory Coast|        ABJ|\n",
            "|   Abilene, TX|                 USA|        ABI|\n",
            "|     Abu Dhabi|United Arab Emirates|        AUH|\n",
            "|         Abuja|             Nigeria|        ABV|\n",
            "|      Acapulco|              Mexico|        ACA|\n",
            "|         Accra|               Ghana|        ACC|\n",
            "|         Adana|              Turkey|        ADA|\n",
            "|   Addis Ababa|            Ethiopia|        ADD|\n",
            "|Adelaide, S.A.|           Australia|        ADL|\n",
            "|          Aden|               Yemen|        ADE|\n",
            "|      Adiyaman|              Turkey|        ADF|\n",
            "|        Agadir|             Morocco|        AGA|\n",
            "|         Agana|                Guam|        GUM|\n",
            "+--------------+--------------------+-----------+\n",
            "only showing top 20 rows\n",
            "\n"
          ]
        }
      ],
      "source": [
        "# Look over the airport codes.\n",
        "df_lookup_codes.show()"
      ]
    },
    {
      "cell_type": "code",
      "execution_count": null,
      "metadata": {
        "colab": {
          "base_uri": "https://localhost:8080/"
        },
        "id": "L_hKqNbW_EnA",
        "outputId": "2bccd7b6-c62e-432d-a2fc-bd0b21e828af"
      },
      "outputs": [
        {
          "name": "stdout",
          "output_type": "stream",
          "text": [
            "+------------+-------+-----------+\n",
            "|        City|country|airportCode|\n",
            "+------------+-------+-----------+\n",
            "|Aberdeen, SD|    USA|        ABR|\n",
            "| Abilene, TX|    USA|        ABI|\n",
            "|   Akron, OH|    USA|        CAK|\n",
            "| Alamosa, CO|    USA|        ALS|\n",
            "|  Albany, GA|    USA|        ABY|\n",
            "+------------+-------+-----------+\n",
            "only showing top 5 rows\n",
            "\n"
          ]
        }
      ],
      "source": [
        "# Filter the airport codes to only contain rows whose `country` equals `USA`\n",
        "df_lookup_city_name=df_lookup_codes.filter(\"country='USA'\")\n",
        "df_lookup_city_name.show(5)"
      ]
    },
    {
      "cell_type": "code",
      "execution_count": null,
      "metadata": {
        "colab": {
          "base_uri": "https://localhost:8080/"
        },
        "id": "vujvlsjxSj7N",
        "outputId": "4e80faef-ec8a-45f3-d8d3-444297416a5b"
      },
      "outputs": [
        {
          "name": "stdout",
          "output_type": "stream",
          "text": [
            "+--------------+--------+---------+-----------+\n",
            "|          name|latitude|longitude|admin1_code|\n",
            "+--------------+--------+---------+-----------+\n",
            "|   Bay Minette|30.88296|-87.77305|         AL|\n",
            "|          Edna|28.97859|-96.64609|         TX|\n",
            "|Bayou La Batre|30.40352|-88.24852|         AL|\n",
            "|     Henderson|32.15322|-94.79938|         TX|\n",
            "|       Natalia|29.18968|-98.86253|         TX|\n",
            "+--------------+--------+---------+-----------+\n",
            "only showing top 5 rows\n",
            "\n"
          ]
        }
      ],
      "source": [
        "# Filter the latitude and longitude dataframe to only contain the 'name','latitude','longitude','admin1_code' fields and rows whose `country_code` equals `US`\n",
        "df_lookup_geo=df_lookup_geo.select('name','latitude','longitude','admin1_code').filter(\"country_code='US'\")\n",
        "df_lookup_geo.show(5)"
      ]
    },
    {
      "cell_type": "code",
      "execution_count": null,
      "metadata": {
        "id": "5DFhjm5Z_O5Z"
      },
      "outputs": [],
      "source": [
        "# Create temporary views for each of our DataFrames\n",
        "df.createOrReplaceTempView('delayed')\n",
        "df_lookup_city_name.createOrReplaceTempView('lookup_city')\n",
        "df_lookup_geo.createOrReplaceTempView('lookup_geo')\n"
      ]
    },
    {
      "cell_type": "code",
      "execution_count": null,
      "metadata": {
        "colab": {
          "base_uri": "https://localhost:8080/"
        },
        "id": "XZdAUFJ3bDKQ",
        "outputId": "0a60f1c5-0228-46b3-ecba-dac36f2914cf"
      },
      "outputs": [
        {
          "name": "stdout",
          "output_type": "stream",
          "text": [
            "+----+-----+----------+---------+-------+----------+-------+----------+-------------+---------+-------+-----------------+--------------+-------+--------+--------+------+---------------+----+---------------+--------+------+-------+---------+----------------+--------+------------+------------+--------+-------------+-----------------+\n",
            "|Year|Month|DayofMonth|DayOfWeek|DepTime|CRSDepTime|ArrTime|CRSArrTime|UniqueCarrier|FlightNum|TailNum|ActualElapsedTime|CRSElapsedTime|AirTime|ArrDelay|DepDelay|Origin|    Origin_City|Dest|      Dest_City|Distance|TaxiIn|TaxiOut|Cancelled|CancellationCode|Diverted|CarrierDelay|WeatherDelay|NASDelay|SecurityDelay|LateAircraftDelay|\n",
            "+----+-----+----------+---------+-------+----------+-------+----------+-------------+---------+-------+-----------------+--------------+-------+--------+--------+------+---------------+----+---------------+--------+------+-------+---------+----------------+--------+------------+------------+--------+-------------+-----------------+\n",
            "|2008|    1|         4|        5| 2003.0|      1845| 2207.0|      2040|           WN|      746| N667SW|             64.0|          55.0|   44.0|    87.0|    78.0|   ABQ|Albuquerque, NM| AMA|   Amarillo, TX|     277|   5.0|   15.0|        0|               N|       0|         0.0|         0.0|     9.0|          0.0|             78.0|\n",
            "|2008|    1|         4|        5| 1332.0|      1325| 1437.0|      1440|           WN|      182| N313SW|             65.0|          75.0|   54.0|    -3.0|     7.0|   ALB|     Albany, NY| BWI|  Baltimore, MD|     288|   3.0|    8.0|        0|               N|       0|        null|        null|    null|         null|             null|\n",
            "|2008|    1|         4|        5| 1020.0|      1005| 1128.0|      1120|           WN|      733| N650SW|             68.0|          75.0|   58.0|     8.0|    15.0|   ALB|     Albany, NY| BWI|  Baltimore, MD|     288|   3.0|    7.0|        0|               N|       0|        null|        null|    null|         null|             null|\n",
            "|2008|    1|         4|        5| 1831.0|      1820| 1941.0|      1935|           WN|     1861| N783SW|             70.0|          75.0|   57.0|     6.0|    11.0|   ALB|     Albany, NY| BWI|  Baltimore, MD|     288|   3.0|   10.0|        0|               N|       0|        null|        null|    null|         null|             null|\n",
            "|2008|    1|         4|        5| 1758.0|      1750| 2051.0|      2040|           WN|     2036| N660SW|            113.0|         110.0|  100.0|    11.0|     8.0|   BHM| Birmingham, AL| BWI|  Baltimore, MD|     682|   3.0|   10.0|        0|               N|       0|        null|        null|    null|         null|             null|\n",
            "|2008|    1|         4|        5|  836.0|       830|  943.0|       940|           WN|      922| N650SW|             67.0|          70.0|   55.0|     3.0|     6.0|   BWI|  Baltimore, MD| ALB|     Albany, NY|     288|   2.0|   10.0|        0|               N|       0|        null|        null|    null|         null|             null|\n",
            "|2008|    1|         4|        5| 1652.0|      1645| 1755.0|      1755|           WN|     1774| N783SW|             63.0|          70.0|   51.0|     0.0|     7.0|   BWI|  Baltimore, MD| ALB|     Albany, NY|     288|   5.0|    7.0|        0|               N|       0|        null|        null|    null|         null|             null|\n",
            "|2008|    1|         4|        5| 1035.0|      1025| 1143.0|      1135|           WN|     3569| N276WN|             68.0|          70.0|   53.0|     8.0|    10.0|   BWI|  Baltimore, MD| ALB|     Albany, NY|     288|   5.0|   10.0|        0|               N|       0|        null|        null|    null|         null|             null|\n",
            "|2008|    1|         4|        5| 1828.0|      1805| 1917.0|      1915|           WN|      623| N757LV|            109.0|         130.0|   97.0|     2.0|    23.0|   BWI|  Baltimore, MD| BHM| Birmingham, AL|     682|   3.0|    9.0|        0|               N|       0|        null|        null|    null|         null|             null|\n",
            "|2008|    1|         4|        5| 1317.0|      1310| 1401.0|      1420|           WN|     1857| N280WN|            104.0|         130.0|   95.0|   -19.0|     7.0|   BWI|  Baltimore, MD| BHM| Birmingham, AL|     682|   2.0|    7.0|        0|               N|       0|        null|        null|    null|         null|             null|\n",
            "|2008|    1|         5|        6| 2001.0|      1845| 2150.0|      2040|           WN|      746| N412WN|             49.0|          55.0|   39.0|    70.0|    76.0|   ABQ|Albuquerque, NM| AMA|   Amarillo, TX|     277|   4.0|    6.0|        0|               N|       0|         3.0|         0.0|     0.0|          0.0|             67.0|\n",
            "|2008|    1|         5|        6| 1124.0|      1005| 1227.0|      1120|           WN|      733| N794SW|             63.0|          75.0|   50.0|    67.0|    79.0|   ALB|     Albany, NY| BWI|  Baltimore, MD|     288|   3.0|   10.0|        0|               N|       0|        67.0|         0.0|     0.0|          0.0|              0.0|\n",
            "|2008|    1|         5|        6| 1544.0|      1515| 1654.0|      1630|           WN|     3046| N723SW|             70.0|          75.0|   56.0|    24.0|    29.0|   ALB|     Albany, NY| BWI|  Baltimore, MD|     288|   4.0|   10.0|        0|               N|       0|        11.0|         0.0|     0.0|          0.0|             13.0|\n",
            "|2008|    1|         5|        6| 1426.0|      1415| 1832.0|      1815|           WN|     1001| N366SW|            186.0|         180.0|  164.0|    17.0|    11.0|   AUS|     Austin, TX| BWI|  Baltimore, MD|    1342|   4.0|   18.0|        0|               N|       0|         0.0|         0.0|     6.0|          0.0|             11.0|\n",
            "|2008|    1|         5|        6| 1806.0|      1750| 2047.0|      2040|           WN|     2036| N614SW|            101.0|         110.0|   88.0|     7.0|    16.0|   BHM| Birmingham, AL| BWI|  Baltimore, MD|     682|   3.0|   10.0|        0|               N|       0|        null|        null|    null|         null|             null|\n",
            "|2008|    1|         5|        6| 1508.0|      1425| 1719.0|      1655|           WN|      644| N737JW|            251.0|         270.0|  237.0|    24.0|    43.0|   BWI|  Baltimore, MD| ABQ|Albuquerque, NM|    1670|   5.0|    9.0|        0|               N|       0|         8.0|         0.0|     0.0|          0.0|             16.0|\n",
            "|2008|    1|         5|        6| 1808.0|      1755| 1909.0|      1905|           WN|      236| N708SA|             61.0|          70.0|   49.0|     4.0|    13.0|   BWI|  Baltimore, MD| ALB|     Albany, NY|     288|   3.0|    9.0|        0|               N|       0|        null|        null|    null|         null|             null|\n",
            "|2008|    1|         5|        6| 1359.0|      1340| 1506.0|      1450|           WN|      323| N723SW|             67.0|          70.0|   53.0|    16.0|    19.0|   BWI|  Baltimore, MD| ALB|     Albany, NY|     288|   3.0|   11.0|        0|               N|       0|         6.0|         0.0|     0.0|          0.0|             10.0|\n",
            "|2008|    1|         5|        6| 1433.0|      1420| 1700.0|      1710|           WN|      160| N264LV|            207.0|         230.0|  196.0|   -10.0|    13.0|   BWI|  Baltimore, MD| AUS|     Austin, TX|    1342|   4.0|    7.0|        0|               N|       0|        null|        null|    null|         null|             null|\n",
            "|2008|    1|         5|        6| 1814.0|      1805| 1910.0|      1915|           WN|      623| N624SW|            116.0|         130.0|  105.0|    -5.0|     9.0|   BWI|  Baltimore, MD| BHM| Birmingham, AL|     682|   4.0|    7.0|        0|               N|       0|        null|        null|    null|         null|             null|\n",
            "+----+-----+----------+---------+-------+----------+-------+----------+-------------+---------+-------+-----------------+--------------+-------+--------+--------+------+---------------+----+---------------+--------+------+-------+---------+----------------+--------+------------+------------+--------+-------------+-----------------+\n",
            "only showing top 20 rows\n",
            "\n",
            "--- 1.81284761428833 seconds ---\n"
          ]
        }
      ],
      "source": [
        "# First, join the airport codes lookup table to the delayed flight DataFrame \n",
        "# and add the city of origin and destination like we did in the instructor demo.  \n",
        "\n",
        "start_time = time.time()\n",
        "\n",
        "spark.sql(\"\"\"\n",
        "select a.Year,\n",
        "a.Month,\n",
        "a.DayofMonth,\n",
        "a.DayOfWeek,\n",
        "a.DepTime,\n",
        "a.CRSDepTime,\n",
        "a.ArrTime,\n",
        "a.CRSArrTime,\n",
        "a.UniqueCarrier,\n",
        "a.FlightNum,\n",
        "a.TailNum,\n",
        "a.ActualElapsedTime,\n",
        "a.CRSElapsedTime,\n",
        "a.AirTime,\n",
        "a.ArrDelay,\n",
        "a.DepDelay,\n",
        "a.Origin,\n",
        "b.City as Origin_City,\n",
        "a.Dest,\n",
        "c.City as Dest_City,\n",
        "a.Distance,\n",
        "a.TaxiIn,\n",
        "a.TaxiOut,\n",
        "a.Cancelled,\n",
        "a.CancellationCode,\n",
        "a.Diverted,\n",
        "a.CarrierDelay,\n",
        "a.WeatherDelay,\n",
        "a.NASDelay,\n",
        "a.SecurityDelay,\n",
        "a.LateAircraftDelay from delayed a \n",
        "  inner join lookup_city b\n",
        "    on a.Origin=b.airportCode\n",
        "  inner join lookup_city c\n",
        "    on a.Dest=c.airportCode\n",
        "\"\"\").show()\n",
        "\n",
        "print(\"--- %s seconds ---\" % (time.time() - start_time))"
      ]
    },
    {
      "cell_type": "code",
      "execution_count": null,
      "metadata": {
        "colab": {
          "base_uri": "https://localhost:8080/"
        },
        "id": "0eq0zGP4ciPp",
        "outputId": "6ecc994a-8a7f-4a67-893d-617710687afa"
      },
      "outputs": [
        {
          "name": "stdout",
          "output_type": "stream",
          "text": [
            "+----+-----+----------+---------+-------+----------+-------+----------+-------------+---------+-------+-----------------+--------------+-------+--------+--------+------+---------------+---------------+----------------+----+---------------+--------+------+-------+---------+----------------+--------+------------+------------+--------+-------------+-----------------+\n",
            "|Year|Month|DayofMonth|DayOfWeek|DepTime|CRSDepTime|ArrTime|CRSArrTime|UniqueCarrier|FlightNum|TailNum|ActualElapsedTime|CRSElapsedTime|AirTime|ArrDelay|DepDelay|Origin|    Origin_City|Origin_latitude|Origin_longitude|Dest|      Dest_City|Distance|TaxiIn|TaxiOut|Cancelled|CancellationCode|Diverted|CarrierDelay|WeatherDelay|NASDelay|SecurityDelay|LateAircraftDelay|\n",
            "+----+-----+----------+---------+-------+----------+-------+----------+-------------+---------+-------+-----------------+--------------+-------+--------+--------+------+---------------+---------------+----------------+----+---------------+--------+------+-------+---------+----------------+--------+------------+------------+--------+-------------+-----------------+\n",
            "|2008|    1|         4|        5| 2003.0|      1845| 2207.0|      2040|           WN|      746| N667SW|             64.0|          55.0|   44.0|    87.0|    78.0|   ABQ|Albuquerque, NM|       35.08449|      -106.65114| AMA|   Amarillo, TX|     277|   5.0|   15.0|        0|               N|       0|         0.0|         0.0|     9.0|          0.0|             78.0|\n",
            "|2008|    1|         4|        5| 1332.0|      1325| 1437.0|      1440|           WN|      182| N313SW|             65.0|          75.0|   54.0|    -3.0|     7.0|   ALB|     Albany, NY|       42.65258|       -73.75623| BWI|  Baltimore, MD|     288|   3.0|    8.0|        0|               N|       0|        null|        null|    null|         null|             null|\n",
            "|2008|    1|         4|        5| 1020.0|      1005| 1128.0|      1120|           WN|      733| N650SW|             68.0|          75.0|   58.0|     8.0|    15.0|   ALB|     Albany, NY|       42.65258|       -73.75623| BWI|  Baltimore, MD|     288|   3.0|    7.0|        0|               N|       0|        null|        null|    null|         null|             null|\n",
            "|2008|    1|         4|        5| 1831.0|      1820| 1941.0|      1935|           WN|     1861| N783SW|             70.0|          75.0|   57.0|     6.0|    11.0|   ALB|     Albany, NY|       42.65258|       -73.75623| BWI|  Baltimore, MD|     288|   3.0|   10.0|        0|               N|       0|        null|        null|    null|         null|             null|\n",
            "|2008|    1|         4|        5| 1758.0|      1750| 2051.0|      2040|           WN|     2036| N660SW|            113.0|         110.0|  100.0|    11.0|     8.0|   BHM| Birmingham, AL|       33.52066|       -86.80249| BWI|  Baltimore, MD|     682|   3.0|   10.0|        0|               N|       0|        null|        null|    null|         null|             null|\n",
            "|2008|    1|         4|        5|  836.0|       830|  943.0|       940|           WN|      922| N650SW|             67.0|          70.0|   55.0|     3.0|     6.0|   BWI|  Baltimore, MD|       39.29038|       -76.61219| ALB|     Albany, NY|     288|   2.0|   10.0|        0|               N|       0|        null|        null|    null|         null|             null|\n",
            "|2008|    1|         4|        5| 1652.0|      1645| 1755.0|      1755|           WN|     1774| N783SW|             63.0|          70.0|   51.0|     0.0|     7.0|   BWI|  Baltimore, MD|       39.29038|       -76.61219| ALB|     Albany, NY|     288|   5.0|    7.0|        0|               N|       0|        null|        null|    null|         null|             null|\n",
            "|2008|    1|         4|        5| 1035.0|      1025| 1143.0|      1135|           WN|     3569| N276WN|             68.0|          70.0|   53.0|     8.0|    10.0|   BWI|  Baltimore, MD|       39.29038|       -76.61219| ALB|     Albany, NY|     288|   5.0|   10.0|        0|               N|       0|        null|        null|    null|         null|             null|\n",
            "|2008|    1|         4|        5| 1828.0|      1805| 1917.0|      1915|           WN|      623| N757LV|            109.0|         130.0|   97.0|     2.0|    23.0|   BWI|  Baltimore, MD|       39.29038|       -76.61219| BHM| Birmingham, AL|     682|   3.0|    9.0|        0|               N|       0|        null|        null|    null|         null|             null|\n",
            "|2008|    1|         4|        5| 1317.0|      1310| 1401.0|      1420|           WN|     1857| N280WN|            104.0|         130.0|   95.0|   -19.0|     7.0|   BWI|  Baltimore, MD|       39.29038|       -76.61219| BHM| Birmingham, AL|     682|   2.0|    7.0|        0|               N|       0|        null|        null|    null|         null|             null|\n",
            "|2008|    1|         5|        6| 2001.0|      1845| 2150.0|      2040|           WN|      746| N412WN|             49.0|          55.0|   39.0|    70.0|    76.0|   ABQ|Albuquerque, NM|       35.08449|      -106.65114| AMA|   Amarillo, TX|     277|   4.0|    6.0|        0|               N|       0|         3.0|         0.0|     0.0|          0.0|             67.0|\n",
            "|2008|    1|         5|        6| 1124.0|      1005| 1227.0|      1120|           WN|      733| N794SW|             63.0|          75.0|   50.0|    67.0|    79.0|   ALB|     Albany, NY|       42.65258|       -73.75623| BWI|  Baltimore, MD|     288|   3.0|   10.0|        0|               N|       0|        67.0|         0.0|     0.0|          0.0|              0.0|\n",
            "|2008|    1|         5|        6| 1544.0|      1515| 1654.0|      1630|           WN|     3046| N723SW|             70.0|          75.0|   56.0|    24.0|    29.0|   ALB|     Albany, NY|       42.65258|       -73.75623| BWI|  Baltimore, MD|     288|   4.0|   10.0|        0|               N|       0|        11.0|         0.0|     0.0|          0.0|             13.0|\n",
            "|2008|    1|         5|        6| 1426.0|      1415| 1832.0|      1815|           WN|     1001| N366SW|            186.0|         180.0|  164.0|    17.0|    11.0|   AUS|     Austin, TX|       30.26715|       -97.74306| BWI|  Baltimore, MD|    1342|   4.0|   18.0|        0|               N|       0|         0.0|         0.0|     6.0|          0.0|             11.0|\n",
            "|2008|    1|         5|        6| 1806.0|      1750| 2047.0|      2040|           WN|     2036| N614SW|            101.0|         110.0|   88.0|     7.0|    16.0|   BHM| Birmingham, AL|       33.52066|       -86.80249| BWI|  Baltimore, MD|     682|   3.0|   10.0|        0|               N|       0|        null|        null|    null|         null|             null|\n",
            "|2008|    1|         5|        6| 1508.0|      1425| 1719.0|      1655|           WN|      644| N737JW|            251.0|         270.0|  237.0|    24.0|    43.0|   BWI|  Baltimore, MD|       39.29038|       -76.61219| ABQ|Albuquerque, NM|    1670|   5.0|    9.0|        0|               N|       0|         8.0|         0.0|     0.0|          0.0|             16.0|\n",
            "|2008|    1|         5|        6| 1808.0|      1755| 1909.0|      1905|           WN|      236| N708SA|             61.0|          70.0|   49.0|     4.0|    13.0|   BWI|  Baltimore, MD|       39.29038|       -76.61219| ALB|     Albany, NY|     288|   3.0|    9.0|        0|               N|       0|        null|        null|    null|         null|             null|\n",
            "|2008|    1|         5|        6| 1359.0|      1340| 1506.0|      1450|           WN|      323| N723SW|             67.0|          70.0|   53.0|    16.0|    19.0|   BWI|  Baltimore, MD|       39.29038|       -76.61219| ALB|     Albany, NY|     288|   3.0|   11.0|        0|               N|       0|         6.0|         0.0|     0.0|          0.0|             10.0|\n",
            "|2008|    1|         5|        6| 1433.0|      1420| 1700.0|      1710|           WN|      160| N264LV|            207.0|         230.0|  196.0|   -10.0|    13.0|   BWI|  Baltimore, MD|       39.29038|       -76.61219| AUS|     Austin, TX|    1342|   4.0|    7.0|        0|               N|       0|        null|        null|    null|         null|             null|\n",
            "|2008|    1|         5|        6| 1814.0|      1805| 1910.0|      1915|           WN|      623| N624SW|            116.0|         130.0|  105.0|    -5.0|     9.0|   BWI|  Baltimore, MD|       39.29038|       -76.61219| BHM| Birmingham, AL|     682|   4.0|    7.0|        0|               N|       0|        null|        null|    null|         null|             null|\n",
            "+----+-----+----------+---------+-------+----------+-------+----------+-------------+---------+-------+-----------------+--------------+-------+--------+--------+------+---------------+---------------+----------------+----+---------------+--------+------+-------+---------+----------------+--------+------------+------------+--------+-------------+-----------------+\n",
            "only showing top 20 rows\n",
            "\n",
            "--- 0.8505635261535645 seconds ---\n"
          ]
        }
      ],
      "source": [
        "# Add the `origin_latitude` and `origin_longitude` fields by joining the `lookup_geo` view \n",
        "# to the `lookup_city` view and the delayed flight DataFrame.\n",
        "# Note:  The two lookup views do not have matching columns, so we must be mindful what names are used when joining both views together.\n",
        "\n",
        "start_time = time.time()\n",
        "\n",
        "spark.sql(\"\"\"\n",
        "select a.Year,\n",
        "a.Month,\n",
        "a.DayofMonth,\n",
        "a.DayOfWeek,\n",
        "a.DepTime,\n",
        "a.CRSDepTime,\n",
        "a.ArrTime,\n",
        "a.CRSArrTime,\n",
        "a.UniqueCarrier,\n",
        "a.FlightNum,\n",
        "a.TailNum,\n",
        "a.ActualElapsedTime,\n",
        "a.CRSElapsedTime,\n",
        "a.AirTime,\n",
        "a.ArrDelay,\n",
        "a.DepDelay,\n",
        "a.Origin,\n",
        "b.City as Origin_City,\n",
        "geo.latitude as Origin_latitude,\n",
        "geo.longitude as Origin_longitude,\n",
        "a.Dest,\n",
        "c.City as Dest_City,\n",
        "a.Distance,\n",
        "a.TaxiIn,\n",
        "a.TaxiOut,\n",
        "a.Cancelled,\n",
        "a.CancellationCode,\n",
        "a.Diverted,\n",
        "a.CarrierDelay,\n",
        "a.WeatherDelay,\n",
        "a.NASDelay,\n",
        "a.SecurityDelay,\n",
        "a.LateAircraftDelay from delayed a \n",
        "  inner join lookup_city b\n",
        "    on a.Origin=b.airportCode\n",
        "  inner join lookup_city c\n",
        "    on a.Dest=c.airportCode\n",
        "  inner join lookup_geo geo\n",
        "on split(b.City,',')[0]=geo.name and trim(split(b.City,',')[1])=geo.admin1_code\n",
        "\"\"\").show()\n",
        "\n",
        "print(\"--- %s seconds ---\" % (time.time() - start_time))"
      ]
    },
    {
      "cell_type": "code",
      "execution_count": null,
      "metadata": {
        "colab": {
          "base_uri": "https://localhost:8080/"
        },
        "id": "kzMGI_BfXSc8",
        "outputId": "49834fe3-95fc-47a4-88ea-c172f8e96886"
      },
      "outputs": [
        {
          "name": "stdout",
          "output_type": "stream",
          "text": [
            "+----+-----+----------+---------+-------+----------+-------+----------+-------------+---------+-------+-----------------+--------------+-------+--------+--------+------+---------------+---------------+----------------+----+---------------+-------------+--------------+--------+------+-------+---------+----------------+--------+------------+------------+--------+-------------+-----------------+\n",
            "|Year|Month|DayofMonth|DayOfWeek|DepTime|CRSDepTime|ArrTime|CRSArrTime|UniqueCarrier|FlightNum|TailNum|ActualElapsedTime|CRSElapsedTime|AirTime|ArrDelay|DepDelay|Origin|    Origin_City|Origin_latitude|Origin_longitude|Dest|      Dest_City|Dest_latitude|Dest_longitude|Distance|TaxiIn|TaxiOut|Cancelled|CancellationCode|Diverted|CarrierDelay|WeatherDelay|NASDelay|SecurityDelay|LateAircraftDelay|\n",
            "+----+-----+----------+---------+-------+----------+-------+----------+-------------+---------+-------+-----------------+--------------+-------+--------+--------+------+---------------+---------------+----------------+----+---------------+-------------+--------------+--------+------+-------+---------+----------------+--------+------------+------------+--------+-------------+-----------------+\n",
            "|2008|    1|         4|        5| 2003.0|      1845| 2207.0|      2040|           WN|      746| N667SW|             64.0|          55.0|   44.0|    87.0|    78.0|   ABQ|Albuquerque, NM|       35.08449|      -106.65114| AMA|   Amarillo, TX|       35.222|     -101.8313|     277|   5.0|   15.0|        0|               N|       0|         0.0|         0.0|     9.0|          0.0|             78.0|\n",
            "|2008|    1|         4|        5| 1332.0|      1325| 1437.0|      1440|           WN|      182| N313SW|             65.0|          75.0|   54.0|    -3.0|     7.0|   ALB|     Albany, NY|       42.65258|       -73.75623| BWI|  Baltimore, MD|     39.29038|     -76.61219|     288|   3.0|    8.0|        0|               N|       0|        null|        null|    null|         null|             null|\n",
            "|2008|    1|         4|        5| 1020.0|      1005| 1128.0|      1120|           WN|      733| N650SW|             68.0|          75.0|   58.0|     8.0|    15.0|   ALB|     Albany, NY|       42.65258|       -73.75623| BWI|  Baltimore, MD|     39.29038|     -76.61219|     288|   3.0|    7.0|        0|               N|       0|        null|        null|    null|         null|             null|\n",
            "|2008|    1|         4|        5| 1831.0|      1820| 1941.0|      1935|           WN|     1861| N783SW|             70.0|          75.0|   57.0|     6.0|    11.0|   ALB|     Albany, NY|       42.65258|       -73.75623| BWI|  Baltimore, MD|     39.29038|     -76.61219|     288|   3.0|   10.0|        0|               N|       0|        null|        null|    null|         null|             null|\n",
            "|2008|    1|         4|        5| 1758.0|      1750| 2051.0|      2040|           WN|     2036| N660SW|            113.0|         110.0|  100.0|    11.0|     8.0|   BHM| Birmingham, AL|       33.52066|       -86.80249| BWI|  Baltimore, MD|     39.29038|     -76.61219|     682|   3.0|   10.0|        0|               N|       0|        null|        null|    null|         null|             null|\n",
            "|2008|    1|         4|        5|  836.0|       830|  943.0|       940|           WN|      922| N650SW|             67.0|          70.0|   55.0|     3.0|     6.0|   BWI|  Baltimore, MD|       39.29038|       -76.61219| ALB|     Albany, NY|     42.65258|     -73.75623|     288|   2.0|   10.0|        0|               N|       0|        null|        null|    null|         null|             null|\n",
            "|2008|    1|         4|        5| 1652.0|      1645| 1755.0|      1755|           WN|     1774| N783SW|             63.0|          70.0|   51.0|     0.0|     7.0|   BWI|  Baltimore, MD|       39.29038|       -76.61219| ALB|     Albany, NY|     42.65258|     -73.75623|     288|   5.0|    7.0|        0|               N|       0|        null|        null|    null|         null|             null|\n",
            "|2008|    1|         4|        5| 1035.0|      1025| 1143.0|      1135|           WN|     3569| N276WN|             68.0|          70.0|   53.0|     8.0|    10.0|   BWI|  Baltimore, MD|       39.29038|       -76.61219| ALB|     Albany, NY|     42.65258|     -73.75623|     288|   5.0|   10.0|        0|               N|       0|        null|        null|    null|         null|             null|\n",
            "|2008|    1|         4|        5| 1828.0|      1805| 1917.0|      1915|           WN|      623| N757LV|            109.0|         130.0|   97.0|     2.0|    23.0|   BWI|  Baltimore, MD|       39.29038|       -76.61219| BHM| Birmingham, AL|     33.52066|     -86.80249|     682|   3.0|    9.0|        0|               N|       0|        null|        null|    null|         null|             null|\n",
            "|2008|    1|         4|        5| 1317.0|      1310| 1401.0|      1420|           WN|     1857| N280WN|            104.0|         130.0|   95.0|   -19.0|     7.0|   BWI|  Baltimore, MD|       39.29038|       -76.61219| BHM| Birmingham, AL|     33.52066|     -86.80249|     682|   2.0|    7.0|        0|               N|       0|        null|        null|    null|         null|             null|\n",
            "|2008|    1|         5|        6| 2001.0|      1845| 2150.0|      2040|           WN|      746| N412WN|             49.0|          55.0|   39.0|    70.0|    76.0|   ABQ|Albuquerque, NM|       35.08449|      -106.65114| AMA|   Amarillo, TX|       35.222|     -101.8313|     277|   4.0|    6.0|        0|               N|       0|         3.0|         0.0|     0.0|          0.0|             67.0|\n",
            "|2008|    1|         5|        6| 1124.0|      1005| 1227.0|      1120|           WN|      733| N794SW|             63.0|          75.0|   50.0|    67.0|    79.0|   ALB|     Albany, NY|       42.65258|       -73.75623| BWI|  Baltimore, MD|     39.29038|     -76.61219|     288|   3.0|   10.0|        0|               N|       0|        67.0|         0.0|     0.0|          0.0|              0.0|\n",
            "|2008|    1|         5|        6| 1544.0|      1515| 1654.0|      1630|           WN|     3046| N723SW|             70.0|          75.0|   56.0|    24.0|    29.0|   ALB|     Albany, NY|       42.65258|       -73.75623| BWI|  Baltimore, MD|     39.29038|     -76.61219|     288|   4.0|   10.0|        0|               N|       0|        11.0|         0.0|     0.0|          0.0|             13.0|\n",
            "|2008|    1|         5|        6| 1426.0|      1415| 1832.0|      1815|           WN|     1001| N366SW|            186.0|         180.0|  164.0|    17.0|    11.0|   AUS|     Austin, TX|       30.26715|       -97.74306| BWI|  Baltimore, MD|     39.29038|     -76.61219|    1342|   4.0|   18.0|        0|               N|       0|         0.0|         0.0|     6.0|          0.0|             11.0|\n",
            "|2008|    1|         5|        6| 1806.0|      1750| 2047.0|      2040|           WN|     2036| N614SW|            101.0|         110.0|   88.0|     7.0|    16.0|   BHM| Birmingham, AL|       33.52066|       -86.80249| BWI|  Baltimore, MD|     39.29038|     -76.61219|     682|   3.0|   10.0|        0|               N|       0|        null|        null|    null|         null|             null|\n",
            "|2008|    1|         5|        6| 1508.0|      1425| 1719.0|      1655|           WN|      644| N737JW|            251.0|         270.0|  237.0|    24.0|    43.0|   BWI|  Baltimore, MD|       39.29038|       -76.61219| ABQ|Albuquerque, NM|     35.08449|    -106.65114|    1670|   5.0|    9.0|        0|               N|       0|         8.0|         0.0|     0.0|          0.0|             16.0|\n",
            "|2008|    1|         5|        6| 1808.0|      1755| 1909.0|      1905|           WN|      236| N708SA|             61.0|          70.0|   49.0|     4.0|    13.0|   BWI|  Baltimore, MD|       39.29038|       -76.61219| ALB|     Albany, NY|     42.65258|     -73.75623|     288|   3.0|    9.0|        0|               N|       0|        null|        null|    null|         null|             null|\n",
            "|2008|    1|         5|        6| 1359.0|      1340| 1506.0|      1450|           WN|      323| N723SW|             67.0|          70.0|   53.0|    16.0|    19.0|   BWI|  Baltimore, MD|       39.29038|       -76.61219| ALB|     Albany, NY|     42.65258|     -73.75623|     288|   3.0|   11.0|        0|               N|       0|         6.0|         0.0|     0.0|          0.0|             10.0|\n",
            "|2008|    1|         5|        6| 1433.0|      1420| 1700.0|      1710|           WN|      160| N264LV|            207.0|         230.0|  196.0|   -10.0|    13.0|   BWI|  Baltimore, MD|       39.29038|       -76.61219| AUS|     Austin, TX|     30.26715|     -97.74306|    1342|   4.0|    7.0|        0|               N|       0|        null|        null|    null|         null|             null|\n",
            "|2008|    1|         5|        6| 1814.0|      1805| 1910.0|      1915|           WN|      623| N624SW|            116.0|         130.0|  105.0|    -5.0|     9.0|   BWI|  Baltimore, MD|       39.29038|       -76.61219| BHM| Birmingham, AL|     33.52066|     -86.80249|     682|   4.0|    7.0|        0|               N|       0|        null|        null|    null|         null|             null|\n",
            "+----+-----+----------+---------+-------+----------+-------+----------+-------------+---------+-------+-----------------+--------------+-------+--------+--------+------+---------------+---------------+----------------+----+---------------+-------------+--------------+--------+------+-------+---------+----------------+--------+------------+------------+--------+-------------+-----------------+\n",
            "only showing top 20 rows\n",
            "\n",
            "--- 4.009768724441528 seconds ---\n"
          ]
        }
      ],
      "source": [
        "# Finally, add the `dest_latitude` and `dest_longitude` fields by joining the `lookup_geo` view again as another alias, `geo_dest`.\n",
        "\n",
        "start_time = time.time()\n",
        "\n",
        "spark.sql(\"\"\"\n",
        "select a.Year,\n",
        "a.Month,\n",
        "a.DayofMonth,\n",
        "a.DayOfWeek,\n",
        "a.DepTime,\n",
        "a.CRSDepTime,\n",
        "a.ArrTime,\n",
        "a.CRSArrTime,\n",
        "a.UniqueCarrier,\n",
        "a.FlightNum,\n",
        "a.TailNum,\n",
        "a.ActualElapsedTime,\n",
        "a.CRSElapsedTime,\n",
        "a.AirTime,\n",
        "a.ArrDelay,\n",
        "a.DepDelay,\n",
        "a.Origin,\n",
        "b.City as Origin_City,\n",
        "geo.latitude as Origin_latitude,\n",
        "geo.longitude as Origin_longitude,\n",
        "a.Dest,\n",
        "c.City as Dest_City,\n",
        "geo_dest.latitude as Dest_latitude,\n",
        "geo_dest.longitude as Dest_longitude,\n",
        "a.Distance,\n",
        "a.TaxiIn,\n",
        "a.TaxiOut,\n",
        "a.Cancelled,\n",
        "a.CancellationCode,\n",
        "a.Diverted,\n",
        "a.CarrierDelay,\n",
        "a.WeatherDelay,\n",
        "a.NASDelay,\n",
        "a.SecurityDelay,\n",
        "a.LateAircraftDelay from delayed a \n",
        "  inner join lookup_city b\n",
        "    on a.Origin=b.airportCode\n",
        "  inner join lookup_city c\n",
        "    on a.Dest=c.airportCode\n",
        "  inner join lookup_geo geo\n",
        "on split(b.City,',')[0]=geo.name and trim(split(b.City,',')[1])=geo.admin1_code\n",
        "  inner join lookup_geo geo_dest\n",
        "    on c.City=concat(geo_dest.name,', ',geo_dest.admin1_code)\n",
        "\"\"\").show()\n",
        "\n",
        "print(\"--- %s seconds ---\" % (time.time() - start_time))"
      ]
    },
    {
      "cell_type": "code",
      "execution_count": null,
      "metadata": {
        "colab": {
          "base_uri": "https://localhost:8080/"
        },
        "id": "EgJRNc8h_bHI",
        "outputId": "178d0e26-772e-4e58-834d-d8d7a4b60b26"
      },
      "outputs": [
        {
          "name": "stdout",
          "output_type": "stream",
          "text": [
            "+----+-----+----------+---------+-------+----------+-------+----------+-------------+---------+-------+-----------------+--------------+-------+--------+--------+------+---------------+---------------+----------------+----+---------------+-------------+--------------+--------+------+-------+---------+----------------+--------+------------+------------+--------+-------------+-----------------+\n",
            "|Year|Month|DayofMonth|DayOfWeek|DepTime|CRSDepTime|ArrTime|CRSArrTime|UniqueCarrier|FlightNum|TailNum|ActualElapsedTime|CRSElapsedTime|AirTime|ArrDelay|DepDelay|Origin|    Origin_City|Origin_latitude|Origin_longitude|Dest|      Dest_City|Dest_latitude|Dest_longitude|Distance|TaxiIn|TaxiOut|Cancelled|CancellationCode|Diverted|CarrierDelay|WeatherDelay|NASDelay|SecurityDelay|LateAircraftDelay|\n",
            "+----+-----+----------+---------+-------+----------+-------+----------+-------------+---------+-------+-----------------+--------------+-------+--------+--------+------+---------------+---------------+----------------+----+---------------+-------------+--------------+--------+------+-------+---------+----------------+--------+------------+------------+--------+-------------+-----------------+\n",
            "|2008|    1|         4|        5| 2003.0|      1845| 2207.0|      2040|           WN|      746| N667SW|             64.0|          55.0|   44.0|    87.0|    78.0|   ABQ|Albuquerque, NM|       35.08449|      -106.65114| AMA|   Amarillo, TX|       35.222|     -101.8313|     277|   5.0|   15.0|        0|               N|       0|         0.0|         0.0|     9.0|          0.0|             78.0|\n",
            "|2008|    1|         4|        5| 1332.0|      1325| 1437.0|      1440|           WN|      182| N313SW|             65.0|          75.0|   54.0|    -3.0|     7.0|   ALB|     Albany, NY|       42.65258|       -73.75623| BWI|  Baltimore, MD|     39.29038|     -76.61219|     288|   3.0|    8.0|        0|               N|       0|        null|        null|    null|         null|             null|\n",
            "|2008|    1|         4|        5| 1020.0|      1005| 1128.0|      1120|           WN|      733| N650SW|             68.0|          75.0|   58.0|     8.0|    15.0|   ALB|     Albany, NY|       42.65258|       -73.75623| BWI|  Baltimore, MD|     39.29038|     -76.61219|     288|   3.0|    7.0|        0|               N|       0|        null|        null|    null|         null|             null|\n",
            "|2008|    1|         4|        5| 1831.0|      1820| 1941.0|      1935|           WN|     1861| N783SW|             70.0|          75.0|   57.0|     6.0|    11.0|   ALB|     Albany, NY|       42.65258|       -73.75623| BWI|  Baltimore, MD|     39.29038|     -76.61219|     288|   3.0|   10.0|        0|               N|       0|        null|        null|    null|         null|             null|\n",
            "|2008|    1|         4|        5| 1758.0|      1750| 2051.0|      2040|           WN|     2036| N660SW|            113.0|         110.0|  100.0|    11.0|     8.0|   BHM| Birmingham, AL|       33.52066|       -86.80249| BWI|  Baltimore, MD|     39.29038|     -76.61219|     682|   3.0|   10.0|        0|               N|       0|        null|        null|    null|         null|             null|\n",
            "|2008|    1|         4|        5|  836.0|       830|  943.0|       940|           WN|      922| N650SW|             67.0|          70.0|   55.0|     3.0|     6.0|   BWI|  Baltimore, MD|       39.29038|       -76.61219| ALB|     Albany, NY|     42.65258|     -73.75623|     288|   2.0|   10.0|        0|               N|       0|        null|        null|    null|         null|             null|\n",
            "|2008|    1|         4|        5| 1652.0|      1645| 1755.0|      1755|           WN|     1774| N783SW|             63.0|          70.0|   51.0|     0.0|     7.0|   BWI|  Baltimore, MD|       39.29038|       -76.61219| ALB|     Albany, NY|     42.65258|     -73.75623|     288|   5.0|    7.0|        0|               N|       0|        null|        null|    null|         null|             null|\n",
            "|2008|    1|         4|        5| 1035.0|      1025| 1143.0|      1135|           WN|     3569| N276WN|             68.0|          70.0|   53.0|     8.0|    10.0|   BWI|  Baltimore, MD|       39.29038|       -76.61219| ALB|     Albany, NY|     42.65258|     -73.75623|     288|   5.0|   10.0|        0|               N|       0|        null|        null|    null|         null|             null|\n",
            "|2008|    1|         4|        5| 1828.0|      1805| 1917.0|      1915|           WN|      623| N757LV|            109.0|         130.0|   97.0|     2.0|    23.0|   BWI|  Baltimore, MD|       39.29038|       -76.61219| BHM| Birmingham, AL|     33.52066|     -86.80249|     682|   3.0|    9.0|        0|               N|       0|        null|        null|    null|         null|             null|\n",
            "|2008|    1|         4|        5| 1317.0|      1310| 1401.0|      1420|           WN|     1857| N280WN|            104.0|         130.0|   95.0|   -19.0|     7.0|   BWI|  Baltimore, MD|       39.29038|       -76.61219| BHM| Birmingham, AL|     33.52066|     -86.80249|     682|   2.0|    7.0|        0|               N|       0|        null|        null|    null|         null|             null|\n",
            "|2008|    1|         5|        6| 2001.0|      1845| 2150.0|      2040|           WN|      746| N412WN|             49.0|          55.0|   39.0|    70.0|    76.0|   ABQ|Albuquerque, NM|       35.08449|      -106.65114| AMA|   Amarillo, TX|       35.222|     -101.8313|     277|   4.0|    6.0|        0|               N|       0|         3.0|         0.0|     0.0|          0.0|             67.0|\n",
            "|2008|    1|         5|        6| 1124.0|      1005| 1227.0|      1120|           WN|      733| N794SW|             63.0|          75.0|   50.0|    67.0|    79.0|   ALB|     Albany, NY|       42.65258|       -73.75623| BWI|  Baltimore, MD|     39.29038|     -76.61219|     288|   3.0|   10.0|        0|               N|       0|        67.0|         0.0|     0.0|          0.0|              0.0|\n",
            "|2008|    1|         5|        6| 1544.0|      1515| 1654.0|      1630|           WN|     3046| N723SW|             70.0|          75.0|   56.0|    24.0|    29.0|   ALB|     Albany, NY|       42.65258|       -73.75623| BWI|  Baltimore, MD|     39.29038|     -76.61219|     288|   4.0|   10.0|        0|               N|       0|        11.0|         0.0|     0.0|          0.0|             13.0|\n",
            "|2008|    1|         5|        6| 1426.0|      1415| 1832.0|      1815|           WN|     1001| N366SW|            186.0|         180.0|  164.0|    17.0|    11.0|   AUS|     Austin, TX|       30.26715|       -97.74306| BWI|  Baltimore, MD|     39.29038|     -76.61219|    1342|   4.0|   18.0|        0|               N|       0|         0.0|         0.0|     6.0|          0.0|             11.0|\n",
            "|2008|    1|         5|        6| 1806.0|      1750| 2047.0|      2040|           WN|     2036| N614SW|            101.0|         110.0|   88.0|     7.0|    16.0|   BHM| Birmingham, AL|       33.52066|       -86.80249| BWI|  Baltimore, MD|     39.29038|     -76.61219|     682|   3.0|   10.0|        0|               N|       0|        null|        null|    null|         null|             null|\n",
            "|2008|    1|         5|        6| 1508.0|      1425| 1719.0|      1655|           WN|      644| N737JW|            251.0|         270.0|  237.0|    24.0|    43.0|   BWI|  Baltimore, MD|       39.29038|       -76.61219| ABQ|Albuquerque, NM|     35.08449|    -106.65114|    1670|   5.0|    9.0|        0|               N|       0|         8.0|         0.0|     0.0|          0.0|             16.0|\n",
            "|2008|    1|         5|        6| 1808.0|      1755| 1909.0|      1905|           WN|      236| N708SA|             61.0|          70.0|   49.0|     4.0|    13.0|   BWI|  Baltimore, MD|       39.29038|       -76.61219| ALB|     Albany, NY|     42.65258|     -73.75623|     288|   3.0|    9.0|        0|               N|       0|        null|        null|    null|         null|             null|\n",
            "|2008|    1|         5|        6| 1359.0|      1340| 1506.0|      1450|           WN|      323| N723SW|             67.0|          70.0|   53.0|    16.0|    19.0|   BWI|  Baltimore, MD|       39.29038|       -76.61219| ALB|     Albany, NY|     42.65258|     -73.75623|     288|   3.0|   11.0|        0|               N|       0|         6.0|         0.0|     0.0|          0.0|             10.0|\n",
            "|2008|    1|         5|        6| 1433.0|      1420| 1700.0|      1710|           WN|      160| N264LV|            207.0|         230.0|  196.0|   -10.0|    13.0|   BWI|  Baltimore, MD|       39.29038|       -76.61219| AUS|     Austin, TX|     30.26715|     -97.74306|    1342|   4.0|    7.0|        0|               N|       0|        null|        null|    null|         null|             null|\n",
            "|2008|    1|         5|        6| 1814.0|      1805| 1910.0|      1915|           WN|      623| N624SW|            116.0|         130.0|  105.0|    -5.0|     9.0|   BWI|  Baltimore, MD|       39.29038|       -76.61219| BHM| Birmingham, AL|     33.52066|     -86.80249|     682|   4.0|    7.0|        0|               N|       0|        null|        null|    null|         null|             null|\n",
            "+----+-----+----------+---------+-------+----------+-------+----------+-------------+---------+-------+-----------------+--------------+-------+--------+--------+------+---------------+---------------+----------------+----+---------------+-------------+--------------+--------+------+-------+---------+----------------+--------+------------+------------+--------+-------------+-----------------+\n",
            "only showing top 20 rows\n",
            "\n",
            "--- 3.1630425453186035 seconds ---\n"
          ]
        }
      ],
      "source": [
        "# Run the same query with a Broadcast hint for either table\n",
        " \n",
        "start_time = time.time()\n",
        "\n",
        "spark.sql(\"\"\"\n",
        "select /*+ BROADCAST(lookup_geo) */ \n",
        "a.Year,\n",
        "a.Month,\n",
        "a.DayofMonth,\n",
        "a.DayOfWeek,\n",
        "a.DepTime,\n",
        "a.CRSDepTime,\n",
        "a.ArrTime,\n",
        "a.CRSArrTime,\n",
        "a.UniqueCarrier,\n",
        "a.FlightNum,\n",
        "a.TailNum,\n",
        "a.ActualElapsedTime,\n",
        "a.CRSElapsedTime,\n",
        "a.AirTime,\n",
        "a.ArrDelay,\n",
        "a.DepDelay,\n",
        "a.Origin,\n",
        "b.City as Origin_City,\n",
        "geo.latitude as Origin_latitude,\n",
        "geo.longitude as Origin_longitude,\n",
        "a.Dest,\n",
        "c.City as Dest_City,\n",
        "geo_dest.latitude as Dest_latitude,\n",
        "geo_dest.longitude as Dest_longitude,\n",
        "a.Distance,\n",
        "a.TaxiIn,\n",
        "a.TaxiOut,\n",
        "a.Cancelled,\n",
        "a.CancellationCode,\n",
        "a.Diverted,\n",
        "a.CarrierDelay,\n",
        "a.WeatherDelay,\n",
        "a.NASDelay,\n",
        "a.SecurityDelay,\n",
        "a.LateAircraftDelay from  delayed a \n",
        "  inner join lookup_city b\n",
        "    on a.Origin=b.airportCode\n",
        "  inner join lookup_city c\n",
        "    on a.Dest=c.airportCode\n",
        "  inner join lookup_geo geo\n",
        "on split(b.City,',')[0]=geo.name\n",
        "     and trim(split(b.City,',')[1])=geo.admin1_code\n",
        "  inner join lookup_geo geo_dest\n",
        "    on c.City=concat(geo_dest.name,', ',geo_dest.admin1_code)\n",
        "\"\"\").show()\n",
        "print(\"--- %s seconds ---\" % (time.time() - start_time))"
      ]
    },
    {
      "cell_type": "code",
      "execution_count": null,
      "metadata": {
        "colab": {
          "base_uri": "https://localhost:8080/"
        },
        "id": "fhgb2iFihRbW",
        "outputId": "6f9a0629-bdec-4f50-dbd4-cdb5a15aad68"
      },
      "outputs": [
        {
          "name": "stdout",
          "output_type": "stream",
          "text": [
            "+-----------------+------------------+\n",
            "|      Origin_City|   avgCarrierDelay|\n",
            "+-----------------+------------------+\n",
            "|  Albuquerque, NM| 18.31268436578171|\n",
            "|       Austin, TX|25.133111480865225|\n",
            "|     Amarillo, TX|              34.3|\n",
            "|  Baton Rouge, LA| 40.45161290322581|\n",
            "|    Allentown, PA|31.496688741721854|\n",
            "|    Asheville, NC|31.566101694915254|\n",
            "|  Bloomington, IL|21.365470852017935|\n",
            "|    Anchorage, AK| 24.98989898989899|\n",
            "|    Baltimore, MD|  15.7993145468393|\n",
            "|      Atlanta, GA| 24.09317927692881|\n",
            "|       Bangor, ME|34.068627450980394|\n",
            "|      Augusta, GA|26.899313501144164|\n",
            "|       Albany, GA|  26.4811320754717|\n",
            "|      Bozeman, MT|            18.125|\n",
            "|        Aspen, CO|               6.0|\n",
            "|       Albany, NY|17.217179902755266|\n",
            "|       Boston, MA|15.216697936210132|\n",
            "|        Akron, OH|  20.0124716553288|\n",
            "|Atlantic City, NJ|             106.3|\n",
            "|   Birmingham, AL|19.541315345699832|\n",
            "+-----------------+------------------+\n",
            "only showing top 20 rows\n",
            "\n",
            "--- 10.633858919143677 seconds ---\n"
          ]
        }
      ],
      "source": [
        "# Write a sql (we used a CTE here) that does some aggregations on the new data.  The purpose of this SQL is to add some processing time.\n",
        "# Note the runtime\n",
        "start_time = time.time()\n",
        "\n",
        "spark.sql(\"\"\"\n",
        "with allColumns\n",
        "(select /*+ BROADCAST(lookup_geo) */ \n",
        "a.Year,\n",
        "a.Month,\n",
        "a.DayofMonth,\n",
        "a.DayOfWeek,\n",
        "a.DepTime,\n",
        "a.CRSDepTime,\n",
        "a.ArrTime,\n",
        "a.CRSArrTime,\n",
        "a.UniqueCarrier,\n",
        "a.FlightNum,\n",
        "a.TailNum,\n",
        "a.ActualElapsedTime,\n",
        "a.CRSElapsedTime,\n",
        "a.AirTime,\n",
        "a.ArrDelay,\n",
        "a.DepDelay,\n",
        "a.Origin,\n",
        "b.City as Origin_City,\n",
        "geo.latitude as Origin_latitude,\n",
        "geo.longitude as Origin_longitude,\n",
        "a.Dest,\n",
        "c.City as Dest_City,\n",
        "geo_dest.latitude as Dest_latitude,\n",
        "geo_dest.longitude as Dest_longitude,\n",
        "a.Distance,\n",
        "a.TaxiIn,\n",
        "a.TaxiOut,\n",
        "a.Cancelled,\n",
        "a.CancellationCode,\n",
        "a.Diverted,\n",
        "a.CarrierDelay,\n",
        "a.WeatherDelay,\n",
        "a.NASDelay,\n",
        "a.SecurityDelay,\n",
        "a.LateAircraftDelay from  delayed a \n",
        "  inner join lookup_city b\n",
        "    on a.Origin=b.airportCode\n",
        "  inner join lookup_city c\n",
        "    on a.Dest=c.airportCode\n",
        "  inner join lookup_geo geo\n",
        "on split(b.City,',')[0]=geo.name\n",
        "     and trim(split(b.City,',')[1])=geo.admin1_code\n",
        "  inner join lookup_geo geo_dest\n",
        "    on c.City=concat(geo_dest.name,', ',geo_dest.admin1_code)\n",
        ")\n",
        "select Origin_City, avg(CarrierDelay) avgCarrierDelay from allColumns group by 1\n",
        "\"\"\").show()\n",
        "\n",
        "print(\"--- %s seconds ---\" % (time.time() - start_time))"
      ]
    },
    {
      "cell_type": "code",
      "execution_count": null,
      "metadata": {
        "colab": {
          "base_uri": "https://localhost:8080/"
        },
        "id": "mPR_2uq0vdyt",
        "outputId": "2b14108d-7109-43d8-fec1-641a834e2cdd"
      },
      "outputs": [
        {
          "data": {
            "text/plain": [
              "DataFrame[]"
            ]
          },
          "execution_count": 14,
          "metadata": {},
          "output_type": "execute_result"
        }
      ],
      "source": [
        "# Cache your largest temporary view\n",
        "# Note: when we use SparkSQL to cache a table, the table is immediately cached (no lazy evaluation), when using Pyspark it will not be cached until an action is ran.\n",
        "spark.sql(\"cache table delayed\")"
      ]
    },
    {
      "cell_type": "code",
      "execution_count": null,
      "metadata": {
        "colab": {
          "base_uri": "https://localhost:8080/"
        },
        "id": "eodqtIHByC2J",
        "outputId": "18a83da9-1a23-4b39-f809-5d74f9ad5392"
      },
      "outputs": [
        {
          "data": {
            "text/plain": [
              "True"
            ]
          },
          "execution_count": 15,
          "metadata": {},
          "output_type": "execute_result"
        }
      ],
      "source": [
        "# Check that your table is cached \n",
        "spark.catalog.isCached(\"delayed\")"
      ]
    },
    {
      "cell_type": "code",
      "execution_count": null,
      "metadata": {
        "colab": {
          "base_uri": "https://localhost:8080/"
        },
        "id": "fkSFfoBYwgSI",
        "outputId": "30a68c38-2554-400e-a778-f3846149432b"
      },
      "outputs": [
        {
          "name": "stdout",
          "output_type": "stream",
          "text": [
            "+-----------------+------------------+\n",
            "|      Origin_City|          avgDelay|\n",
            "+-----------------+------------------+\n",
            "|  Albuquerque, NM| 34.16695059625213|\n",
            "|       Austin, TX| 44.39871382636656|\n",
            "|     Amarillo, TX| 42.94736842105263|\n",
            "|  Baton Rouge, LA| 63.06401137980085|\n",
            "|    Allentown, PA|            50.192|\n",
            "|    Asheville, NC| 58.58413461538461|\n",
            "|  Bloomington, IL| 50.65745007680491|\n",
            "|    Anchorage, AK| 36.90522875816993|\n",
            "|    Baltimore, MD| 41.57686980609418|\n",
            "|      Atlanta, GA| 41.65309675814609|\n",
            "|       Bangor, ME| 53.30357142857143|\n",
            "|      Augusta, GA|61.791666666666664|\n",
            "|       Albany, GA|50.907534246575345|\n",
            "|      Bozeman, MT| 44.65217391304348|\n",
            "|        Aspen, CO|              52.8|\n",
            "|       Albany, NY| 43.70686070686071|\n",
            "|       Boston, MA| 50.85264194289465|\n",
            "|        Akron, OH|53.393058918482645|\n",
            "|Atlantic City, NJ| 64.64285714285714|\n",
            "|   Birmingham, AL|46.458149779735685|\n",
            "+-----------------+------------------+\n",
            "only showing top 20 rows\n",
            "\n",
            "--- 4.07237982749939 seconds ---\n"
          ]
        }
      ],
      "source": [
        "# Run the same query again with the data cached. This should greatly improve the run time.  \n",
        "# Keep in mind we are not working with particularly large data here so the improvements may not be dramatic.\n",
        "\n",
        "start_time = time.time()\n",
        "\n",
        "spark.sql(\"\"\"\n",
        "with allColumns\n",
        "(select /*+ BROADCAST(lookup_geo) */ \n",
        "a.Year,\n",
        "a.Month,\n",
        "a.DayofMonth,\n",
        "a.DayOfWeek,\n",
        "a.DepTime,\n",
        "a.CRSDepTime,\n",
        "a.ArrTime,\n",
        "a.CRSArrTime,\n",
        "a.UniqueCarrier,\n",
        "a.FlightNum,\n",
        "a.TailNum,\n",
        "a.ActualElapsedTime,\n",
        "a.CRSElapsedTime,\n",
        "a.AirTime,\n",
        "a.ArrDelay,\n",
        "a.DepDelay,\n",
        "a.Origin,\n",
        "b.City as Origin_City,\n",
        "geo.latitude as Origin_latitude,\n",
        "geo.longitude as Origin_longitude,\n",
        "a.Dest,\n",
        "c.City as Dest_City,\n",
        "geo_dest.latitude as Dest_latitude,\n",
        "geo_dest.longitude as Dest_longitude,\n",
        "a.Distance,\n",
        "a.TaxiIn,\n",
        "a.TaxiOut,\n",
        "a.Cancelled,\n",
        "a.CancellationCode,\n",
        "a.Diverted,\n",
        "a.CarrierDelay,\n",
        "a.WeatherDelay,\n",
        "a.NASDelay,\n",
        "a.SecurityDelay,\n",
        "a.LateAircraftDelay from  delayed a \n",
        "  inner join lookup_city b\n",
        "    on a.Origin=b.airportCode\n",
        "  inner join lookup_city c\n",
        "    on a.Dest=c.airportCode\n",
        "  inner join lookup_geo geo\n",
        "on split(b.City,',')[0]=geo.name\n",
        "     and trim(split(b.City,',')[1])=geo.admin1_code\n",
        "  inner join lookup_geo geo_dest\n",
        "    on c.City=concat(geo_dest.name,', ',geo_dest.admin1_code)\n",
        ")\n",
        "select Origin_City, avg(ArrDelay) avgDelay from allColumns group by 1\n",
        "\"\"\").show()\n",
        "\n",
        "print(\"--- %s seconds ---\" % (time.time() - start_time))\n"
      ]
    },
    {
      "cell_type": "code",
      "execution_count": null,
      "metadata": {
        "colab": {
          "base_uri": "https://localhost:8080/"
        },
        "id": "QfvIwCCChuvc",
        "outputId": "4a54f944-896c-4a16-d1e4-c052524026d5"
      },
      "outputs": [
        {
          "data": {
            "text/plain": [
              "DataFrame[]"
            ]
          },
          "execution_count": 17,
          "metadata": {},
          "output_type": "execute_result"
        }
      ],
      "source": [
        "# you can even cache a large lookup table.\n",
        "spark.sql(\"cache table lookup_geo\")"
      ]
    },
    {
      "cell_type": "code",
      "execution_count": null,
      "metadata": {
        "colab": {
          "base_uri": "https://localhost:8080/"
        },
        "id": "31NhqcGgh7HG",
        "outputId": "5529e708-9651-41a7-bbf3-4a78e11c4834"
      },
      "outputs": [
        {
          "name": "stdout",
          "output_type": "stream",
          "text": [
            "+-----------------+------------------+\n",
            "|      Origin_City|          avgDelay|\n",
            "+-----------------+------------------+\n",
            "|  Albuquerque, NM| 34.16695059625213|\n",
            "|       Austin, TX| 44.39871382636656|\n",
            "|     Amarillo, TX| 42.94736842105263|\n",
            "|  Baton Rouge, LA| 63.06401137980085|\n",
            "|    Allentown, PA|            50.192|\n",
            "|    Asheville, NC| 58.58413461538461|\n",
            "|  Bloomington, IL| 50.65745007680491|\n",
            "|    Anchorage, AK| 36.90522875816993|\n",
            "|    Baltimore, MD| 41.57686980609418|\n",
            "|      Atlanta, GA| 41.65309675814609|\n",
            "|       Bangor, ME| 53.30357142857143|\n",
            "|      Augusta, GA|61.791666666666664|\n",
            "|       Albany, GA|50.907534246575345|\n",
            "|      Bozeman, MT| 44.65217391304348|\n",
            "|        Aspen, CO|              52.8|\n",
            "|       Albany, NY| 43.70686070686071|\n",
            "|       Boston, MA| 50.85264194289465|\n",
            "|        Akron, OH|53.393058918482645|\n",
            "|Atlantic City, NJ| 64.64285714285714|\n",
            "|   Birmingham, AL|46.458149779735685|\n",
            "+-----------------+------------------+\n",
            "only showing top 20 rows\n",
            "\n",
            "--- 2.1907601356506348 seconds ---\n"
          ]
        }
      ],
      "source": [
        "# Run the same query again with the data cached. This should greatly improve the run time.\n",
        "\n",
        "start_time = time.time()\n",
        "\n",
        "spark.sql(\"\"\"\n",
        "with allColumns\n",
        "(select /*+ BROADCAST(lookup_geo) */ \n",
        "a.Year,\n",
        "a.Month,\n",
        "a.DayofMonth,\n",
        "a.DayOfWeek,\n",
        "a.DepTime,\n",
        "a.CRSDepTime,\n",
        "a.ArrTime,\n",
        "a.CRSArrTime,\n",
        "a.UniqueCarrier,\n",
        "a.FlightNum,\n",
        "a.TailNum,\n",
        "a.ActualElapsedTime,\n",
        "a.CRSElapsedTime,\n",
        "a.AirTime,\n",
        "a.ArrDelay,\n",
        "a.DepDelay,\n",
        "a.Origin,\n",
        "b.City as Origin_City,\n",
        "geo.latitude as Origin_latitude,\n",
        "geo.longitude as Origin_longitude,\n",
        "a.Dest,\n",
        "c.City as Dest_City,\n",
        "geo_dest.latitude as Dest_latitude,\n",
        "geo_dest.longitude as Dest_longitude,\n",
        "a.Distance,\n",
        "a.TaxiIn,\n",
        "a.TaxiOut,\n",
        "a.Cancelled,\n",
        "a.CancellationCode,\n",
        "a.Diverted,\n",
        "a.CarrierDelay,\n",
        "a.WeatherDelay,\n",
        "a.NASDelay,\n",
        "a.SecurityDelay,\n",
        "a.LateAircraftDelay from  delayed a \n",
        "  inner join lookup_city b\n",
        "    on a.Origin=b.airportCode\n",
        "  inner join lookup_city c\n",
        "    on a.Dest=c.airportCode\n",
        "  inner join lookup_geo geo\n",
        "on split(b.City,',')[0]=geo.name\n",
        "     and trim(split(b.City,',')[1])=geo.admin1_code\n",
        "  inner join lookup_geo geo_dest\n",
        "    on c.City=concat(geo_dest.name,', ',geo_dest.admin1_code)\n",
        ")\n",
        "select Origin_City, avg(ArrDelay) avgDelay from allColumns group by 1\n",
        "\"\"\").show()\n",
        "\n",
        "print(\"--- %s seconds ---\" % (time.time() - start_time))"
      ]
    },
    {
      "cell_type": "code",
      "execution_count": null,
      "metadata": {
        "colab": {
          "base_uri": "https://localhost:8080/"
        },
        "id": "3P82CRVDxk7s",
        "outputId": "146595b7-8c2f-4530-921f-ba16b9ce0a1d"
      },
      "outputs": [
        {
          "data": {
            "text/plain": [
              "DataFrame[]"
            ]
          },
          "execution_count": 19,
          "metadata": {},
          "output_type": "execute_result"
        }
      ],
      "source": [
        "# Remember to uncache the table as soon as you are done.\n",
        "spark.sql(\"uncache table delayed\")\n",
        "spark.sql(\"uncache table lookup_geo\")"
      ]
    },
    {
      "cell_type": "code",
      "execution_count": null,
      "metadata": {
        "colab": {
          "base_uri": "https://localhost:8080/"
        },
        "id": "aHEPdkk_x0Ep",
        "outputId": "9cef5639-6122-4aba-f8e8-29de952eccad"
      },
      "outputs": [
        {
          "name": "stdout",
          "output_type": "stream",
          "text": [
            "all clear\n"
          ]
        }
      ],
      "source": [
        "# Verify that the table is no longer cached\n",
        "if spark.catalog.isCached(\"delayed\") or spark.catalog.isCached(\"lookup_geo\"):\n",
        "  print(\"a table is till cached\")\n",
        "else:\n",
        "  print(\"all clear\")"
      ]
    },
    {
      "cell_type": "code",
      "execution_count": null,
      "metadata": {
        "id": "3XLLlG2kx4s3"
      },
      "outputs": [],
      "source": []
    }
  ],
  "metadata": {
    "colab": {
      "collapsed_sections": [],
      "name": "Cache_Broadcast_Solved.ipynb",
      "provenance": []
    },
    "kernelspec": {
      "display_name": "Python 3",
      "name": "python3"
    },
    "language_info": {
      "name": "python"
    }
  },
  "nbformat": 4,
  "nbformat_minor": 0
}
