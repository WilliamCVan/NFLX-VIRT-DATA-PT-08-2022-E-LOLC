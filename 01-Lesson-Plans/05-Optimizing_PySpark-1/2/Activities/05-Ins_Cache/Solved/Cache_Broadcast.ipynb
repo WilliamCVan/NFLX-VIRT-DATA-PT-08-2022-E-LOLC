{
  "cells": [
    {
      "cell_type": "code",
      "execution_count": 1,
      "metadata": {
        "colab": {
          "base_uri": "https://localhost:8080/"
        },
        "id": "eGA5-htN6oEN",
        "outputId": "5143d959-3ef3-4a78-9e78-6d7c03492597"
      },
      "outputs": [
        {
          "name": "stdout",
          "output_type": "stream",
          "text": [
            "Hit:1 https://developer.download.nvidia.com/compute/cuda/repos/ubuntu1804/x86_64  InRelease\n",
            "Get:2 https://cloud.r-project.org/bin/linux/ubuntu bionic-cran40/ InRelease [3,626 B]\n",
            "Get:3 http://security.ubuntu.com/ubuntu bionic-security InRelease [88.7 kB]\n",
            "Hit:4 http://ppa.launchpad.net/c2d4u.team/c2d4u4.0+/ubuntu bionic InRelease\n",
            "Hit:5 http://archive.ubuntu.com/ubuntu bionic InRelease\n",
            "Ign:6 https://developer.download.nvidia.com/compute/machine-learning/repos/ubuntu1804/x86_64  InRelease\n",
            "Get:7 http://archive.ubuntu.com/ubuntu bionic-updates InRelease [88.7 kB]\n",
            "Hit:8 https://developer.download.nvidia.com/compute/machine-learning/repos/ubuntu1804/x86_64  Release\n",
            "Hit:9 http://ppa.launchpad.net/cran/libgit2/ubuntu bionic InRelease\n",
            "Hit:10 http://ppa.launchpad.net/deadsnakes/ppa/ubuntu bionic InRelease\n",
            "Get:11 http://archive.ubuntu.com/ubuntu bionic-backports InRelease [74.6 kB]\n",
            "Hit:12 http://ppa.launchpad.net/graphics-drivers/ppa/ubuntu bionic InRelease\n",
            "Get:14 http://security.ubuntu.com/ubuntu bionic-security/restricted amd64 Packages [1,006 kB]\n",
            "Get:15 http://archive.ubuntu.com/ubuntu bionic-updates/main amd64 Packages [3,298 kB]\n",
            "Get:16 http://security.ubuntu.com/ubuntu bionic-security/multiverse amd64 Packages [22.8 kB]\n",
            "Get:17 http://security.ubuntu.com/ubuntu bionic-security/main amd64 Packages [2,861 kB]\n",
            "Get:18 http://security.ubuntu.com/ubuntu bionic-security/universe amd64 Packages [1,521 kB]\n",
            "Get:19 http://archive.ubuntu.com/ubuntu bionic-updates/multiverse amd64 Packages [29.8 kB]\n",
            "Get:20 http://archive.ubuntu.com/ubuntu bionic-updates/universe amd64 Packages [2,297 kB]\n",
            "Get:21 http://archive.ubuntu.com/ubuntu bionic-updates/restricted amd64 Packages [1,047 kB]\n",
            "Get:22 http://archive.ubuntu.com/ubuntu bionic-backports/main amd64 Packages [12.2 kB]\n",
            "Fetched 12.4 MB in 5s (2,339 kB/s)\n",
            "Reading package lists... Done\n"
          ]
        }
      ],
      "source": [
        "# Activate Spark in our Colab notebook.\n",
        "import os\n",
        "# Find the latest version of spark 3.0  from http://www.apache.org/dist/spark/ and enter as the spark version\n",
        "# For example: 'spark-3.2.2'\n",
        "spark_version = 'spark-3.2.2'\n",
        "# spark_version = 'spark-3.<enter version>'\n",
        "os.environ['SPARK_VERSION']=spark_version\n",
        "\n",
        "# Install Spark and Java\n",
        "!apt-get update\n",
        "!apt-get install openjdk-11-jdk-headless -qq > /dev/null\n",
        "!wget -q http://www.apache.org/dist/spark/$SPARK_VERSION/$SPARK_VERSION-bin-hadoop3.2.tgz\n",
        "!tar xf $SPARK_VERSION-bin-hadoop3.2.tgz\n",
        "!pip install -q findspark\n",
        "\n",
        "# Set Environment Variables\n",
        "os.environ[\"JAVA_HOME\"] = \"/usr/lib/jvm/java-11-openjdk-amd64\"\n",
        "os.environ[\"SPARK_HOME\"] = f\"/content/{spark_version}-bin-hadoop3.2\"\n",
        "\n",
        "# Start a SparkSession\n",
        "import findspark\n",
        "findspark.init()"
      ]
    },
    {
      "cell_type": "code",
      "execution_count": 2,
      "metadata": {
        "id": "pIUo9MYO6vlj"
      },
      "outputs": [],
      "source": [
        "# Import packages\n",
        "from pyspark.sql import SparkSession\n",
        "import time\n",
        "\n",
        "# Create a SparkSession\n",
        "spark = SparkSession.builder.appName(\"SparkSQL\").getOrCreate()"
      ]
    },
    {
      "cell_type": "code",
      "execution_count": 3,
      "metadata": {
        "colab": {
          "base_uri": "https://localhost:8080/"
        },
        "id": "xKFXM9CiV7OW",
        "outputId": "bd68a45f-63ff-489a-d0dc-39be26d2afb3"
      },
      "outputs": [
        {
          "name": "stdout",
          "output_type": "stream",
          "text": [
            "Mounted at /content/drive\n"
          ]
        }
      ],
      "source": [
        "from google.colab import drive\n",
        "drive.mount('/content/drive')"
      ]
    },
    {
      "cell_type": "code",
      "execution_count": 4,
      "metadata": {
        "id": "Ej6Sabcd-1At"
      },
      "outputs": [],
      "source": [
        "# Read in data from S3 Bucket\n",
        "from pyspark import SparkFiles\n",
        "url = \"https://2u-data-curriculum-team.s3.amazonaws.com/nflx-data-science-adv/week-5/DelayedFlights.csv\"\n",
        "spark.sparkContext.addFile(url)\n",
        "df = spark.read.csv(SparkFiles.get(\"DelayedFlights.csv\"), sep=\",\", header=True)\n",
        "# we are going to do a lookup here as well so upload the airportCodes.csv file from your Resources directory \n",
        "df_lookup=spark.read.csv('/content/airportCodes.csv', sep=',', header=True)"
      ]
    },
    {
      "cell_type": "code",
      "execution_count": 5,
      "metadata": {
        "id": "PagTU9GvCICb"
      },
      "outputs": [],
      "source": [
        "# Recall that the default shuffle partitions is 200.  We want to bring that down to a reasonable size for both our data and our Spark cluster\n",
        "# 4 is reasonable for a free Colab \n",
        "spark.conf.set(\"spark.sql.shuffle.partitions\", 4)"
      ]
    },
    {
      "cell_type": "code",
      "execution_count": 6,
      "metadata": {
        "colab": {
          "base_uri": "https://localhost:8080/"
        },
        "id": "7XUB6IMQxLAB",
        "outputId": "ed4c60b0-a4bd-41c5-d8c2-d109e2d26328"
      },
      "outputs": [
        {
          "name": "stdout",
          "output_type": "stream",
          "text": [
            "+---+----+-----+----------+---------+-------+----------+-------+----------+-------------+---------+-------+-----------------+--------------+-------+--------+--------+------+----+--------+------+-------+---------+----------------+--------+------------+------------+--------+-------------+-----------------+\n",
            "|_c0|Year|Month|DayofMonth|DayOfWeek|DepTime|CRSDepTime|ArrTime|CRSArrTime|UniqueCarrier|FlightNum|TailNum|ActualElapsedTime|CRSElapsedTime|AirTime|ArrDelay|DepDelay|Origin|Dest|Distance|TaxiIn|TaxiOut|Cancelled|CancellationCode|Diverted|CarrierDelay|WeatherDelay|NASDelay|SecurityDelay|LateAircraftDelay|\n",
            "+---+----+-----+----------+---------+-------+----------+-------+----------+-------------+---------+-------+-----------------+--------------+-------+--------+--------+------+----+--------+------+-------+---------+----------------+--------+------------+------------+--------+-------------+-----------------+\n",
            "|  0|2008|    1|         3|        4| 2003.0|      1955| 2211.0|      2225|           WN|      335| N712SW|            128.0|         150.0|  116.0|   -14.0|     8.0|   IAD| TPA|     810|   4.0|    8.0|        0|               N|       0|        null|        null|    null|         null|             null|\n",
            "|  1|2008|    1|         3|        4|  754.0|       735| 1002.0|      1000|           WN|     3231| N772SW|            128.0|         145.0|  113.0|     2.0|    19.0|   IAD| TPA|     810|   5.0|   10.0|        0|               N|       0|        null|        null|    null|         null|             null|\n",
            "|  2|2008|    1|         3|        4|  628.0|       620|  804.0|       750|           WN|      448| N428WN|             96.0|          90.0|   76.0|    14.0|     8.0|   IND| BWI|     515|   3.0|   17.0|        0|               N|       0|        null|        null|    null|         null|             null|\n",
            "|  4|2008|    1|         3|        4| 1829.0|      1755| 1959.0|      1925|           WN|     3920| N464WN|             90.0|          90.0|   77.0|    34.0|    34.0|   IND| BWI|     515|   3.0|   10.0|        0|               N|       0|         2.0|         0.0|     0.0|          0.0|             32.0|\n",
            "|  5|2008|    1|         3|        4| 1940.0|      1915| 2121.0|      2110|           WN|      378| N726SW|            101.0|         115.0|   87.0|    11.0|    25.0|   IND| JAX|     688|   4.0|   10.0|        0|               N|       0|        null|        null|    null|         null|             null|\n",
            "|  6|2008|    1|         3|        4| 1937.0|      1830| 2037.0|      1940|           WN|      509| N763SW|            240.0|         250.0|  230.0|    57.0|    67.0|   IND| LAS|    1591|   3.0|    7.0|        0|               N|       0|        10.0|         0.0|     0.0|          0.0|             47.0|\n",
            "| 10|2008|    1|         3|        4|  706.0|       700|  916.0|       915|           WN|      100| N690SW|            130.0|         135.0|  106.0|     1.0|     6.0|   IND| MCO|     828|   5.0|   19.0|        0|               N|       0|        null|        null|    null|         null|             null|\n",
            "| 11|2008|    1|         3|        4| 1644.0|      1510| 1845.0|      1725|           WN|     1333| N334SW|            121.0|         135.0|  107.0|    80.0|    94.0|   IND| MCO|     828|   6.0|    8.0|        0|               N|       0|         8.0|         0.0|     0.0|          0.0|             72.0|\n",
            "| 15|2008|    1|         3|        4| 1029.0|      1020| 1021.0|      1010|           WN|     2272| N263WN|             52.0|          50.0|   37.0|    11.0|     9.0|   IND| MDW|     162|   6.0|    9.0|        0|               N|       0|        null|        null|    null|         null|             null|\n",
            "| 16|2008|    1|         3|        4| 1452.0|      1425| 1640.0|      1625|           WN|      675| N286WN|            228.0|         240.0|  213.0|    15.0|    27.0|   IND| PHX|    1489|   7.0|    8.0|        0|               N|       0|         3.0|         0.0|     0.0|          0.0|             12.0|\n",
            "| 17|2008|    1|         3|        4|  754.0|       745|  940.0|       955|           WN|     1144| N778SW|            226.0|         250.0|  205.0|   -15.0|     9.0|   IND| PHX|    1489|   5.0|   16.0|        0|               N|       0|        null|        null|    null|         null|             null|\n",
            "| 18|2008|    1|         3|        4| 1323.0|      1255| 1526.0|      1510|           WN|        4| N674AA|            123.0|         135.0|  110.0|    16.0|    28.0|   IND| TPA|     838|   4.0|    9.0|        0|               N|       0|         0.0|         0.0|     0.0|          0.0|             16.0|\n",
            "| 19|2008|    1|         3|        4| 1416.0|      1325| 1512.0|      1435|           WN|       54| N643SW|             56.0|          70.0|   49.0|    37.0|    51.0|   ISP| BWI|     220|   2.0|    5.0|        0|               N|       0|        12.0|         0.0|     0.0|          0.0|             25.0|\n",
            "| 21|2008|    1|         3|        4| 1657.0|      1625| 1754.0|      1735|           WN|      623| N724SW|             57.0|          70.0|   47.0|    19.0|    32.0|   ISP| BWI|     220|   5.0|    5.0|        0|               N|       0|         7.0|         0.0|     0.0|          0.0|             12.0|\n",
            "| 22|2008|    1|         3|        4| 1900.0|      1840| 1956.0|      1950|           WN|      717| N786SW|             56.0|          70.0|   49.0|     6.0|    20.0|   ISP| BWI|     220|   2.0|    5.0|        0|               N|       0|        null|        null|    null|         null|             null|\n",
            "| 23|2008|    1|         3|        4| 1039.0|      1030| 1133.0|      1140|           WN|     1244| N714CB|             54.0|          70.0|   47.0|    -7.0|     9.0|   ISP| BWI|     220|   2.0|    5.0|        0|               N|       0|        null|        null|    null|         null|             null|\n",
            "| 25|2008|    1|         3|        4| 1520.0|      1455| 1619.0|      1605|           WN|     2553| N394SW|             59.0|          70.0|   50.0|    14.0|    25.0|   ISP| BWI|     220|   2.0|    7.0|        0|               N|       0|        null|        null|    null|         null|             null|\n",
            "| 26|2008|    1|         3|        4| 1422.0|      1255| 1657.0|      1610|           WN|      188| N215WN|            155.0|         195.0|  143.0|    47.0|    87.0|   ISP| FLL|    1093|   6.0|    6.0|        0|               N|       0|        40.0|         0.0|     0.0|          0.0|              7.0|\n",
            "| 27|2008|    1|         3|        4| 1954.0|      1925| 2239.0|      2235|           WN|     1754| N243WN|            165.0|         190.0|  155.0|     4.0|    29.0|   ISP| FLL|    1093|   3.0|    7.0|        0|               N|       0|        null|        null|    null|         null|             null|\n",
            "| 30|2008|    1|         3|        4| 2107.0|      1945| 2334.0|      2230|           WN|      362| N798SW|            147.0|         165.0|  134.0|    64.0|    82.0|   ISP| MCO|     972|   6.0|    7.0|        0|               N|       0|         5.0|         0.0|     0.0|          0.0|             59.0|\n",
            "+---+----+-----+----------+---------+-------+----------+-------+----------+-------------+---------+-------+-----------------+--------------+-------+--------+--------+------+----+--------+------+-------+---------+----------------+--------+------------+------------+--------+-------------+-----------------+\n",
            "only showing top 20 rows\n",
            "\n"
          ]
        }
      ],
      "source": [
        "# Let's take a quick look at our delayed flight data.\n",
        "df.show()"
      ]
    },
    {
      "cell_type": "code",
      "execution_count": 7,
      "metadata": {
        "colab": {
          "base_uri": "https://localhost:8080/"
        },
        "id": "L_hKqNbW_EnA",
        "outputId": "cfac0297-b096-462f-f839-28ff6dc634ce"
      },
      "outputs": [
        {
          "name": "stdout",
          "output_type": "stream",
          "text": [
            "+--------------+--------------------+-----------+\n",
            "|          City|             country|airportCode|\n",
            "+--------------+--------------------+-----------+\n",
            "|       Aalborg|             Denmark|        AAL|\n",
            "|      Aalesund|              Norway|        AES|\n",
            "|        Aarhus|             Denmark|        AAR|\n",
            "|Abbotsford, BC|              Canada|        YXX|\n",
            "|Abbotsford, BC|              Canada|        YXX|\n",
            "|      Aberdeen|            Scotland|        ABZ|\n",
            "|  Aberdeen, SD|                 USA|        ABR|\n",
            "|       Abidjan|         Ivory Coast|        ABJ|\n",
            "|   Abilene, TX|                 USA|        ABI|\n",
            "|     Abu Dhabi|United Arab Emirates|        AUH|\n",
            "|         Abuja|             Nigeria|        ABV|\n",
            "|      Acapulco|              Mexico|        ACA|\n",
            "|         Accra|               Ghana|        ACC|\n",
            "|         Adana|              Turkey|        ADA|\n",
            "|   Addis Ababa|            Ethiopia|        ADD|\n",
            "|Adelaide, S.A.|           Australia|        ADL|\n",
            "|          Aden|               Yemen|        ADE|\n",
            "|      Adiyaman|              Turkey|        ADF|\n",
            "|        Agadir|             Morocco|        AGA|\n",
            "|         Agana|                Guam|        GUM|\n",
            "+--------------+--------------------+-----------+\n",
            "only showing top 20 rows\n",
            "\n"
          ]
        }
      ],
      "source": [
        "# And, our our new lookup table data.\n",
        "df_lookup.show()"
      ]
    },
    {
      "cell_type": "code",
      "execution_count": 8,
      "metadata": {
        "id": "5DFhjm5Z_O5Z"
      },
      "outputs": [],
      "source": [
        "#Create temporary views for each of our dataframes\n",
        "df.createOrReplaceTempView('delayed')\n",
        "df_lookup.createOrReplaceTempView('lookup')"
      ]
    },
    {
      "cell_type": "code",
      "execution_count": 9,
      "metadata": {
        "colab": {
          "base_uri": "https://localhost:8080/"
        },
        "id": "mN-WisyZ_YrY",
        "outputId": "b7fef404-9712-49df-c1a4-ac229188502a"
      },
      "outputs": [
        {
          "name": "stdout",
          "output_type": "stream",
          "text": [
            "+----+-----+----------+---------+-------+----------+-------+----------+-------------+---------+-------+-----------------+--------------+-------+--------+--------+------+---------------+----+---------------+--------+------+-------+---------+----------------+--------+------------+------------+--------+-------------+-----------------+\n",
            "|Year|Month|DayofMonth|DayOfWeek|DepTime|CRSDepTime|ArrTime|CRSArrTime|UniqueCarrier|FlightNum|TailNum|ActualElapsedTime|CRSElapsedTime|AirTime|ArrDelay|DepDelay|Origin|    Origin_City|Dest|      Dest_City|Distance|TaxiIn|TaxiOut|Cancelled|CancellationCode|Diverted|CarrierDelay|WeatherDelay|NASDelay|SecurityDelay|LateAircraftDelay|\n",
            "+----+-----+----------+---------+-------+----------+-------+----------+-------------+---------+-------+-----------------+--------------+-------+--------+--------+------+---------------+----+---------------+--------+------+-------+---------+----------------+--------+------------+------------+--------+-------------+-----------------+\n",
            "|2008|    1|         4|        5| 2003.0|      1845| 2207.0|      2040|           WN|      746| N667SW|             64.0|          55.0|   44.0|    87.0|    78.0|   ABQ|Albuquerque, NM| AMA|   Amarillo, TX|     277|   5.0|   15.0|        0|               N|       0|         0.0|         0.0|     9.0|          0.0|             78.0|\n",
            "|2008|    1|         4|        5| 1332.0|      1325| 1437.0|      1440|           WN|      182| N313SW|             65.0|          75.0|   54.0|    -3.0|     7.0|   ALB|     Albany, NY| BWI|  Baltimore, MD|     288|   3.0|    8.0|        0|               N|       0|        null|        null|    null|         null|             null|\n",
            "|2008|    1|         4|        5| 1020.0|      1005| 1128.0|      1120|           WN|      733| N650SW|             68.0|          75.0|   58.0|     8.0|    15.0|   ALB|     Albany, NY| BWI|  Baltimore, MD|     288|   3.0|    7.0|        0|               N|       0|        null|        null|    null|         null|             null|\n",
            "|2008|    1|         4|        5| 1831.0|      1820| 1941.0|      1935|           WN|     1861| N783SW|             70.0|          75.0|   57.0|     6.0|    11.0|   ALB|     Albany, NY| BWI|  Baltimore, MD|     288|   3.0|   10.0|        0|               N|       0|        null|        null|    null|         null|             null|\n",
            "|2008|    1|         4|        5| 1758.0|      1750| 2051.0|      2040|           WN|     2036| N660SW|            113.0|         110.0|  100.0|    11.0|     8.0|   BHM| Birmingham, AL| BWI|  Baltimore, MD|     682|   3.0|   10.0|        0|               N|       0|        null|        null|    null|         null|             null|\n",
            "|2008|    1|         4|        5|  836.0|       830|  943.0|       940|           WN|      922| N650SW|             67.0|          70.0|   55.0|     3.0|     6.0|   BWI|  Baltimore, MD| ALB|     Albany, NY|     288|   2.0|   10.0|        0|               N|       0|        null|        null|    null|         null|             null|\n",
            "|2008|    1|         4|        5| 1652.0|      1645| 1755.0|      1755|           WN|     1774| N783SW|             63.0|          70.0|   51.0|     0.0|     7.0|   BWI|  Baltimore, MD| ALB|     Albany, NY|     288|   5.0|    7.0|        0|               N|       0|        null|        null|    null|         null|             null|\n",
            "|2008|    1|         4|        5| 1035.0|      1025| 1143.0|      1135|           WN|     3569| N276WN|             68.0|          70.0|   53.0|     8.0|    10.0|   BWI|  Baltimore, MD| ALB|     Albany, NY|     288|   5.0|   10.0|        0|               N|       0|        null|        null|    null|         null|             null|\n",
            "|2008|    1|         4|        5| 1828.0|      1805| 1917.0|      1915|           WN|      623| N757LV|            109.0|         130.0|   97.0|     2.0|    23.0|   BWI|  Baltimore, MD| BHM| Birmingham, AL|     682|   3.0|    9.0|        0|               N|       0|        null|        null|    null|         null|             null|\n",
            "|2008|    1|         4|        5| 1317.0|      1310| 1401.0|      1420|           WN|     1857| N280WN|            104.0|         130.0|   95.0|   -19.0|     7.0|   BWI|  Baltimore, MD| BHM| Birmingham, AL|     682|   2.0|    7.0|        0|               N|       0|        null|        null|    null|         null|             null|\n",
            "|2008|    1|         5|        6| 2001.0|      1845| 2150.0|      2040|           WN|      746| N412WN|             49.0|          55.0|   39.0|    70.0|    76.0|   ABQ|Albuquerque, NM| AMA|   Amarillo, TX|     277|   4.0|    6.0|        0|               N|       0|         3.0|         0.0|     0.0|          0.0|             67.0|\n",
            "|2008|    1|         5|        6| 1124.0|      1005| 1227.0|      1120|           WN|      733| N794SW|             63.0|          75.0|   50.0|    67.0|    79.0|   ALB|     Albany, NY| BWI|  Baltimore, MD|     288|   3.0|   10.0|        0|               N|       0|        67.0|         0.0|     0.0|          0.0|              0.0|\n",
            "|2008|    1|         5|        6| 1544.0|      1515| 1654.0|      1630|           WN|     3046| N723SW|             70.0|          75.0|   56.0|    24.0|    29.0|   ALB|     Albany, NY| BWI|  Baltimore, MD|     288|   4.0|   10.0|        0|               N|       0|        11.0|         0.0|     0.0|          0.0|             13.0|\n",
            "|2008|    1|         5|        6| 1426.0|      1415| 1832.0|      1815|           WN|     1001| N366SW|            186.0|         180.0|  164.0|    17.0|    11.0|   AUS|     Austin, TX| BWI|  Baltimore, MD|    1342|   4.0|   18.0|        0|               N|       0|         0.0|         0.0|     6.0|          0.0|             11.0|\n",
            "|2008|    1|         5|        6| 1806.0|      1750| 2047.0|      2040|           WN|     2036| N614SW|            101.0|         110.0|   88.0|     7.0|    16.0|   BHM| Birmingham, AL| BWI|  Baltimore, MD|     682|   3.0|   10.0|        0|               N|       0|        null|        null|    null|         null|             null|\n",
            "|2008|    1|         5|        6| 1508.0|      1425| 1719.0|      1655|           WN|      644| N737JW|            251.0|         270.0|  237.0|    24.0|    43.0|   BWI|  Baltimore, MD| ABQ|Albuquerque, NM|    1670|   5.0|    9.0|        0|               N|       0|         8.0|         0.0|     0.0|          0.0|             16.0|\n",
            "|2008|    1|         5|        6| 1808.0|      1755| 1909.0|      1905|           WN|      236| N708SA|             61.0|          70.0|   49.0|     4.0|    13.0|   BWI|  Baltimore, MD| ALB|     Albany, NY|     288|   3.0|    9.0|        0|               N|       0|        null|        null|    null|         null|             null|\n",
            "|2008|    1|         5|        6| 1359.0|      1340| 1506.0|      1450|           WN|      323| N723SW|             67.0|          70.0|   53.0|    16.0|    19.0|   BWI|  Baltimore, MD| ALB|     Albany, NY|     288|   3.0|   11.0|        0|               N|       0|         6.0|         0.0|     0.0|          0.0|             10.0|\n",
            "|2008|    1|         5|        6| 1433.0|      1420| 1700.0|      1710|           WN|      160| N264LV|            207.0|         230.0|  196.0|   -10.0|    13.0|   BWI|  Baltimore, MD| AUS|     Austin, TX|    1342|   4.0|    7.0|        0|               N|       0|        null|        null|    null|         null|             null|\n",
            "|2008|    1|         5|        6| 1814.0|      1805| 1910.0|      1915|           WN|      623| N624SW|            116.0|         130.0|  105.0|    -5.0|     9.0|   BWI|  Baltimore, MD| BHM| Birmingham, AL|     682|   4.0|    7.0|        0|               N|       0|        null|        null|    null|         null|             null|\n",
            "+----+-----+----------+---------+-------+----------+-------+----------+-------------+---------+-------+-----------------+--------------+-------+--------+--------+------+---------------+----+---------------+--------+------+-------+---------+----------------+--------+------------+------------+--------+-------------+-----------------+\n",
            "only showing top 20 rows\n",
            "\n",
            "--- 1.9353771209716797 seconds ---\n"
          ]
        }
      ],
      "source": [
        "# This first query simply joins our new lookup data to our delayed fligts table\n",
        "# By default Spark does a broadcast join when the Join table is < 10MB.  This is configurable\n",
        "# but since our table is VERY small, it will auto-broadcast. \n",
        "\n",
        "start_time = time.time()\n",
        "\n",
        "spark.sql(\"\"\"\n",
        "select a.Year,\n",
        "a.Month,\n",
        "a.DayofMonth,\n",
        "a.DayOfWeek,\n",
        "a.DepTime,\n",
        "a.CRSDepTime,\n",
        "a.ArrTime,\n",
        "a.CRSArrTime,\n",
        "a.UniqueCarrier,\n",
        "a.FlightNum,\n",
        "a.TailNum,\n",
        "a.ActualElapsedTime,\n",
        "a.CRSElapsedTime,\n",
        "a.AirTime,\n",
        "a.ArrDelay,\n",
        "a.DepDelay,\n",
        "a.Origin,\n",
        "b.City as Origin_City,\n",
        "a.Dest,\n",
        "c.City as Dest_City,\n",
        "a.Distance,\n",
        "a.TaxiIn,\n",
        "a.TaxiOut,\n",
        "a.Cancelled,\n",
        "a.CancellationCode,\n",
        "a.Diverted,\n",
        "a.CarrierDelay,\n",
        "a.WeatherDelay,\n",
        "a.NASDelay,\n",
        "a.SecurityDelay,\n",
        "a.LateAircraftDelay from delayed a \n",
        "  inner join lookup b\n",
        "    on a.Origin=b.airportCode\n",
        "  inner join lookup c\n",
        "    on a.Dest=c.airportCode\n",
        "\"\"\").show()\n",
        "\n",
        "print(\"--- %s seconds ---\" % (time.time() - start_time))"
      ]
    },
    {
      "cell_type": "code",
      "execution_count": 10,
      "metadata": {
        "colab": {
          "base_uri": "https://localhost:8080/"
        },
        "id": "EgJRNc8h_bHI",
        "outputId": "216b0d7a-c4bb-44c5-cfa0-4854426d8d0d"
      },
      "outputs": [
        {
          "name": "stdout",
          "output_type": "stream",
          "text": [
            "+----+-----+----------+---------+-------+----------+-------+----------+-------------+---------+-------+-----------------+--------------+-------+--------+--------+------+---------------+----+---------------+--------+------+-------+---------+----------------+--------+------------+------------+--------+-------------+-----------------+\n",
            "|Year|Month|DayofMonth|DayOfWeek|DepTime|CRSDepTime|ArrTime|CRSArrTime|UniqueCarrier|FlightNum|TailNum|ActualElapsedTime|CRSElapsedTime|AirTime|ArrDelay|DepDelay|Origin|    Origin_City|Dest|       Dep_City|Distance|TaxiIn|TaxiOut|Cancelled|CancellationCode|Diverted|CarrierDelay|WeatherDelay|NASDelay|SecurityDelay|LateAircraftDelay|\n",
            "+----+-----+----------+---------+-------+----------+-------+----------+-------------+---------+-------+-----------------+--------------+-------+--------+--------+------+---------------+----+---------------+--------+------+-------+---------+----------------+--------+------------+------------+--------+-------------+-----------------+\n",
            "|2008|    1|         4|        5| 2003.0|      1845| 2207.0|      2040|           WN|      746| N667SW|             64.0|          55.0|   44.0|    87.0|    78.0|   ABQ|Albuquerque, NM| AMA|   Amarillo, TX|     277|   5.0|   15.0|        0|               N|       0|         0.0|         0.0|     9.0|          0.0|             78.0|\n",
            "|2008|    1|         4|        5| 1332.0|      1325| 1437.0|      1440|           WN|      182| N313SW|             65.0|          75.0|   54.0|    -3.0|     7.0|   ALB|     Albany, NY| BWI|  Baltimore, MD|     288|   3.0|    8.0|        0|               N|       0|        null|        null|    null|         null|             null|\n",
            "|2008|    1|         4|        5| 1020.0|      1005| 1128.0|      1120|           WN|      733| N650SW|             68.0|          75.0|   58.0|     8.0|    15.0|   ALB|     Albany, NY| BWI|  Baltimore, MD|     288|   3.0|    7.0|        0|               N|       0|        null|        null|    null|         null|             null|\n",
            "|2008|    1|         4|        5| 1831.0|      1820| 1941.0|      1935|           WN|     1861| N783SW|             70.0|          75.0|   57.0|     6.0|    11.0|   ALB|     Albany, NY| BWI|  Baltimore, MD|     288|   3.0|   10.0|        0|               N|       0|        null|        null|    null|         null|             null|\n",
            "|2008|    1|         4|        5| 1758.0|      1750| 2051.0|      2040|           WN|     2036| N660SW|            113.0|         110.0|  100.0|    11.0|     8.0|   BHM| Birmingham, AL| BWI|  Baltimore, MD|     682|   3.0|   10.0|        0|               N|       0|        null|        null|    null|         null|             null|\n",
            "|2008|    1|         4|        5|  836.0|       830|  943.0|       940|           WN|      922| N650SW|             67.0|          70.0|   55.0|     3.0|     6.0|   BWI|  Baltimore, MD| ALB|     Albany, NY|     288|   2.0|   10.0|        0|               N|       0|        null|        null|    null|         null|             null|\n",
            "|2008|    1|         4|        5| 1652.0|      1645| 1755.0|      1755|           WN|     1774| N783SW|             63.0|          70.0|   51.0|     0.0|     7.0|   BWI|  Baltimore, MD| ALB|     Albany, NY|     288|   5.0|    7.0|        0|               N|       0|        null|        null|    null|         null|             null|\n",
            "|2008|    1|         4|        5| 1035.0|      1025| 1143.0|      1135|           WN|     3569| N276WN|             68.0|          70.0|   53.0|     8.0|    10.0|   BWI|  Baltimore, MD| ALB|     Albany, NY|     288|   5.0|   10.0|        0|               N|       0|        null|        null|    null|         null|             null|\n",
            "|2008|    1|         4|        5| 1828.0|      1805| 1917.0|      1915|           WN|      623| N757LV|            109.0|         130.0|   97.0|     2.0|    23.0|   BWI|  Baltimore, MD| BHM| Birmingham, AL|     682|   3.0|    9.0|        0|               N|       0|        null|        null|    null|         null|             null|\n",
            "|2008|    1|         4|        5| 1317.0|      1310| 1401.0|      1420|           WN|     1857| N280WN|            104.0|         130.0|   95.0|   -19.0|     7.0|   BWI|  Baltimore, MD| BHM| Birmingham, AL|     682|   2.0|    7.0|        0|               N|       0|        null|        null|    null|         null|             null|\n",
            "|2008|    1|         5|        6| 2001.0|      1845| 2150.0|      2040|           WN|      746| N412WN|             49.0|          55.0|   39.0|    70.0|    76.0|   ABQ|Albuquerque, NM| AMA|   Amarillo, TX|     277|   4.0|    6.0|        0|               N|       0|         3.0|         0.0|     0.0|          0.0|             67.0|\n",
            "|2008|    1|         5|        6| 1124.0|      1005| 1227.0|      1120|           WN|      733| N794SW|             63.0|          75.0|   50.0|    67.0|    79.0|   ALB|     Albany, NY| BWI|  Baltimore, MD|     288|   3.0|   10.0|        0|               N|       0|        67.0|         0.0|     0.0|          0.0|              0.0|\n",
            "|2008|    1|         5|        6| 1544.0|      1515| 1654.0|      1630|           WN|     3046| N723SW|             70.0|          75.0|   56.0|    24.0|    29.0|   ALB|     Albany, NY| BWI|  Baltimore, MD|     288|   4.0|   10.0|        0|               N|       0|        11.0|         0.0|     0.0|          0.0|             13.0|\n",
            "|2008|    1|         5|        6| 1426.0|      1415| 1832.0|      1815|           WN|     1001| N366SW|            186.0|         180.0|  164.0|    17.0|    11.0|   AUS|     Austin, TX| BWI|  Baltimore, MD|    1342|   4.0|   18.0|        0|               N|       0|         0.0|         0.0|     6.0|          0.0|             11.0|\n",
            "|2008|    1|         5|        6| 1806.0|      1750| 2047.0|      2040|           WN|     2036| N614SW|            101.0|         110.0|   88.0|     7.0|    16.0|   BHM| Birmingham, AL| BWI|  Baltimore, MD|     682|   3.0|   10.0|        0|               N|       0|        null|        null|    null|         null|             null|\n",
            "|2008|    1|         5|        6| 1508.0|      1425| 1719.0|      1655|           WN|      644| N737JW|            251.0|         270.0|  237.0|    24.0|    43.0|   BWI|  Baltimore, MD| ABQ|Albuquerque, NM|    1670|   5.0|    9.0|        0|               N|       0|         8.0|         0.0|     0.0|          0.0|             16.0|\n",
            "|2008|    1|         5|        6| 1808.0|      1755| 1909.0|      1905|           WN|      236| N708SA|             61.0|          70.0|   49.0|     4.0|    13.0|   BWI|  Baltimore, MD| ALB|     Albany, NY|     288|   3.0|    9.0|        0|               N|       0|        null|        null|    null|         null|             null|\n",
            "|2008|    1|         5|        6| 1359.0|      1340| 1506.0|      1450|           WN|      323| N723SW|             67.0|          70.0|   53.0|    16.0|    19.0|   BWI|  Baltimore, MD| ALB|     Albany, NY|     288|   3.0|   11.0|        0|               N|       0|         6.0|         0.0|     0.0|          0.0|             10.0|\n",
            "|2008|    1|         5|        6| 1433.0|      1420| 1700.0|      1710|           WN|      160| N264LV|            207.0|         230.0|  196.0|   -10.0|    13.0|   BWI|  Baltimore, MD| AUS|     Austin, TX|    1342|   4.0|    7.0|        0|               N|       0|        null|        null|    null|         null|             null|\n",
            "|2008|    1|         5|        6| 1814.0|      1805| 1910.0|      1915|           WN|      623| N624SW|            116.0|         130.0|  105.0|    -5.0|     9.0|   BWI|  Baltimore, MD| BHM| Birmingham, AL|     682|   4.0|    7.0|        0|               N|       0|        null|        null|    null|         null|             null|\n",
            "+----+-----+----------+---------+-------+----------+-------+----------+-------------+---------+-------+-----------------+--------------+-------+--------+--------+------+---------------+----+---------------+--------+------+-------+---------+----------------+--------+------------+------------+--------+-------------+-----------------+\n",
            "only showing top 20 rows\n",
            "\n",
            "--- 0.7457966804504395 seconds ---\n"
          ]
        }
      ],
      "source": [
        "# Here we have added the hint to Broadcast the lookup table.  \n",
        "start_time = time.time()\n",
        "\n",
        "spark.sql(\"\"\"\n",
        "select /*+ BROADCAST(lookup) */ \n",
        "a.Year,\n",
        "a.Month,\n",
        "a.DayofMonth,\n",
        "a.DayOfWeek,\n",
        "a.DepTime,\n",
        "a.CRSDepTime,\n",
        "a.ArrTime,\n",
        "a.CRSArrTime,\n",
        "a.UniqueCarrier,\n",
        "a.FlightNum,\n",
        "a.TailNum,\n",
        "a.ActualElapsedTime,\n",
        "a.CRSElapsedTime,\n",
        "a.AirTime,\n",
        "a.ArrDelay,\n",
        "a.DepDelay,\n",
        "a.Origin,\n",
        "b.City as Origin_City,\n",
        "a.Dest,\n",
        "c.City as Dep_City,\n",
        "a.Distance,\n",
        "a.TaxiIn,\n",
        "a.TaxiOut,\n",
        "a.Cancelled,\n",
        "a.CancellationCode,\n",
        "a.Diverted,\n",
        "a.CarrierDelay,\n",
        "a.WeatherDelay,\n",
        "a.NASDelay,\n",
        "a.SecurityDelay,\n",
        "a.LateAircraftDelay from  delayed a \n",
        "  inner join lookup b\n",
        "    on a.Origin=b.airportCode\n",
        "  inner join lookup c\n",
        "    on a.Dest=c.airportCode\n",
        "\"\"\").show()\n",
        "\n",
        "print(\"--- %s seconds ---\" % (time.time() - start_time))"
      ]
    },
    {
      "cell_type": "code",
      "execution_count": 11,
      "metadata": {
        "colab": {
          "base_uri": "https://localhost:8080/"
        },
        "id": "fhgb2iFihRbW",
        "outputId": "154603e5-6efa-404f-83c7-51c1a64983f9"
      },
      "outputs": [
        {
          "name": "stdout",
          "output_type": "stream",
          "text": [
            "+-----------------+------------------+\n",
            "|      Origin_City|          avgDelay|\n",
            "+-----------------+------------------+\n",
            "|  Albuquerque, NM| 34.16695059625213|\n",
            "|       Austin, TX| 44.39871382636656|\n",
            "|     Amarillo, TX| 42.94736842105263|\n",
            "|  Baton Rouge, LA| 63.06401137980085|\n",
            "|    Allentown, PA|            50.192|\n",
            "|    Asheville, NC| 58.58413461538461|\n",
            "|  Bloomington, IL| 50.65745007680491|\n",
            "|    Anchorage, AK| 36.90522875816993|\n",
            "|    Baltimore, MD| 41.57686980609418|\n",
            "|      Atlanta, GA| 41.65309675814609|\n",
            "|       Bangor, ME| 53.30357142857143|\n",
            "|      Augusta, GA|61.791666666666664|\n",
            "|       Albany, GA|50.907534246575345|\n",
            "|      Bozeman, MT| 44.65217391304348|\n",
            "|        Aspen, CO|              52.8|\n",
            "|       Albany, NY| 43.70686070686071|\n",
            "|       Boston, MA| 50.85264194289465|\n",
            "|        Akron, OH|53.393058918482645|\n",
            "|Atlantic City, NJ| 64.64285714285714|\n",
            "|   Birmingham, AL|46.458149779735685|\n",
            "+-----------------+------------------+\n",
            "only showing top 20 rows\n",
            "\n",
            "--- 7.504305124282837 seconds ---\n"
          ]
        }
      ],
      "source": [
        "# In this sql query we are trying to give the cluster some work to do.  \n",
        "# We are creating a CTE that joins the 2 tables together and then does some aggregations by averaging the delays\n",
        "\n",
        "start_time = time.time()\n",
        "\n",
        "spark.sql(\"\"\"\n",
        "with allColumns\n",
        "(select /*+ BROADCAST(lookup) */ \n",
        "a.Year,\n",
        "a.Month,\n",
        "a.DayofMonth,\n",
        "a.DayOfWeek,\n",
        "a.DepTime,\n",
        "a.CRSDepTime,\n",
        "a.ArrTime,\n",
        "a.CRSArrTime,\n",
        "a.UniqueCarrier,\n",
        "a.FlightNum,\n",
        "a.TailNum,\n",
        "a.ActualElapsedTime,\n",
        "a.CRSElapsedTime,\n",
        "a.AirTime,\n",
        "a.ArrDelay,\n",
        "a.DepDelay,\n",
        "a.Origin,\n",
        "b.City as Origin_City,\n",
        "a.Dest,\n",
        "c.City as Dep_City,\n",
        "a.Distance,\n",
        "a.TaxiIn,\n",
        "a.TaxiOut,\n",
        "a.Cancelled,\n",
        "a.CancellationCode,\n",
        "a.Diverted,\n",
        "a.CarrierDelay,\n",
        "a.WeatherDelay,\n",
        "a.NASDelay,\n",
        "a.SecurityDelay,\n",
        "a.LateAircraftDelay from  delayed a \n",
        "  inner join lookup b\n",
        "    on a.Origin=b.airportCode\n",
        "  inner join lookup c\n",
        "    on a.Dest=c.airportCode\n",
        ")\n",
        "select Origin_City, avg(ArrDelay) avgDelay from allColumns group by 1\n",
        "\"\"\").show()\n",
        "\n",
        "print(\"--- %s seconds ---\" % (time.time() - start_time))"
      ]
    },
    {
      "cell_type": "code",
      "execution_count": 12,
      "metadata": {
        "colab": {
          "base_uri": "https://localhost:8080/"
        },
        "id": "mPR_2uq0vdyt",
        "outputId": "8f57c3f2-e7d3-4ccc-a821-3d304d67d830"
      },
      "outputs": [
        {
          "data": {
            "text/plain": [
              "DataFrame[]"
            ]
          },
          "execution_count": 12,
          "metadata": {},
          "output_type": "execute_result"
        }
      ],
      "source": [
        "# Next, we are use SparkSQL to cache our table\n",
        "# Note: when we use SparkSQL to cache a table, the table is immediately cached (no lazy evaluation), when using Pyspark it will not be cached until an action is ran.\n",
        "spark.sql(\"cache table delayed\")"
      ]
    },
    {
      "cell_type": "code",
      "execution_count": 13,
      "metadata": {
        "colab": {
          "base_uri": "https://localhost:8080/"
        },
        "id": "eodqtIHByC2J",
        "outputId": "72656ee7-6fab-444a-8160-c499c5d914f1"
      },
      "outputs": [
        {
          "data": {
            "text/plain": [
              "True"
            ]
          },
          "execution_count": 13,
          "metadata": {},
          "output_type": "execute_result"
        }
      ],
      "source": [
        "# This command checks that our table is cached\n",
        "# It will return True if it is cached.\n",
        "spark.catalog.isCached(\"delayed\")"
      ]
    },
    {
      "cell_type": "code",
      "execution_count": 14,
      "metadata": {
        "colab": {
          "base_uri": "https://localhost:8080/"
        },
        "id": "fkSFfoBYwgSI",
        "outputId": "20dd8427-5d77-40c7-9e61-75afd93353f3"
      },
      "outputs": [
        {
          "name": "stdout",
          "output_type": "stream",
          "text": [
            "+-----------------+------------------+\n",
            "|      Origin_City|          avgDelay|\n",
            "+-----------------+------------------+\n",
            "|  Albuquerque, NM| 34.16695059625213|\n",
            "|       Austin, TX| 44.39871382636656|\n",
            "|     Amarillo, TX| 42.94736842105263|\n",
            "|  Baton Rouge, LA| 63.06401137980085|\n",
            "|    Allentown, PA|            50.192|\n",
            "|    Asheville, NC| 58.58413461538461|\n",
            "|  Bloomington, IL| 50.65745007680491|\n",
            "|    Anchorage, AK| 36.90522875816993|\n",
            "|    Baltimore, MD| 41.57686980609418|\n",
            "|      Atlanta, GA| 41.65309675814609|\n",
            "|       Bangor, ME| 53.30357142857143|\n",
            "|      Augusta, GA|61.791666666666664|\n",
            "|       Albany, GA|50.907534246575345|\n",
            "|      Bozeman, MT| 44.65217391304348|\n",
            "|        Aspen, CO|              52.8|\n",
            "|       Albany, NY| 43.70686070686071|\n",
            "|       Boston, MA| 50.85264194289465|\n",
            "|        Akron, OH|53.393058918482645|\n",
            "|Atlantic City, NJ| 64.64285714285714|\n",
            "|   Birmingham, AL|46.458149779735685|\n",
            "+-----------------+------------------+\n",
            "only showing top 20 rows\n",
            "\n",
            "--- 2.323925256729126 seconds ---\n"
          ]
        }
      ],
      "source": [
        "# Running the same query with the data cached, should greatly improve the run time.\n",
        "\n",
        "start_time = time.time()\n",
        "\n",
        "spark.sql(\"\"\"\n",
        "with allColumns\n",
        "(select /*+ BROADCAST(lookup) */ \n",
        "a.Year,\n",
        "a.Month,\n",
        "a.DayofMonth,\n",
        "a.DayOfWeek,\n",
        "a.DepTime,\n",
        "a.CRSDepTime,\n",
        "a.ArrTime,\n",
        "a.CRSArrTime,\n",
        "a.UniqueCarrier,\n",
        "a.FlightNum,\n",
        "a.TailNum,\n",
        "a.ActualElapsedTime,\n",
        "a.CRSElapsedTime,\n",
        "a.AirTime,\n",
        "a.ArrDelay,\n",
        "a.DepDelay,\n",
        "a.Origin,\n",
        "b.City as Origin_City,\n",
        "a.Dest,\n",
        "c.City as Dep_City,\n",
        "a.Distance,\n",
        "a.TaxiIn,\n",
        "a.TaxiOut,\n",
        "a.Cancelled,\n",
        "a.CancellationCode,\n",
        "a.Diverted,\n",
        "a.CarrierDelay,\n",
        "a.WeatherDelay,\n",
        "a.NASDelay,\n",
        "a.SecurityDelay,\n",
        "a.LateAircraftDelay from  delayed a \n",
        "  inner join lookup b\n",
        "    on a.Origin=b.airportCode\n",
        "  inner join lookup c\n",
        "    on a.Dest=c.airportCode\n",
        ")\n",
        "select Origin_City, avg(ArrDelay) avgDelay from allColumns group by 1\"\"\").show()\n",
        "\n",
        "print(\"--- %s seconds ---\" % (time.time() - start_time))\n"
      ]
    },
    {
      "cell_type": "code",
      "execution_count": 15,
      "metadata": {
        "colab": {
          "base_uri": "https://localhost:8080/"
        },
        "id": "3P82CRVDxk7s",
        "outputId": "a272a865-ac04-40fd-cfad-1d212343a017"
      },
      "outputs": [
        {
          "data": {
            "text/plain": [
              "DataFrame[]"
            ]
          },
          "execution_count": 15,
          "metadata": {},
          "output_type": "execute_result"
        }
      ],
      "source": [
        "# Remember to uncache the table as soon as you are done.\n",
        "spark.sql(\"uncache table delayed\")"
      ]
    },
    {
      "cell_type": "code",
      "execution_count": 16,
      "metadata": {
        "colab": {
          "base_uri": "https://localhost:8080/"
        },
        "id": "aHEPdkk_x0Ep",
        "outputId": "fd2e0105-6dba-4125-94a3-968879ca4adc"
      },
      "outputs": [
        {
          "data": {
            "text/plain": [
              "False"
            ]
          },
          "execution_count": 16,
          "metadata": {},
          "output_type": "execute_result"
        }
      ],
      "source": [
        "#Verify that the table is no longer cached\n",
        "spark.catalog.isCached(\"delayed\")"
      ]
    },
    {
      "cell_type": "code",
      "execution_count": 16,
      "metadata": {
        "id": "3XLLlG2kx4s3"
      },
      "outputs": [],
      "source": []
    }
  ],
  "metadata": {
    "colab": {
      "collapsed_sections": [],
      "name": "Copy of Cache_Broadcast.ipynb",
      "provenance": []
    },
    "kernelspec": {
      "display_name": "Python 3",
      "name": "python3"
    },
    "language_info": {
      "name": "python"
    }
  },
  "nbformat": 4,
  "nbformat_minor": 0
}
