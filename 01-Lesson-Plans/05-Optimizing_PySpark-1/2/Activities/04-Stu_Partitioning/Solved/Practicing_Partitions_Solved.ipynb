{
  "cells": [
    {
      "cell_type": "code",
      "execution_count": 1,
      "metadata": {
        "colab": {
          "base_uri": "https://localhost:8080/"
        },
        "id": "w1m9uEbLTfhq",
        "outputId": "9f64db53-e961-4c38-9705-8921d895d682"
      },
      "outputs": [
        {
          "name": "stdout",
          "output_type": "stream",
          "text": [
            "\r0% [Working]\r            \rGet:1 https://cloud.r-project.org/bin/linux/ubuntu bionic-cran40/ InRelease [3,626 B]\n",
            "Hit:2 https://developer.download.nvidia.com/compute/cuda/repos/ubuntu1804/x86_64  InRelease\n",
            "Get:3 http://security.ubuntu.com/ubuntu bionic-security InRelease [88.7 kB]\n",
            "Ign:4 https://developer.download.nvidia.com/compute/machine-learning/repos/ubuntu1804/x86_64  InRelease\n",
            "Hit:5 http://archive.ubuntu.com/ubuntu bionic InRelease\n",
            "Hit:6 http://ppa.launchpad.net/c2d4u.team/c2d4u4.0+/ubuntu bionic InRelease\n",
            "Hit:7 https://developer.download.nvidia.com/compute/machine-learning/repos/ubuntu1804/x86_64  Release\n",
            "Get:8 http://archive.ubuntu.com/ubuntu bionic-updates InRelease [88.7 kB]\n",
            "Hit:9 http://ppa.launchpad.net/cran/libgit2/ubuntu bionic InRelease\n",
            "Hit:11 http://ppa.launchpad.net/deadsnakes/ppa/ubuntu bionic InRelease\n",
            "Get:12 http://archive.ubuntu.com/ubuntu bionic-backports InRelease [74.6 kB]\n",
            "Get:13 http://security.ubuntu.com/ubuntu bionic-security/restricted amd64 Packages [1,006 kB]\n",
            "Hit:14 http://ppa.launchpad.net/graphics-drivers/ppa/ubuntu bionic InRelease\n",
            "Get:15 http://archive.ubuntu.com/ubuntu bionic-updates/restricted amd64 Packages [1,047 kB]\n",
            "Get:16 http://security.ubuntu.com/ubuntu bionic-security/universe amd64 Packages [1,521 kB]\n",
            "Get:17 http://security.ubuntu.com/ubuntu bionic-security/multiverse amd64 Packages [22.8 kB]\n",
            "Get:18 http://security.ubuntu.com/ubuntu bionic-security/main amd64 Packages [2,861 kB]\n",
            "Get:19 http://archive.ubuntu.com/ubuntu bionic-updates/main amd64 Packages [3,298 kB]\n",
            "Get:20 http://archive.ubuntu.com/ubuntu bionic-updates/universe amd64 Packages [2,297 kB]\n",
            "Get:21 http://archive.ubuntu.com/ubuntu bionic-updates/multiverse amd64 Packages [29.8 kB]\n",
            "Get:22 http://archive.ubuntu.com/ubuntu bionic-backports/main amd64 Packages [12.2 kB]\n",
            "Fetched 12.4 MB in 5s (2,712 kB/s)\n",
            "Reading package lists... Done\n"
          ]
        }
      ],
      "source": [
        "# Activate Spark in our Colab notebook.\n",
        "import os\n",
        "# Find the latest version of spark 3.0  from http://www.apache.org/dist/spark/ and enter as the spark version\n",
        "# For example: 'spark-3.2.2'\n",
        "spark_version = 'spark-3.2.2'\n",
        "# spark_version = 'spark-3.<enter version>'\n",
        "os.environ['SPARK_VERSION']=spark_version\n",
        "\n",
        "# Install Spark and Java\n",
        "!apt-get update\n",
        "!apt-get install openjdk-11-jdk-headless -qq > /dev/null\n",
        "!wget -q http://www.apache.org/dist/spark/$SPARK_VERSION/$SPARK_VERSION-bin-hadoop3.2.tgz\n",
        "!tar xf $SPARK_VERSION-bin-hadoop3.2.tgz\n",
        "!pip install -q findspark\n",
        "\n",
        "# Set Environment Variables\n",
        "os.environ[\"JAVA_HOME\"] = \"/usr/lib/jvm/java-11-openjdk-amd64\"\n",
        "os.environ[\"SPARK_HOME\"] = f\"/content/{spark_version}-bin-hadoop3.2\"\n",
        "\n",
        "# Start a SparkSession\n",
        "import findspark\n",
        "findspark.init()"
      ]
    },
    {
      "cell_type": "code",
      "execution_count": 2,
      "metadata": {
        "id": "wdpzXrYLTgcq"
      },
      "outputs": [],
      "source": [
        "# Import packages\n",
        "from pyspark.sql import SparkSession\n",
        "import time\n",
        "\n",
        "# Create a SparkSession\n",
        "spark = SparkSession.builder.appName(\"SparkSQL\").getOrCreate()"
      ]
    },
    {
      "cell_type": "code",
      "execution_count": 3,
      "metadata": {
        "colab": {
          "base_uri": "https://localhost:8080/"
        },
        "id": "SyGdKF4mTguN",
        "outputId": "f7cb05ec-19b3-4215-8283-5b770230f08e"
      },
      "outputs": [
        {
          "name": "stdout",
          "output_type": "stream",
          "text": [
            "+---+----+-----+----------+---------+-------+----------+-------+----------+-------------+---------+-------+-----------------+--------------+-------+--------+--------+------+----+--------+------+-------+---------+----------------+--------+------------+------------+--------+-------------+-----------------+\n",
            "|_c0|Year|Month|DayofMonth|DayOfWeek|DepTime|CRSDepTime|ArrTime|CRSArrTime|UniqueCarrier|FlightNum|TailNum|ActualElapsedTime|CRSElapsedTime|AirTime|ArrDelay|DepDelay|Origin|Dest|Distance|TaxiIn|TaxiOut|Cancelled|CancellationCode|Diverted|CarrierDelay|WeatherDelay|NASDelay|SecurityDelay|LateAircraftDelay|\n",
            "+---+----+-----+----------+---------+-------+----------+-------+----------+-------------+---------+-------+-----------------+--------------+-------+--------+--------+------+----+--------+------+-------+---------+----------------+--------+------------+------------+--------+-------------+-----------------+\n",
            "|  0|2008|    1|         3|        4| 2003.0|      1955| 2211.0|      2225|           WN|      335| N712SW|            128.0|         150.0|  116.0|   -14.0|     8.0|   IAD| TPA|     810|   4.0|    8.0|        0|               N|       0|        null|        null|    null|         null|             null|\n",
            "|  1|2008|    1|         3|        4|  754.0|       735| 1002.0|      1000|           WN|     3231| N772SW|            128.0|         145.0|  113.0|     2.0|    19.0|   IAD| TPA|     810|   5.0|   10.0|        0|               N|       0|        null|        null|    null|         null|             null|\n",
            "|  2|2008|    1|         3|        4|  628.0|       620|  804.0|       750|           WN|      448| N428WN|             96.0|          90.0|   76.0|    14.0|     8.0|   IND| BWI|     515|   3.0|   17.0|        0|               N|       0|        null|        null|    null|         null|             null|\n",
            "|  4|2008|    1|         3|        4| 1829.0|      1755| 1959.0|      1925|           WN|     3920| N464WN|             90.0|          90.0|   77.0|    34.0|    34.0|   IND| BWI|     515|   3.0|   10.0|        0|               N|       0|         2.0|         0.0|     0.0|          0.0|             32.0|\n",
            "|  5|2008|    1|         3|        4| 1940.0|      1915| 2121.0|      2110|           WN|      378| N726SW|            101.0|         115.0|   87.0|    11.0|    25.0|   IND| JAX|     688|   4.0|   10.0|        0|               N|       0|        null|        null|    null|         null|             null|\n",
            "|  6|2008|    1|         3|        4| 1937.0|      1830| 2037.0|      1940|           WN|      509| N763SW|            240.0|         250.0|  230.0|    57.0|    67.0|   IND| LAS|    1591|   3.0|    7.0|        0|               N|       0|        10.0|         0.0|     0.0|          0.0|             47.0|\n",
            "| 10|2008|    1|         3|        4|  706.0|       700|  916.0|       915|           WN|      100| N690SW|            130.0|         135.0|  106.0|     1.0|     6.0|   IND| MCO|     828|   5.0|   19.0|        0|               N|       0|        null|        null|    null|         null|             null|\n",
            "| 11|2008|    1|         3|        4| 1644.0|      1510| 1845.0|      1725|           WN|     1333| N334SW|            121.0|         135.0|  107.0|    80.0|    94.0|   IND| MCO|     828|   6.0|    8.0|        0|               N|       0|         8.0|         0.0|     0.0|          0.0|             72.0|\n",
            "| 15|2008|    1|         3|        4| 1029.0|      1020| 1021.0|      1010|           WN|     2272| N263WN|             52.0|          50.0|   37.0|    11.0|     9.0|   IND| MDW|     162|   6.0|    9.0|        0|               N|       0|        null|        null|    null|         null|             null|\n",
            "| 16|2008|    1|         3|        4| 1452.0|      1425| 1640.0|      1625|           WN|      675| N286WN|            228.0|         240.0|  213.0|    15.0|    27.0|   IND| PHX|    1489|   7.0|    8.0|        0|               N|       0|         3.0|         0.0|     0.0|          0.0|             12.0|\n",
            "| 17|2008|    1|         3|        4|  754.0|       745|  940.0|       955|           WN|     1144| N778SW|            226.0|         250.0|  205.0|   -15.0|     9.0|   IND| PHX|    1489|   5.0|   16.0|        0|               N|       0|        null|        null|    null|         null|             null|\n",
            "| 18|2008|    1|         3|        4| 1323.0|      1255| 1526.0|      1510|           WN|        4| N674AA|            123.0|         135.0|  110.0|    16.0|    28.0|   IND| TPA|     838|   4.0|    9.0|        0|               N|       0|         0.0|         0.0|     0.0|          0.0|             16.0|\n",
            "| 19|2008|    1|         3|        4| 1416.0|      1325| 1512.0|      1435|           WN|       54| N643SW|             56.0|          70.0|   49.0|    37.0|    51.0|   ISP| BWI|     220|   2.0|    5.0|        0|               N|       0|        12.0|         0.0|     0.0|          0.0|             25.0|\n",
            "| 21|2008|    1|         3|        4| 1657.0|      1625| 1754.0|      1735|           WN|      623| N724SW|             57.0|          70.0|   47.0|    19.0|    32.0|   ISP| BWI|     220|   5.0|    5.0|        0|               N|       0|         7.0|         0.0|     0.0|          0.0|             12.0|\n",
            "| 22|2008|    1|         3|        4| 1900.0|      1840| 1956.0|      1950|           WN|      717| N786SW|             56.0|          70.0|   49.0|     6.0|    20.0|   ISP| BWI|     220|   2.0|    5.0|        0|               N|       0|        null|        null|    null|         null|             null|\n",
            "| 23|2008|    1|         3|        4| 1039.0|      1030| 1133.0|      1140|           WN|     1244| N714CB|             54.0|          70.0|   47.0|    -7.0|     9.0|   ISP| BWI|     220|   2.0|    5.0|        0|               N|       0|        null|        null|    null|         null|             null|\n",
            "| 25|2008|    1|         3|        4| 1520.0|      1455| 1619.0|      1605|           WN|     2553| N394SW|             59.0|          70.0|   50.0|    14.0|    25.0|   ISP| BWI|     220|   2.0|    7.0|        0|               N|       0|        null|        null|    null|         null|             null|\n",
            "| 26|2008|    1|         3|        4| 1422.0|      1255| 1657.0|      1610|           WN|      188| N215WN|            155.0|         195.0|  143.0|    47.0|    87.0|   ISP| FLL|    1093|   6.0|    6.0|        0|               N|       0|        40.0|         0.0|     0.0|          0.0|              7.0|\n",
            "| 27|2008|    1|         3|        4| 1954.0|      1925| 2239.0|      2235|           WN|     1754| N243WN|            165.0|         190.0|  155.0|     4.0|    29.0|   ISP| FLL|    1093|   3.0|    7.0|        0|               N|       0|        null|        null|    null|         null|             null|\n",
            "| 30|2008|    1|         3|        4| 2107.0|      1945| 2334.0|      2230|           WN|      362| N798SW|            147.0|         165.0|  134.0|    64.0|    82.0|   ISP| MCO|     972|   6.0|    7.0|        0|               N|       0|         5.0|         0.0|     0.0|          0.0|             59.0|\n",
            "+---+----+-----+----------+---------+-------+----------+-------+----------+-------------+---------+-------+-----------------+--------------+-------+--------+--------+------+----+--------+------+-------+---------+----------------+--------+------------+------------+--------+-------------+-----------------+\n",
            "only showing top 20 rows\n",
            "\n"
          ]
        }
      ],
      "source": [
        "# Read in data from S3 Bucket\n",
        "from pyspark import SparkFiles\n",
        "url = \"https://2u-data-curriculum-team.s3.amazonaws.com/nflx-data-science-adv/week-5/DelayedFlights.csv\"\n",
        "spark.sparkContext.addFile(url)\n",
        "df = spark.read.csv(SparkFiles.get(\"DelayedFlights.csv\"), sep=\",\", header=True)\n",
        "df.show()\n"
      ]
    },
    {
      "cell_type": "code",
      "execution_count": 4,
      "metadata": {
        "colab": {
          "base_uri": "https://localhost:8080/"
        },
        "id": "daHsHUbSTzaj",
        "outputId": "6a846ad7-d0e3-4eb2-b9a1-0fbc9bb9bcd2"
      },
      "outputs": [
        {
          "name": "stdout",
          "output_type": "stream",
          "text": [
            "+------+----+-----------------------------+--------+\n",
            "|Origin|Dest|sum(CAST(Distance AS DOUBLE))|count(1)|\n",
            "+------+----+-----------------------------+--------+\n",
            "|   LAS| LIT|                     147630.0|     114|\n",
            "|   PHL| MCO|                    1841679.0|    2139|\n",
            "|   SMF| BUR|                     297140.0|     830|\n",
            "|   SNA| PHX|                     400868.0|    1186|\n",
            "|   MCI| IAH|                     267488.0|     416|\n",
            "|   BFL| SAN|                       5590.0|      26|\n",
            "|   ROC| CLE|                      78400.0|     320|\n",
            "|   SPI| ORD|                      55158.0|     317|\n",
            "|   ATL| GSP|                     107406.0|     702|\n",
            "|   SFO| PMD|                      67940.0|     215|\n",
            "|   LAX| OXR|                      10241.0|     209|\n",
            "|   ORD| PDX|                    1721610.0|     990|\n",
            "|   PBI| DCA|                     170543.0|     199|\n",
            "|   FSD| ATL|                      56286.0|      59|\n",
            "|   MLI| MCO|                      50764.0|      49|\n",
            "|   MSP| AVL|                      44772.0|      52|\n",
            "|   BQN| MCO|                     112900.0|     100|\n",
            "|   EWR| STT|                     117648.0|      72|\n",
            "|   CLE| SJU|                      16551.0|       9|\n",
            "|   MCI| MKE|                        436.0|       1|\n",
            "+------+----+-----------------------------+--------+\n",
            "only showing top 20 rows\n",
            "\n",
            "--- 7.824085712432861 seconds ---\n"
          ]
        }
      ],
      "source": [
        "#Create temp view named \"delays\"\n",
        "df.createOrReplaceTempView('delays')\n",
        "# Start the runtime\n",
        "start_time = time.time()\n",
        "# Using spark.sql write a query that gives you the total distance and the count of every unique Origin, Dest combination\n",
        "spark.sql(\"\"\"select Origin, Dest ,sum(Distance), count(*) from delays group by 1,2\"\"\").show()\n",
        "# Print out the runtime.\n",
        "print(\"--- %s seconds ---\" % (time.time() - start_time))"
      ]
    },
    {
      "cell_type": "code",
      "execution_count": 5,
      "metadata": {
        "id": "EVQQPzgiUgTg"
      },
      "outputs": [],
      "source": [
        "# Write out the data in parquet format\n",
        "df.write.parquet('parquet_delay_basic',mode='overwrite')"
      ]
    },
    {
      "cell_type": "code",
      "execution_count": 6,
      "metadata": {
        "id": "1fjWZBkMUuIQ"
      },
      "outputs": [],
      "source": [
        "# Read in our new parquet formatted data\n",
        "p_df=spark.read.parquet('parquet_delay_basic')"
      ]
    },
    {
      "cell_type": "code",
      "execution_count": 7,
      "metadata": {
        "id": "O9Vj-1tAVMxZ"
      },
      "outputs": [],
      "source": [
        "# Convert the dataframe to a view.\n",
        "p_df.createOrReplaceTempView('p_delays')"
      ]
    },
    {
      "cell_type": "code",
      "execution_count": 8,
      "metadata": {
        "colab": {
          "base_uri": "https://localhost:8080/"
        },
        "id": "W1upPNu4VFnm",
        "outputId": "057ad222-d456-417a-b289-3fde6ec04229"
      },
      "outputs": [
        {
          "name": "stdout",
          "output_type": "stream",
          "text": [
            "+------+----+-----------------------------+--------+\n",
            "|Origin|Dest|sum(CAST(Distance AS DOUBLE))|count(1)|\n",
            "+------+----+-----------------------------+--------+\n",
            "|   LAS| LIT|                     147630.0|     114|\n",
            "|   PHL| MCO|                    1841679.0|    2139|\n",
            "|   SMF| BUR|                     297140.0|     830|\n",
            "|   SNA| PHX|                     400868.0|    1186|\n",
            "|   MCI| IAH|                     267488.0|     416|\n",
            "|   BFL| SAN|                       5590.0|      26|\n",
            "|   ROC| CLE|                      78400.0|     320|\n",
            "|   SPI| ORD|                      55158.0|     317|\n",
            "|   ATL| GSP|                     107406.0|     702|\n",
            "|   SFO| PMD|                      67940.0|     215|\n",
            "|   LAX| OXR|                      10241.0|     209|\n",
            "|   ORD| PDX|                    1721610.0|     990|\n",
            "|   PBI| DCA|                     170543.0|     199|\n",
            "|   FSD| ATL|                      56286.0|      59|\n",
            "|   MLI| MCO|                      50764.0|      49|\n",
            "|   MSP| AVL|                      44772.0|      52|\n",
            "|   BQN| MCO|                     112900.0|     100|\n",
            "|   EWR| STT|                     117648.0|      72|\n",
            "|   CLE| SJU|                      16551.0|       9|\n",
            "|   MCI| MKE|                        436.0|       1|\n",
            "+------+----+-----------------------------+--------+\n",
            "only showing top 20 rows\n",
            "\n",
            "--- 2.251413345336914 seconds ---\n"
          ]
        }
      ],
      "source": [
        "# Start the runtime\n",
        "start_time = time.time()\n",
        "\n",
        "# Run the same query here\n",
        "\n",
        "spark.sql(\"\"\"select Origin, Dest ,sum(Distance), count(*) from p_delays group by 1,2\"\"\").show()\n",
        "# Print out the runtime\n",
        "print(\"--- %s seconds ---\" % (time.time() - start_time))"
      ]
    },
    {
      "cell_type": "code",
      "execution_count": 9,
      "metadata": {
        "id": "RxtycEtOVQrZ"
      },
      "outputs": [],
      "source": [
        "# Write out your parquet data, partitioning on the Origin column\n",
        "df.write.partitionBy(\"Origin\").mode(\"overwrite\").parquet(\"delayed_partitioned\")"
      ]
    },
    {
      "cell_type": "code",
      "execution_count": 10,
      "metadata": {
        "id": "TMpsNLamXM9N"
      },
      "outputs": [],
      "source": [
        "# Read in our new parquet formatted data\n",
        "p_df_p=spark.read.parquet('delayed_partitioned')"
      ]
    },
    {
      "cell_type": "code",
      "execution_count": 11,
      "metadata": {
        "id": "KX3wglAtWEbI"
      },
      "outputs": [],
      "source": [
        "# Convert the dataframe to a view.\n",
        "p_df_p.createOrReplaceTempView('p_delays_p')"
      ]
    },
    {
      "cell_type": "code",
      "execution_count": 12,
      "metadata": {
        "colab": {
          "base_uri": "https://localhost:8080/"
        },
        "id": "LOR5HfhRVzmG",
        "outputId": "d39a81cb-c213-4dc2-d3a3-0a9b32390d9b"
      },
      "outputs": [
        {
          "name": "stdout",
          "output_type": "stream",
          "text": [
            "+------+----+-----------------------------+--------+\n",
            "|Origin|Dest|sum(CAST(Distance AS DOUBLE))|count(1)|\n",
            "+------+----+-----------------------------+--------+\n",
            "|   ATL| GSP|                     107406.0|     702|\n",
            "|   ORD| PDX|                    1721610.0|     990|\n",
            "|   LAX| OXR|                      10241.0|     209|\n",
            "|   LAS| LIT|                     147630.0|     114|\n",
            "|   EWR| STT|                     117648.0|      72|\n",
            "|   SFO| PMD|                      67940.0|     215|\n",
            "|   MSP| AVL|                      44772.0|      52|\n",
            "|   PHL| MCO|                    1841679.0|    2139|\n",
            "|   CLE| SJU|                      16551.0|       9|\n",
            "|   MCI| MKE|                        436.0|       1|\n",
            "|   MCI| IAH|                     267488.0|     416|\n",
            "|   SMF| BUR|                     297140.0|     830|\n",
            "|   SNA| PHX|                     400868.0|    1186|\n",
            "|   PBI| DCA|                     170543.0|     199|\n",
            "|   ROC| CLE|                      78400.0|     320|\n",
            "|   MLI| MCO|                      50764.0|      49|\n",
            "|   FSD| ATL|                      56286.0|      59|\n",
            "|   BFL| SAN|                       5590.0|      26|\n",
            "|   AVP| JFK|                        113.0|       1|\n",
            "|   SPI| ORD|                      55158.0|     317|\n",
            "+------+----+-----------------------------+--------+\n",
            "only showing top 20 rows\n",
            "\n",
            "--- 4.531711578369141 seconds ---\n"
          ]
        }
      ],
      "source": [
        "# Start the runtime\n",
        "start_time = time.time()\n",
        "\n",
        "# Run your query against your partitioned data one more time.\n",
        "spark.sql(\"\"\"select Origin, Dest ,sum(Distance), count(*) from p_delays_p group by 1,2\"\"\").show()\n",
        "# Print out the runtime\n",
        "print(\"--- %s seconds ---\" % (time.time() - start_time))"
      ]
    },
    {
      "cell_type": "code",
      "execution_count": 13,
      "metadata": {
        "colab": {
          "base_uri": "https://localhost:8080/"
        },
        "id": "w1LbeemvWsRa",
        "outputId": "a9efe10f-32e4-49f0-a8d4-3c91acdc97d4"
      },
      "outputs": [
        {
          "name": "stdout",
          "output_type": "stream",
          "text": [
            "+------+-------+\n",
            "|Origin|TailNum|\n",
            "+------+-------+\n",
            "|   MSY| N712SW|\n",
            "|   RNO| N712SW|\n",
            "|   RDU| N712SW|\n",
            "|   MDW| N712SW|\n",
            "|   IAD| N712SW|\n",
            "|   ABQ| N712SW|\n",
            "|   STL| N712SW|\n",
            "|   MHT| N712SW|\n",
            "|   BUR| N712SW|\n",
            "|   PIT| N712SW|\n",
            "|   MCO| N712SW|\n",
            "|   JAX| N712SW|\n",
            "|   HRL| N712SW|\n",
            "|   TPA| N712SW|\n",
            "|   CMH| N712SW|\n",
            "|   BNA| N712SW|\n",
            "|   IND| N712SW|\n",
            "|   SNA| N712SW|\n",
            "|   SMF| N712SW|\n",
            "|   JAN| N712SW|\n",
            "+------+-------+\n",
            "only showing top 20 rows\n",
            "\n",
            "--- 2.1195805072784424 seconds ---\n"
          ]
        }
      ],
      "source": [
        "# Start  the runtime\n",
        "start_time = time.time()\n",
        "# Filter the data on something that selects your partition choice.\n",
        "spark.sql(\"\"\"Select distinct Origin, TailNum from p_delays where TailNum='N712SW' \"\"\").show()\n",
        "# Print out the runtime.\n",
        "print(\"--- %s seconds ---\" % (time.time() - start_time))"
      ]
    },
    {
      "cell_type": "code",
      "execution_count": 14,
      "metadata": {
        "colab": {
          "base_uri": "https://localhost:8080/"
        },
        "id": "e3wGOJK3Xrnu",
        "outputId": "9a46cbfc-6c17-452d-c585-4115c9e41063"
      },
      "outputs": [
        {
          "name": "stdout",
          "output_type": "stream",
          "text": [
            "+----+-------+\n",
            "|Dest|TailNum|\n",
            "+----+-------+\n",
            "| MSY| N712SW|\n",
            "| RNO| N712SW|\n",
            "| RDU| N712SW|\n",
            "| MDW| N712SW|\n",
            "| IAD| N712SW|\n",
            "| ABQ| N712SW|\n",
            "| STL| N712SW|\n",
            "| MHT| N712SW|\n",
            "| BUR| N712SW|\n",
            "| PIT| N712SW|\n",
            "| MCO| N712SW|\n",
            "| JAX| N712SW|\n",
            "| HRL| N712SW|\n",
            "| TPA| N712SW|\n",
            "| CMH| N712SW|\n",
            "| BNA| N712SW|\n",
            "| IND| N712SW|\n",
            "| SNA| N712SW|\n",
            "| SMF| N712SW|\n",
            "| JAN| N712SW|\n",
            "+----+-------+\n",
            "only showing top 20 rows\n",
            "\n",
            "--- 3.8938913345336914 seconds ---\n"
          ]
        }
      ],
      "source": [
        "# Start  the runtime\n",
        "start_time = time.time()\n",
        "# Filter the data on something that has nothing to do with your partition choice.\n",
        "spark.sql(\"\"\"Select distinct Dest, TailNum from p_delays_p where TailNum='N712SW' \"\"\").show()\n",
        "# Print out the runtime.\n",
        "print(\"--- %s seconds ---\" % (time.time() - start_time))"
      ]
    }
  ],
  "metadata": {
    "colab": {
      "collapsed_sections": [],
      "name": "Practicing_Partitions_Solved.ipynb",
      "provenance": []
    },
    "kernelspec": {
      "display_name": "Python 3.9.6 64-bit",
      "language": "python",
      "name": "python3"
    },
    "language_info": {
      "name": "python",
      "version": "3.9.6"
    },
    "vscode": {
      "interpreter": {
        "hash": "aee8b7b246df8f9039afb4144a1f6fd8d2ca17a180786b69acc140d282b71a49"
      }
    }
  },
  "nbformat": 4,
  "nbformat_minor": 0
}
