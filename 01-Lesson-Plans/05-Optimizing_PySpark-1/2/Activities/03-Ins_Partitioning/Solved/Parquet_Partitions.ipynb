{
 "cells": [
  {
   "cell_type": "code",
   "execution_count": 1,
   "metadata": {
    "colab": {
     "base_uri": "https://localhost:8080/"
    },
    "collapsed": true,
    "id": "w1m9uEbLTfhq",
    "outputId": "828ccd20-c6b4-430d-c856-89de02381b3e"
   },
   "outputs": [
    {
     "name": "stdout",
     "output_type": "stream",
     "text": [
      "\r",
      "0% [Working]\r",
      "            \r",
      "Hit:1 https://developer.download.nvidia.com/compute/cuda/repos/ubuntu1804/x86_64  InRelease\n",
      "\r",
      "0% [Connecting to archive.ubuntu.com] [Connecting to security.ubuntu.com (91.18\r",
      "                                                                               \r",
      "Get:2 https://cloud.r-project.org/bin/linux/ubuntu bionic-cran40/ InRelease [3,626 B]\n",
      "Get:3 http://security.ubuntu.com/ubuntu bionic-security InRelease [88.7 kB]\n",
      "Hit:4 http://ppa.launchpad.net/c2d4u.team/c2d4u4.0+/ubuntu bionic InRelease\n",
      "Ign:5 https://developer.download.nvidia.com/compute/machine-learning/repos/ubuntu1804/x86_64  InRelease\n",
      "Hit:6 https://developer.download.nvidia.com/compute/machine-learning/repos/ubuntu1804/x86_64  Release\n",
      "Hit:7 http://archive.ubuntu.com/ubuntu bionic InRelease\n",
      "Hit:8 http://ppa.launchpad.net/cran/libgit2/ubuntu bionic InRelease\n",
      "Get:9 http://archive.ubuntu.com/ubuntu bionic-updates InRelease [88.7 kB]\n",
      "Hit:10 http://ppa.launchpad.net/deadsnakes/ppa/ubuntu bionic InRelease\n",
      "Get:11 http://archive.ubuntu.com/ubuntu bionic-backports InRelease [74.6 kB]\n",
      "Hit:12 http://ppa.launchpad.net/graphics-drivers/ppa/ubuntu bionic InRelease\n",
      "Get:13 http://security.ubuntu.com/ubuntu bionic-security/main amd64 Packages [2,861 kB]\n",
      "Get:14 http://security.ubuntu.com/ubuntu bionic-security/restricted amd64 Packages [1,006 kB]\n",
      "Get:15 http://security.ubuntu.com/ubuntu bionic-security/universe amd64 Packages [1,521 kB]\n",
      "Get:16 http://security.ubuntu.com/ubuntu bionic-security/multiverse amd64 Packages [22.8 kB]\n",
      "Get:18 http://archive.ubuntu.com/ubuntu bionic-updates/universe amd64 Packages [2,297 kB]\n",
      "Get:19 http://archive.ubuntu.com/ubuntu bionic-updates/restricted amd64 Packages [1,047 kB]\n",
      "Get:20 http://archive.ubuntu.com/ubuntu bionic-updates/multiverse amd64 Packages [29.8 kB]\n",
      "Get:21 http://archive.ubuntu.com/ubuntu bionic-updates/main amd64 Packages [3,298 kB]\n",
      "Get:22 http://archive.ubuntu.com/ubuntu bionic-backports/main amd64 Packages [12.2 kB]\n",
      "Fetched 12.4 MB in 7s (1,757 kB/s)\n",
      "Reading package lists... Done\n"
     ]
    }
   ],
   "source": [
    "# Activate Spark in our Colab notebook.\n",
    "import os\n",
    "# Find the latest version of spark 3.0  from http://www.apache.org/dist/spark/ and enter as the spark version\n",
    "# For example: 'spark-3.2.2'\n",
    "spark_version = 'spark-3.2.2'\n",
    "# spark_version = 'spark-3.<enter version>'\n",
    "os.environ['SPARK_VERSION']=spark_version\n",
    "\n",
    "# Install Spark and Java\n",
    "!apt-get update\n",
    "!apt-get install openjdk-11-jdk-headless -qq > /dev/null\n",
    "!wget -q http://www.apache.org/dist/spark/$SPARK_VERSION/$SPARK_VERSION-bin-hadoop3.2.tgz\n",
    "!tar xf $SPARK_VERSION-bin-hadoop3.2.tgz\n",
    "!pip install -q findspark\n",
    "\n",
    "# Set Environment Variables\n",
    "os.environ[\"JAVA_HOME\"] = \"/usr/lib/jvm/java-11-openjdk-amd64\"\n",
    "os.environ[\"SPARK_HOME\"] = f\"/content/{spark_version}-bin-hadoop3.2\"\n",
    "\n",
    "# Start a SparkSession\n",
    "import findspark\n",
    "findspark.init()"
   ]
  },
  {
   "cell_type": "code",
   "execution_count": 2,
   "metadata": {
    "id": "wdpzXrYLTgcq"
   },
   "outputs": [],
   "source": [
    "# Import packages\n",
    "from pyspark.sql import SparkSession\n",
    "import time\n",
    "\n",
    "# Create a SparkSession\n",
    "spark = SparkSession.builder.appName(\"SparkSQL\").getOrCreate()"
   ]
  },
  {
   "cell_type": "code",
   "execution_count": 3,
   "metadata": {
    "colab": {
     "base_uri": "https://localhost:8080/"
    },
    "id": "SyGdKF4mTguN",
    "outputId": "3ce868d5-a38b-4b39-a569-1bc58966ab2a"
   },
   "outputs": [
    {
     "name": "stdout",
     "output_type": "stream",
     "text": [
      "+---+----+-----+----------+---------+-------+----------+-------+----------+-------------+---------+-------+-----------------+--------------+-------+--------+--------+------+----+--------+------+-------+---------+----------------+--------+------------+------------+--------+-------------+-----------------+\n",
      "|_c0|Year|Month|DayofMonth|DayOfWeek|DepTime|CRSDepTime|ArrTime|CRSArrTime|UniqueCarrier|FlightNum|TailNum|ActualElapsedTime|CRSElapsedTime|AirTime|ArrDelay|DepDelay|Origin|Dest|Distance|TaxiIn|TaxiOut|Cancelled|CancellationCode|Diverted|CarrierDelay|WeatherDelay|NASDelay|SecurityDelay|LateAircraftDelay|\n",
      "+---+----+-----+----------+---------+-------+----------+-------+----------+-------------+---------+-------+-----------------+--------------+-------+--------+--------+------+----+--------+------+-------+---------+----------------+--------+------------+------------+--------+-------------+-----------------+\n",
      "|  0|2008|    1|         3|        4| 2003.0|      1955| 2211.0|      2225|           WN|      335| N712SW|            128.0|         150.0|  116.0|   -14.0|     8.0|   IAD| TPA|     810|   4.0|    8.0|        0|               N|       0|        null|        null|    null|         null|             null|\n",
      "|  1|2008|    1|         3|        4|  754.0|       735| 1002.0|      1000|           WN|     3231| N772SW|            128.0|         145.0|  113.0|     2.0|    19.0|   IAD| TPA|     810|   5.0|   10.0|        0|               N|       0|        null|        null|    null|         null|             null|\n",
      "|  2|2008|    1|         3|        4|  628.0|       620|  804.0|       750|           WN|      448| N428WN|             96.0|          90.0|   76.0|    14.0|     8.0|   IND| BWI|     515|   3.0|   17.0|        0|               N|       0|        null|        null|    null|         null|             null|\n",
      "|  4|2008|    1|         3|        4| 1829.0|      1755| 1959.0|      1925|           WN|     3920| N464WN|             90.0|          90.0|   77.0|    34.0|    34.0|   IND| BWI|     515|   3.0|   10.0|        0|               N|       0|         2.0|         0.0|     0.0|          0.0|             32.0|\n",
      "|  5|2008|    1|         3|        4| 1940.0|      1915| 2121.0|      2110|           WN|      378| N726SW|            101.0|         115.0|   87.0|    11.0|    25.0|   IND| JAX|     688|   4.0|   10.0|        0|               N|       0|        null|        null|    null|         null|             null|\n",
      "|  6|2008|    1|         3|        4| 1937.0|      1830| 2037.0|      1940|           WN|      509| N763SW|            240.0|         250.0|  230.0|    57.0|    67.0|   IND| LAS|    1591|   3.0|    7.0|        0|               N|       0|        10.0|         0.0|     0.0|          0.0|             47.0|\n",
      "| 10|2008|    1|         3|        4|  706.0|       700|  916.0|       915|           WN|      100| N690SW|            130.0|         135.0|  106.0|     1.0|     6.0|   IND| MCO|     828|   5.0|   19.0|        0|               N|       0|        null|        null|    null|         null|             null|\n",
      "| 11|2008|    1|         3|        4| 1644.0|      1510| 1845.0|      1725|           WN|     1333| N334SW|            121.0|         135.0|  107.0|    80.0|    94.0|   IND| MCO|     828|   6.0|    8.0|        0|               N|       0|         8.0|         0.0|     0.0|          0.0|             72.0|\n",
      "| 15|2008|    1|         3|        4| 1029.0|      1020| 1021.0|      1010|           WN|     2272| N263WN|             52.0|          50.0|   37.0|    11.0|     9.0|   IND| MDW|     162|   6.0|    9.0|        0|               N|       0|        null|        null|    null|         null|             null|\n",
      "| 16|2008|    1|         3|        4| 1452.0|      1425| 1640.0|      1625|           WN|      675| N286WN|            228.0|         240.0|  213.0|    15.0|    27.0|   IND| PHX|    1489|   7.0|    8.0|        0|               N|       0|         3.0|         0.0|     0.0|          0.0|             12.0|\n",
      "| 17|2008|    1|         3|        4|  754.0|       745|  940.0|       955|           WN|     1144| N778SW|            226.0|         250.0|  205.0|   -15.0|     9.0|   IND| PHX|    1489|   5.0|   16.0|        0|               N|       0|        null|        null|    null|         null|             null|\n",
      "| 18|2008|    1|         3|        4| 1323.0|      1255| 1526.0|      1510|           WN|        4| N674AA|            123.0|         135.0|  110.0|    16.0|    28.0|   IND| TPA|     838|   4.0|    9.0|        0|               N|       0|         0.0|         0.0|     0.0|          0.0|             16.0|\n",
      "| 19|2008|    1|         3|        4| 1416.0|      1325| 1512.0|      1435|           WN|       54| N643SW|             56.0|          70.0|   49.0|    37.0|    51.0|   ISP| BWI|     220|   2.0|    5.0|        0|               N|       0|        12.0|         0.0|     0.0|          0.0|             25.0|\n",
      "| 21|2008|    1|         3|        4| 1657.0|      1625| 1754.0|      1735|           WN|      623| N724SW|             57.0|          70.0|   47.0|    19.0|    32.0|   ISP| BWI|     220|   5.0|    5.0|        0|               N|       0|         7.0|         0.0|     0.0|          0.0|             12.0|\n",
      "| 22|2008|    1|         3|        4| 1900.0|      1840| 1956.0|      1950|           WN|      717| N786SW|             56.0|          70.0|   49.0|     6.0|    20.0|   ISP| BWI|     220|   2.0|    5.0|        0|               N|       0|        null|        null|    null|         null|             null|\n",
      "| 23|2008|    1|         3|        4| 1039.0|      1030| 1133.0|      1140|           WN|     1244| N714CB|             54.0|          70.0|   47.0|    -7.0|     9.0|   ISP| BWI|     220|   2.0|    5.0|        0|               N|       0|        null|        null|    null|         null|             null|\n",
      "| 25|2008|    1|         3|        4| 1520.0|      1455| 1619.0|      1605|           WN|     2553| N394SW|             59.0|          70.0|   50.0|    14.0|    25.0|   ISP| BWI|     220|   2.0|    7.0|        0|               N|       0|        null|        null|    null|         null|             null|\n",
      "| 26|2008|    1|         3|        4| 1422.0|      1255| 1657.0|      1610|           WN|      188| N215WN|            155.0|         195.0|  143.0|    47.0|    87.0|   ISP| FLL|    1093|   6.0|    6.0|        0|               N|       0|        40.0|         0.0|     0.0|          0.0|              7.0|\n",
      "| 27|2008|    1|         3|        4| 1954.0|      1925| 2239.0|      2235|           WN|     1754| N243WN|            165.0|         190.0|  155.0|     4.0|    29.0|   ISP| FLL|    1093|   3.0|    7.0|        0|               N|       0|        null|        null|    null|         null|             null|\n",
      "| 30|2008|    1|         3|        4| 2107.0|      1945| 2334.0|      2230|           WN|      362| N798SW|            147.0|         165.0|  134.0|    64.0|    82.0|   ISP| MCO|     972|   6.0|    7.0|        0|               N|       0|         5.0|         0.0|     0.0|          0.0|             59.0|\n",
      "+---+----+-----+----------+---------+-------+----------+-------+----------+-------------+---------+-------+-----------------+--------------+-------+--------+--------+------+----+--------+------+-------+---------+----------------+--------+------------+------------+--------+-------------+-----------------+\n",
      "only showing top 20 rows\n",
      "\n"
     ]
    }
   ],
   "source": [
    "# Read in data from S3 Bucket\n",
    "from pyspark import SparkFiles\n",
    "url = \"https://2u-data-curriculum-team.s3.amazonaws.com/dataviz-netflix/DelayedFlights.csv\"\n",
    "spark.sparkContext.addFile(url)\n",
    "df = spark.read.csv(SparkFiles.get(\"DelayedFlights.csv\"), sep=\",\", header=True)\n",
    "df.show()"
   ]
  },
  {
   "cell_type": "code",
   "execution_count": 4,
   "metadata": {
    "id": "HpggJrEFzX1K"
   },
   "outputs": [],
   "source": [
    "# Create a temporary view\n",
    "df.createOrReplaceTempView('delays')"
   ]
  },
  {
   "cell_type": "code",
   "execution_count": 5,
   "metadata": {
    "colab": {
     "base_uri": "https://localhost:8080/"
    },
    "id": "daHsHUbSTzaj",
    "outputId": "e8dff404-644c-402e-b702-b1ebd8bbfa5b"
   },
   "outputs": [
    {
     "name": "stdout",
     "output_type": "stream",
     "text": [
      "+-------------+-----------------------------------+--------+\n",
      "|UniqueCarrier|sum(CAST(CRSElapsedTime AS DOUBLE))|count(1)|\n",
      "+-------------+-----------------------------------+--------+\n",
      "|           UA|                        2.4361525E7|  141426|\n",
      "|           AA|                        3.2826567E7|  191865|\n",
      "|           NW|                        1.1290359E7|   79108|\n",
      "|           EV|                          8059597.0|   81877|\n",
      "|           B6|                        1.0088034E7|   55315|\n",
      "|           DL|                        1.8642864E7|  114238|\n",
      "|           OO|                        1.2431166E7|  132433|\n",
      "|           F9|                          4092210.0|   28269|\n",
      "|           YV|                          6117806.0|   67063|\n",
      "|           US|                        1.5893179E7|   98425|\n",
      "|           AQ|                            99698.0|     750|\n",
      "|           MQ|                        1.3302061E7|  141920|\n",
      "|           OH|                          5970707.0|   52657|\n",
      "|           HA|                           970794.0|    7490|\n",
      "|           XE|                        1.2300491E7|  103663|\n",
      "|           AS|                          6005931.0|   39293|\n",
      "|           FL|                          9154604.0|   71284|\n",
      "|           CO|                        2.0038359E7|  100195|\n",
      "|           WN|                         4.313974E7|  377602|\n",
      "|           9E|                          5299630.0|   51885|\n",
      "+-------------+-----------------------------------+--------+\n",
      "\n",
      "--- 10.669215202331543 seconds ---\n"
     ]
    }
   ],
   "source": [
    "# Run a sql query that groups the data on UniqueCarrier\n",
    "# note the time functions will track the time it takes to load and run the data\n",
    "# we are only interested in the time it take to run so run this cell twice.\n",
    "start_time = time.time()\n",
    "\n",
    "spark.sql(\"\"\"select UniqueCarrier,sum(CRSElapsedTime), count(*) from delays group by 1\"\"\").show()\n",
    "\n",
    "print(\"--- %s seconds ---\" % (time.time() - start_time))"
   ]
  },
  {
   "cell_type": "code",
   "execution_count": 6,
   "metadata": {
    "id": "EVQQPzgiUgTg"
   },
   "outputs": [],
   "source": [
    "# Write out the data in parquet format\n",
    "df.write.parquet('parquet_delayed',mode='overwrite')"
   ]
  },
  {
   "cell_type": "code",
   "execution_count": 7,
   "metadata": {
    "id": "1fjWZBkMUuIQ"
   },
   "outputs": [],
   "source": [
    "# Read in our new parquet formatted data\n",
    "p_df=spark.read.parquet('parquet_delayed')"
   ]
  },
  {
   "cell_type": "code",
   "execution_count": 8,
   "metadata": {
    "id": "O9Vj-1tAVMxZ"
   },
   "outputs": [],
   "source": [
    "# A parquet formatted dataframe has all the same methods as a row-based dataframe\n",
    "# We can convert the dataframe to a view.\n",
    "p_df.createOrReplaceTempView('p_delays')"
   ]
  },
  {
   "cell_type": "code",
   "execution_count": 9,
   "metadata": {
    "colab": {
     "base_uri": "https://localhost:8080/"
    },
    "id": "W1upPNu4VFnm",
    "outputId": "225dd903-e8be-4818-90ba-30c443f2c4ec"
   },
   "outputs": [
    {
     "name": "stdout",
     "output_type": "stream",
     "text": [
      "+-------------+--------+\n",
      "|UniqueCarrier|count(1)|\n",
      "+-------------+--------+\n",
      "|           UA|  141426|\n",
      "|           AA|  191865|\n",
      "|           NW|   79108|\n",
      "|           EV|   81877|\n",
      "|           B6|   55315|\n",
      "|           DL|  114238|\n",
      "|           OO|  132433|\n",
      "|           F9|   28269|\n",
      "|           YV|   67063|\n",
      "|           US|   98425|\n",
      "|           AQ|     750|\n",
      "|           MQ|  141920|\n",
      "|           OH|   52657|\n",
      "|           HA|    7490|\n",
      "|           XE|  103663|\n",
      "|           AS|   39293|\n",
      "|           FL|   71284|\n",
      "|           CO|  100195|\n",
      "|           WN|  377602|\n",
      "|           9E|   51885|\n",
      "+-------------+--------+\n",
      "\n",
      "--- 3.2846519947052 seconds ---\n"
     ]
    }
   ],
   "source": [
    "start_time = time.time()\n",
    "\n",
    "spark.sql(\"\"\"select UniqueCarrier, count(*) from p_delays group by 1\"\"\").show()\n",
    "\n",
    "print(\"--- %s seconds ---\" % (time.time() - start_time))"
   ]
  },
  {
   "cell_type": "code",
   "execution_count": 10,
   "metadata": {
    "colab": {
     "base_uri": "https://localhost:8080/"
    },
    "id": "1_gD0-7QW7Sm",
    "outputId": "6b92c266-54de-4fe1-f420-813d1ffb0199"
   },
   "outputs": [
    {
     "name": "stdout",
     "output_type": "stream",
     "text": [
      "+-------------+-----------------------------------+--------+\n",
      "|UniqueCarrier|sum(CAST(CRSElapsedTime AS DOUBLE))|count(1)|\n",
      "+-------------+-----------------------------------+--------+\n",
      "|           UA|                        2.4361525E7|  141426|\n",
      "|           AA|                        3.2826567E7|  191865|\n",
      "|           NW|                        1.1290359E7|   79108|\n",
      "|           EV|                          8059597.0|   81877|\n",
      "|           B6|                        1.0088034E7|   55315|\n",
      "|           DL|                        1.8642864E7|  114238|\n",
      "|           OO|                        1.2431166E7|  132433|\n",
      "|           F9|                          4092210.0|   28269|\n",
      "|           YV|                          6117806.0|   67063|\n",
      "|           US|                        1.5893179E7|   98425|\n",
      "|           AQ|                            99698.0|     750|\n",
      "|           MQ|                        1.3302061E7|  141920|\n",
      "|           OH|                          5970707.0|   52657|\n",
      "|           HA|                           970794.0|    7490|\n",
      "|           XE|                        1.2300491E7|  103663|\n",
      "|           AS|                          6005931.0|   39293|\n",
      "|           FL|                          9154604.0|   71284|\n",
      "|           CO|                        2.0038359E7|  100195|\n",
      "|           WN|                         4.313974E7|  377602|\n",
      "|           9E|                          5299630.0|   51885|\n",
      "+-------------+-----------------------------------+--------+\n",
      "\n",
      "--- 2.9862494468688965 seconds ---\n"
     ]
    }
   ],
   "source": [
    "# Here is another sample\n",
    "start_time = time.time()\n",
    "\n",
    "spark.sql(\"\"\"select UniqueCarrier,sum(CRSElapsedTime), count(*) from p_delays group by 1\"\"\").show()\n",
    "\n",
    "print(\"--- %s seconds ---\" % (time.time() - start_time))"
   ]
  },
  {
   "cell_type": "code",
   "execution_count": 11,
   "metadata": {
    "id": "RxtycEtOVQrZ"
   },
   "outputs": [],
   "source": [
    "# Partition our data by UniqueCarrier\n",
    "df.write.partitionBy(\"UniqueCarrier\").mode(\"overwrite\").parquet(\"delayed_partitioned\")"
   ]
  },
  {
   "cell_type": "code",
   "execution_count": 13,
   "metadata": {
    "id": "TMpsNLamXM9N"
   },
   "outputs": [],
   "source": [
    "# Read in our new parquet formatted data\n",
    "p_df_p=spark.read.parquet('delayed_partitioned')"
   ]
  },
  {
   "cell_type": "code",
   "execution_count": 14,
   "metadata": {
    "id": "KX3wglAtWEbI"
   },
   "outputs": [],
   "source": [
    "# Convert the dataframe to a view.\n",
    "p_df_p.createOrReplaceTempView('p_delays_p')"
   ]
  },
  {
   "cell_type": "code",
   "execution_count": 15,
   "metadata": {
    "colab": {
     "base_uri": "https://localhost:8080/"
    },
    "id": "LOR5HfhRVzmG",
    "outputId": "12a27bce-605a-4356-b4da-5c6ec1cb39b6"
   },
   "outputs": [
    {
     "name": "stdout",
     "output_type": "stream",
     "text": [
      "+-------------+--------+\n",
      "|UniqueCarrier|count(1)|\n",
      "+-------------+--------+\n",
      "|           UA|  141426|\n",
      "|           AA|  191865|\n",
      "|           NW|   79108|\n",
      "|           EV|   81877|\n",
      "|           B6|   55315|\n",
      "|           DL|  114238|\n",
      "|           OO|  132433|\n",
      "|           F9|   28269|\n",
      "|           YV|   67063|\n",
      "|           US|   98425|\n",
      "|           AQ|     750|\n",
      "|           MQ|  141920|\n",
      "|           OH|   52657|\n",
      "|           HA|    7490|\n",
      "|           XE|  103663|\n",
      "|           AS|   39293|\n",
      "|           CO|  100195|\n",
      "|           FL|   71284|\n",
      "|           WN|  377602|\n",
      "|           9E|   51885|\n",
      "+-------------+--------+\n",
      "\n",
      "--- 2.242203712463379 seconds ---\n"
     ]
    }
   ],
   "source": [
    "# Query the partitioned data on the Partition key.\n",
    "start_time = time.time()\n",
    "\n",
    "spark.sql(\"\"\"select UniqueCarrier, count(*) from p_delays_p group by 1\"\"\").show()\n",
    "\n",
    "print(\"--- %s seconds ---\" % (time.time() - start_time))"
   ]
  },
  {
   "cell_type": "code",
   "execution_count": 16,
   "metadata": {
    "colab": {
     "base_uri": "https://localhost:8080/"
    },
    "id": "SCGlK9xOXd6_",
    "outputId": "df80abef-4da0-45b0-d45c-bd15e88e12fc"
   },
   "outputs": [
    {
     "name": "stdout",
     "output_type": "stream",
     "text": [
      "+-------------+-----------------------------------+\n",
      "|UniqueCarrier|sum(CAST(CRSElapsedTime AS DOUBLE))|\n",
      "+-------------+-----------------------------------+\n",
      "|           UA|                        2.4361525E7|\n",
      "|           AA|                        3.2826567E7|\n",
      "|           NW|                        1.1290359E7|\n",
      "|           EV|                          8059597.0|\n",
      "|           B6|                        1.0088034E7|\n",
      "|           DL|                        1.8642864E7|\n",
      "|           OO|                        1.2431166E7|\n",
      "|           F9|                          4092210.0|\n",
      "|           YV|                          6117806.0|\n",
      "|           US|                        1.5893179E7|\n",
      "|           AQ|                            99698.0|\n",
      "|           MQ|                        1.3302061E7|\n",
      "|           OH|                          5970707.0|\n",
      "|           HA|                           970794.0|\n",
      "|           XE|                        1.2300491E7|\n",
      "|           AS|                          6005931.0|\n",
      "|           CO|                        2.0038359E7|\n",
      "|           FL|                          9154604.0|\n",
      "|           WN|                         4.313974E7|\n",
      "|           9E|                          5299630.0|\n",
      "+-------------+-----------------------------------+\n",
      "\n",
      "--- 3.0597329139709473 seconds ---\n"
     ]
    }
   ],
   "source": [
    "# Grouping by partition key and aggregating data.\n",
    "start_time = time.time()\n",
    "\n",
    "spark.sql(\"\"\"select UniqueCarrier,sum(CRSElapsedTime) from p_delays_p group by 1\"\"\").show()\n",
    "\n",
    "print(\"--- %s seconds ---\" % (time.time() - start_time))"
   ]
  },
  {
   "cell_type": "code",
   "execution_count": 17,
   "metadata": {
    "colab": {
     "base_uri": "https://localhost:8080/"
    },
    "id": "bvYRnpLGWJ_-",
    "outputId": "c0b36093-0f2a-4e51-d5ad-664d5064d097"
   },
   "outputs": [
    {
     "name": "stdout",
     "output_type": "stream",
     "text": [
      "+-------------+-------------+\n",
      "|UniqueCarrier|total_delayed|\n",
      "+-------------+-------------+\n",
      "|           US|    3819499.0|\n",
      "+-------------+-------------+\n",
      "\n",
      "--- 1.5817921161651611 seconds ---\n"
     ]
    }
   ],
   "source": [
    "# Another query filtering on the key.\n",
    "start_time = time.time()\n",
    "spark.sql(\"\"\"Select UniqueCarrier, sum(DepDelay) as total_delayed from p_delays_p where UniqueCarrier='US' group by 1\"\"\").show()\n",
    "print(\"--- %s seconds ---\" % (time.time() - start_time))"
   ]
  },
  {
   "cell_type": "code",
   "execution_count": 18,
   "metadata": {
    "colab": {
     "base_uri": "https://localhost:8080/"
    },
    "id": "KoDXPqfaWmsd",
    "outputId": "12dc98c1-18e3-4164-d7c3-a393d5a3499c"
   },
   "outputs": [
    {
     "name": "stdout",
     "output_type": "stream",
     "text": [
      "+-------------+-------------+\n",
      "|UniqueCarrier|total_delayed|\n",
      "+-------------+-------------+\n",
      "|           US|    3819499.0|\n",
      "+-------------+-------------+\n",
      "\n",
      "--- 1.9894812107086182 seconds ---\n"
     ]
    }
   ],
   "source": [
    "# Same query as above against the parquet (non-partitioned) data.\n",
    "start_time = time.time()\n",
    "spark.sql(\"\"\"Select UniqueCarrier, sum(DepDelay) as total_delayed from p_delays where UniqueCarrier='US' group by 1\"\"\").show()\n",
    "print(\"--- %s seconds ---\" % (time.time() - start_time))"
   ]
  },
  {
   "cell_type": "code",
   "execution_count": 19,
   "metadata": {
    "colab": {
     "base_uri": "https://localhost:8080/"
    },
    "id": "w1LbeemvWsRa",
    "outputId": "2037bd17-368f-4f13-850a-5fea354b57cb"
   },
   "outputs": [
    {
     "name": "stdout",
     "output_type": "stream",
     "text": [
      "+-------------+-------+\n",
      "|UniqueCarrier|TailNum|\n",
      "+-------------+-------+\n",
      "|           WN| N712SW|\n",
      "+-------------+-------+\n",
      "\n",
      "--- 1.6174707412719727 seconds ---\n"
     ]
    }
   ],
   "source": [
    "#Here is a query that doesn't use the partition key at all (against the parquet data)\n",
    "start_time = time.time()\n",
    "spark.sql(\"\"\"Select distinct UniqueCarrier, TailNum from p_delays where TailNum='N712SW' \"\"\").show()\n",
    "print(\"--- %s seconds ---\" % (time.time() - start_time))"
   ]
  },
  {
   "cell_type": "code",
   "execution_count": 20,
   "metadata": {
    "colab": {
     "base_uri": "https://localhost:8080/"
    },
    "id": "e3wGOJK3Xrnu",
    "outputId": "cd9e090c-a449-43fb-ead2-7a4785f1c4d8"
   },
   "outputs": [
    {
     "name": "stdout",
     "output_type": "stream",
     "text": [
      "+-------------+-------+\n",
      "|UniqueCarrier|TailNum|\n",
      "+-------------+-------+\n",
      "|           WN| N712SW|\n",
      "+-------------+-------+\n",
      "\n",
      "--- 1.7516300678253174 seconds ---\n"
     ]
    }
   ],
   "source": [
    "#Here is a query that doesn't use the partition key at all (agains the partitioned parquet data)\n",
    "start_time = time.time()\n",
    "spark.sql(\"\"\"Select distinct UniqueCarrier, TailNum from p_delays_p where TailNum='N712SW' \"\"\").show()\n",
    "print(\"--- %s seconds ---\" % (time.time() - start_time))"
   ]
  }
 ],
 "metadata": {
  "colab": {
   "collapsed_sections": [],
   "name": "Parquet_Partions.ipynb",
   "provenance": []
  },
  "kernelspec": {
   "display_name": "Python 3 (ipykernel)",
   "language": "python",
   "name": "python3"
  },
  "language_info": {
   "codemirror_mode": {
    "name": "ipython",
    "version": 3
   },
   "file_extension": ".py",
   "mimetype": "text/x-python",
   "name": "python",
   "nbconvert_exporter": "python",
   "pygments_lexer": "ipython3",
   "version": "3.9.7"
  }
 },
 "nbformat": 4,
 "nbformat_minor": 1
}
