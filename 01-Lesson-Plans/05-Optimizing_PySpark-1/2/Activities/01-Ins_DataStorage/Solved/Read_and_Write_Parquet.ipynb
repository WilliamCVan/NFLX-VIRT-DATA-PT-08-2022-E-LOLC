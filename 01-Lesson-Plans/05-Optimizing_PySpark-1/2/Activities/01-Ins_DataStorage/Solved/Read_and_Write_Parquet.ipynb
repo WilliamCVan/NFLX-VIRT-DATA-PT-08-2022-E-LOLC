{
  "cells": [
    {
      "cell_type": "code",
      "execution_count": 1,
      "metadata": {
        "colab": {
          "base_uri": "https://localhost:8080/"
        },
        "id": "s2U0y6_MtZ9I",
        "outputId": "8dce3897-0149-490c-fe59-8be822fcaa8a"
      },
      "outputs": [
        {
          "name": "stdout",
          "output_type": "stream",
          "text": [
            "\r0% [Working]\r            \rGet:1 http://security.ubuntu.com/ubuntu bionic-security InRelease [88.7 kB]\n",
            "\r0% [Connecting to archive.ubuntu.com (185.125.190.39)] [1 InRelease 14.2 kB/88.\r                                                                               \rHit:2 http://ppa.launchpad.net/c2d4u.team/c2d4u4.0+/ubuntu bionic InRelease\n",
            "\r0% [Waiting for headers] [1 InRelease 88.7 kB/88.7 kB 100%] [Connected to cloud\r                                                                               \rHit:3 http://archive.ubuntu.com/ubuntu bionic InRelease\n",
            "\r                                                                               \rGet:4 http://archive.ubuntu.com/ubuntu bionic-updates InRelease [88.7 kB]\n",
            "\r                                                                               \rHit:5 http://ppa.launchpad.net/cran/libgit2/ubuntu bionic InRelease\n",
            "\r                                                                               \rHit:6 https://developer.download.nvidia.com/compute/cuda/repos/ubuntu1804/x86_64  InRelease\n",
            "\r0% [4 InRelease 21.4 kB/88.7 kB 24%] [Waiting for headers] [Waiting for headers\r                                                                               \rGet:7 https://cloud.r-project.org/bin/linux/ubuntu bionic-cran40/ InRelease [3,626 B]\n",
            "\r0% [4 InRelease 21.4 kB/88.7 kB 24%] [7 InRelease 0 B/3,626 B 0%] [Waiting for \r0% [4 InRelease 24.3 kB/88.7 kB 27%] [Waiting for headers] [Waiting for headers\r0% [2 InRelease gpgv 15.9 kB] [4 InRelease 38.8 kB/88.7 kB 44%] [Waiting for he\r                                                                               \rHit:8 http://ppa.launchpad.net/deadsnakes/ppa/ubuntu bionic InRelease\n",
            "\r0% [2 InRelease gpgv 15.9 kB] [4 InRelease 53.3 kB/88.7 kB 60%] [Connecting to \r0% [2 InRelease gpgv 15.9 kB] [Waiting for headers] [Connecting to ppa.launchpa\r                                                                               \rGet:9 http://archive.ubuntu.com/ubuntu bionic-backports InRelease [74.6 kB]\n",
            "Hit:10 http://ppa.launchpad.net/graphics-drivers/ppa/ubuntu bionic InRelease\n",
            "Ign:11 https://developer.download.nvidia.com/compute/machine-learning/repos/ubuntu1804/x86_64  InRelease\n",
            "Hit:12 https://developer.download.nvidia.com/compute/machine-learning/repos/ubuntu1804/x86_64  Release\n",
            "Get:13 http://security.ubuntu.com/ubuntu bionic-security/main amd64 Packages [2,861 kB]\n",
            "Get:14 http://security.ubuntu.com/ubuntu bionic-security/universe amd64 Packages [1,521 kB]\n",
            "Get:15 http://security.ubuntu.com/ubuntu bionic-security/multiverse amd64 Packages [22.8 kB]\n",
            "Get:16 http://security.ubuntu.com/ubuntu bionic-security/restricted amd64 Packages [1,006 kB]\n",
            "Get:17 http://archive.ubuntu.com/ubuntu bionic-updates/multiverse amd64 Packages [29.8 kB]\n",
            "Get:18 http://archive.ubuntu.com/ubuntu bionic-updates/main amd64 Packages [3,294 kB]\n",
            "Get:19 http://archive.ubuntu.com/ubuntu bionic-updates/restricted amd64 Packages [1,040 kB]\n",
            "Get:20 http://archive.ubuntu.com/ubuntu bionic-updates/universe amd64 Packages [2,297 kB]\n",
            "Get:21 http://archive.ubuntu.com/ubuntu bionic-backports/main amd64 Packages [12.2 kB]\n",
            "Fetched 12.3 MB in 7s (1,842 kB/s)\n",
            "Reading package lists... Done\n"
          ]
        }
      ],
      "source": [
        "# Activate Spark in our Colab notebook.\n",
        "import os\n",
        "# Find the latest version of spark 3.0  from http://www.apache.org/dist/spark/ and enter as the spark version\n",
        "# For example: 'spark-3.2.2'\n",
        "spark_version = 'spark-3.2.2'\n",
        "# spark_version = 'spark-3.<enter version>'\n",
        "os.environ['SPARK_VERSION']=spark_version\n",
        "\n",
        "# Install Spark and Java\n",
        "!apt-get update\n",
        "!apt-get install openjdk-11-jdk-headless -qq > /dev/null\n",
        "!wget -q http://www.apache.org/dist/spark/$SPARK_VERSION/$SPARK_VERSION-bin-hadoop3.2.tgz\n",
        "!tar xf $SPARK_VERSION-bin-hadoop3.2.tgz\n",
        "!pip install -q findspark\n",
        "\n",
        "# Set Environment Variables\n",
        "os.environ[\"JAVA_HOME\"] = \"/usr/lib/jvm/java-11-openjdk-amd64\"\n",
        "os.environ[\"SPARK_HOME\"] = f\"/content/{spark_version}-bin-hadoop3.2\"\n",
        "\n",
        "# Start a SparkSession\n",
        "import findspark\n",
        "findspark.init()"
      ]
    },
    {
      "cell_type": "code",
      "execution_count": 2,
      "metadata": {
        "id": "KLz5M7sFpO0W"
      },
      "outputs": [],
      "source": [
        "# Import packages\n",
        "from pyspark.sql import SparkSession\n",
        "# Import the time module so we can time our queries.\n",
        "import time\n",
        "\n",
        "# Create a SparkSession\n",
        "spark = SparkSession.builder.appName(\"SparkSQL\").getOrCreate()"
      ]
    },
    {
      "cell_type": "code",
      "execution_count": 3,
      "metadata": {
        "colab": {
          "base_uri": "https://localhost:8080/"
        },
        "id": "CahJMb3cpWdW",
        "outputId": "4d0c57d7-87c3-4463-d0f5-3abfbd2a9e16"
      },
      "outputs": [
        {
          "name": "stdout",
          "output_type": "stream",
          "text": [
            "+----------------+----+-------+-----+-----+----------+-------------------+----------------+------------+--------------------+----------------+--------------------+-------------+--------------------+----------+--------------------+--------------------+--------------------+\n",
            "|ISN_DOB_BIS_VIOL|BORO|    BIN|BLOCK|  LOT|ISSUE_DATE|VIOLATION_TYPE_CODE|VIOLATION_NUMBER|HOUSE_NUMBER|              STREET|DISPOSITION_DATE|DISPOSITION_COMMENTS|DEVICE_NUMBER|         DESCRIPTION|ECB_NUMBER|              NUMBER|  VIOLATION_CATEGORY|      VIOLATION_TYPE|\n",
            "+----------------+----+-------+-----+-----+----------+-------------------+----------------+------------+--------------------+----------------+--------------------+-------------+--------------------+----------+--------------------+--------------------+--------------------+\n",
            "|         2286033|   1|1009713|00577|00019|  20180507|                  E|     9027/627971|          34|        WEST 14TH ST|        20220509|PPN203 AOC SUB 05...|      1P13420|                null|      null|V*050718E9027/627971|V*-DOB VIOLATION ...|E-ELEVATOR       ...|\n",
            "|         2533639|   1|1082666|00333|00001|  20210629|                  E|     9027/705433|          77|     COLUMBIA STREET|        20220509|PPN203 AOC SUB 05...|      1P27474|                null|      null|V*062921E9027/705433|V*-DOB VIOLATION ...|E-ELEVATOR       ...|\n",
            "|         2347979|   1|1083846|01130|00001|  20190423|                  E|     9028/648125|         200|   CENTRAL PARK WEST|        20220509|PPN203 AOC SUBMIT...|      1P40861|                null|      null|V*042319E9028/648125|V*-DOB VIOLATION ...|E-ELEVATOR       ...|\n",
            "|         2566336|   1|1057155|01889|07502|  20211123|                  E|     9028/710097|         845|        WEST END AVE|        20220509|PPN203 AOC SUB 05...|      1P14972|                null|      null|V*112321E9028/710097|V*-DOB VIOLATION ...|E-ELEVATOR       ...|\n",
            "|         2487351|   1|1041456|01387|00021|  20200925|                  E|     9028/689200|          31|             E 72 ST|        20220509|PPN203 AOC SUB 05...|      1P10910|                null|      null|V*092520E9028/689200|V*-DOB VIOLATION ...|E-ELEVATOR       ...|\n",
            "|         2579117|   3|3212907|07717|00054|  20220427|            AEUHAZ1|           00322|        3420|        QUENTIN ROAD|        20220509|000810 PAID INVOI...|         null|FAILURE TO CERTIF...| 39055131L|V*042722AEUHAZ100322|V*-DOB VIOLATION ...|AEUHAZ1-FAIL TO C...|\n",
            "|         2224356|   4|4445407|16155|00021|  20171206|                  E|     9027/617490|         320|    BEACH 100 STREET|        20220509|PPN203 AOC SUBMIT...|       4P4846|                null|      null|V*120617E9027/617490|V*-DOB VIOLATION ...|E-ELEVATOR       ...|\n",
            "|         1501541|   1|1010847|00611|00053|  20100706|             LANDMK|         11-0004|          10|      CHARLES STREET|        20220509|                null|         null|                null|      null|V*070610LANDMK11-...|V*-DOB VIOLATION ...|LANDMK-LANDMARK  ...|\n",
            "|         2435215|   1|1012256|00662|00011|  20200115|                  E|     9028/667509|     PIER 59|         NORTH RIVER|        20220509|PPN203 AOC SUB 05...|      1W10006|                null|      null|V*011520E9028/667509|V*-DOB VIOLATION ...|E-ELEVATOR       ...|\n",
            "|         2504960|   3|3379016|01220|00019|  20210123|                  E|     9028/696197|         715|         ST MARKS AV|        20220509|PPN203 AOC SUB 05...|       3P3165|                null|      null|V*012321E9028/696197|V*-DOB VIOLATION ...|E-ELEVATOR       ...|\n",
            "|         2579114|   3|3212907|07717|00054|  20220427|            AEUHAZ1|           00319|        3420|        QUENTIN ROAD|        20220509|000810 PAID INVOI...|         null|FAILURE TO CERTIF...| 39055126R|V*042722AEUHAZ100319|V*-DOB VIOLATION ...|AEUHAZ1-FAIL TO C...|\n",
            "|         2347971|   1|1083846|01130|00001|  20190424|                  E|     9028/650040|         200|   CENTRAL PARK WEST|        20220509|PPN203 AOC SUBMIT...|      1P29222|                null|      null|V*042419E9028/650040|V*-DOB VIOLATION ...|E-ELEVATOR       ...|\n",
            "|         2347976|   1|1083846|01130|00001|  20190423|                  E|     9028/650049|         200|   CENTRAL PARK WEST|        20220509|PPN203 AOC SUBMIT...|      1P40856|                null|      null|V*042319E9028/650049|V*-DOB VIOLATION ...|E-ELEVATOR       ...|\n",
            "|         2310631|   3|3079907|03439|00020|  20180809|            AEUHAZ1|           00316|         76A|       COOPER STREET|        20220509|            90252351|         null|FAILURE TO CERTIF...| 35331209P|V*080918AEUHAZ100316|V*-DOB VIOLATION ...|AEUHAZ1-FAIL TO C...|\n",
            "|         2582207|   4|4227230|10640|00029|  20220430|                  C|          ER02MA|       91-17|          215 STREET|            null|                null|         null|STRUCTURE RENDERE...|      null|      V043022CER02MA|V-DOB VIOLATION -...|C-CONSTRUCTION   ...|\n",
            "|         2539906|   1|1038758|01337|07502|  20210723|                  E|     9028/704512|           1|UNITED NATIONS PLAZA|        20220509|PPN203 AOC SUBMIT...|      1P37657|                null|      null|V*072321E9028/704512|V*-DOB VIOLATION ...|E-ELEVATOR       ...|\n",
            "|         2428141|   3|3425712|06766|07503|  20191102|              BENCH|           01025|        2068|        OCEAN AVENUE|        20220509|  CHALLENGE APPROVED|         null|FAILURE TO FILE B...|      null|  V*110219BENCH01025|V*-DOB VIOLATION ...|BENCH-FAILURE TO ...|\n",
            "|         2543985|   3|3116537|05080|00036|  20210824|                  E|     9028/706976|          21|         ST PAULS CT|        20220509|PPN203 AOC SUB 05...|       3P2286|                null|      null|V*082421E9028/706976|V*-DOB VIOLATION ...|E-ELEVATOR       ...|\n",
            "|         1705186|   1|1010847|00611|00053|  20120926|             LANDMK|         13-0202|          10|      CHARLES STREET|        20220509|                null|         null|                null|      null|V*092612LANDMK13-...|V*-DOB VIOLATION ...|LANDMK-LANDMARK  ...|\n",
            "|         2533638|   1|1082666|00333|00001|  20210629|                  E|     9027/705432|          77|     COLUMBIA STREET|        20220509|PPN203 AOC SUB 05...|      1P27473|                null|      null|V*062921E9027/705432|V*-DOB VIOLATION ...|E-ELEVATOR       ...|\n",
            "+----------------+----+-------+-----+-----+----------+-------------------+----------------+------------+--------------------+----------------+--------------------+-------------+--------------------+----------+--------------------+--------------------+--------------------+\n",
            "only showing top 20 rows\n",
            "\n"
          ]
        }
      ],
      "source": [
        "# Read in data from S3 Bucket\n",
        "from pyspark import SparkFiles\n",
        "url = \"https://2u-data-curriculum-team.s3.amazonaws.com/nflx-data-science-adv/week-5/NYC_Building_Violations.csv\"\n",
        "spark.sparkContext.addFile(url)\n",
        "df = spark.read.csv(SparkFiles.get(\"NYC_Building_Violations.csv\"), sep=\",\", header=True)\n",
        "df.show()"
      ]
    },
    {
      "cell_type": "code",
      "execution_count": 4,
      "metadata": {
        "colab": {
          "base_uri": "https://localhost:8080/"
        },
        "id": "S62v26TZLHso",
        "outputId": "5480a615-9014-42fe-ebd9-406add28c876"
      },
      "outputs": [
        {
          "name": "stdout",
          "output_type": "stream",
          "text": [
            "+-------+------------------+------------------+------------------+------------------+------------------+-------------------+-------------------+----------------+------------------+------------------+--------------------+--------------------+--------------------+--------------------+--------------------+------------------+--------------------+--------------------+\n",
            "|summary|  ISN_DOB_BIS_VIOL|              BORO|               BIN|             BLOCK|               LOT|         ISSUE_DATE|VIOLATION_TYPE_CODE|VIOLATION_NUMBER|      HOUSE_NUMBER|            STREET|    DISPOSITION_DATE|DISPOSITION_COMMENTS|       DEVICE_NUMBER|         DESCRIPTION|          ECB_NUMBER|            NUMBER|  VIOLATION_CATEGORY|      VIOLATION_TYPE|\n",
            "+-------+------------------+------------------+------------------+------------------+------------------+-------------------+-------------------+----------------+------------------+------------------+--------------------+--------------------+--------------------+--------------------+--------------------+------------------+--------------------+--------------------+\n",
            "|  count|           2249357|           2249355|           2246031|           2236515|           2237197|            2249356|            2249357|         2249352|           2248990|           2231958|             1689545|             1648487|             1657117|              709389|              201989|           2249316|             2249316|             2249302|\n",
            "|   mean|1306787.2474680543|2.3464668843595082| 2456521.062597088|2859.5119176387343|466.57405826225846|2.007073744908509E7|               null|             NaN|2783.2523214543485|          53.40625|2.0102321098843772E7| 3.162820579273005E7|            Infinity|            Infinity|       2.104617042E8|              null|                null|                null|\n",
            "| stddev| 743549.2550104015| 1.229949821701687|1297759.7392980545| 2880.056827063897| 1742.321617295465|  103289.9051134135|               null|             NaN| 31076.99272583018|20.639547655395813|   76857.25150439757|1.2270720877515715E8|                 NaN|                 NaN|1.9213306030514506E8|              null|                null|                null|\n",
            "|    min|                 1|                 0|           0000000|             .   6|                 0|           0   0612|                 7A|     #326375C301|            #G25FP|      '\t15 AVENUE'|            12231998|\"DISMISSED, BC SW...| OBTAIN ALL PERMI...|                   #|                0000|V%*010110UB3135/10|C-CONSTRUCTION   ...|A-SEU            ...|\n",
            "|    25%|          669575.0|               1.0|         1055263.0|             950.0|              10.0|        2.0000207E7|               null|          1464.0|             137.0|              58.0|         2.0051104E7|            266001.0|             60232.0|                 1.0|                 0.0|              null|                null|                null|\n",
            "|    50%|         1309758.0|               2.0|         2806437.0|            1856.0|              30.0|        2.0080305E7|               null|          7535.0|             377.0|              63.0|         2.0120315E7|           1.33388E7|             87151.0|                 1.0|        3.48751536E8|              null|                null|                null|\n",
            "|    75%|         1947712.0|               3.0|         3331540.0|            3767.0|              55.0|        2.0150303E7|               null|         18930.0|            1094.0|              63.0|         2.0160718E7|         6.2037385E7|            815398.0|                 2.0|        3.49874984E8|              null|                null|                null|\n",
            "|    max|            999999|                 `|           9999993|             \\0459|             Q0007|           Y9990120|                  Z|            ¬TVW|               ¦04|       MAIN STREET|            20220619|                   ¦|              X10070|{74}REPLACE MISSI...|                   \\|VWH121602PL106HB01|VWH-VIOLATION WOR...|Z-ZONING         ...|\n",
            "+-------+------------------+------------------+------------------+------------------+------------------+-------------------+-------------------+----------------+------------------+------------------+--------------------+--------------------+--------------------+--------------------+--------------------+------------------+--------------------+--------------------+\n",
            "\n"
          ]
        }
      ],
      "source": [
        "# Get a summary of the data. \n",
        "df.summary().show()"
      ]
    },
    {
      "cell_type": "code",
      "execution_count": 6,
      "metadata": {
        "colab": {
          "base_uri": "https://localhost:8080/"
        },
        "id": "T7fsnqRDqG2C",
        "outputId": "95a31a73-2ffb-430d-fb22-ec062d106ec6"
      },
      "outputs": [
        {
          "name": "stdout",
          "output_type": "stream",
          "text": [
            "+--------------------+-------------------------+\n",
            "|      VIOLATION_TYPE|sum(CAST(BORO AS DOUBLE))|\n",
            "+--------------------+-------------------------+\n",
            "|LL10/80-LOCAL LAW...|                   3609.0|\n",
            "|LL11/98-LOCAL LAW...|                   9285.0|\n",
            "|HVIOS-NYCHA ELEV ...|                    969.0|\n",
            "|P-PLUMBING       ...|                  29480.0|\n",
            "|ACH1-(NYCHA) - EL...|                   4949.0|\n",
            "|LANDMRK-LANDMARK ...|                   5599.0|\n",
            "|LL5-LOCAL LAW 5/7...|                   1363.0|\n",
            "|IMD-IMMEDIATE EME...|                     13.0|\n",
            "|B-BOILER         ...|                  17042.0|\n",
            "|FISP-FACADE SAFET...|                   6889.0|\n",
            "|EGNCY-EMERGENCY  ...|                  12607.0|\n",
            "|ES-ELECTRIC SIGNS...|                  18378.0|\n",
            "|                null|                    148.0|\n",
            "|L1198-LOCAL LAW 1...|                  10656.0|\n",
            "|HBLVIO-HIGH PRESS...|                  14628.0|\n",
            "|BENCH-FAILURE TO ...|                 110285.0|\n",
            "|RWNRF-RETAINING W...|                   4007.0|\n",
            "|FISPNRF-NO REPORT...|                  21017.0|\n",
            "|LL2604-PHOTOLUMIN...|                    679.0|\n",
            "|LL2604S-SPRINKLER...|                   1513.0|\n",
            "+--------------------+-------------------------+\n",
            "only showing top 20 rows\n",
            "\n",
            "--- 9.231749773025513 seconds ---\n"
          ]
        }
      ],
      "source": [
        " # Let's create a view with our DataFrame and run SQL that will sum up the boroughs by the type of violation.\n",
        "# We can output the time this step runs in seconds.\n",
        "# Because we are timing the executions, remember to run twice to eliminate the \"load time\" from the discussion.\n",
        "\n",
        "df.createOrReplaceTempView('violations')\n",
        "start_time = time.time()\n",
        "\n",
        "spark.sql(\"\"\"select VIOLATION_TYPE, sum(BORO) from violations group by 1\"\"\").show()\n",
        "\n",
        "print(\"--- %s seconds ---\" % (time.time() - start_time))"
      ]
    },
    {
      "cell_type": "code",
      "execution_count": 7,
      "metadata": {
        "id": "g04Evw2jqHoK"
      },
      "outputs": [],
      "source": [
        "# Write out the data in parquet format\n",
        "# Note: That this is pretty much the same as writing out to a csv.  \n",
        "# We are telling Spark to overwrite all of the data if it already exists\n",
        "df.write.parquet('parquet_violations',mode='overwrite')"
      ]
    },
    {
      "cell_type": "markdown",
      "metadata": {
        "id": "lYiTD19bHuV4"
      },
      "source": [
        "\n",
        "\n",
        "*   click the folder icon on the left of the notebook to expose the folders and files stored in your colab enviornment.  Notice that a new folder is present with the same name as your parquet file (parquet_title_basic)\n",
        "*   inside of it you will find 'part-*.parquet' files and a '_SUCCESS' file. \n",
        "*  The '_SUCCESS' file is created when Spark creates a Parquet folder\n",
        "*  the part-* files are binary files that store your compressed data in columnar format\n",
        "\n",
        "\n",
        "\n"
      ]
    },
    {
      "cell_type": "code",
      "execution_count": 8,
      "metadata": {
        "id": "2SaDjaQXqnPI"
      },
      "outputs": [],
      "source": [
        "# Read in our new parquet formatted data\n",
        "p_df=spark.read.parquet('parquet_violations')"
      ]
    },
    {
      "cell_type": "code",
      "execution_count": 9,
      "metadata": {
        "id": "sT7d4hu-q32d"
      },
      "outputs": [],
      "source": [
        "# A parquet formatted DataFrame has all the same methods as a row-based DataFrame\n",
        "# We can convert the DataFrame to a view.\n",
        "p_df.createOrReplaceTempView('p_violations')"
      ]
    },
    {
      "cell_type": "code",
      "execution_count": 10,
      "metadata": {
        "colab": {
          "base_uri": "https://localhost:8080/"
        },
        "id": "nwpUfAoeq71b",
        "outputId": "d6850e76-4e87-4478-bb41-922a51edc6ce"
      },
      "outputs": [
        {
          "name": "stdout",
          "output_type": "stream",
          "text": [
            "+--------------------+-------------------------+\n",
            "|      VIOLATION_TYPE|sum(CAST(BORO AS DOUBLE))|\n",
            "+--------------------+-------------------------+\n",
            "|LL10/80-LOCAL LAW...|                   3609.0|\n",
            "|LL11/98-LOCAL LAW...|                   9285.0|\n",
            "|HVIOS-NYCHA ELEV ...|                    969.0|\n",
            "|P-PLUMBING       ...|                  29480.0|\n",
            "|ACH1-(NYCHA) - EL...|                   4949.0|\n",
            "|LANDMRK-LANDMARK ...|                   5599.0|\n",
            "|LL5-LOCAL LAW 5/7...|                   1363.0|\n",
            "|IMD-IMMEDIATE EME...|                     13.0|\n",
            "|B-BOILER         ...|                  17042.0|\n",
            "|FISP-FACADE SAFET...|                   6889.0|\n",
            "|EGNCY-EMERGENCY  ...|                  12607.0|\n",
            "|ES-ELECTRIC SIGNS...|                  18378.0|\n",
            "|                null|                    148.0|\n",
            "|L1198-LOCAL LAW 1...|                  10656.0|\n",
            "|HBLVIO-HIGH PRESS...|                  14628.0|\n",
            "|BENCH-FAILURE TO ...|                 110285.0|\n",
            "|RWNRF-RETAINING W...|                   4007.0|\n",
            "|FISPNRF-NO REPORT...|                  21017.0|\n",
            "|LL2604-PHOTOLUMIN...|                    679.0|\n",
            "|LL2604S-SPRINKLER...|                   1513.0|\n",
            "+--------------------+-------------------------+\n",
            "only showing top 20 rows\n",
            "\n",
            "--- 2.8267626762390137 seconds ---\n"
          ]
        }
      ],
      "source": [
        "# Run the same sql as above.  (Note: If you have small datasets it IS possible that times may be very close.)\n",
        "# Because we are timing the executions, remember to run twice to eliminate the \"load time\" from the discussion.\n",
        "\n",
        "start_time = time.time()\n",
        "spark.sql(\"\"\"select VIOLATION_TYPE, sum(BORO) from p_violations group by 1\"\"\").show()\n",
        "print(\"--- %s seconds ---\" % (time.time() - start_time))"
      ]
    },
    {
      "cell_type": "code",
      "execution_count": 11,
      "metadata": {
        "id": "yZY1lKBHrjLg"
      },
      "outputs": [],
      "source": [
        "# Writing out a csv file from Spark will also create a folder with \"part\" files.\n",
        "# These files are not binary or compressed and in reality are just normal csv files broken into partitions.\n",
        "# You can see the folder 'out_violations.csv' in the file explorer to the left of the notebook.\n",
        "df.write.csv('out_violations.csv')"
      ]
    },
    {
      "cell_type": "code",
      "execution_count": null,
      "metadata": {
        "id": "zit0gXHn4Hf2"
      },
      "outputs": [],
      "source": []
    }
  ],
  "metadata": {
    "colab": {
      "collapsed_sections": [],
      "name": "Read_and_Write_Parquet_2.ipynb",
      "provenance": []
    },
    "kernelspec": {
      "display_name": "Python 3.9.6 64-bit",
      "language": "python",
      "name": "python3"
    },
    "language_info": {
      "name": "python",
      "version": "3.9.6"
    },
    "vscode": {
      "interpreter": {
        "hash": "aee8b7b246df8f9039afb4144a1f6fd8d2ca17a180786b69acc140d282b71a49"
      }
    }
  },
  "nbformat": 4,
  "nbformat_minor": 0
}
