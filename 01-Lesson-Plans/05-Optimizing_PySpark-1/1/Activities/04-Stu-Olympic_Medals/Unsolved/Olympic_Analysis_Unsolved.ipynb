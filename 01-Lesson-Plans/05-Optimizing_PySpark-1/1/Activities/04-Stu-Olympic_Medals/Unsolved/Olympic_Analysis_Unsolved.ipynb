{
  "cells": [
    {
      "cell_type": "markdown",
      "metadata": {
        "id": "lJhxfVwrRriq"
      },
      "source": [
        "**Our dataset has the following features.**\n",
        "\n",
        "\n",
        "*   ID - Unique number for each athlete;\n",
        "*   Name - Athlete's name;\n",
        "*   Sex - M or F;\n",
        "* Age;\n",
        "* Height - In centimeters;\n",
        "* Weight - In kilograms;\n",
        "* Team - Team name;\n",
        "* NOC;\n",
        "* Games - Year and season;\n",
        "* Year;\n",
        "* Season - Summer or Winter;\n",
        "* City - Host city;\n",
        "* Sport - Sport;\n",
        "* Event - Event;\n",
        "* Medal - Gold, Silver, Bronze, or NA."
      ]
    },
    {
      "cell_type": "code",
      "execution_count": null,
      "metadata": {
        "colab": {
          "base_uri": "https://localhost:8080/"
        },
        "id": "sw2Jr5lXFWIH",
        "outputId": "85ec80a8-8e9a-49c9-df10-b22b44eb8671",
        "vscode": {
          "languageId": "python"
        }
      },
      "outputs": [
        {
          "name": "stdout",
          "output_type": "stream",
          "text": [
            "\r0% [Working]\r            \rHit:1 http://ppa.launchpad.net/c2d4u.team/c2d4u4.0+/ubuntu bionic InRelease\n",
            "\r0% [Connecting to archive.ubuntu.com (91.189.91.38)] [Connecting to security.ub\r                                                                               \rGet:2 https://cloud.r-project.org/bin/linux/ubuntu bionic-cran40/ InRelease [3,626 B]\n",
            "\r                                                                               \rHit:3 http://ppa.launchpad.net/cran/libgit2/ubuntu bionic InRelease\n",
            "\r                                                                               \rHit:4 http://ppa.launchpad.net/deadsnakes/ppa/ubuntu bionic InRelease\n",
            "\r                                                                               \rHit:5 http://ppa.launchpad.net/graphics-drivers/ppa/ubuntu bionic InRelease\n",
            "\r                                                                               \rHit:6 https://developer.download.nvidia.com/compute/cuda/repos/ubuntu1804/x86_64  InRelease\n",
            "\r                                                                               \r0% [Waiting for headers] [Waiting for headers] [Waiting for headers]\r0% [1 InRelease gpgv 15.9 kB] [Waiting for headers] [Waiting for headers] [Wait\r                                                                               \rGet:7 http://security.ubuntu.com/ubuntu bionic-security InRelease [88.7 kB]\n",
            "Hit:8 http://archive.ubuntu.com/ubuntu bionic InRelease\n",
            "Get:9 http://archive.ubuntu.com/ubuntu bionic-updates InRelease [88.7 kB]\n",
            "Ign:10 https://developer.download.nvidia.com/compute/machine-learning/repos/ubuntu1804/x86_64  InRelease\n",
            "Hit:11 https://developer.download.nvidia.com/compute/machine-learning/repos/ubuntu1804/x86_64  Release\n",
            "Get:12 http://archive.ubuntu.com/ubuntu bionic-backports InRelease [74.6 kB]\n",
            "Get:13 http://security.ubuntu.com/ubuntu bionic-security/main amd64 Packages [2,861 kB]\n",
            "Get:15 http://security.ubuntu.com/ubuntu bionic-security/multiverse amd64 Packages [22.8 kB]\n",
            "Get:16 http://security.ubuntu.com/ubuntu bionic-security/restricted amd64 Packages [1,006 kB]\n",
            "Get:17 http://security.ubuntu.com/ubuntu bionic-security/universe amd64 Packages [1,521 kB]\n",
            "Get:18 http://archive.ubuntu.com/ubuntu bionic-updates/main amd64 Packages [3,293 kB]\n",
            "Get:19 http://archive.ubuntu.com/ubuntu bionic-updates/restricted amd64 Packages [1,040 kB]\n",
            "Get:20 http://archive.ubuntu.com/ubuntu bionic-updates/universe amd64 Packages [2,297 kB]\n",
            "Get:21 http://archive.ubuntu.com/ubuntu bionic-updates/multiverse amd64 Packages [29.8 kB]\n",
            "Get:22 http://archive.ubuntu.com/ubuntu bionic-backports/main amd64 Packages [12.2 kB]\n",
            "Fetched 12.3 MB in 6s (1,998 kB/s)\n",
            "Reading package lists... Done\n"
          ]
        }
      ],
      "source": [
        "# Activate Spark in our Colab notebook.\n",
        "import os\n",
        "# Find the latest version of spark 3.0  from http://www.apache.org/dist/spark/ and enter as the spark version\n",
        "# For example: 'spark-3.2.2'\n",
        "spark_version = 'spark-3.2.2'\n",
        "# spark_version = 'spark-3.<enter version>'\n",
        "os.environ['SPARK_VERSION']=spark_version\n",
        "\n",
        "# Install Spark and Java\n",
        "!apt-get update\n",
        "!apt-get install openjdk-11-jdk-headless -qq > /dev/null\n",
        "!wget -q http://www.apache.org/dist/spark/$SPARK_VERSION/$SPARK_VERSION-bin-hadoop3.2.tgz\n",
        "!tar xf $SPARK_VERSION-bin-hadoop3.2.tgz\n",
        "!pip install -q findspark\n",
        "\n",
        "# Set Environment Variables\n",
        "os.environ[\"JAVA_HOME\"] = \"/usr/lib/jvm/java-11-openjdk-amd64\"\n",
        "os.environ[\"SPARK_HOME\"] = f\"/content/{spark_version}-bin-hadoop3.2\"\n",
        "\n",
        "# Start a SparkSession\n",
        "import findspark\n",
        "findspark.init()"
      ]
    },
    {
      "cell_type": "code",
      "execution_count": null,
      "metadata": {
        "id": "YPVEwydNFZss",
        "vscode": {
          "languageId": "python"
        }
      },
      "outputs": [],
      "source": [
        "#import packages\n",
        "\n",
        "from pyspark.sql import SparkSession\n",
        "from pyspark.sql import Row\n",
        "from pyspark.sql.types import StructType,StructField,StringType, DateType,IntegerType\n",
        "\n",
        "\n",
        "# Create a SparkSession\n",
        "spark = SparkSession.builder.appName(\"SparkSQL\").getOrCreate()"
      ]
    },
    {
      "cell_type": "code",
      "execution_count": null,
      "metadata": {
        "id": "QNnoYbEqFh6W",
        "vscode": {
          "languageId": "python"
        }
      },
      "outputs": [],
      "source": [
        "#After uploading this file to your colab environment, let's create a new spark dataframe\n",
        "#this file has Quoted nicknames in the name column so we have to handle the quotes while we read in the data.\n",
        "df = spark.read.csv(\"/content/athlete_events.csv\", header=True, inferSchema=True, quote=\"\\\"\", escape=\"\\\"\")"
      ]
    },
    {
      "cell_type": "code",
      "execution_count": null,
      "metadata": {
        "colab": {
          "base_uri": "https://localhost:8080/"
        },
        "id": "LWGdRh4eIJIr",
        "outputId": "4c4e0069-3753-48b6-de7d-8a07efb2f789",
        "vscode": {
          "languageId": "python"
        }
      },
      "outputs": [
        {
          "name": "stdout",
          "output_type": "stream",
          "text": [
            "+---+--------------------+---+---+------+------+--------------+---+-----------+----+------+-----------+-------------+--------------------+-----+\n",
            "| ID|                Name|Sex|Age|Height|Weight|          Team|NOC|      Games|Year|Season|       City|        Sport|               Event|Medal|\n",
            "+---+--------------------+---+---+------+------+--------------+---+-----------+----+------+-----------+-------------+--------------------+-----+\n",
            "|  1|           A Dijiang|  M| 24|   180|    80|         China|CHN|1992 Summer|1992|Summer|  Barcelona|   Basketball|Basketball Men's ...|   NA|\n",
            "|  2|            A Lamusi|  M| 23|   170|    60|         China|CHN|2012 Summer|2012|Summer|     London|         Judo|Judo Men's Extra-...|   NA|\n",
            "|  3| Gunnar Nielsen Aaby|  M| 24|    NA|    NA|       Denmark|DEN|1920 Summer|1920|Summer|  Antwerpen|     Football|Football Men's Fo...|   NA|\n",
            "|  4|Edgar Lindenau Aabye|  M| 34|    NA|    NA|Denmark/Sweden|DEN|1900 Summer|1900|Summer|      Paris|   Tug-Of-War|Tug-Of-War Men's ...| Gold|\n",
            "|  5|Christine Jacoba ...|  F| 21|   185|    82|   Netherlands|NED|1988 Winter|1988|Winter|    Calgary|Speed Skating|Speed Skating Wom...|   NA|\n",
            "|  5|Christine Jacoba ...|  F| 21|   185|    82|   Netherlands|NED|1988 Winter|1988|Winter|    Calgary|Speed Skating|Speed Skating Wom...|   NA|\n",
            "|  5|Christine Jacoba ...|  F| 25|   185|    82|   Netherlands|NED|1992 Winter|1992|Winter|Albertville|Speed Skating|Speed Skating Wom...|   NA|\n",
            "|  5|Christine Jacoba ...|  F| 25|   185|    82|   Netherlands|NED|1992 Winter|1992|Winter|Albertville|Speed Skating|Speed Skating Wom...|   NA|\n",
            "|  5|Christine Jacoba ...|  F| 27|   185|    82|   Netherlands|NED|1994 Winter|1994|Winter|Lillehammer|Speed Skating|Speed Skating Wom...|   NA|\n",
            "|  5|Christine Jacoba ...|  F| 27|   185|    82|   Netherlands|NED|1994 Winter|1994|Winter|Lillehammer|Speed Skating|Speed Skating Wom...|   NA|\n",
            "+---+--------------------+---+---+------+------+--------------+---+-----------+----+------+-----------+-------------+--------------------+-----+\n",
            "only showing top 10 rows\n",
            "\n"
          ]
        }
      ],
      "source": [
        "#show the dataframe\n"
      ]
    },
    {
      "cell_type": "code",
      "execution_count": null,
      "metadata": {
        "id": "3_hMkh2sT8jm",
        "vscode": {
          "languageId": "python"
        }
      },
      "outputs": [],
      "source": [
        "#Create a tempview\n"
      ]
    },
    {
      "cell_type": "markdown",
      "metadata": {
        "id": "tUBHDhdiSsPO"
      },
      "source": [
        "Question 1: How many new sports were introduced in the most recent summer Olympics?\n",
        "\n",
        "BONUS: What are the names of each sport added?"
      ]
    },
    {
      "cell_type": "code",
      "execution_count": null,
      "metadata": {
        "colab": {
          "base_uri": "https://localhost:8080/"
        },
        "id": "XUJVk6fQYTyy",
        "outputId": "468fa29f-4126-47d7-9adc-bb883e6563c4",
        "vscode": {
          "languageId": "python"
        }
      },
      "outputs": [
        {
          "name": "stdout",
          "output_type": "stream",
          "text": [
            "+---------------------+\n",
            "|count(DISTINCT sport)|\n",
            "+---------------------+\n",
            "|                   34|\n",
            "+---------------------+\n",
            "\n"
          ]
        }
      ],
      "source": [
        "# Get the numover of distinct sports played in 2016\n"
      ]
    },
    {
      "cell_type": "code",
      "execution_count": null,
      "metadata": {
        "colab": {
          "base_uri": "https://localhost:8080/"
        },
        "id": "tXyNWna1ci1v",
        "outputId": "c4c2bfd1-bd55-47db-ca6f-44fbcd56c9f2",
        "vscode": {
          "languageId": "python"
        }
      },
      "outputs": [
        {
          "name": "stdout",
          "output_type": "stream",
          "text": [
            "+---------------------+\n",
            "|count(DISTINCT sport)|\n",
            "+---------------------+\n",
            "|                   32|\n",
            "+---------------------+\n",
            "\n"
          ]
        }
      ],
      "source": [
        "# Get the number of distinct sports played in 2012\n"
      ]
    },
    {
      "cell_type": "code",
      "execution_count": null,
      "metadata": {
        "colab": {
          "base_uri": "https://localhost:8080/"
        },
        "id": "gmuokNVHe_SH",
        "outputId": "54ae6849-1ee8-44ec-f240-c56d70eb0aad",
        "vscode": {
          "languageId": "python"
        }
      },
      "outputs": [
        {
          "name": "stdout",
          "output_type": "stream",
          "text": [
            "+------------+\n",
            "|       sport|\n",
            "+------------+\n",
            "|        Golf|\n",
            "|Rugby Sevens|\n",
            "+------------+\n",
            "\n"
          ]
        }
      ],
      "source": [
        "# Write a subquery to get the distinct sports played in 2016 but not in 2012.\n",
        "spark.sql(\"\"\"\n",
        "    \n",
        "    \"\"\").show()"
      ]
    },
    {
      "cell_type": "code",
      "execution_count": null,
      "metadata": {
        "colab": {
          "base_uri": "https://localhost:8080/"
        },
        "id": "Nclw6gcIdcAG",
        "outputId": "8c301ebb-ed09-4f6e-ddaf-26fc3ff2eb6b",
        "vscode": {
          "languageId": "python"
        }
      },
      "outputs": [
        {
          "name": "stdout",
          "output_type": "stream",
          "text": [
            "+------------+\n",
            "|       sport|\n",
            "+------------+\n",
            "|        Golf|\n",
            "|Rugby Sevens|\n",
            "+------------+\n",
            "\n"
          ]
        }
      ],
      "source": [
        "# Another option could be using an EXCEPT\n",
        "spark.sql(\"\"\"\n",
        "    \n",
        "    \"\"\").show()"
      ]
    },
    {
      "cell_type": "markdown",
      "metadata": {
        "id": "tis9fkizgn1q"
      },
      "source": [
        "Question 2: Which sports have been played since the first summer Olympics?"
      ]
    },
    {
      "cell_type": "code",
      "execution_count": null,
      "metadata": {
        "colab": {
          "base_uri": "https://localhost:8080/"
        },
        "id": "Y1edN4Jlfack",
        "outputId": "7384844c-f673-43d0-f4d0-df5c510c0f50",
        "vscode": {
          "languageId": "python"
        }
      },
      "outputs": [
        {
          "name": "stdout",
          "output_type": "stream",
          "text": [
            "+---------+\n",
            "|min(year)|\n",
            "+---------+\n",
            "|     1896|\n",
            "+---------+\n",
            "\n"
          ]
        }
      ],
      "source": [
        "# Get the year of the earliest Olympics in our data\n",
        "spark.sql().show()"
      ]
    },
    {
      "cell_type": "code",
      "execution_count": null,
      "metadata": {
        "colab": {
          "base_uri": "https://localhost:8080/"
        },
        "id": "av4Lem9VhKh8",
        "outputId": "e14bf775-10e7-4470-8c72-5838f62c0d40",
        "vscode": {
          "languageId": "python"
        }
      },
      "outputs": [
        {
          "name": "stdout",
          "output_type": "stream",
          "text": [
            "+-------------+\n",
            "|        sport|\n",
            "+-------------+\n",
            "|   Gymnastics|\n",
            "|       Tennis|\n",
            "|     Swimming|\n",
            "|    Athletics|\n",
            "|     Shooting|\n",
            "|    Wrestling|\n",
            "|Weightlifting|\n",
            "|      Cycling|\n",
            "|      Fencing|\n",
            "+-------------+\n",
            "\n"
          ]
        }
      ],
      "source": [
        "# Get the sports that were played in the earliest Olympic games in our data\n",
        "spark.sql(\"\"\"\n",
        " \"\"\").show()"
      ]
    },
    {
      "cell_type": "code",
      "execution_count": null,
      "metadata": {
        "colab": {
          "base_uri": "https://localhost:8080/"
        },
        "id": "nUqJkqWzhZ67",
        "outputId": "88ec4be6-2d8c-49c3-b94c-8fca893acaeb",
        "vscode": {
          "languageId": "python"
        }
      },
      "outputs": [
        {
          "name": "stdout",
          "output_type": "stream",
          "text": [
            "+-------------+\n",
            "|        sport|\n",
            "+-------------+\n",
            "|   Gymnastics|\n",
            "|       Tennis|\n",
            "|     Swimming|\n",
            "|    Athletics|\n",
            "|     Shooting|\n",
            "|    Wrestling|\n",
            "|Weightlifting|\n",
            "|      Cycling|\n",
            "|      Fencing|\n",
            "+-------------+\n",
            "\n"
          ]
        }
      ],
      "source": [
        "# Determine which sports were in both the 1896 Olympics and the 2016 Olympics\n",
        "spark.sql(\"\"\"\n",
        "  \"\"\").show()"
      ]
    },
    {
      "cell_type": "markdown",
      "metadata": {
        "id": "GP4dn8pGjBVF"
      },
      "source": [
        "Question 3: Who are the top 5 players that won most gold, silver and bronze medals?"
      ]
    },
    {
      "cell_type": "code",
      "execution_count": null,
      "metadata": {
        "colab": {
          "base_uri": "https://localhost:8080/"
        },
        "id": "fUDuMDVjjQcy",
        "outputId": "7886b832-d7cc-4208-ce33-fe0fce3d46c5",
        "vscode": {
          "languageId": "python"
        }
      },
      "outputs": [
        {
          "name": "stdout",
          "output_type": "stream",
          "text": [
            "+----------------------------------+-----+----------+\n",
            "|Name                              |medal|medalCount|\n",
            "+----------------------------------+-----+----------+\n",
            "|Michael Fred Phelps, II           |Gold |23        |\n",
            "|Raymond Clarence \"Ray\" Ewry       |Gold |10        |\n",
            "|Frederick Carlton \"Carl\" Lewis    |Gold |9         |\n",
            "|Larysa Semenivna Latynina (Diriy-)|Gold |9         |\n",
            "|Mark Andrew Spitz                 |Gold |9         |\n",
            "+----------------------------------+-----+----------+\n",
            "\n"
          ]
        }
      ],
      "source": [
        "# Who are the top 5 Gold medal winners in the Olympics \n",
        "spark.sql(\"\"\"\n",
        " \n",
        "\"\"\").show(truncate=False)\n"
      ]
    },
    {
      "cell_type": "code",
      "execution_count": null,
      "metadata": {
        "colab": {
          "base_uri": "https://localhost:8080/"
        },
        "id": "dCoDsurkP7Q3",
        "outputId": "e43aed35-7fe7-45c6-9340-c5196598dfa3",
        "vscode": {
          "languageId": "python"
        }
      },
      "outputs": [
        {
          "name": "stdout",
          "output_type": "stream",
          "text": [
            "+-------------------------------+------+----------+\n",
            "|Name                           |medal |medalCount|\n",
            "+-------------------------------+------+----------+\n",
            "|Aleksandr Vladimirovich Popov  |Silver|6         |\n",
            "|Mikhail Yakovlevich Voronin    |Silver|6         |\n",
            "|Shirley Frances Babashoff      |Silver|6         |\n",
            "|Yang Yang                      |Silver|6         |\n",
            "|Aleksandr Nikolayevich Dityatin|Silver|6         |\n",
            "+-------------------------------+------+----------+\n",
            "\n"
          ]
        }
      ],
      "source": [
        "# Who are the top 5 Silver medal winners\n",
        "spark.sql(\"\"\"\n",
        "\n",
        "\"\"\").show(truncate=False)\n"
      ]
    },
    {
      "cell_type": "code",
      "execution_count": null,
      "metadata": {
        "colab": {
          "base_uri": "https://localhost:8080/"
        },
        "id": "GNdWgmuwRw8A",
        "outputId": "a3fd110c-2c3e-4666-e850-f529fe325621",
        "vscode": {
          "languageId": "python"
        }
      },
      "outputs": [
        {
          "name": "stdout",
          "output_type": "stream",
          "text": [
            "+------------------------+------+----------+\n",
            "|Name                    |medal |medalCount|\n",
            "+------------------------+------+----------+\n",
            "|Merlene Joyce Ottey-Page|Bronze|6         |\n",
            "|Harri Tapani Kirvesniemi|Bronze|6         |\n",
            "|Heikki Ilmari Savolainen|Bronze|6         |\n",
            "|Franziska van Almsick   |Bronze|6         |\n",
            "|Aleksey Yuryevich Nemov |Bronze|6         |\n",
            "+------------------------+------+----------+\n",
            "\n"
          ]
        }
      ],
      "source": [
        "# Who are the top 5 Bronze medal winners\n",
        "spark.sql(\"\"\"\n",
        "\n",
        "\"\"\").show(truncate=False)"
      ]
    },
    {
      "cell_type": "markdown",
      "metadata": {
        "id": "Val6hYwgS7ma"
      },
      "source": [
        "Output the gold medal winners to csv\n",
        "\n",
        "Hint: since we have aggregated our data it is safe to go back to pandas"
      ]
    },
    {
      "cell_type": "code",
      "execution_count": null,
      "metadata": {
        "id": "8M9WPLOiSOWm",
        "vscode": {
          "languageId": "python"
        }
      },
      "outputs": [],
      "source": [
        "import pandas as pd\n",
        "\n",
        "pandas_df=spark.sql(\"\"\"\n",
        " \n",
        "\"\"\").toPandas()\n",
        "\n",
        "pandas_df.to_csv()"
      ]
    },
    {
      "cell_type": "code",
      "execution_count": null,
      "metadata": {
        "id": "JfaKSZ-PTTMR",
        "vscode": {
          "languageId": "python"
        }
      },
      "outputs": [],
      "source": []
    }
  ],
  "metadata": {
    "colab": {
      "collapsed_sections": [],
      "name": "Olympic_Analysis_Unsolved.ipynb",
      "provenance": []
    },
    "kernelspec": {
      "display_name": "Python 3",
      "name": "python3"
    }
  },
  "nbformat": 4,
  "nbformat_minor": 0
}
