{
  "cells": [
    {
      "cell_type": "markdown",
      "metadata": {
        "id": "vxAd0RFo0xHx"
      },
      "source": [
        "\n",
        "\n",
        "---\n",
        "\n",
        "**This notebook connects you to your Google Drive.  Be sure to alter the path to match where you store the data.**\n",
        "\n",
        "\n",
        "---\n",
        "\n"
      ]
    },
    {
      "cell_type": "code",
      "execution_count": 1,
      "metadata": {
        "colab": {
          "base_uri": "https://localhost:8080/"
        },
        "id": "LmM7NmGol0j8",
        "outputId": "5faf8091-7422-43b5-b94c-7764c5dd2908"
      },
      "outputs": [
        {
          "output_type": "stream",
          "name": "stdout",
          "text": [
            "\r0% [Working]\r            \rGet:1 http://security.ubuntu.com/ubuntu bionic-security InRelease [88.7 kB]\n",
            "Get:2 https://cloud.r-project.org/bin/linux/ubuntu bionic-cran40/ InRelease [3,626 B]\n",
            "Ign:3 https://developer.download.nvidia.com/compute/machine-learning/repos/ubuntu1804/x86_64  InRelease\n",
            "Get:4 https://developer.download.nvidia.com/compute/cuda/repos/ubuntu1804/x86_64  InRelease [1,581 B]\n",
            "Hit:5 http://archive.ubuntu.com/ubuntu bionic InRelease\n",
            "Hit:6 https://developer.download.nvidia.com/compute/machine-learning/repos/ubuntu1804/x86_64  Release\n",
            "Get:7 http://ppa.launchpad.net/c2d4u.team/c2d4u4.0+/ubuntu bionic InRelease [15.9 kB]\n",
            "Get:8 http://archive.ubuntu.com/ubuntu bionic-updates InRelease [88.7 kB]\n",
            "Get:9 https://cloud.r-project.org/bin/linux/ubuntu bionic-cran40/ Packages [90.7 kB]\n",
            "Hit:10 http://ppa.launchpad.net/cran/libgit2/ubuntu bionic InRelease\n",
            "Get:11 http://archive.ubuntu.com/ubuntu bionic-backports InRelease [74.6 kB]\n",
            "Get:12 http://ppa.launchpad.net/deadsnakes/ppa/ubuntu bionic InRelease [15.9 kB]\n",
            "Get:13 http://security.ubuntu.com/ubuntu bionic-security/restricted amd64 Packages [1,100 kB]\n",
            "Get:14 http://ppa.launchpad.net/graphics-drivers/ppa/ubuntu bionic InRelease [21.3 kB]\n",
            "Get:15 http://security.ubuntu.com/ubuntu bionic-security/universe amd64 Packages [1,533 kB]\n",
            "Get:16 http://security.ubuntu.com/ubuntu bionic-security/main amd64 Packages [2,937 kB]\n",
            "Get:17 https://developer.download.nvidia.com/compute/cuda/repos/ubuntu1804/x86_64  Packages [903 kB]\n",
            "Get:19 http://ppa.launchpad.net/c2d4u.team/c2d4u4.0+/ubuntu bionic/main Sources [2,095 kB]\n",
            "Get:20 http://ppa.launchpad.net/c2d4u.team/c2d4u4.0+/ubuntu bionic/main amd64 Packages [1,073 kB]\n",
            "Get:21 http://archive.ubuntu.com/ubuntu bionic-updates/restricted amd64 Packages [1,141 kB]\n",
            "Get:22 http://archive.ubuntu.com/ubuntu bionic-updates/main amd64 Packages [3,369 kB]\n",
            "Get:23 http://archive.ubuntu.com/ubuntu bionic-updates/universe amd64 Packages [2,310 kB]\n",
            "Get:24 http://ppa.launchpad.net/deadsnakes/ppa/ubuntu bionic/main amd64 Packages [45.3 kB]\n",
            "Get:25 http://ppa.launchpad.net/graphics-drivers/ppa/ubuntu bionic/main amd64 Packages [47.7 kB]\n",
            "Fetched 17.0 MB in 8s (2,239 kB/s)\n",
            "Reading package lists... Done\n"
          ]
        }
      ],
      "source": [
        "# Activate Spark in our Colab notebook.\n",
        "import os\n",
        "# Find the latest version of spark 3.0  from http://www.apache.org/dist/spark/ and enter as the spark version\n",
        "# For example: 'spark-3.2.2'\n",
        "spark_version = 'spark-3.2.2'\n",
        "# spark_version = 'spark-3.<enter version>'\n",
        "os.environ['SPARK_VERSION']=spark_version\n",
        "\n",
        "# Install Spark and Java\n",
        "!apt-get update\n",
        "!apt-get install openjdk-11-jdk-headless -qq > /dev/null\n",
        "!wget -q http://www.apache.org/dist/spark/$SPARK_VERSION/$SPARK_VERSION-bin-hadoop3.2.tgz\n",
        "!tar xf $SPARK_VERSION-bin-hadoop3.2.tgz\n",
        "!pip install -q findspark\n",
        "\n",
        "# Set Environment Variables\n",
        "os.environ[\"JAVA_HOME\"] = \"/usr/lib/jvm/java-11-openjdk-amd64\"\n",
        "os.environ[\"SPARK_HOME\"] = f\"/content/{spark_version}-bin-hadoop3.2\"\n",
        "\n",
        "# Start a SparkSession\n",
        "import findspark\n",
        "findspark.init()"
      ]
    },
    {
      "cell_type": "code",
      "execution_count": 2,
      "metadata": {
        "id": "qjGl3cUSl9-m"
      },
      "outputs": [],
      "source": [
        "# Import the Spark dependencies.\n",
        "from pyspark.sql import SparkSession\n",
        "from pyspark.sql import Row\n",
        "from pyspark.sql.types import StructType,StructField, StringType, IntegerType\n",
        "\n",
        "# Create a SparkSession\n",
        "spark = SparkSession.builder.appName(\"SparkSQL\").getOrCreate()"
      ]
    },
    {
      "cell_type": "code",
      "execution_count": 3,
      "metadata": {
        "colab": {
          "base_uri": "https://localhost:8080/"
        },
        "id": "bDcJsnhdmgxs",
        "outputId": "ce174af0-747b-4174-ac0d-4494396e7690"
      },
      "outputs": [
        {
          "output_type": "stream",
          "name": "stdout",
          "text": [
            "Mounted at /content/drive\n"
          ]
        }
      ],
      "source": [
        "from google.colab import drive\n",
        "drive.mount('/content/drive')"
      ]
    },
    {
      "cell_type": "code",
      "execution_count": 5,
      "metadata": {
        "id": "uKCB86iOmrtI"
      },
      "outputs": [],
      "source": [
        "# You have to include the full link to the csv file containing your dataset.\n",
        "employee_data_filePath='/content/drive/MyDrive/Data/employee_data.csv'\n",
        "# Create a DataFrame with your data.\n",
        "lookup_Jobrole_filePath='/content/drive/MyDrive/Data/JobRole_lookup.csv'"
      ]
    },
    {
      "cell_type": "code",
      "execution_count": 6,
      "metadata": {
        "colab": {
          "base_uri": "https://localhost:8080/"
        },
        "id": "9sq2h7dXnxSI",
        "outputId": "eb1a2475-8fdf-4bad-cf22-e7fb83f32792"
      },
      "outputs": [
        {
          "output_type": "stream",
          "name": "stdout",
          "text": [
            "root\n",
            " |-- Age: string (nullable = true)\n",
            " |-- Attrition: string (nullable = true)\n",
            " |-- BusinessTravel: string (nullable = true)\n",
            " |-- DailyRate: string (nullable = true)\n",
            " |-- Department: string (nullable = true)\n",
            " |-- DistanceFromHome: string (nullable = true)\n",
            " |-- Education: string (nullable = true)\n",
            " |-- EducationField: string (nullable = true)\n",
            " |-- EmployeeCount: string (nullable = true)\n",
            " |-- EmployeeNumber: string (nullable = true)\n",
            " |-- EnvironmentSatisfaction: string (nullable = true)\n",
            " |-- Gender: string (nullable = true)\n",
            " |-- HourlyRate: string (nullable = true)\n",
            " |-- JobInvolvement: string (nullable = true)\n",
            " |-- JobLevel: string (nullable = true)\n",
            " |-- JobRole: string (nullable = true)\n",
            " |-- JobSatisfaction: string (nullable = true)\n",
            " |-- MaritalStatus: string (nullable = true)\n",
            " |-- MonthlyIncome: string (nullable = true)\n",
            " |-- MonthlyRate: string (nullable = true)\n",
            " |-- NumCompaniesWorked: string (nullable = true)\n",
            " |-- Over18: string (nullable = true)\n",
            " |-- OverTime: string (nullable = true)\n",
            " |-- PercentSalaryHike: string (nullable = true)\n",
            " |-- PerformanceRating: string (nullable = true)\n",
            " |-- RelationshipSatisfaction: string (nullable = true)\n",
            " |-- StandardHours: string (nullable = true)\n",
            " |-- StockOptionLevel: string (nullable = true)\n",
            " |-- TotalWorkingYears: string (nullable = true)\n",
            " |-- TrainingTimesLastYear: string (nullable = true)\n",
            " |-- WorkLifeBalance: string (nullable = true)\n",
            " |-- YearsAtCompany: string (nullable = true)\n",
            " |-- YearsInCurrentRole: string (nullable = true)\n",
            " |-- YearsSinceLastPromotion: string (nullable = true)\n",
            " |-- YearsWithCurr7: string (nullable = true)\n",
            "\n"
          ]
        }
      ],
      "source": [
        "# If your data has a header you can have Spark retrieve it\n",
        "# And, we can also save a step by printing the Schema too.\n",
        "employee_df=(spark.read\n",
        "           .option(\"header\",\"true\")\n",
        "           .csv(employee_data_filePath)\n",
        "                      )\n",
        "\n",
        "employee_df.printSchema()\n",
        "#Better but notices it's all strings so let's do one more thing"
      ]
    },
    {
      "cell_type": "code",
      "execution_count": 7,
      "metadata": {
        "colab": {
          "base_uri": "https://localhost:8080/"
        },
        "id": "9CHxMjmUoVki",
        "outputId": "a13c0efc-12b3-4388-f65f-68fff2a02eb3"
      },
      "outputs": [
        {
          "output_type": "stream",
          "name": "stdout",
          "text": [
            "root\n",
            " |-- Age: integer (nullable = true)\n",
            " |-- Attrition: string (nullable = true)\n",
            " |-- BusinessTravel: string (nullable = true)\n",
            " |-- DailyRate: integer (nullable = true)\n",
            " |-- Department: string (nullable = true)\n",
            " |-- DistanceFromHome: integer (nullable = true)\n",
            " |-- Education: integer (nullable = true)\n",
            " |-- EducationField: string (nullable = true)\n",
            " |-- EmployeeCount: integer (nullable = true)\n",
            " |-- EmployeeNumber: integer (nullable = true)\n",
            " |-- EnvironmentSatisfaction: integer (nullable = true)\n",
            " |-- Gender: string (nullable = true)\n",
            " |-- HourlyRate: integer (nullable = true)\n",
            " |-- JobInvolvement: integer (nullable = true)\n",
            " |-- JobLevel: integer (nullable = true)\n",
            " |-- JobRole: integer (nullable = true)\n",
            " |-- JobSatisfaction: integer (nullable = true)\n",
            " |-- MaritalStatus: string (nullable = true)\n",
            " |-- MonthlyIncome: integer (nullable = true)\n",
            " |-- MonthlyRate: integer (nullable = true)\n",
            " |-- NumCompaniesWorked: integer (nullable = true)\n",
            " |-- Over18: string (nullable = true)\n",
            " |-- OverTime: string (nullable = true)\n",
            " |-- PercentSalaryHike: integer (nullable = true)\n",
            " |-- PerformanceRating: integer (nullable = true)\n",
            " |-- RelationshipSatisfaction: integer (nullable = true)\n",
            " |-- StandardHours: integer (nullable = true)\n",
            " |-- StockOptionLevel: integer (nullable = true)\n",
            " |-- TotalWorkingYears: integer (nullable = true)\n",
            " |-- TrainingTimesLastYear: integer (nullable = true)\n",
            " |-- WorkLifeBalance: integer (nullable = true)\n",
            " |-- YearsAtCompany: integer (nullable = true)\n",
            " |-- YearsInCurrentRole: integer (nullable = true)\n",
            " |-- YearsSinceLastPromotion: integer (nullable = true)\n",
            " |-- YearsWithCurr7: integer (nullable = true)\n",
            "\n"
          ]
        }
      ],
      "source": [
        "# Read with headers and \"infer\" schema\n",
        "employee_df=(spark.read\n",
        "           .option(\"header\",\"true\")\n",
        "           .option(\"inferSchema\", \"true\")\n",
        "           .csv(employee_data_filePath)\n",
        "           )\n",
        "\n",
        "employee_df.printSchema()\n",
        "# This gives us a much better output.\n",
        "# Note: this isn't always enough, there may be times when you have to define the schema or even convert the data types after reading. \n",
        "# You will get much better load performance if you provide a schema"
      ]
    },
    {
      "cell_type": "code",
      "execution_count": 8,
      "metadata": {
        "id": "WTG38FdCkyjV"
      },
      "outputs": [],
      "source": [
        "# Here we have defined the schema of the spark DataFrame we intend to build from the csv.\n",
        "empSchema= StructType(  \n",
        "                        [StructField(\"Age\",  IntegerType(), True),\n",
        "                            StructField(\"Attrition\",  StringType(), True),\n",
        "                            StructField(\"BusinessTravel\",  StringType(), True),\n",
        "                            StructField(\"DailyRate\",  IntegerType(), True),\n",
        "                            StructField(\"Department\",  StringType(), True),\n",
        "                            StructField(\"DistanceFromHome\",  IntegerType(), True),\n",
        "                            StructField(\"Education\",  IntegerType(), True),\n",
        "                            StructField(\"EducationField\",  StringType(), True),\n",
        "                            StructField(\"EmployeeCount\",  IntegerType(), True),\n",
        "                            StructField(\"EmployeeNumber\",  IntegerType(), True),\n",
        "                            StructField(\"EnvironmentSatisfaction\",  IntegerType(), True),\n",
        "                            StructField(\"Gender\",  StringType(), True),\n",
        "                            StructField(\"HourlyRate\",  IntegerType(), True),\n",
        "                            StructField(\"JobInvolvement\",  IntegerType(), True),\n",
        "                            StructField(\"JobLevel\",  IntegerType(), True),\n",
        "                            StructField(\"JobRole\",  IntegerType(), True),\n",
        "                            StructField(\"JobSatisfaction\",  IntegerType(), True),\n",
        "                            StructField(\"MaritalStatus\",  StringType(), True),\n",
        "                            StructField(\"MonthlyIncome\",  IntegerType(), True),\n",
        "                            StructField(\"MonthlyRate\",  IntegerType(), True),\n",
        "                            StructField(\"NumCompaniesWorked\",  IntegerType(), True),\n",
        "                            StructField(\"Over18\",  StringType(), True),\n",
        "                            StructField(\"OverTime\",  StringType(), True),\n",
        "                            StructField(\"PercentSalaryHike\",  IntegerType(), True),\n",
        "                            StructField(\"PerformanceRating\",  IntegerType(), True),\n",
        "                            StructField(\"RelationshipSatisfaction\",  IntegerType(), True),\n",
        "                            StructField(\"StandardHours\",  IntegerType(), True),\n",
        "                            StructField(\"StockOptionLevel\",  IntegerType(), True),\n",
        "                            StructField(\"TotalWorkingYears\",  IntegerType(), True),\n",
        "                            StructField(\"TrainingTimesLastYear\",  IntegerType(), True),\n",
        "                            StructField(\"WorkLifeBalance\",  IntegerType(), True),\n",
        "                            StructField(\"YearsAtCompany\",  IntegerType(), True),\n",
        "                            StructField(\"YearsInCurrentRole\",  IntegerType(), True),\n",
        "                            StructField(\"YearsSinceLastPromotion\",  IntegerType(), True),\n",
        "                            StructField(\"YearsWithCurr7\",  IntegerType(), True)\n",
        "                        ]\n",
        ")\n"
      ]
    },
    {
      "cell_type": "code",
      "execution_count": 9,
      "metadata": {
        "colab": {
          "base_uri": "https://localhost:8080/"
        },
        "id": "iIwAOQjJvDaN",
        "outputId": "c5bde783-5586-43f9-f7f6-58f4f064f606"
      },
      "outputs": [
        {
          "output_type": "stream",
          "name": "stdout",
          "text": [
            "root\n",
            " |-- Age: integer (nullable = true)\n",
            " |-- Attrition: string (nullable = true)\n",
            " |-- BusinessTravel: string (nullable = true)\n",
            " |-- DailyRate: integer (nullable = true)\n",
            " |-- Department: string (nullable = true)\n",
            " |-- DistanceFromHome: integer (nullable = true)\n",
            " |-- Education: integer (nullable = true)\n",
            " |-- EducationField: string (nullable = true)\n",
            " |-- EmployeeCount: integer (nullable = true)\n",
            " |-- EmployeeNumber: integer (nullable = true)\n",
            " |-- EnvironmentSatisfaction: integer (nullable = true)\n",
            " |-- Gender: string (nullable = true)\n",
            " |-- HourlyRate: integer (nullable = true)\n",
            " |-- JobInvolvement: integer (nullable = true)\n",
            " |-- JobLevel: integer (nullable = true)\n",
            " |-- JobRole: integer (nullable = true)\n",
            " |-- JobSatisfaction: integer (nullable = true)\n",
            " |-- MaritalStatus: string (nullable = true)\n",
            " |-- MonthlyIncome: integer (nullable = true)\n",
            " |-- MonthlyRate: integer (nullable = true)\n",
            " |-- NumCompaniesWorked: integer (nullable = true)\n",
            " |-- Over18: string (nullable = true)\n",
            " |-- OverTime: string (nullable = true)\n",
            " |-- PercentSalaryHike: integer (nullable = true)\n",
            " |-- PerformanceRating: integer (nullable = true)\n",
            " |-- RelationshipSatisfaction: integer (nullable = true)\n",
            " |-- StandardHours: integer (nullable = true)\n",
            " |-- StockOptionLevel: integer (nullable = true)\n",
            " |-- TotalWorkingYears: integer (nullable = true)\n",
            " |-- TrainingTimesLastYear: integer (nullable = true)\n",
            " |-- WorkLifeBalance: integer (nullable = true)\n",
            " |-- YearsAtCompany: integer (nullable = true)\n",
            " |-- YearsInCurrentRole: integer (nullable = true)\n",
            " |-- YearsSinceLastPromotion: integer (nullable = true)\n",
            " |-- YearsWithCurr7: integer (nullable = true)\n",
            "\n"
          ]
        }
      ],
      "source": [
        "# Here we are reading in the file with the defined schema.\n",
        "employee_df=(spark.read\n",
        "           .option(\"header\",\"true\")\n",
        "           .schema(empSchema)\n",
        "           .csv(employee_data_filePath)\n",
        "           )\n",
        "\n",
        "employee_df.printSchema()"
      ]
    },
    {
      "cell_type": "code",
      "execution_count": 10,
      "metadata": {
        "colab": {
          "base_uri": "https://localhost:8080/"
        },
        "id": "aYo83u08pPTe",
        "outputId": "c2027887-c134-493c-d1a3-d1a960407e8f"
      },
      "outputs": [
        {
          "output_type": "stream",
          "name": "stdout",
          "text": [
            "+---+---------+-----------------+---------+--------------------+----------------+---------+--------------+-------------+--------------+-----------------------+------+----------+--------------+--------+-------+---------------+-------------+-------------+-----------+------------------+------+--------+-----------------+-----------------+------------------------+-------------+----------------+-----------------+---------------------+---------------+--------------+------------------+-----------------------+--------------+\n",
            "|Age|Attrition|   BusinessTravel|DailyRate|          Department|DistanceFromHome|Education|EducationField|EmployeeCount|EmployeeNumber|EnvironmentSatisfaction|Gender|HourlyRate|JobInvolvement|JobLevel|JobRole|JobSatisfaction|MaritalStatus|MonthlyIncome|MonthlyRate|NumCompaniesWorked|Over18|OverTime|PercentSalaryHike|PerformanceRating|RelationshipSatisfaction|StandardHours|StockOptionLevel|TotalWorkingYears|TrainingTimesLastYear|WorkLifeBalance|YearsAtCompany|YearsInCurrentRole|YearsSinceLastPromotion|YearsWithCurr7|\n",
            "+---+---------+-----------------+---------+--------------------+----------------+---------+--------------+-------------+--------------+-----------------------+------+----------+--------------+--------+-------+---------------+-------------+-------------+-----------+------------------+------+--------+-----------------+-----------------+------------------------+-------------+----------------+-----------------+---------------------+---------------+--------------+------------------+-----------------------+--------------+\n",
            "| 41|      Yes|    Travel_Rarely|     1102|               Sales|               1|        2| Life Sciences|            1|             1|                      2|Female|        94|             3|       2|      1|              4|       Single|         5993|      19479|                 8|     Y|     Yes|               11|                3|                       1|           80|               0|                8|                    0|              1|             6|                 4|                      0|             5|\n",
            "| 49|       No|Travel_Frequently|      279|Research & Develo...|               8|        1| Life Sciences|            1|             2|                      3|  Male|        61|             2|       2|      6|              2|      Married|         5130|      24907|                 1|     Y|      No|               23|                4|                       4|           80|               1|               10|                    3|              3|            10|                 7|                      1|             7|\n",
            "| 37|      Yes|    Travel_Rarely|     1373|Research & Develo...|               2|        2|         Other|            1|             4|                      4|  Male|        92|             2|       1|      3|              3|       Single|         2090|       2396|                 6|     Y|     Yes|               15|                3|                       2|           80|               0|                7|                    3|              3|             0|                 0|                      0|             0|\n",
            "| 33|       No|Travel_Frequently|     1392|Research & Develo...|               3|        4| Life Sciences|            1|             5|                      4|Female|        56|             3|       1|      6|              3|      Married|         2909|      23159|                 1|     Y|     Yes|               11|                3|                       3|           80|               0|                8|                    3|              3|             8|                 7|                      3|             0|\n",
            "| 27|       No|    Travel_Rarely|      591|Research & Develo...|               2|        1|       Medical|            1|             7|                      1|  Male|        40|             3|       1|      3|              2|      Married|         3468|      16632|                 9|     Y|      No|               12|                3|                       4|           80|               1|                6|                    3|              3|             2|                 2|                      2|             2|\n",
            "| 32|       No|Travel_Frequently|     1005|Research & Develo...|               2|        2| Life Sciences|            1|             8|                      4|  Male|        79|             3|       1|      3|              4|       Single|         3068|      11864|                 0|     Y|      No|               13|                3|                       3|           80|               0|                8|                    2|              2|             7|                 7|                      3|             6|\n",
            "| 59|       No|    Travel_Rarely|     1324|Research & Develo...|               3|        3|       Medical|            1|            10|                      3|Female|        81|             4|       1|      3|              1|      Married|         2670|       9964|                 4|     Y|     Yes|               20|                4|                       1|           80|               3|               12|                    3|              2|             1|                 0|                      0|             0|\n",
            "| 30|       No|    Travel_Rarely|     1358|Research & Develo...|              24|        1| Life Sciences|            1|            11|                      4|  Male|        67|             3|       1|      3|              3|     Divorced|         2693|      13335|                 1|     Y|      No|               22|                4|                       2|           80|               1|                1|                    2|              3|             1|                 0|                      0|             0|\n",
            "| 38|       No|Travel_Frequently|      216|Research & Develo...|              23|        3| Life Sciences|            1|            12|                      4|  Male|        44|             2|       3|      2|              3|       Single|         9526|       8787|                 0|     Y|      No|               21|                4|                       2|           80|               0|               10|                    2|              3|             9|                 7|                      1|             8|\n",
            "| 36|       No|    Travel_Rarely|     1299|Research & Develo...|              27|        3|       Medical|            1|            13|                      3|  Male|        94|             3|       2|      5|              3|      Married|         5237|      16577|                 6|     Y|      No|               13|                3|                       2|           80|               2|               17|                    3|              2|             7|                 7|                      7|             7|\n",
            "| 35|       No|    Travel_Rarely|      809|Research & Develo...|              16|        3|       Medical|            1|            14|                      1|  Male|        84|             4|       1|      3|              2|      Married|         2426|      16479|                 0|     Y|      No|               13|                3|                       3|           80|               1|                6|                    5|              3|             5|                 4|                      0|             3|\n",
            "| 29|       No|    Travel_Rarely|      153|Research & Develo...|              15|        2| Life Sciences|            1|            15|                      4|Female|        49|             2|       2|      3|              3|       Single|         4193|      12682|                 0|     Y|     Yes|               12|                3|                       4|           80|               0|               10|                    3|              3|             9|                 5|                      0|             8|\n",
            "| 31|       No|    Travel_Rarely|      670|Research & Develo...|              26|        1| Life Sciences|            1|            16|                      1|  Male|        31|             3|       1|      6|              3|     Divorced|         2911|      15170|                 1|     Y|      No|               17|                3|                       4|           80|               1|                5|                    1|              2|             5|                 2|                      4|             3|\n",
            "| 34|       No|    Travel_Rarely|     1346|Research & Develo...|              19|        2|       Medical|            1|            18|                      2|  Male|        93|             3|       1|      3|              4|     Divorced|         2661|       8758|                 0|     Y|      No|               11|                3|                       3|           80|               1|                3|                    2|              3|             2|                 2|                      1|             2|\n",
            "| 28|      Yes|    Travel_Rarely|      103|Research & Develo...|              24|        3| Life Sciences|            1|            19|                      3|  Male|        50|             2|       1|      3|              3|       Single|         2028|      12947|                 5|     Y|     Yes|               14|                3|                       2|           80|               0|                6|                    4|              3|             4|                 2|                      0|             3|\n",
            "| 29|       No|    Travel_Rarely|     1389|Research & Develo...|              21|        4| Life Sciences|            1|            20|                      2|Female|        51|             4|       3|      2|              1|     Divorced|         9980|      10195|                 1|     Y|      No|               11|                3|                       3|           80|               1|               10|                    1|              3|            10|                 9|                      8|             8|\n",
            "| 32|       No|    Travel_Rarely|      334|Research & Develo...|               5|        2| Life Sciences|            1|            21|                      1|  Male|        80|             4|       1|      6|              2|     Divorced|         3298|      15053|                 0|     Y|     Yes|               12|                3|                       4|           80|               2|                7|                    5|              2|             6|                 2|                      0|             5|\n",
            "| 22|       No|       Non-Travel|     1123|Research & Develo...|              16|        2|       Medical|            1|            22|                      4|  Male|        96|             4|       1|      3|              4|     Divorced|         2935|       7324|                 1|     Y|     Yes|               13|                3|                       2|           80|               2|                1|                    2|              2|             1|                 0|                      0|             0|\n",
            "| 53|       No|    Travel_Rarely|     1219|               Sales|               2|        4| Life Sciences|            1|            23|                      1|Female|        78|             2|       4|      7|              4|      Married|        15427|      22021|                 2|     Y|      No|               16|                3|                       3|           80|               0|               31|                    3|              3|            25|                 8|                      3|             7|\n",
            "| 38|       No|    Travel_Rarely|      371|Research & Develo...|               2|        3| Life Sciences|            1|            24|                      4|  Male|        45|             3|       1|      6|              4|       Single|         3944|       4306|                 5|     Y|     Yes|               11|                3|                       3|           80|               0|                6|                    3|              3|             3|                 2|                      1|             2|\n",
            "+---+---------+-----------------+---------+--------------------+----------------+---------+--------------+-------------+--------------+-----------------------+------+----------+--------------+--------+-------+---------------+-------------+-------------+-----------+------------------+------+--------+-----------------+-----------------+------------------------+-------------+----------------+-----------------+---------------------+---------------+--------------+------------------+-----------------------+--------------+\n",
            "only showing top 20 rows\n",
            "\n"
          ]
        }
      ],
      "source": [
        "# Let's look at example of querying our data with PySpark\n",
        "employee_df.show()"
      ]
    },
    {
      "cell_type": "code",
      "execution_count": 11,
      "metadata": {
        "colab": {
          "base_uri": "https://localhost:8080/"
        },
        "id": "ZAwYu-2GptPG",
        "outputId": "5761a210-7bad-492b-8a11-10baf3861270"
      },
      "outputs": [
        {
          "output_type": "stream",
          "name": "stdout",
          "text": [
            "+---+---------+-----------------+---------+--------------------+----------------+---------+----------------+-------------+--------------+-----------------------+------+----------+--------------+--------+-------+---------------+-------------+-------------+-----------+------------------+------+--------+-----------------+-----------------+------------------------+-------------+----------------+-----------------+---------------------+---------------+--------------+------------------+-----------------------+--------------+\n",
            "|Age|Attrition|   BusinessTravel|DailyRate|          Department|DistanceFromHome|Education|  EducationField|EmployeeCount|EmployeeNumber|EnvironmentSatisfaction|Gender|HourlyRate|JobInvolvement|JobLevel|JobRole|JobSatisfaction|MaritalStatus|MonthlyIncome|MonthlyRate|NumCompaniesWorked|Over18|OverTime|PercentSalaryHike|PerformanceRating|RelationshipSatisfaction|StandardHours|StockOptionLevel|TotalWorkingYears|TrainingTimesLastYear|WorkLifeBalance|YearsAtCompany|YearsInCurrentRole|YearsSinceLastPromotion|YearsWithCurr7|\n",
            "+---+---------+-----------------+---------+--------------------+----------------+---------+----------------+-------------+--------------+-----------------------+------+----------+--------------+--------+-------+---------------+-------------+-------------+-----------+------------------+------+--------+-----------------+-----------------+------------------------+-------------+----------------+-----------------+---------------------+---------------+--------------+------------------+-----------------------+--------------+\n",
            "| 49|       No|Travel_Frequently|      279|Research & Develo...|               8|        1|   Life Sciences|            1|             2|                      3|  Male|        61|             2|       2|      6|              2|      Married|         5130|      24907|                 1|     Y|      No|               23|                4|                       4|           80|               1|               10|                    3|              3|            10|                 7|                      1|             7|\n",
            "| 27|       No|    Travel_Rarely|      591|Research & Develo...|               2|        1|         Medical|            1|             7|                      1|  Male|        40|             3|       1|      3|              2|      Married|         3468|      16632|                 9|     Y|      No|               12|                3|                       4|           80|               1|                6|                    3|              3|             2|                 2|                      2|             2|\n",
            "| 30|       No|    Travel_Rarely|     1358|Research & Develo...|              24|        1|   Life Sciences|            1|            11|                      4|  Male|        67|             3|       1|      3|              3|     Divorced|         2693|      13335|                 1|     Y|      No|               22|                4|                       2|           80|               1|                1|                    2|              3|             1|                 0|                      0|             0|\n",
            "| 31|       No|    Travel_Rarely|      670|Research & Develo...|              26|        1|   Life Sciences|            1|            16|                      1|  Male|        31|             3|       1|      6|              3|     Divorced|         2911|      15170|                 1|     Y|      No|               17|                3|                       4|           80|               1|                5|                    1|              2|             5|                 2|                      4|             3|\n",
            "| 34|      Yes|    Travel_Rarely|      699|Research & Develo...|               6|        1|         Medical|            1|            31|                      2|  Male|        83|             3|       1|      6|              1|       Single|         2960|      17102|                 2|     Y|      No|               11|                3|                       3|           80|               0|                8|                    2|              3|             4|                 2|                      1|             3|\n",
            "| 32|      Yes|Travel_Frequently|     1125|Research & Develo...|              16|        1|   Life Sciences|            1|            33|                      2|Female|        72|             1|       1|      6|              1|       Single|         3919|       4681|                 1|     Y|     Yes|               22|                4|                       2|           80|               0|               10|                    5|              3|            10|                 2|                      6|             7|\n",
            "| 35|       No|    Travel_Rarely|     1229|Research & Develo...|               8|        1|   Life Sciences|            1|            63|                      4|  Male|        36|             4|       1|      3|              4|      Married|         2269|       4892|                 1|     Y|      No|               19|                3|                       4|           80|               0|                1|                    2|              3|             1|                 0|                      0|             1|\n",
            "| 59|       No|Travel_Frequently|     1225|               Sales|               1|        1|   Life Sciences|            1|            91|                      1|Female|        57|             2|       2|      1|              3|       Single|         5473|      24668|                 7|     Y|      No|               11|                3|                       4|           80|               0|               20|                    2|              2|             4|                 3|                      1|             3|\n",
            "| 30|       No|    Travel_Rarely|      852|Research & Develo...|               1|        1|   Life Sciences|            1|           104|                      4|  Male|        55|             2|       2|      3|              4|      Married|         5126|      15998|                 1|     Y|     Yes|               12|                3|                       3|           80|               2|               10|                    1|              2|            10|                 8|                      3|             0|\n",
            "| 23|       No|    Travel_Rarely|      541|               Sales|               2|        1|Technical Degree|            1|           113|                      3|  Male|        62|             3|       1|      4|              1|     Divorced|         2322|       9518|                 3|     Y|      No|               13|                3|                       3|           80|               1|                3|                    3|              3|             0|                 0|                      0|             0|\n",
            "| 32|       No|    Travel_Rarely|      827|Research & Develo...|               1|        1|   Life Sciences|            1|           134|                      4|  Male|        71|             3|       1|      6|              1|       Single|         2956|      15178|                 1|     Y|      No|               13|                3|                       4|           80|               0|                1|                    2|              3|             1|                 0|                      0|             0|\n",
            "| 25|       No|    Travel_Rarely|     1280|Research & Develo...|               7|        1|         Medical|            1|           143|                      4|  Male|        64|             2|       1|      6|              4|      Married|         2889|      26897|                 1|     Y|      No|               11|                3|                       3|           80|               2|                2|                    2|              3|             2|                 2|                      2|             1|\n",
            "| 24|       No|    Travel_Rarely|     1127|Research & Develo...|              18|        1|   Life Sciences|            1|           150|                      2|  Male|        52|             3|       1|      3|              3|      Married|         2774|      13257|                 0|     Y|      No|               12|                3|                       3|           80|               1|                6|                    2|              3|             5|                 3|                      1|             2|\n",
            "| 19|      Yes|    Travel_Rarely|      528|               Sales|              22|        1|       Marketing|            1|           167|                      4|  Male|        50|             3|       1|      4|              3|       Single|         1675|      26820|                 1|     Y|     Yes|               19|                3|                       4|           80|               0|                0|                    2|              2|             0|                 0|                      0|             0|\n",
            "| 22|       No|    Travel_Rarely|      594|Research & Develo...|               2|        1|Technical Degree|            1|           169|                      3|  Male|       100|             3|       1|      3|              4|      Married|         2523|      19299|                 0|     Y|      No|               14|                3|                       3|           80|               1|                3|                    2|              3|             2|                 1|                      2|             1|\n",
            "| 41|       No|    Travel_Rarely|      802|               Sales|               9|        1|   Life Sciences|            1|           176|                      3|  Male|        96|             3|       3|      1|              3|     Divorced|         8189|      21196|                 3|     Y|     Yes|               13|                3|                       3|           80|               1|               12|                    2|              3|             9|                 7|                      0|             7|\n",
            "| 26|       No|    Travel_Rarely|     1355|                   9|              25|        1|   Life Sciences|            1|           177|                      3|Female|        61|             3|       1|      9|              3|      Married|         2942|       8916|                 1|     Y|      No|               23|                4|                       4|           80|               1|                8|                    3|              3|             8|                 7|                      5|             7|\n",
            "| 30|       No|    Travel_Rarely|     1427|Research & Develo...|               2|        1|         Medical|            1|           198|                      2|  Male|        35|             2|       1|      3|              4|       Single|         2720|      11162|                 0|     Y|      No|               13|                3|                       4|           80|               0|                6|                    3|              3|             5|                 3|                      1|             2|\n",
            "| 19|       No|    Travel_Rarely|     1181|Research & Develo...|               3|        1|         Medical|            1|           201|                      2|Female|        79|             3|       1|      3|              2|       Single|         1483|      16102|                 1|     Y|      No|               14|                3|                       4|           80|               0|                1|                    3|              3|             1|                 0|                      0|             0|\n",
            "| 29|       No|       Non-Travel|     1496|Research & Develo...|               1|        1|Technical Degree|            1|           208|                      4|  Male|        41|             3|       2|      2|              3|      Married|         4319|      26283|                 1|     Y|      No|               13|                3|                       1|           80|               1|               10|                    1|              3|            10|                 7|                      0|             9|\n",
            "+---+---------+-----------------+---------+--------------------+----------------+---------+----------------+-------------+--------------+-----------------------+------+----------+--------------+--------+-------+---------------+-------------+-------------+-----------+------------------+------+--------+-----------------+-----------------+------------------------+-------------+----------------+-----------------+---------------------+---------------+--------------+------------------+-----------------------+--------------+\n",
            "only showing top 20 rows\n",
            "\n"
          ]
        }
      ],
      "source": [
        "# Let's do a simple filter using PySpark.\n",
        "employee_df.filter(employee_df.Education==1).show()"
      ]
    },
    {
      "cell_type": "code",
      "execution_count": 12,
      "metadata": {
        "colab": {
          "base_uri": "https://localhost:8080/"
        },
        "id": "-GQWxEmMxcny",
        "outputId": "a1acd282-a59a-4d63-ea4b-42e22d72d9e5"
      },
      "outputs": [
        {
          "output_type": "stream",
          "name": "stdout",
          "text": [
            "+--------+---------+\n",
            "|JobLevel|totalRate|\n",
            "+--------+---------+\n",
            "|       1|   436490|\n",
            "|       3|   180888|\n",
            "|       5|    56266|\n",
            "|       4|    82092|\n",
            "|       2|   423918|\n",
            "+--------+---------+\n",
            "\n"
          ]
        }
      ],
      "source": [
        "# Lets sum up the DailyRate by JobLevel and make sure our output column as an easy to read name.\n",
        "(employee_df.groupby(\"JobLevel\")\n",
        "          .sum(\"DailyRate\")\n",
        "          .withColumnRenamed(\"sum(DailyRate)\",\"totalRate\")\n",
        "          .show()\n",
        ")"
      ]
    },
    {
      "cell_type": "markdown",
      "metadata": {
        "id": "BtJRIRn7zCxS"
      },
      "source": [
        "While neither of these were too terribly difficult, imagine you had very little Python skill and TONS of SQL.  We can facilitate the SQL expert by making the DataFrame into a view."
      ]
    },
    {
      "cell_type": "code",
      "execution_count": 13,
      "metadata": {
        "id": "Gdbxtoq9yY5o"
      },
      "outputs": [],
      "source": [
        "# Now let's take our DataFrame and tell Spark that we want to be able to query it with SQL\n",
        "# # To do this we are going to chain our DataFrame .createOrReplaceTempView(<temptableName>).\n",
        "employee_df.createOrReplaceTempView('employee')"
      ]
    },
    {
      "cell_type": "code",
      "execution_count": 14,
      "metadata": {
        "colab": {
          "base_uri": "https://localhost:8080/"
        },
        "id": "87QsFFC_zX_V",
        "outputId": "21bef7ba-548d-4730-bad8-c7b76bb46810"
      },
      "outputs": [
        {
          "output_type": "stream",
          "name": "stdout",
          "text": [
            "+---+---------+-----------------+---------+--------------------+----------------+---------+--------------+-------------+--------------+-----------------------+------+----------+--------------+--------+-------+---------------+-------------+-------------+-----------+------------------+------+--------+-----------------+-----------------+------------------------+-------------+----------------+-----------------+---------------------+---------------+--------------+------------------+-----------------------+--------------+\n",
            "|Age|Attrition|   BusinessTravel|DailyRate|          Department|DistanceFromHome|Education|EducationField|EmployeeCount|EmployeeNumber|EnvironmentSatisfaction|Gender|HourlyRate|JobInvolvement|JobLevel|JobRole|JobSatisfaction|MaritalStatus|MonthlyIncome|MonthlyRate|NumCompaniesWorked|Over18|OverTime|PercentSalaryHike|PerformanceRating|RelationshipSatisfaction|StandardHours|StockOptionLevel|TotalWorkingYears|TrainingTimesLastYear|WorkLifeBalance|YearsAtCompany|YearsInCurrentRole|YearsSinceLastPromotion|YearsWithCurr7|\n",
            "+---+---------+-----------------+---------+--------------------+----------------+---------+--------------+-------------+--------------+-----------------------+------+----------+--------------+--------+-------+---------------+-------------+-------------+-----------+------------------+------+--------+-----------------+-----------------+------------------------+-------------+----------------+-----------------+---------------------+---------------+--------------+------------------+-----------------------+--------------+\n",
            "| 41|      Yes|    Travel_Rarely|     1102|               Sales|               1|        2| Life Sciences|            1|             1|                      2|Female|        94|             3|       2|      1|              4|       Single|         5993|      19479|                 8|     Y|     Yes|               11|                3|                       1|           80|               0|                8|                    0|              1|             6|                 4|                      0|             5|\n",
            "| 49|       No|Travel_Frequently|      279|Research & Develo...|               8|        1| Life Sciences|            1|             2|                      3|  Male|        61|             2|       2|      6|              2|      Married|         5130|      24907|                 1|     Y|      No|               23|                4|                       4|           80|               1|               10|                    3|              3|            10|                 7|                      1|             7|\n",
            "| 37|      Yes|    Travel_Rarely|     1373|Research & Develo...|               2|        2|         Other|            1|             4|                      4|  Male|        92|             2|       1|      3|              3|       Single|         2090|       2396|                 6|     Y|     Yes|               15|                3|                       2|           80|               0|                7|                    3|              3|             0|                 0|                      0|             0|\n",
            "| 33|       No|Travel_Frequently|     1392|Research & Develo...|               3|        4| Life Sciences|            1|             5|                      4|Female|        56|             3|       1|      6|              3|      Married|         2909|      23159|                 1|     Y|     Yes|               11|                3|                       3|           80|               0|                8|                    3|              3|             8|                 7|                      3|             0|\n",
            "| 27|       No|    Travel_Rarely|      591|Research & Develo...|               2|        1|       Medical|            1|             7|                      1|  Male|        40|             3|       1|      3|              2|      Married|         3468|      16632|                 9|     Y|      No|               12|                3|                       4|           80|               1|                6|                    3|              3|             2|                 2|                      2|             2|\n",
            "| 32|       No|Travel_Frequently|     1005|Research & Develo...|               2|        2| Life Sciences|            1|             8|                      4|  Male|        79|             3|       1|      3|              4|       Single|         3068|      11864|                 0|     Y|      No|               13|                3|                       3|           80|               0|                8|                    2|              2|             7|                 7|                      3|             6|\n",
            "| 59|       No|    Travel_Rarely|     1324|Research & Develo...|               3|        3|       Medical|            1|            10|                      3|Female|        81|             4|       1|      3|              1|      Married|         2670|       9964|                 4|     Y|     Yes|               20|                4|                       1|           80|               3|               12|                    3|              2|             1|                 0|                      0|             0|\n",
            "| 30|       No|    Travel_Rarely|     1358|Research & Develo...|              24|        1| Life Sciences|            1|            11|                      4|  Male|        67|             3|       1|      3|              3|     Divorced|         2693|      13335|                 1|     Y|      No|               22|                4|                       2|           80|               1|                1|                    2|              3|             1|                 0|                      0|             0|\n",
            "| 38|       No|Travel_Frequently|      216|Research & Develo...|              23|        3| Life Sciences|            1|            12|                      4|  Male|        44|             2|       3|      2|              3|       Single|         9526|       8787|                 0|     Y|      No|               21|                4|                       2|           80|               0|               10|                    2|              3|             9|                 7|                      1|             8|\n",
            "| 36|       No|    Travel_Rarely|     1299|Research & Develo...|              27|        3|       Medical|            1|            13|                      3|  Male|        94|             3|       2|      5|              3|      Married|         5237|      16577|                 6|     Y|      No|               13|                3|                       2|           80|               2|               17|                    3|              2|             7|                 7|                      7|             7|\n",
            "| 35|       No|    Travel_Rarely|      809|Research & Develo...|              16|        3|       Medical|            1|            14|                      1|  Male|        84|             4|       1|      3|              2|      Married|         2426|      16479|                 0|     Y|      No|               13|                3|                       3|           80|               1|                6|                    5|              3|             5|                 4|                      0|             3|\n",
            "| 29|       No|    Travel_Rarely|      153|Research & Develo...|              15|        2| Life Sciences|            1|            15|                      4|Female|        49|             2|       2|      3|              3|       Single|         4193|      12682|                 0|     Y|     Yes|               12|                3|                       4|           80|               0|               10|                    3|              3|             9|                 5|                      0|             8|\n",
            "| 31|       No|    Travel_Rarely|      670|Research & Develo...|              26|        1| Life Sciences|            1|            16|                      1|  Male|        31|             3|       1|      6|              3|     Divorced|         2911|      15170|                 1|     Y|      No|               17|                3|                       4|           80|               1|                5|                    1|              2|             5|                 2|                      4|             3|\n",
            "| 34|       No|    Travel_Rarely|     1346|Research & Develo...|              19|        2|       Medical|            1|            18|                      2|  Male|        93|             3|       1|      3|              4|     Divorced|         2661|       8758|                 0|     Y|      No|               11|                3|                       3|           80|               1|                3|                    2|              3|             2|                 2|                      1|             2|\n",
            "| 28|      Yes|    Travel_Rarely|      103|Research & Develo...|              24|        3| Life Sciences|            1|            19|                      3|  Male|        50|             2|       1|      3|              3|       Single|         2028|      12947|                 5|     Y|     Yes|               14|                3|                       2|           80|               0|                6|                    4|              3|             4|                 2|                      0|             3|\n",
            "| 29|       No|    Travel_Rarely|     1389|Research & Develo...|              21|        4| Life Sciences|            1|            20|                      2|Female|        51|             4|       3|      2|              1|     Divorced|         9980|      10195|                 1|     Y|      No|               11|                3|                       3|           80|               1|               10|                    1|              3|            10|                 9|                      8|             8|\n",
            "| 32|       No|    Travel_Rarely|      334|Research & Develo...|               5|        2| Life Sciences|            1|            21|                      1|  Male|        80|             4|       1|      6|              2|     Divorced|         3298|      15053|                 0|     Y|     Yes|               12|                3|                       4|           80|               2|                7|                    5|              2|             6|                 2|                      0|             5|\n",
            "| 22|       No|       Non-Travel|     1123|Research & Develo...|              16|        2|       Medical|            1|            22|                      4|  Male|        96|             4|       1|      3|              4|     Divorced|         2935|       7324|                 1|     Y|     Yes|               13|                3|                       2|           80|               2|                1|                    2|              2|             1|                 0|                      0|             0|\n",
            "| 53|       No|    Travel_Rarely|     1219|               Sales|               2|        4| Life Sciences|            1|            23|                      1|Female|        78|             2|       4|      7|              4|      Married|        15427|      22021|                 2|     Y|      No|               16|                3|                       3|           80|               0|               31|                    3|              3|            25|                 8|                      3|             7|\n",
            "| 38|       No|    Travel_Rarely|      371|Research & Develo...|               2|        3| Life Sciences|            1|            24|                      4|  Male|        45|             3|       1|      6|              4|       Single|         3944|       4306|                 5|     Y|     Yes|               11|                3|                       3|           80|               0|                6|                    3|              3|             3|                 2|                      1|             2|\n",
            "+---+---------+-----------------+---------+--------------------+----------------+---------+--------------+-------------+--------------+-----------------------+------+----------+--------------+--------+-------+---------------+-------------+-------------+-----------+------------------+------+--------+-----------------+-----------------+------------------------+-------------+----------------+-----------------+---------------------+---------------+--------------+------------------+-----------------------+--------------+\n",
            "only showing top 20 rows\n",
            "\n"
          ]
        }
      ],
      "source": [
        "# This permits us the ability to query our DataFrame using standard ANSI SQL.\n",
        "spark.sql(\"Select * from employee\").show()"
      ]
    },
    {
      "cell_type": "code",
      "execution_count": 15,
      "metadata": {
        "colab": {
          "base_uri": "https://localhost:8080/"
        },
        "id": "DSs9oYXbzdsO",
        "outputId": "2f19c12a-2507-4530-b359-ba0c0382ec0d"
      },
      "outputs": [
        {
          "output_type": "stream",
          "name": "stdout",
          "text": [
            "+---+---------+-----------------+---------+--------------------+----------------+---------+----------------+-------------+--------------+-----------------------+------+----------+--------------+--------+-------+---------------+-------------+-------------+-----------+------------------+------+--------+-----------------+-----------------+------------------------+-------------+----------------+-----------------+---------------------+---------------+--------------+------------------+-----------------------+--------------+\n",
            "|Age|Attrition|   BusinessTravel|DailyRate|          Department|DistanceFromHome|Education|  EducationField|EmployeeCount|EmployeeNumber|EnvironmentSatisfaction|Gender|HourlyRate|JobInvolvement|JobLevel|JobRole|JobSatisfaction|MaritalStatus|MonthlyIncome|MonthlyRate|NumCompaniesWorked|Over18|OverTime|PercentSalaryHike|PerformanceRating|RelationshipSatisfaction|StandardHours|StockOptionLevel|TotalWorkingYears|TrainingTimesLastYear|WorkLifeBalance|YearsAtCompany|YearsInCurrentRole|YearsSinceLastPromotion|YearsWithCurr7|\n",
            "+---+---------+-----------------+---------+--------------------+----------------+---------+----------------+-------------+--------------+-----------------------+------+----------+--------------+--------+-------+---------------+-------------+-------------+-----------+------------------+------+--------+-----------------+-----------------+------------------------+-------------+----------------+-----------------+---------------------+---------------+--------------+------------------+-----------------------+--------------+\n",
            "| 49|       No|Travel_Frequently|      279|Research & Develo...|               8|        1|   Life Sciences|            1|             2|                      3|  Male|        61|             2|       2|      6|              2|      Married|         5130|      24907|                 1|     Y|      No|               23|                4|                       4|           80|               1|               10|                    3|              3|            10|                 7|                      1|             7|\n",
            "| 27|       No|    Travel_Rarely|      591|Research & Develo...|               2|        1|         Medical|            1|             7|                      1|  Male|        40|             3|       1|      3|              2|      Married|         3468|      16632|                 9|     Y|      No|               12|                3|                       4|           80|               1|                6|                    3|              3|             2|                 2|                      2|             2|\n",
            "| 30|       No|    Travel_Rarely|     1358|Research & Develo...|              24|        1|   Life Sciences|            1|            11|                      4|  Male|        67|             3|       1|      3|              3|     Divorced|         2693|      13335|                 1|     Y|      No|               22|                4|                       2|           80|               1|                1|                    2|              3|             1|                 0|                      0|             0|\n",
            "| 31|       No|    Travel_Rarely|      670|Research & Develo...|              26|        1|   Life Sciences|            1|            16|                      1|  Male|        31|             3|       1|      6|              3|     Divorced|         2911|      15170|                 1|     Y|      No|               17|                3|                       4|           80|               1|                5|                    1|              2|             5|                 2|                      4|             3|\n",
            "| 34|      Yes|    Travel_Rarely|      699|Research & Develo...|               6|        1|         Medical|            1|            31|                      2|  Male|        83|             3|       1|      6|              1|       Single|         2960|      17102|                 2|     Y|      No|               11|                3|                       3|           80|               0|                8|                    2|              3|             4|                 2|                      1|             3|\n",
            "| 32|      Yes|Travel_Frequently|     1125|Research & Develo...|              16|        1|   Life Sciences|            1|            33|                      2|Female|        72|             1|       1|      6|              1|       Single|         3919|       4681|                 1|     Y|     Yes|               22|                4|                       2|           80|               0|               10|                    5|              3|            10|                 2|                      6|             7|\n",
            "| 35|       No|    Travel_Rarely|     1229|Research & Develo...|               8|        1|   Life Sciences|            1|            63|                      4|  Male|        36|             4|       1|      3|              4|      Married|         2269|       4892|                 1|     Y|      No|               19|                3|                       4|           80|               0|                1|                    2|              3|             1|                 0|                      0|             1|\n",
            "| 59|       No|Travel_Frequently|     1225|               Sales|               1|        1|   Life Sciences|            1|            91|                      1|Female|        57|             2|       2|      1|              3|       Single|         5473|      24668|                 7|     Y|      No|               11|                3|                       4|           80|               0|               20|                    2|              2|             4|                 3|                      1|             3|\n",
            "| 30|       No|    Travel_Rarely|      852|Research & Develo...|               1|        1|   Life Sciences|            1|           104|                      4|  Male|        55|             2|       2|      3|              4|      Married|         5126|      15998|                 1|     Y|     Yes|               12|                3|                       3|           80|               2|               10|                    1|              2|            10|                 8|                      3|             0|\n",
            "| 23|       No|    Travel_Rarely|      541|               Sales|               2|        1|Technical Degree|            1|           113|                      3|  Male|        62|             3|       1|      4|              1|     Divorced|         2322|       9518|                 3|     Y|      No|               13|                3|                       3|           80|               1|                3|                    3|              3|             0|                 0|                      0|             0|\n",
            "| 32|       No|    Travel_Rarely|      827|Research & Develo...|               1|        1|   Life Sciences|            1|           134|                      4|  Male|        71|             3|       1|      6|              1|       Single|         2956|      15178|                 1|     Y|      No|               13|                3|                       4|           80|               0|                1|                    2|              3|             1|                 0|                      0|             0|\n",
            "| 25|       No|    Travel_Rarely|     1280|Research & Develo...|               7|        1|         Medical|            1|           143|                      4|  Male|        64|             2|       1|      6|              4|      Married|         2889|      26897|                 1|     Y|      No|               11|                3|                       3|           80|               2|                2|                    2|              3|             2|                 2|                      2|             1|\n",
            "| 24|       No|    Travel_Rarely|     1127|Research & Develo...|              18|        1|   Life Sciences|            1|           150|                      2|  Male|        52|             3|       1|      3|              3|      Married|         2774|      13257|                 0|     Y|      No|               12|                3|                       3|           80|               1|                6|                    2|              3|             5|                 3|                      1|             2|\n",
            "| 19|      Yes|    Travel_Rarely|      528|               Sales|              22|        1|       Marketing|            1|           167|                      4|  Male|        50|             3|       1|      4|              3|       Single|         1675|      26820|                 1|     Y|     Yes|               19|                3|                       4|           80|               0|                0|                    2|              2|             0|                 0|                      0|             0|\n",
            "| 22|       No|    Travel_Rarely|      594|Research & Develo...|               2|        1|Technical Degree|            1|           169|                      3|  Male|       100|             3|       1|      3|              4|      Married|         2523|      19299|                 0|     Y|      No|               14|                3|                       3|           80|               1|                3|                    2|              3|             2|                 1|                      2|             1|\n",
            "| 41|       No|    Travel_Rarely|      802|               Sales|               9|        1|   Life Sciences|            1|           176|                      3|  Male|        96|             3|       3|      1|              3|     Divorced|         8189|      21196|                 3|     Y|     Yes|               13|                3|                       3|           80|               1|               12|                    2|              3|             9|                 7|                      0|             7|\n",
            "| 26|       No|    Travel_Rarely|     1355|                   9|              25|        1|   Life Sciences|            1|           177|                      3|Female|        61|             3|       1|      9|              3|      Married|         2942|       8916|                 1|     Y|      No|               23|                4|                       4|           80|               1|                8|                    3|              3|             8|                 7|                      5|             7|\n",
            "| 30|       No|    Travel_Rarely|     1427|Research & Develo...|               2|        1|         Medical|            1|           198|                      2|  Male|        35|             2|       1|      3|              4|       Single|         2720|      11162|                 0|     Y|      No|               13|                3|                       4|           80|               0|                6|                    3|              3|             5|                 3|                      1|             2|\n",
            "| 19|       No|    Travel_Rarely|     1181|Research & Develo...|               3|        1|         Medical|            1|           201|                      2|Female|        79|             3|       1|      3|              2|       Single|         1483|      16102|                 1|     Y|      No|               14|                3|                       4|           80|               0|                1|                    3|              3|             1|                 0|                      0|             0|\n",
            "| 29|       No|       Non-Travel|     1496|Research & Develo...|               1|        1|Technical Degree|            1|           208|                      4|  Male|        41|             3|       2|      2|              3|      Married|         4319|      26283|                 1|     Y|      No|               13|                3|                       1|           80|               1|               10|                    1|              3|            10|                 7|                      0|             9|\n",
            "+---+---------+-----------------+---------+--------------------+----------------+---------+----------------+-------------+--------------+-----------------------+------+----------+--------------+--------+-------+---------------+-------------+-------------+-----------+------------------+------+--------+-----------------+-----------------+------------------------+-------------+----------------+-----------------+---------------------+---------------+--------------+------------------+-----------------------+--------------+\n",
            "only showing top 20 rows\n",
            "\n"
          ]
        }
      ],
      "source": [
        "# Now let's do a simple filter using PySpark.\n",
        "# Using this example from above: \n",
        "# employee_df.filter(employee_df.Education==1).show() we write:\n",
        "spark.sql(\"\"\"\n",
        "SELECT * FROM employee\n",
        "WHERE Education =1\n",
        "\"\"\").show()\n"
      ]
    },
    {
      "cell_type": "code",
      "execution_count": 16,
      "metadata": {
        "colab": {
          "base_uri": "https://localhost:8080/"
        },
        "id": "9YQ9rB8Hzoq9",
        "outputId": "19c54ed7-3e17-41f9-8567-3019803e95f3"
      },
      "outputs": [
        {
          "output_type": "stream",
          "name": "stdout",
          "text": [
            "+--------+---------+\n",
            "|JobLevel|totalRate|\n",
            "+--------+---------+\n",
            "|       1|   436490|\n",
            "|       3|   180888|\n",
            "|       5|    56266|\n",
            "|       4|    82092|\n",
            "|       2|   423918|\n",
            "+--------+---------+\n",
            "\n"
          ]
        }
      ],
      "source": [
        "# And, this example:\n",
        "# (employee_df.groupby(\"JobLevel\")\n",
        "#           .sum(\"DailyRate\")\n",
        "#           .withColumnRenamed(\"sum(DailyRate)\",\"totalRate\")\n",
        "#           .show()\n",
        "# )\n",
        "# is written as follows:\n",
        "\n",
        "spark.sql(\"\"\"\n",
        "select JobLevel, sum(DailyRate) as totalRate\n",
        "from employee\n",
        "group by 1\"\"\").show()"
      ]
    },
    {
      "cell_type": "code",
      "execution_count": 17,
      "metadata": {
        "id": "cWJaoq3y4gfH"
      },
      "outputs": [],
      "source": [
        "# Let's read in a lookup table for the JobRole column.\n",
        "lookupRole_df=(spark.read\n",
        "              .option(\"header\",\"true\")\n",
        "              .option(\"inferSchema\",\"true\")\n",
        "              .csv(lookup_Jobrole_filePath)\n",
        "              )"
      ]
    },
    {
      "cell_type": "code",
      "execution_count": 18,
      "metadata": {
        "colab": {
          "base_uri": "https://localhost:8080/"
        },
        "id": "CV0H2wgQ_MQC",
        "outputId": "73ff6352-7123-4c14-890c-7c98151623bb"
      },
      "outputs": [
        {
          "output_type": "stream",
          "name": "stdout",
          "text": [
            "root\n",
            " |-- role_id: integer (nullable = true)\n",
            " |-- roleName: string (nullable = true)\n",
            "\n"
          ]
        }
      ],
      "source": [
        "# Verify the schema looks okay.\n",
        "lookupRole_df.printSchema()"
      ]
    },
    {
      "cell_type": "code",
      "execution_count": 19,
      "metadata": {
        "id": "ITlDaq4o-JR0"
      },
      "outputs": [],
      "source": [
        "# Create our temp view\n",
        "lookupRole_df.createOrReplaceTempView('RoleLookup')"
      ]
    },
    {
      "cell_type": "code",
      "execution_count": 20,
      "metadata": {
        "colab": {
          "base_uri": "https://localhost:8080/"
        },
        "id": "Qx6J7HsT8GFU",
        "outputId": "d8266558-b003-4338-8420-98462aa5d14d"
      },
      "outputs": [
        {
          "output_type": "stream",
          "name": "stdout",
          "text": [
            "+-------+--------------------+\n",
            "|role_id|            roleName|\n",
            "+-------+--------------------+\n",
            "|      1|     Sales Executive|\n",
            "|      2|Manufacturing Dir...|\n",
            "|      3|Laboratory Techni...|\n",
            "|      4|Sales Representative|\n",
            "|      5|Healthcare Repres...|\n",
            "|      6|  Research Scientist|\n",
            "|      7|             Manager|\n",
            "|      8|   Research Director|\n",
            "|      9|     Human Resources|\n",
            "+-------+--------------------+\n",
            "\n"
          ]
        }
      ],
      "source": [
        "# This is definitely our lookup table\n",
        "spark.sql(\"select * from RoleLookup\").show()"
      ]
    },
    {
      "cell_type": "code",
      "execution_count": 21,
      "metadata": {
        "colab": {
          "base_uri": "https://localhost:8080/"
        },
        "id": "06yd_Jko8KLO",
        "outputId": "ae1b3775-3df8-4d49-eb44-a11e776d8515"
      },
      "outputs": [
        {
          "output_type": "stream",
          "name": "stdout",
          "text": [
            "+---+---------+-----------------+---------+--------------------+----------------+---------+--------------+-------------+--------------+-----------------------+------+----------+--------------+--------+-------+---------------+-------------+-------------+-----------+------------------+------+--------+-----------------+-----------------+------------------------+-------------+----------------+-----------------+---------------------+---------------+--------------+------------------+-----------------------+--------------+-------+--------------------+\n",
            "|Age|Attrition|   BusinessTravel|DailyRate|          Department|DistanceFromHome|Education|EducationField|EmployeeCount|EmployeeNumber|EnvironmentSatisfaction|Gender|HourlyRate|JobInvolvement|JobLevel|JobRole|JobSatisfaction|MaritalStatus|MonthlyIncome|MonthlyRate|NumCompaniesWorked|Over18|OverTime|PercentSalaryHike|PerformanceRating|RelationshipSatisfaction|StandardHours|StockOptionLevel|TotalWorkingYears|TrainingTimesLastYear|WorkLifeBalance|YearsAtCompany|YearsInCurrentRole|YearsSinceLastPromotion|YearsWithCurr7|role_id|            roleName|\n",
            "+---+---------+-----------------+---------+--------------------+----------------+---------+--------------+-------------+--------------+-----------------------+------+----------+--------------+--------+-------+---------------+-------------+-------------+-----------+------------------+------+--------+-----------------+-----------------+------------------------+-------------+----------------+-----------------+---------------------+---------------+--------------+------------------+-----------------------+--------------+-------+--------------------+\n",
            "| 41|      Yes|    Travel_Rarely|     1102|               Sales|               1|        2| Life Sciences|            1|             1|                      2|Female|        94|             3|       2|      1|              4|       Single|         5993|      19479|                 8|     Y|     Yes|               11|                3|                       1|           80|               0|                8|                    0|              1|             6|                 4|                      0|             5|      1|     Sales Executive|\n",
            "| 49|       No|Travel_Frequently|      279|Research & Develo...|               8|        1| Life Sciences|            1|             2|                      3|  Male|        61|             2|       2|      6|              2|      Married|         5130|      24907|                 1|     Y|      No|               23|                4|                       4|           80|               1|               10|                    3|              3|            10|                 7|                      1|             7|      6|  Research Scientist|\n",
            "| 37|      Yes|    Travel_Rarely|     1373|Research & Develo...|               2|        2|         Other|            1|             4|                      4|  Male|        92|             2|       1|      3|              3|       Single|         2090|       2396|                 6|     Y|     Yes|               15|                3|                       2|           80|               0|                7|                    3|              3|             0|                 0|                      0|             0|      3|Laboratory Techni...|\n",
            "| 33|       No|Travel_Frequently|     1392|Research & Develo...|               3|        4| Life Sciences|            1|             5|                      4|Female|        56|             3|       1|      6|              3|      Married|         2909|      23159|                 1|     Y|     Yes|               11|                3|                       3|           80|               0|                8|                    3|              3|             8|                 7|                      3|             0|      6|  Research Scientist|\n",
            "| 27|       No|    Travel_Rarely|      591|Research & Develo...|               2|        1|       Medical|            1|             7|                      1|  Male|        40|             3|       1|      3|              2|      Married|         3468|      16632|                 9|     Y|      No|               12|                3|                       4|           80|               1|                6|                    3|              3|             2|                 2|                      2|             2|      3|Laboratory Techni...|\n",
            "| 32|       No|Travel_Frequently|     1005|Research & Develo...|               2|        2| Life Sciences|            1|             8|                      4|  Male|        79|             3|       1|      3|              4|       Single|         3068|      11864|                 0|     Y|      No|               13|                3|                       3|           80|               0|                8|                    2|              2|             7|                 7|                      3|             6|      3|Laboratory Techni...|\n",
            "| 59|       No|    Travel_Rarely|     1324|Research & Develo...|               3|        3|       Medical|            1|            10|                      3|Female|        81|             4|       1|      3|              1|      Married|         2670|       9964|                 4|     Y|     Yes|               20|                4|                       1|           80|               3|               12|                    3|              2|             1|                 0|                      0|             0|      3|Laboratory Techni...|\n",
            "| 30|       No|    Travel_Rarely|     1358|Research & Develo...|              24|        1| Life Sciences|            1|            11|                      4|  Male|        67|             3|       1|      3|              3|     Divorced|         2693|      13335|                 1|     Y|      No|               22|                4|                       2|           80|               1|                1|                    2|              3|             1|                 0|                      0|             0|      3|Laboratory Techni...|\n",
            "| 38|       No|Travel_Frequently|      216|Research & Develo...|              23|        3| Life Sciences|            1|            12|                      4|  Male|        44|             2|       3|      2|              3|       Single|         9526|       8787|                 0|     Y|      No|               21|                4|                       2|           80|               0|               10|                    2|              3|             9|                 7|                      1|             8|      2|Manufacturing Dir...|\n",
            "| 36|       No|    Travel_Rarely|     1299|Research & Develo...|              27|        3|       Medical|            1|            13|                      3|  Male|        94|             3|       2|      5|              3|      Married|         5237|      16577|                 6|     Y|      No|               13|                3|                       2|           80|               2|               17|                    3|              2|             7|                 7|                      7|             7|      5|Healthcare Repres...|\n",
            "| 35|       No|    Travel_Rarely|      809|Research & Develo...|              16|        3|       Medical|            1|            14|                      1|  Male|        84|             4|       1|      3|              2|      Married|         2426|      16479|                 0|     Y|      No|               13|                3|                       3|           80|               1|                6|                    5|              3|             5|                 4|                      0|             3|      3|Laboratory Techni...|\n",
            "| 29|       No|    Travel_Rarely|      153|Research & Develo...|              15|        2| Life Sciences|            1|            15|                      4|Female|        49|             2|       2|      3|              3|       Single|         4193|      12682|                 0|     Y|     Yes|               12|                3|                       4|           80|               0|               10|                    3|              3|             9|                 5|                      0|             8|      3|Laboratory Techni...|\n",
            "| 31|       No|    Travel_Rarely|      670|Research & Develo...|              26|        1| Life Sciences|            1|            16|                      1|  Male|        31|             3|       1|      6|              3|     Divorced|         2911|      15170|                 1|     Y|      No|               17|                3|                       4|           80|               1|                5|                    1|              2|             5|                 2|                      4|             3|      6|  Research Scientist|\n",
            "| 34|       No|    Travel_Rarely|     1346|Research & Develo...|              19|        2|       Medical|            1|            18|                      2|  Male|        93|             3|       1|      3|              4|     Divorced|         2661|       8758|                 0|     Y|      No|               11|                3|                       3|           80|               1|                3|                    2|              3|             2|                 2|                      1|             2|      3|Laboratory Techni...|\n",
            "| 28|      Yes|    Travel_Rarely|      103|Research & Develo...|              24|        3| Life Sciences|            1|            19|                      3|  Male|        50|             2|       1|      3|              3|       Single|         2028|      12947|                 5|     Y|     Yes|               14|                3|                       2|           80|               0|                6|                    4|              3|             4|                 2|                      0|             3|      3|Laboratory Techni...|\n",
            "| 29|       No|    Travel_Rarely|     1389|Research & Develo...|              21|        4| Life Sciences|            1|            20|                      2|Female|        51|             4|       3|      2|              1|     Divorced|         9980|      10195|                 1|     Y|      No|               11|                3|                       3|           80|               1|               10|                    1|              3|            10|                 9|                      8|             8|      2|Manufacturing Dir...|\n",
            "| 32|       No|    Travel_Rarely|      334|Research & Develo...|               5|        2| Life Sciences|            1|            21|                      1|  Male|        80|             4|       1|      6|              2|     Divorced|         3298|      15053|                 0|     Y|     Yes|               12|                3|                       4|           80|               2|                7|                    5|              2|             6|                 2|                      0|             5|      6|  Research Scientist|\n",
            "| 22|       No|       Non-Travel|     1123|Research & Develo...|              16|        2|       Medical|            1|            22|                      4|  Male|        96|             4|       1|      3|              4|     Divorced|         2935|       7324|                 1|     Y|     Yes|               13|                3|                       2|           80|               2|                1|                    2|              2|             1|                 0|                      0|             0|      3|Laboratory Techni...|\n",
            "| 53|       No|    Travel_Rarely|     1219|               Sales|               2|        4| Life Sciences|            1|            23|                      1|Female|        78|             2|       4|      7|              4|      Married|        15427|      22021|                 2|     Y|      No|               16|                3|                       3|           80|               0|               31|                    3|              3|            25|                 8|                      3|             7|      7|             Manager|\n",
            "| 38|       No|    Travel_Rarely|      371|Research & Develo...|               2|        3| Life Sciences|            1|            24|                      4|  Male|        45|             3|       1|      6|              4|       Single|         3944|       4306|                 5|     Y|     Yes|               11|                3|                       3|           80|               0|                6|                    3|              3|             3|                 2|                      1|             2|      6|  Research Scientist|\n",
            "+---+---------+-----------------+---------+--------------------+----------------+---------+--------------+-------------+--------------+-----------------------+------+----------+--------------+--------+-------+---------------+-------------+-------------+-----------+------------------+------+--------+-----------------+-----------------+------------------------+-------------+----------------+-----------------+---------------------+---------------+--------------+------------------+-----------------------+--------------+-------+--------------------+\n",
            "only showing top 20 rows\n",
            "\n"
          ]
        }
      ],
      "source": [
        "# Then, we join the employee_df and lookupRole_df views.\n",
        "joined_df=employee_df.join(lookupRole_df, employee_df.JobRole==lookupRole_df.role_id)\n",
        "joined_df.show()"
      ]
    },
    {
      "cell_type": "code",
      "execution_count": 22,
      "metadata": {
        "colab": {
          "base_uri": "https://localhost:8080/"
        },
        "id": "iUHmKpIs9w4u",
        "outputId": "aaeb7e4d-c82d-4ee5-886a-6c1ca1758786"
      },
      "outputs": [
        {
          "output_type": "stream",
          "name": "stdout",
          "text": [
            "+---+---------+-----------------+---------+--------------------+----------------+---------+--------------+-------------+--------------+-----------------------+------+----------+--------------+--------+-------+---------------+-------------+-------------+-----------+------------------+------+--------+-----------------+-----------------+------------------------+-------------+----------------+-----------------+---------------------+---------------+--------------+------------------+-----------------------+--------------+--------------------+\n",
            "|Age|Attrition|   BusinessTravel|DailyRate|          Department|DistanceFromHome|Education|EducationField|EmployeeCount|EmployeeNumber|EnvironmentSatisfaction|Gender|HourlyRate|JobInvolvement|JobLevel|JobRole|JobSatisfaction|MaritalStatus|MonthlyIncome|MonthlyRate|NumCompaniesWorked|Over18|OverTime|PercentSalaryHike|PerformanceRating|RelationshipSatisfaction|StandardHours|StockOptionLevel|TotalWorkingYears|TrainingTimesLastYear|WorkLifeBalance|YearsAtCompany|YearsInCurrentRole|YearsSinceLastPromotion|YearsWithCurr7|            roleName|\n",
            "+---+---------+-----------------+---------+--------------------+----------------+---------+--------------+-------------+--------------+-----------------------+------+----------+--------------+--------+-------+---------------+-------------+-------------+-----------+------------------+------+--------+-----------------+-----------------+------------------------+-------------+----------------+-----------------+---------------------+---------------+--------------+------------------+-----------------------+--------------+--------------------+\n",
            "| 41|      Yes|    Travel_Rarely|     1102|               Sales|               1|        2| Life Sciences|            1|             1|                      2|Female|        94|             3|       2|      1|              4|       Single|         5993|      19479|                 8|     Y|     Yes|               11|                3|                       1|           80|               0|                8|                    0|              1|             6|                 4|                      0|             5|     Sales Executive|\n",
            "| 49|       No|Travel_Frequently|      279|Research & Develo...|               8|        1| Life Sciences|            1|             2|                      3|  Male|        61|             2|       2|      6|              2|      Married|         5130|      24907|                 1|     Y|      No|               23|                4|                       4|           80|               1|               10|                    3|              3|            10|                 7|                      1|             7|  Research Scientist|\n",
            "| 37|      Yes|    Travel_Rarely|     1373|Research & Develo...|               2|        2|         Other|            1|             4|                      4|  Male|        92|             2|       1|      3|              3|       Single|         2090|       2396|                 6|     Y|     Yes|               15|                3|                       2|           80|               0|                7|                    3|              3|             0|                 0|                      0|             0|Laboratory Techni...|\n",
            "| 33|       No|Travel_Frequently|     1392|Research & Develo...|               3|        4| Life Sciences|            1|             5|                      4|Female|        56|             3|       1|      6|              3|      Married|         2909|      23159|                 1|     Y|     Yes|               11|                3|                       3|           80|               0|                8|                    3|              3|             8|                 7|                      3|             0|  Research Scientist|\n",
            "| 27|       No|    Travel_Rarely|      591|Research & Develo...|               2|        1|       Medical|            1|             7|                      1|  Male|        40|             3|       1|      3|              2|      Married|         3468|      16632|                 9|     Y|      No|               12|                3|                       4|           80|               1|                6|                    3|              3|             2|                 2|                      2|             2|Laboratory Techni...|\n",
            "| 32|       No|Travel_Frequently|     1005|Research & Develo...|               2|        2| Life Sciences|            1|             8|                      4|  Male|        79|             3|       1|      3|              4|       Single|         3068|      11864|                 0|     Y|      No|               13|                3|                       3|           80|               0|                8|                    2|              2|             7|                 7|                      3|             6|Laboratory Techni...|\n",
            "| 59|       No|    Travel_Rarely|     1324|Research & Develo...|               3|        3|       Medical|            1|            10|                      3|Female|        81|             4|       1|      3|              1|      Married|         2670|       9964|                 4|     Y|     Yes|               20|                4|                       1|           80|               3|               12|                    3|              2|             1|                 0|                      0|             0|Laboratory Techni...|\n",
            "| 30|       No|    Travel_Rarely|     1358|Research & Develo...|              24|        1| Life Sciences|            1|            11|                      4|  Male|        67|             3|       1|      3|              3|     Divorced|         2693|      13335|                 1|     Y|      No|               22|                4|                       2|           80|               1|                1|                    2|              3|             1|                 0|                      0|             0|Laboratory Techni...|\n",
            "| 38|       No|Travel_Frequently|      216|Research & Develo...|              23|        3| Life Sciences|            1|            12|                      4|  Male|        44|             2|       3|      2|              3|       Single|         9526|       8787|                 0|     Y|      No|               21|                4|                       2|           80|               0|               10|                    2|              3|             9|                 7|                      1|             8|Manufacturing Dir...|\n",
            "| 36|       No|    Travel_Rarely|     1299|Research & Develo...|              27|        3|       Medical|            1|            13|                      3|  Male|        94|             3|       2|      5|              3|      Married|         5237|      16577|                 6|     Y|      No|               13|                3|                       2|           80|               2|               17|                    3|              2|             7|                 7|                      7|             7|Healthcare Repres...|\n",
            "| 35|       No|    Travel_Rarely|      809|Research & Develo...|              16|        3|       Medical|            1|            14|                      1|  Male|        84|             4|       1|      3|              2|      Married|         2426|      16479|                 0|     Y|      No|               13|                3|                       3|           80|               1|                6|                    5|              3|             5|                 4|                      0|             3|Laboratory Techni...|\n",
            "| 29|       No|    Travel_Rarely|      153|Research & Develo...|              15|        2| Life Sciences|            1|            15|                      4|Female|        49|             2|       2|      3|              3|       Single|         4193|      12682|                 0|     Y|     Yes|               12|                3|                       4|           80|               0|               10|                    3|              3|             9|                 5|                      0|             8|Laboratory Techni...|\n",
            "| 31|       No|    Travel_Rarely|      670|Research & Develo...|              26|        1| Life Sciences|            1|            16|                      1|  Male|        31|             3|       1|      6|              3|     Divorced|         2911|      15170|                 1|     Y|      No|               17|                3|                       4|           80|               1|                5|                    1|              2|             5|                 2|                      4|             3|  Research Scientist|\n",
            "| 34|       No|    Travel_Rarely|     1346|Research & Develo...|              19|        2|       Medical|            1|            18|                      2|  Male|        93|             3|       1|      3|              4|     Divorced|         2661|       8758|                 0|     Y|      No|               11|                3|                       3|           80|               1|                3|                    2|              3|             2|                 2|                      1|             2|Laboratory Techni...|\n",
            "| 28|      Yes|    Travel_Rarely|      103|Research & Develo...|              24|        3| Life Sciences|            1|            19|                      3|  Male|        50|             2|       1|      3|              3|       Single|         2028|      12947|                 5|     Y|     Yes|               14|                3|                       2|           80|               0|                6|                    4|              3|             4|                 2|                      0|             3|Laboratory Techni...|\n",
            "| 29|       No|    Travel_Rarely|     1389|Research & Develo...|              21|        4| Life Sciences|            1|            20|                      2|Female|        51|             4|       3|      2|              1|     Divorced|         9980|      10195|                 1|     Y|      No|               11|                3|                       3|           80|               1|               10|                    1|              3|            10|                 9|                      8|             8|Manufacturing Dir...|\n",
            "| 32|       No|    Travel_Rarely|      334|Research & Develo...|               5|        2| Life Sciences|            1|            21|                      1|  Male|        80|             4|       1|      6|              2|     Divorced|         3298|      15053|                 0|     Y|     Yes|               12|                3|                       4|           80|               2|                7|                    5|              2|             6|                 2|                      0|             5|  Research Scientist|\n",
            "| 22|       No|       Non-Travel|     1123|Research & Develo...|              16|        2|       Medical|            1|            22|                      4|  Male|        96|             4|       1|      3|              4|     Divorced|         2935|       7324|                 1|     Y|     Yes|               13|                3|                       2|           80|               2|                1|                    2|              2|             1|                 0|                      0|             0|Laboratory Techni...|\n",
            "| 53|       No|    Travel_Rarely|     1219|               Sales|               2|        4| Life Sciences|            1|            23|                      1|Female|        78|             2|       4|      7|              4|      Married|        15427|      22021|                 2|     Y|      No|               16|                3|                       3|           80|               0|               31|                    3|              3|            25|                 8|                      3|             7|             Manager|\n",
            "| 38|       No|    Travel_Rarely|      371|Research & Develo...|               2|        3| Life Sciences|            1|            24|                      4|  Male|        45|             3|       1|      6|              4|       Single|         3944|       4306|                 5|     Y|     Yes|               11|                3|                       3|           80|               0|                6|                    3|              3|             3|                 2|                      1|             2|  Research Scientist|\n",
            "+---+---------+-----------------+---------+--------------------+----------------+---------+--------------+-------------+--------------+-----------------------+------+----------+--------------+--------+-------+---------------+-------------+-------------+-----------+------------------+------+--------+-----------------+-----------------+------------------------+-------------+----------------+-----------------+---------------------+---------------+--------------+------------------+-----------------------+--------------+--------------------+\n",
            "only showing top 20 rows\n",
            "\n"
          ]
        }
      ],
      "source": [
        "# And, finally we can create our final DataFrame using SQL.\n",
        "Sql_joined_df=spark.sql(\"\"\"\n",
        "select a.*, roleName\n",
        "from example a\n",
        "  Inner join \n",
        "    RoleLookup b\n",
        "      on a.JobRole=b.role_id\"\"\").show()"
      ]
    }
  ],
  "metadata": {
    "colab": {
      "collapsed_sections": [],
      "name": "ImportView_SparkSQL.ipynb",
      "provenance": []
    },
    "kernelspec": {
      "display_name": "Python 3.9.6 64-bit",
      "language": "python",
      "name": "python3"
    },
    "language_info": {
      "name": "python",
      "version": "3.9.6"
    },
    "vscode": {
      "interpreter": {
        "hash": "aee8b7b246df8f9039afb4144a1f6fd8d2ca17a180786b69acc140d282b71a49"
      }
    }
  },
  "nbformat": 4,
  "nbformat_minor": 0
}