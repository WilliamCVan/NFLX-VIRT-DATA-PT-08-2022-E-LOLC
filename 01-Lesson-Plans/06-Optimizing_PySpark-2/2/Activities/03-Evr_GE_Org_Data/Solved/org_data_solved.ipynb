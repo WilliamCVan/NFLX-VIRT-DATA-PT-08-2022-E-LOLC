{
  "cells": [
    {
      "cell_type": "code",
      "execution_count": 1,
      "metadata": {
        "colab": {
          "base_uri": "https://localhost:8080/"
        },
        "id": "a_KW73O2e3dw",
        "outputId": "d636faed-3fff-4dc1-a9b1-6d646f00efd6"
      },
      "outputs": [
        {
          "name": "stdout",
          "output_type": "stream",
          "text": [
            "Get:1 https://cloud.r-project.org/bin/linux/ubuntu bionic-cran40/ InRelease [3,626 B]\n",
            "Ign:2 https://developer.download.nvidia.com/compute/machine-learning/repos/ubuntu1804/x86_64  InRelease\n",
            "Get:3 https://developer.download.nvidia.com/compute/cuda/repos/ubuntu1804/x86_64  InRelease [1,581 B]\n",
            "Hit:4 https://developer.download.nvidia.com/compute/machine-learning/repos/ubuntu1804/x86_64  Release\n",
            "Get:5 http://ppa.launchpad.net/c2d4u.team/c2d4u4.0+/ubuntu bionic InRelease [15.9 kB]\n",
            "Get:6 http://security.ubuntu.com/ubuntu bionic-security InRelease [88.7 kB]\n",
            "Hit:7 http://archive.ubuntu.com/ubuntu bionic InRelease\n",
            "Get:8 http://archive.ubuntu.com/ubuntu bionic-updates InRelease [88.7 kB]\n",
            "Hit:9 http://ppa.launchpad.net/cran/libgit2/ubuntu bionic InRelease\n",
            "Get:10 https://developer.download.nvidia.com/compute/cuda/repos/ubuntu1804/x86_64  Packages [903 kB]\n",
            "Get:11 http://archive.ubuntu.com/ubuntu bionic-backports InRelease [74.6 kB]\n",
            "Get:12 http://ppa.launchpad.net/deadsnakes/ppa/ubuntu bionic InRelease [15.9 kB]\n",
            "Hit:13 http://ppa.launchpad.net/graphics-drivers/ppa/ubuntu bionic InRelease\n",
            "Get:15 http://ppa.launchpad.net/c2d4u.team/c2d4u4.0+/ubuntu bionic/main Sources [2,077 kB]\n",
            "Get:16 http://security.ubuntu.com/ubuntu bionic-security/main amd64 Packages [2,937 kB]\n",
            "Get:17 http://ppa.launchpad.net/c2d4u.team/c2d4u4.0+/ubuntu bionic/main amd64 Packages [1,064 kB]\n",
            "Get:18 http://security.ubuntu.com/ubuntu bionic-security/universe amd64 Packages [1,533 kB]\n",
            "Get:19 http://security.ubuntu.com/ubuntu bionic-security/restricted amd64 Packages [1,100 kB]\n",
            "Get:20 http://archive.ubuntu.com/ubuntu bionic-updates/universe amd64 Packages [2,310 kB]\n",
            "Get:21 http://archive.ubuntu.com/ubuntu bionic-updates/restricted amd64 Packages [1,141 kB]\n",
            "Get:22 http://archive.ubuntu.com/ubuntu bionic-updates/main amd64 Packages [3,369 kB]\n",
            "Get:23 http://ppa.launchpad.net/deadsnakes/ppa/ubuntu bionic/main amd64 Packages [45.3 kB]\n",
            "Fetched 16.8 MB in 6s (2,586 kB/s)\n",
            "Reading package lists... Done\n"
          ]
        }
      ],
      "source": [
        "# Activate Spark in our Colab notebook.\n",
        "import os\n",
        "# Find the latest version of spark 3.0  from http://www.apache.org/dist/spark/ and enter as the spark version\n",
        "# For example: 'spark-3.2.2'\n",
        "spark_version = 'spark-3.2.2'\n",
        "# spark_version = 'spark-3.<enter version>'\n",
        "os.environ['SPARK_VERSION']=spark_version\n",
        "\n",
        "# Install Spark and Java\n",
        "!apt-get update\n",
        "!apt-get install openjdk-11-jdk-headless -qq > /dev/null\n",
        "!wget -q http://www.apache.org/dist/spark/$SPARK_VERSION/$SPARK_VERSION-bin-hadoop3.2.tgz\n",
        "!tar xf $SPARK_VERSION-bin-hadoop3.2.tgz\n",
        "!pip install -q findspark\n",
        "\n",
        "# Set Environment Variables\n",
        "os.environ[\"JAVA_HOME\"] = \"/usr/lib/jvm/java-11-openjdk-amd64\"\n",
        "os.environ[\"SPARK_HOME\"] = f\"/content/{spark_version}-bin-hadoop3.2\"\n",
        "\n",
        "# Start a SparkSession\n",
        "import findspark\n",
        "findspark.init()"
      ]
    },
    {
      "cell_type": "code",
      "execution_count": 2,
      "metadata": {
        "colab": {
          "base_uri": "https://localhost:8080/",
          "height": 1000
        },
        "id": "W_kMsKCv9gCW",
        "outputId": "8fc0fda6-73ab-41df-91aa-bd271de154bb"
      },
      "outputs": [
        {
          "name": "stdout",
          "output_type": "stream",
          "text": [
            "Looking in indexes: https://pypi.org/simple, https://us-python.pkg.dev/colab-wheels/public/simple/\n",
            "Collecting great_expectations\n",
            "  Downloading great_expectations-0.15.17-py3-none-any.whl (5.1 MB)\n",
            "\u001b[K     |████████████████████████████████| 5.1 MB 7.2 MB/s \n",
            "\u001b[?25hRequirement already satisfied: jsonschema>=2.5.1 in /usr/local/lib/python3.7/dist-packages (from great_expectations) (4.3.3)\n",
            "Requirement already satisfied: python-dateutil>=2.8.1 in /usr/local/lib/python3.7/dist-packages (from great_expectations) (2.8.2)\n",
            "Collecting cryptography>=3.2\n",
            "  Downloading cryptography-37.0.4-cp36-abi3-manylinux_2_24_x86_64.whl (4.1 MB)\n",
            "\u001b[K     |████████████████████████████████| 4.1 MB 35.0 MB/s \n",
            "\u001b[?25hRequirement already satisfied: mistune>=0.8.4 in /usr/local/lib/python3.7/dist-packages (from great_expectations) (0.8.4)\n",
            "Collecting ruamel.yaml<0.17.18,>=0.16\n",
            "  Downloading ruamel.yaml-0.17.17-py3-none-any.whl (109 kB)\n",
            "\u001b[K     |████████████████████████████████| 109 kB 71.1 MB/s \n",
            "\u001b[?25hRequirement already satisfied: pandas>=0.23.0 in /usr/local/lib/python3.7/dist-packages (from great_expectations) (1.3.5)\n",
            "Collecting notebook>=6.4.10\n",
            "  Downloading notebook-6.4.12-py3-none-any.whl (9.9 MB)\n",
            "\u001b[K     |████████████████████████████████| 9.9 MB 43.9 MB/s \n",
            "\u001b[?25hRequirement already satisfied: ipywidgets>=7.5.1 in /usr/local/lib/python3.7/dist-packages (from great_expectations) (7.7.1)\n",
            "Requirement already satisfied: altair<5,>=4.0.0 in /usr/local/lib/python3.7/dist-packages (from great_expectations) (4.2.0)\n",
            "Collecting urllib3<1.27,>=1.25.4\n",
            "  Downloading urllib3-1.26.11-py2.py3-none-any.whl (139 kB)\n",
            "\u001b[K     |████████████████████████████████| 139 kB 69.5 MB/s \n",
            "\u001b[?25hCollecting Ipython>=7.16.3\n",
            "  Downloading ipython-7.34.0-py3-none-any.whl (793 kB)\n",
            "\u001b[K     |████████████████████████████████| 793 kB 63.8 MB/s \n",
            "\u001b[?25hRequirement already satisfied: importlib-metadata>=1.7.0 in /usr/local/lib/python3.7/dist-packages (from great_expectations) (4.12.0)\n",
            "Collecting pyparsing<3,>=2.4\n",
            "  Downloading pyparsing-2.4.7-py2.py3-none-any.whl (67 kB)\n",
            "\u001b[K     |████████████████████████████████| 67 kB 4.8 MB/s \n",
            "\u001b[?25hRequirement already satisfied: pytz>=2021.3 in /usr/local/lib/python3.7/dist-packages (from great_expectations) (2022.1)\n",
            "Requirement already satisfied: nbformat>=5.0 in /usr/local/lib/python3.7/dist-packages (from great_expectations) (5.4.0)\n",
            "Requirement already satisfied: scipy>=0.19.0 in /usr/local/lib/python3.7/dist-packages (from great_expectations) (1.7.3)\n",
            "Requirement already satisfied: tzlocal>=1.2 in /usr/local/lib/python3.7/dist-packages (from great_expectations) (1.5.1)\n",
            "Requirement already satisfied: tqdm>=4.59.0 in /usr/local/lib/python3.7/dist-packages (from great_expectations) (4.64.0)\n",
            "Collecting colorama>=0.4.3\n",
            "  Downloading colorama-0.4.5-py2.py3-none-any.whl (16 kB)\n",
            "Requirement already satisfied: jinja2>=2.10 in /usr/local/lib/python3.7/dist-packages (from great_expectations) (2.11.3)\n",
            "Requirement already satisfied: numpy>=1.14.1 in /usr/local/lib/python3.7/dist-packages (from great_expectations) (1.21.6)\n",
            "Requirement already satisfied: Click>=7.1.2 in /usr/local/lib/python3.7/dist-packages (from great_expectations) (7.1.2)\n",
            "Requirement already satisfied: packaging in /usr/local/lib/python3.7/dist-packages (from great_expectations) (21.3)\n",
            "Requirement already satisfied: termcolor>=1.1.0 in /usr/local/lib/python3.7/dist-packages (from great_expectations) (1.1.0)\n",
            "Requirement already satisfied: requests>=2.20 in /usr/local/lib/python3.7/dist-packages (from great_expectations) (2.23.0)\n",
            "Requirement already satisfied: typing-extensions>=3.10.0.0 in /usr/local/lib/python3.7/dist-packages (from great_expectations) (4.1.1)\n",
            "Collecting jsonpatch>=1.22\n",
            "  Downloading jsonpatch-1.32-py2.py3-none-any.whl (12 kB)\n",
            "Requirement already satisfied: toolz in /usr/local/lib/python3.7/dist-packages (from altair<5,>=4.0.0->great_expectations) (0.12.0)\n",
            "Requirement already satisfied: entrypoints in /usr/local/lib/python3.7/dist-packages (from altair<5,>=4.0.0->great_expectations) (0.4)\n",
            "Requirement already satisfied: cffi>=1.12 in /usr/local/lib/python3.7/dist-packages (from cryptography>=3.2->great_expectations) (1.15.1)\n",
            "Requirement already satisfied: pycparser in /usr/local/lib/python3.7/dist-packages (from cffi>=1.12->cryptography>=3.2->great_expectations) (2.21)\n",
            "Requirement already satisfied: zipp>=0.5 in /usr/local/lib/python3.7/dist-packages (from importlib-metadata>=1.7.0->great_expectations) (3.8.1)\n",
            "Requirement already satisfied: pickleshare in /usr/local/lib/python3.7/dist-packages (from Ipython>=7.16.3->great_expectations) (0.7.5)\n",
            "Collecting prompt-toolkit!=3.0.0,!=3.0.1,<3.1.0,>=2.0.0\n",
            "  Downloading prompt_toolkit-3.0.30-py3-none-any.whl (381 kB)\n",
            "\u001b[K     |████████████████████████████████| 381 kB 60.0 MB/s \n",
            "\u001b[?25hRequirement already satisfied: pygments in /usr/local/lib/python3.7/dist-packages (from Ipython>=7.16.3->great_expectations) (2.6.1)\n",
            "Requirement already satisfied: matplotlib-inline in /usr/local/lib/python3.7/dist-packages (from Ipython>=7.16.3->great_expectations) (0.1.3)\n",
            "Requirement already satisfied: pexpect>4.3 in /usr/local/lib/python3.7/dist-packages (from Ipython>=7.16.3->great_expectations) (4.8.0)\n",
            "Requirement already satisfied: jedi>=0.16 in /usr/local/lib/python3.7/dist-packages (from Ipython>=7.16.3->great_expectations) (0.18.1)\n",
            "Requirement already satisfied: setuptools>=18.5 in /usr/local/lib/python3.7/dist-packages (from Ipython>=7.16.3->great_expectations) (57.4.0)\n",
            "Requirement already satisfied: traitlets>=4.2 in /usr/local/lib/python3.7/dist-packages (from Ipython>=7.16.3->great_expectations) (5.1.1)\n",
            "Requirement already satisfied: backcall in /usr/local/lib/python3.7/dist-packages (from Ipython>=7.16.3->great_expectations) (0.2.0)\n",
            "Requirement already satisfied: decorator in /usr/local/lib/python3.7/dist-packages (from Ipython>=7.16.3->great_expectations) (4.4.2)\n",
            "Requirement already satisfied: widgetsnbextension~=3.6.0 in /usr/local/lib/python3.7/dist-packages (from ipywidgets>=7.5.1->great_expectations) (3.6.1)\n",
            "Requirement already satisfied: ipython-genutils~=0.2.0 in /usr/local/lib/python3.7/dist-packages (from ipywidgets>=7.5.1->great_expectations) (0.2.0)\n",
            "Requirement already satisfied: jupyterlab-widgets>=1.0.0 in /usr/local/lib/python3.7/dist-packages (from ipywidgets>=7.5.1->great_expectations) (1.1.1)\n",
            "Requirement already satisfied: ipykernel>=4.5.1 in /usr/local/lib/python3.7/dist-packages (from ipywidgets>=7.5.1->great_expectations) (4.10.1)\n",
            "Requirement already satisfied: tornado>=4.0 in /usr/local/lib/python3.7/dist-packages (from ipykernel>=4.5.1->ipywidgets>=7.5.1->great_expectations) (5.1.1)\n",
            "Requirement already satisfied: jupyter-client in /usr/local/lib/python3.7/dist-packages (from ipykernel>=4.5.1->ipywidgets>=7.5.1->great_expectations) (5.3.5)\n",
            "Requirement already satisfied: parso<0.9.0,>=0.8.0 in /usr/local/lib/python3.7/dist-packages (from jedi>=0.16->Ipython>=7.16.3->great_expectations) (0.8.3)\n",
            "Requirement already satisfied: MarkupSafe>=0.23 in /usr/local/lib/python3.7/dist-packages (from jinja2>=2.10->great_expectations) (2.0.1)\n",
            "Collecting jsonpointer>=1.9\n",
            "  Downloading jsonpointer-2.3-py2.py3-none-any.whl (7.8 kB)\n",
            "Requirement already satisfied: attrs>=17.4.0 in /usr/local/lib/python3.7/dist-packages (from jsonschema>=2.5.1->great_expectations) (22.1.0)\n",
            "Requirement already satisfied: pyrsistent!=0.17.0,!=0.17.1,!=0.17.2,>=0.14.0 in /usr/local/lib/python3.7/dist-packages (from jsonschema>=2.5.1->great_expectations) (0.18.1)\n",
            "Requirement already satisfied: importlib-resources>=1.4.0 in /usr/local/lib/python3.7/dist-packages (from jsonschema>=2.5.1->great_expectations) (5.9.0)\n",
            "Requirement already satisfied: fastjsonschema in /usr/local/lib/python3.7/dist-packages (from nbformat>=5.0->great_expectations) (2.16.1)\n",
            "Requirement already satisfied: jupyter-core in /usr/local/lib/python3.7/dist-packages (from nbformat>=5.0->great_expectations) (4.11.1)\n",
            "Requirement already satisfied: argon2-cffi in /usr/local/lib/python3.7/dist-packages (from notebook>=6.4.10->great_expectations) (21.3.0)\n",
            "Requirement already satisfied: terminado>=0.8.3 in /usr/local/lib/python3.7/dist-packages (from notebook>=6.4.10->great_expectations) (0.13.3)\n",
            "Requirement already satisfied: prometheus-client in /usr/local/lib/python3.7/dist-packages (from notebook>=6.4.10->great_expectations) (0.14.1)\n",
            "Collecting tornado>=4.0\n",
            "  Downloading tornado-6.2-cp37-abi3-manylinux_2_5_x86_64.manylinux1_x86_64.manylinux_2_17_x86_64.manylinux2014_x86_64.whl (423 kB)\n",
            "\u001b[K     |████████████████████████████████| 423 kB 56.1 MB/s \n",
            "\u001b[?25hRequirement already satisfied: pyzmq>=17 in /usr/local/lib/python3.7/dist-packages (from notebook>=6.4.10->great_expectations) (23.2.0)\n",
            "Requirement already satisfied: Send2Trash>=1.8.0 in /usr/local/lib/python3.7/dist-packages (from notebook>=6.4.10->great_expectations) (1.8.0)\n",
            "Requirement already satisfied: nest-asyncio>=1.5 in /usr/local/lib/python3.7/dist-packages (from notebook>=6.4.10->great_expectations) (1.5.5)\n",
            "Requirement already satisfied: nbconvert>=5 in /usr/local/lib/python3.7/dist-packages (from notebook>=6.4.10->great_expectations) (5.6.1)\n",
            "Requirement already satisfied: testpath in /usr/local/lib/python3.7/dist-packages (from nbconvert>=5->notebook>=6.4.10->great_expectations) (0.6.0)\n",
            "Requirement already satisfied: defusedxml in /usr/local/lib/python3.7/dist-packages (from nbconvert>=5->notebook>=6.4.10->great_expectations) (0.7.1)\n",
            "Requirement already satisfied: bleach in /usr/local/lib/python3.7/dist-packages (from nbconvert>=5->notebook>=6.4.10->great_expectations) (5.0.1)\n",
            "Requirement already satisfied: pandocfilters>=1.4.1 in /usr/local/lib/python3.7/dist-packages (from nbconvert>=5->notebook>=6.4.10->great_expectations) (1.5.0)\n",
            "Requirement already satisfied: ptyprocess>=0.5 in /usr/local/lib/python3.7/dist-packages (from pexpect>4.3->Ipython>=7.16.3->great_expectations) (0.7.0)\n",
            "Requirement already satisfied: wcwidth in /usr/local/lib/python3.7/dist-packages (from prompt-toolkit!=3.0.0,!=3.0.1,<3.1.0,>=2.0.0->Ipython>=7.16.3->great_expectations) (0.2.5)\n",
            "Requirement already satisfied: six>=1.5 in /usr/local/lib/python3.7/dist-packages (from python-dateutil>=2.8.1->great_expectations) (1.15.0)\n",
            "Requirement already satisfied: idna<3,>=2.5 in /usr/local/lib/python3.7/dist-packages (from requests>=2.20->great_expectations) (2.10)\n",
            "Requirement already satisfied: chardet<4,>=3.0.2 in /usr/local/lib/python3.7/dist-packages (from requests>=2.20->great_expectations) (3.0.4)\n",
            "Requirement already satisfied: certifi>=2017.4.17 in /usr/local/lib/python3.7/dist-packages (from requests>=2.20->great_expectations) (2022.6.15)\n",
            "Collecting urllib3<1.27,>=1.25.4\n",
            "  Downloading urllib3-1.25.11-py2.py3-none-any.whl (127 kB)\n",
            "\u001b[K     |████████████████████████████████| 127 kB 46.9 MB/s \n",
            "\u001b[?25hCollecting ruamel.yaml.clib>=0.1.2\n",
            "  Downloading ruamel.yaml.clib-0.2.6-cp37-cp37m-manylinux1_x86_64.whl (546 kB)\n",
            "\u001b[K     |████████████████████████████████| 546 kB 54.0 MB/s \n",
            "\u001b[?25hRequirement already satisfied: argon2-cffi-bindings in /usr/local/lib/python3.7/dist-packages (from argon2-cffi->notebook>=6.4.10->great_expectations) (21.2.0)\n",
            "Requirement already satisfied: webencodings in /usr/local/lib/python3.7/dist-packages (from bleach->nbconvert>=5->notebook>=6.4.10->great_expectations) (0.5.1)\n",
            "Installing collected packages: tornado, prompt-toolkit, Ipython, notebook, urllib3, ruamel.yaml.clib, pyparsing, jsonpointer, ruamel.yaml, jsonpatch, cryptography, colorama, great-expectations\n",
            "  Attempting uninstall: tornado\n",
            "    Found existing installation: tornado 5.1.1\n",
            "    Uninstalling tornado-5.1.1:\n",
            "      Successfully uninstalled tornado-5.1.1\n",
            "  Attempting uninstall: prompt-toolkit\n",
            "    Found existing installation: prompt-toolkit 1.0.18\n",
            "    Uninstalling prompt-toolkit-1.0.18:\n",
            "      Successfully uninstalled prompt-toolkit-1.0.18\n",
            "  Attempting uninstall: Ipython\n",
            "    Found existing installation: ipython 5.5.0\n",
            "    Uninstalling ipython-5.5.0:\n",
            "      Successfully uninstalled ipython-5.5.0\n",
            "  Attempting uninstall: notebook\n",
            "    Found existing installation: notebook 5.3.1\n",
            "    Uninstalling notebook-5.3.1:\n",
            "      Successfully uninstalled notebook-5.3.1\n",
            "  Attempting uninstall: urllib3\n",
            "    Found existing installation: urllib3 1.24.3\n",
            "    Uninstalling urllib3-1.24.3:\n",
            "      Successfully uninstalled urllib3-1.24.3\n",
            "  Attempting uninstall: pyparsing\n",
            "    Found existing installation: pyparsing 3.0.9\n",
            "    Uninstalling pyparsing-3.0.9:\n",
            "      Successfully uninstalled pyparsing-3.0.9\n",
            "\u001b[31mERROR: pip's dependency resolver does not currently take into account all the packages that are installed. This behaviour is the source of the following dependency conflicts.\n",
            "jupyter-console 5.2.0 requires prompt-toolkit<2.0.0,>=1.0.0, but you have prompt-toolkit 3.0.30 which is incompatible.\n",
            "google-colab 1.0.0 requires ipython~=5.5.0, but you have ipython 7.34.0 which is incompatible.\n",
            "google-colab 1.0.0 requires notebook~=5.3.0, but you have notebook 6.4.12 which is incompatible.\n",
            "google-colab 1.0.0 requires tornado~=5.1.0, but you have tornado 6.2 which is incompatible.\u001b[0m\n",
            "Successfully installed Ipython-7.34.0 colorama-0.4.5 cryptography-37.0.4 great-expectations-0.15.17 jsonpatch-1.32 jsonpointer-2.3 notebook-6.4.12 prompt-toolkit-3.0.30 pyparsing-2.4.7 ruamel.yaml-0.17.17 ruamel.yaml.clib-0.2.6 tornado-6.2 urllib3-1.25.11\n"
          ]
        },
        {
          "data": {
            "application/vnd.colab-display-data+json": {
              "pip_warning": {
                "packages": [
                  "IPython",
                  "prompt_toolkit",
                  "pyparsing",
                  "tornado"
                ]
              }
            }
          },
          "metadata": {},
          "output_type": "display_data"
        }
      ],
      "source": [
        "# Install great expectations\n",
        "!pip install great_expectations"
      ]
    },
    {
      "cell_type": "code",
      "execution_count": 3,
      "metadata": {
        "id": "2XbWNf1Te5fM"
      },
      "outputs": [],
      "source": [
        "# Import SparkSession and great expectations \n",
        "from pyspark.sql import SparkSession\n",
        "import great_expectations as ge\n",
        "\n",
        "# Create a SparkSession\n",
        "spark = SparkSession.builder.appName(\"SparkSQL\").getOrCreate()\n",
        "# Start Spark session\n",
        "from pyspark import SparkFiles"
      ]
    },
    {
      "cell_type": "code",
      "execution_count": 5,
      "metadata": {
        "colab": {
          "base_uri": "https://localhost:8080/"
        },
        "id": "XiVGvvzwgGXe",
        "outputId": "27ceee57-7f69-4936-8cf6-212a50a514f1"
      },
      "outputs": [
        {
          "name": "stdout",
          "output_type": "stream",
          "text": [
            "+-----------+------------+--------------------+--------------------+------------+-------------+--------------+-----+\n",
            "|        EIN|ORGANIZATION|                TYPE|            ACTIVITY|ASSET_AMOUNT|INCOME_AMOUNT|REVENUE_AMOUNT|STATE|\n",
            "+-----------+------------+--------------------+--------------------+------------+-------------+--------------+-----+\n",
            "|Corporation|     1049459|Parent Teacher Group|Educational Activ...|       86473|       187507|        266375|   CA|\n",
            "|Corporation|     1049595|Professional Serv...|Extracurricular A...|       90718|       129918|        155113|   CA|\n",
            "|Corporation|     1050054|Continuing Education|Educational Activ...|      102330|       167472|        175640|   IL|\n",
            "|Corporation|     1050036| School Organization|Educational Activ...|       85930|       214223|        164111|   NY|\n",
            "|Corporation|     1049229| School Organization|Extracurricular A...|      103675|       189733|        224577|   CA|\n",
            "|Corporation|     1050409|Parent Teacher Group|Extracurricular A...|       95314|       203778|        159284|   IL|\n",
            "|Corporation|     1049498| School Organization|Extracurricular A...|      109058|       174727|        158659|   WA|\n",
            "|Corporation|     1050609|Parent Teacher Group|Extracurricular A...|       97808|       172521|        152894|   WA|\n",
            "|Corporation|     1049874|Continuing Education|Educational Activ...|      105705|       171706|        159493|   CA|\n",
            "|Corporation|     1049486|Parent Teacher Group|Extracurricular A...|      110938|       167984|        178109|   IL|\n",
            "|Corporation|     1049708|Parent Teacher Group|Educational Activ...|      105387|       188682|        138371|   WA|\n",
            "|Corporation|     1049233|Continuing Education|Educational Activ...|       99988|       181993|        174854|   WA|\n",
            "|Corporation|     1050684| School Organization|Extracurricular A...|      101252|       186939|        168242|   NY|\n",
            "|Corporation|     1049331|             Theater|Extracurricular A...|      105132|       149924|        135770|   NY|\n",
            "|Corporation|     1050185|Professional Serv...|Educational Activ...|      100269|       176216|        141258|   NY|\n",
            "|Corporation|     1048956|Professional Serv...|Educational Activ...|      104955|       159066|        168760|   WA|\n",
            "|Corporation|     1050157|             Theater|Educational Activ...|       93176|       194546|        220480|   CA|\n",
            "|Corporation|     1050519|Continuing Education|Extracurricular A...|      101067|       205797|        201008|   WA|\n",
            "|Corporation|     1049895| School Organization|Extracurricular A...|      102397|       179302|        149667|   WA|\n",
            "|Corporation|     1050935| School Organization|Educational Activ...|      112348|       195319|        174106|   WA|\n",
            "+-----------+------------+--------------------+--------------------+------------+-------------+--------------+-----+\n",
            "only showing top 20 rows\n",
            "\n"
          ]
        }
      ],
      "source": [
        "# Read the data into a Spark DataFrame.\n",
        "orgs_df = spark.read.csv('/content/orgs.csv', sep=',', header=True)\n",
        "orgs_df.show()"
      ]
    },
    {
      "cell_type": "code",
      "execution_count": 6,
      "metadata": {
        "colab": {
          "base_uri": "https://localhost:8080/",
          "height": 206
        },
        "id": "4ofXYDMUHN6V",
        "outputId": "b79d2e22-e06a-4479-858b-f608edfc736a"
      },
      "outputs": [
        {
          "data": {
            "text/html": [
              "\n",
              "  <div id=\"df-66c15f81-7702-438e-b190-e48e4f98bfff\">\n",
              "    <div class=\"colab-df-container\">\n",
              "      <div>\n",
              "<style scoped>\n",
              "    .dataframe tbody tr th:only-of-type {\n",
              "        vertical-align: middle;\n",
              "    }\n",
              "\n",
              "    .dataframe tbody tr th {\n",
              "        vertical-align: top;\n",
              "    }\n",
              "\n",
              "    .dataframe thead th {\n",
              "        text-align: right;\n",
              "    }\n",
              "</style>\n",
              "<table border=\"1\" class=\"dataframe\">\n",
              "  <thead>\n",
              "    <tr style=\"text-align: right;\">\n",
              "      <th></th>\n",
              "      <th>EIN</th>\n",
              "      <th>ORGANIZATION</th>\n",
              "      <th>TYPE</th>\n",
              "      <th>ACTIVITY</th>\n",
              "      <th>ASSET_AMOUNT</th>\n",
              "      <th>INCOME_AMOUNT</th>\n",
              "      <th>REVENUE_AMOUNT</th>\n",
              "      <th>STATE</th>\n",
              "    </tr>\n",
              "  </thead>\n",
              "  <tbody>\n",
              "    <tr>\n",
              "      <th>0</th>\n",
              "      <td>Corporation</td>\n",
              "      <td>1049459</td>\n",
              "      <td>Parent Teacher Group</td>\n",
              "      <td>Educational Activities</td>\n",
              "      <td>86473</td>\n",
              "      <td>187507</td>\n",
              "      <td>266375</td>\n",
              "      <td>CA</td>\n",
              "    </tr>\n",
              "    <tr>\n",
              "      <th>1</th>\n",
              "      <td>Corporation</td>\n",
              "      <td>1049595</td>\n",
              "      <td>Professional Services</td>\n",
              "      <td>Extracurricular Activities</td>\n",
              "      <td>90718</td>\n",
              "      <td>129918</td>\n",
              "      <td>155113</td>\n",
              "      <td>CA</td>\n",
              "    </tr>\n",
              "    <tr>\n",
              "      <th>2</th>\n",
              "      <td>Corporation</td>\n",
              "      <td>1050054</td>\n",
              "      <td>Continuing Education</td>\n",
              "      <td>Educational Activities</td>\n",
              "      <td>102330</td>\n",
              "      <td>167472</td>\n",
              "      <td>175640</td>\n",
              "      <td>IL</td>\n",
              "    </tr>\n",
              "    <tr>\n",
              "      <th>3</th>\n",
              "      <td>Corporation</td>\n",
              "      <td>1050036</td>\n",
              "      <td>School Organization</td>\n",
              "      <td>Educational Activities</td>\n",
              "      <td>85930</td>\n",
              "      <td>214223</td>\n",
              "      <td>164111</td>\n",
              "      <td>NY</td>\n",
              "    </tr>\n",
              "    <tr>\n",
              "      <th>4</th>\n",
              "      <td>Corporation</td>\n",
              "      <td>1049229</td>\n",
              "      <td>School Organization</td>\n",
              "      <td>Extracurricular Activities</td>\n",
              "      <td>103675</td>\n",
              "      <td>189733</td>\n",
              "      <td>224577</td>\n",
              "      <td>CA</td>\n",
              "    </tr>\n",
              "  </tbody>\n",
              "</table>\n",
              "</div>\n",
              "      <button class=\"colab-df-convert\" onclick=\"convertToInteractive('df-66c15f81-7702-438e-b190-e48e4f98bfff')\"\n",
              "              title=\"Convert this dataframe to an interactive table.\"\n",
              "              style=\"display:none;\">\n",
              "        \n",
              "  <svg xmlns=\"http://www.w3.org/2000/svg\" height=\"24px\"viewBox=\"0 0 24 24\"\n",
              "       width=\"24px\">\n",
              "    <path d=\"M0 0h24v24H0V0z\" fill=\"none\"/>\n",
              "    <path d=\"M18.56 5.44l.94 2.06.94-2.06 2.06-.94-2.06-.94-.94-2.06-.94 2.06-2.06.94zm-11 1L8.5 8.5l.94-2.06 2.06-.94-2.06-.94L8.5 2.5l-.94 2.06-2.06.94zm10 10l.94 2.06.94-2.06 2.06-.94-2.06-.94-.94-2.06-.94 2.06-2.06.94z\"/><path d=\"M17.41 7.96l-1.37-1.37c-.4-.4-.92-.59-1.43-.59-.52 0-1.04.2-1.43.59L10.3 9.45l-7.72 7.72c-.78.78-.78 2.05 0 2.83L4 21.41c.39.39.9.59 1.41.59.51 0 1.02-.2 1.41-.59l7.78-7.78 2.81-2.81c.8-.78.8-2.07 0-2.86zM5.41 20L4 18.59l7.72-7.72 1.47 1.35L5.41 20z\"/>\n",
              "  </svg>\n",
              "      </button>\n",
              "      \n",
              "  <style>\n",
              "    .colab-df-container {\n",
              "      display:flex;\n",
              "      flex-wrap:wrap;\n",
              "      gap: 12px;\n",
              "    }\n",
              "\n",
              "    .colab-df-convert {\n",
              "      background-color: #E8F0FE;\n",
              "      border: none;\n",
              "      border-radius: 50%;\n",
              "      cursor: pointer;\n",
              "      display: none;\n",
              "      fill: #1967D2;\n",
              "      height: 32px;\n",
              "      padding: 0 0 0 0;\n",
              "      width: 32px;\n",
              "    }\n",
              "\n",
              "    .colab-df-convert:hover {\n",
              "      background-color: #E2EBFA;\n",
              "      box-shadow: 0px 1px 2px rgba(60, 64, 67, 0.3), 0px 1px 3px 1px rgba(60, 64, 67, 0.15);\n",
              "      fill: #174EA6;\n",
              "    }\n",
              "\n",
              "    [theme=dark] .colab-df-convert {\n",
              "      background-color: #3B4455;\n",
              "      fill: #D2E3FC;\n",
              "    }\n",
              "\n",
              "    [theme=dark] .colab-df-convert:hover {\n",
              "      background-color: #434B5C;\n",
              "      box-shadow: 0px 1px 3px 1px rgba(0, 0, 0, 0.15);\n",
              "      filter: drop-shadow(0px 1px 2px rgba(0, 0, 0, 0.3));\n",
              "      fill: #FFFFFF;\n",
              "    }\n",
              "  </style>\n",
              "\n",
              "      <script>\n",
              "        const buttonEl =\n",
              "          document.querySelector('#df-66c15f81-7702-438e-b190-e48e4f98bfff button.colab-df-convert');\n",
              "        buttonEl.style.display =\n",
              "          google.colab.kernel.accessAllowed ? 'block' : 'none';\n",
              "\n",
              "        async function convertToInteractive(key) {\n",
              "          const element = document.querySelector('#df-66c15f81-7702-438e-b190-e48e4f98bfff');\n",
              "          const dataTable =\n",
              "            await google.colab.kernel.invokeFunction('convertToInteractive',\n",
              "                                                     [key], {});\n",
              "          if (!dataTable) return;\n",
              "\n",
              "          const docLinkHtml = 'Like what you see? Visit the ' +\n",
              "            '<a target=\"_blank\" href=https://colab.research.google.com/notebooks/data_table.ipynb>data table notebook</a>'\n",
              "            + ' to learn more about interactive tables.';\n",
              "          element.innerHTML = '';\n",
              "          dataTable['output_type'] = 'display_data';\n",
              "          await google.colab.output.renderOutput(dataTable, element);\n",
              "          const docLink = document.createElement('div');\n",
              "          docLink.innerHTML = docLinkHtml;\n",
              "          element.appendChild(docLink);\n",
              "        }\n",
              "      </script>\n",
              "    </div>\n",
              "  </div>\n",
              "  "
            ],
            "text/plain": [
              "           EIN ORGANIZATION                   TYPE  \\\n",
              "0  Corporation      1049459   Parent Teacher Group   \n",
              "1  Corporation      1049595  Professional Services   \n",
              "2  Corporation      1050054   Continuing Education   \n",
              "3  Corporation      1050036    School Organization   \n",
              "4  Corporation      1049229    School Organization   \n",
              "\n",
              "                     ACTIVITY ASSET_AMOUNT INCOME_AMOUNT REVENUE_AMOUNT STATE  \n",
              "0      Educational Activities        86473        187507         266375    CA  \n",
              "1  Extracurricular Activities        90718        129918         155113    CA  \n",
              "2      Educational Activities       102330        167472         175640    IL  \n",
              "3      Educational Activities        85930        214223         164111    NY  \n",
              "4  Extracurricular Activities       103675        189733         224577    CA  "
            ]
          },
          "execution_count": 6,
          "metadata": {},
          "output_type": "execute_result"
        }
      ],
      "source": [
        "# Create the Great Expectations DataFrame\n",
        "orgs_df_ge = ge.dataset.SparkDFDataset(orgs_df)\n",
        "orgs_df_ge.head()"
      ]
    },
    {
      "cell_type": "code",
      "execution_count": 8,
      "metadata": {
        "colab": {
          "base_uri": "https://localhost:8080/"
        },
        "id": "sSdn_ycvN6IW",
        "outputId": "816d9b2a-613b-4837-bac5-dc315f88530d"
      },
      "outputs": [
        {
          "name": "stdout",
          "output_type": "stream",
          "text": [
            "[True, True, True]\n"
          ]
        }
      ],
      "source": [
        "# Retrieve the values from the \"success\" fields for the column and row count and matching columns.\n",
        "result = []\n",
        "result.append(orgs_df_ge.expect_table_column_count_to_equal(8)['success'])\n",
        "result.append(orgs_df_ge.expect_table_row_count_to_equal(337)['success'])\n",
        "result.append(orgs_df_ge.expect_table_columns_to_match_ordered_list(['EIN',\n",
        "                                                                 'ORGANIZATION',\n",
        "                                                                 'TYPE',\n",
        "                                                                 'ACTIVITY',\n",
        "                                                                 'ASSET_AMOUNT',\n",
        "                                                                 'INCOME_AMOUNT',\n",
        "                                                                 'REVENUE_AMOUNT',\n",
        "                                                                 'STATE'])['success'])\n",
        "\n",
        "print(result)"
      ]
    },
    {
      "cell_type": "code",
      "execution_count": 9,
      "metadata": {
        "id": "28RIwfL-P8yj"
      },
      "outputs": [],
      "source": [
        "# Create a temporary view and transform the temporary view to retrieve only the \"School Organization\" values from the \"TYPE\" column. \n",
        "def transform_data():\n",
        "    orgs_df.createOrReplaceTempView('orgs')\n",
        "  \n",
        "    transformed_df = spark.sql(\n",
        "        \"\"\"\n",
        "        SELECT\n",
        "          ORGANIZATION,\n",
        "          TYPE,\n",
        "          ACTIVITY,\n",
        "          STATE\n",
        "        FROM ORGS\n",
        "        WHERE TYPE = 'School Organization'\n",
        "        \"\"\"\n",
        "    )\n",
        "  \n",
        "    transformed_df = ge.dataset.SparkDFDataset(transformed_df)\n",
        "    return transformed_df"
      ]
    },
    {
      "cell_type": "code",
      "execution_count": 10,
      "metadata": {
        "id": "s89jTmD2O16n"
      },
      "outputs": [],
      "source": [
        "# Run tests against the transformed DataFrame if the column and row count, \n",
        "# and matching columns are correct in the original DataFrame. \n",
        "if False in result:\n",
        "  print(\"Failed\")\n",
        "else:\n",
        "  transformed_df = transform_data()\n",
        "  transformed_result = []\n",
        "  transformed_result.append(transformed_df.expect_table_columns_to_match_ordered_list(['ORGANIZATION',\n",
        "                                                                                       'TYPE',\n",
        "                                                                                       'ACTIVITY',\n",
        "                                                                                       'STATE'])['success'])\n",
        "  transformed_result.append(transformed_df.expect_column_values_to_be_in_set('type', ['School Organization'])['success'])"
      ]
    },
    {
      "cell_type": "code",
      "execution_count": 11,
      "metadata": {
        "colab": {
          "base_uri": "https://localhost:8080/"
        },
        "id": "L_rBHVRuJEwq",
        "outputId": "95a92a61-c50c-4948-8c4c-0c9ea6b49cbe"
      },
      "outputs": [
        {
          "name": "stdout",
          "output_type": "stream",
          "text": [
            "success\n"
          ]
        }
      ],
      "source": [
        "# Determine if the transformation passed or failed. \n",
        "if False in transformed_result:\n",
        "  print('Failed')\n",
        "else:\n",
        "  print('success')"
      ]
    },
    {
      "cell_type": "code",
      "execution_count": null,
      "metadata": {
        "id": "Vm5dSUY5KBfm"
      },
      "outputs": [],
      "source": []
    }
  ],
  "metadata": {
    "colab": {
      "collapsed_sections": [],
      "name": "org_data_solved.ipynb",
      "provenance": []
    },
    "kernelspec": {
      "display_name": "Python 3.8.12 ('qatest')",
      "language": "python",
      "name": "python3"
    },
    "language_info": {
      "name": "python",
      "version": "3.8.12"
    },
    "vscode": {
      "interpreter": {
        "hash": "df07ec09c4017cff5cffe5c6e95982b3fd889b25c9af2c66175cc1127f95fbfd"
      }
    }
  },
  "nbformat": 4,
  "nbformat_minor": 0
}
