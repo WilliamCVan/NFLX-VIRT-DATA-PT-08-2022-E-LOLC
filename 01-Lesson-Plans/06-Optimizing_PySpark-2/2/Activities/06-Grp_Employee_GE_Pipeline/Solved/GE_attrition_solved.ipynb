{
  "cells": [
    {
      "cell_type": "code",
      "execution_count": 1,
      "metadata": {
        "colab": {
          "base_uri": "https://localhost:8080/"
        },
        "id": "a_KW73O2e3dw",
        "outputId": "1368e0ba-3781-4129-8cbf-ef4b8b106639"
      },
      "outputs": [
        {
          "name": "stdout",
          "output_type": "stream",
          "text": [
            "\r0% [Working]\r            \rGet:1 http://security.ubuntu.com/ubuntu bionic-security InRelease [88.7 kB]\n",
            "\r0% [Connecting to archive.ubuntu.com (185.125.190.39)] [1 InRelease 14.2 kB/88.\r                                                                               \rGet:2 https://cloud.r-project.org/bin/linux/ubuntu bionic-cran40/ InRelease [3,626 B]\n",
            "\r0% [Connecting to archive.ubuntu.com (185.125.190.39)] [1 InRelease 37.3 kB/88.\r0% [Connecting to archive.ubuntu.com (185.125.190.39)] [1 InRelease 88.7 kB/88.\r0% [Connecting to archive.ubuntu.com (185.125.190.39)] [Waiting for headers] [C\r0% [2 InRelease gpgv 3,626 B] [Waiting for headers] [Waiting for headers] [Wait\r                                                                               \rGet:3 http://ppa.launchpad.net/c2d4u.team/c2d4u4.0+/ubuntu bionic InRelease [15.9 kB]\n",
            "Hit:4 http://archive.ubuntu.com/ubuntu bionic InRelease\n",
            "Get:5 http://archive.ubuntu.com/ubuntu bionic-updates InRelease [88.7 kB]\n",
            "Ign:6 https://developer.download.nvidia.com/compute/machine-learning/repos/ubuntu1804/x86_64  InRelease\n",
            "Get:7 https://developer.download.nvidia.com/compute/cuda/repos/ubuntu1804/x86_64  InRelease [1,581 B]\n",
            "Hit:8 https://developer.download.nvidia.com/compute/machine-learning/repos/ubuntu1804/x86_64  Release\n",
            "Hit:9 http://ppa.launchpad.net/cran/libgit2/ubuntu bionic InRelease\n",
            "Get:10 https://cloud.r-project.org/bin/linux/ubuntu bionic-cran40/ Packages [89.9 kB]\n",
            "Get:11 http://archive.ubuntu.com/ubuntu bionic-backports InRelease [74.6 kB]\n",
            "Get:12 http://ppa.launchpad.net/deadsnakes/ppa/ubuntu bionic InRelease [15.9 kB]\n",
            "Hit:13 http://ppa.launchpad.net/graphics-drivers/ppa/ubuntu bionic InRelease\n",
            "Get:14 http://security.ubuntu.com/ubuntu bionic-security/universe amd64 Packages [1,533 kB]\n",
            "Get:15 http://security.ubuntu.com/ubuntu bionic-security/main amd64 Packages [2,937 kB]\n",
            "Get:16 http://security.ubuntu.com/ubuntu bionic-security/restricted amd64 Packages [1,100 kB]\n",
            "Get:17 http://ppa.launchpad.net/c2d4u.team/c2d4u4.0+/ubuntu bionic/main Sources [2,077 kB]\n",
            "Get:18 https://developer.download.nvidia.com/compute/cuda/repos/ubuntu1804/x86_64  Packages [903 kB]\n",
            "Get:19 http://ppa.launchpad.net/c2d4u.team/c2d4u4.0+/ubuntu bionic/main amd64 Packages [1,064 kB]\n",
            "Get:21 http://archive.ubuntu.com/ubuntu bionic-updates/restricted amd64 Packages [1,141 kB]\n",
            "Get:22 http://archive.ubuntu.com/ubuntu bionic-updates/main amd64 Packages [3,369 kB]\n",
            "Get:23 http://ppa.launchpad.net/deadsnakes/ppa/ubuntu bionic/main amd64 Packages [45.3 kB]\n",
            "Get:24 http://archive.ubuntu.com/ubuntu bionic-updates/universe amd64 Packages [2,310 kB]\n",
            "Fetched 16.9 MB in 6s (3,049 kB/s)\n",
            "Reading package lists... Done\n"
          ]
        }
      ],
      "source": [
        "# Activate Spark in our Colab notebook.\n",
        "import os\n",
        "# Find the latest version of spark 3.0  from http://www.apache.org/dist/spark/ and enter as the spark version\n",
        "# For example: 'spark-3.2.2'\n",
        "spark_version = 'spark-3.2.2'\n",
        "# spark_version = 'spark-3.<enter version>'\n",
        "os.environ['SPARK_VERSION']=spark_version\n",
        "\n",
        "# Install Spark and Java\n",
        "!apt-get update\n",
        "!apt-get install openjdk-11-jdk-headless -qq > /dev/null\n",
        "!wget -q http://www.apache.org/dist/spark/$SPARK_VERSION/$SPARK_VERSION-bin-hadoop3.2.tgz\n",
        "!tar xf $SPARK_VERSION-bin-hadoop3.2.tgz\n",
        "!pip install -q findspark\n",
        "\n",
        "# Set Environment Variables\n",
        "os.environ[\"JAVA_HOME\"] = \"/usr/lib/jvm/java-11-openjdk-amd64\"\n",
        "os.environ[\"SPARK_HOME\"] = f\"/content/{spark_version}-bin-hadoop3.2\"\n",
        "\n",
        "# Start a SparkSession\n",
        "import findspark\n",
        "findspark.init()"
      ]
    },
    {
      "cell_type": "code",
      "execution_count": 2,
      "metadata": {
        "colab": {
          "base_uri": "https://localhost:8080/",
          "height": 1000
        },
        "id": "iXHHGYjWzJBg",
        "outputId": "7066ef6e-36fa-4561-bf9a-c38d4871edd8"
      },
      "outputs": [
        {
          "name": "stdout",
          "output_type": "stream",
          "text": [
            "Looking in indexes: https://pypi.org/simple, https://us-python.pkg.dev/colab-wheels/public/simple/\n",
            "Collecting great_expectations\n",
            "  Downloading great_expectations-0.15.18-py3-none-any.whl (5.1 MB)\n",
            "\u001b[K     |████████████████████████████████| 5.1 MB 30.6 MB/s \n",
            "\u001b[?25hCollecting makefun<2,>=1.7.0\n",
            "  Downloading makefun-1.14.0-py2.py3-none-any.whl (22 kB)\n",
            "Requirement already satisfied: mistune>=0.8.4 in /usr/local/lib/python3.7/dist-packages (from great_expectations) (0.8.4)\n",
            "Requirement already satisfied: tqdm>=4.59.0 in /usr/local/lib/python3.7/dist-packages (from great_expectations) (4.64.0)\n",
            "Collecting cryptography>=3.2\n",
            "  Downloading cryptography-37.0.4-cp36-abi3-manylinux_2_24_x86_64.whl (4.1 MB)\n",
            "\u001b[K     |████████████████████████████████| 4.1 MB 53.6 MB/s \n",
            "\u001b[?25hRequirement already satisfied: packaging in /usr/local/lib/python3.7/dist-packages (from great_expectations) (21.3)\n",
            "Requirement already satisfied: Click>=7.1.2 in /usr/local/lib/python3.7/dist-packages (from great_expectations) (7.1.2)\n",
            "Collecting notebook>=6.4.10\n",
            "  Downloading notebook-6.4.12-py3-none-any.whl (9.9 MB)\n",
            "\u001b[K     |████████████████████████████████| 9.9 MB 31.1 MB/s \n",
            "\u001b[?25hCollecting Ipython>=7.16.3\n",
            "  Downloading ipython-7.34.0-py3-none-any.whl (793 kB)\n",
            "\u001b[K     |████████████████████████████████| 793 kB 65.2 MB/s \n",
            "\u001b[?25hRequirement already satisfied: importlib-metadata>=1.7.0 in /usr/local/lib/python3.7/dist-packages (from great_expectations) (4.12.0)\n",
            "Requirement already satisfied: tzlocal>=1.2 in /usr/local/lib/python3.7/dist-packages (from great_expectations) (1.5.1)\n",
            "Requirement already satisfied: pytz>=2021.3 in /usr/local/lib/python3.7/dist-packages (from great_expectations) (2022.1)\n",
            "Collecting urllib3<1.27,>=1.25.4\n",
            "  Downloading urllib3-1.26.11-py2.py3-none-any.whl (139 kB)\n",
            "\u001b[K     |████████████████████████████████| 139 kB 63.5 MB/s \n",
            "\u001b[?25hRequirement already satisfied: nbformat>=5.0 in /usr/local/lib/python3.7/dist-packages (from great_expectations) (5.4.0)\n",
            "Requirement already satisfied: typing-extensions>=3.10.0.0 in /usr/local/lib/python3.7/dist-packages (from great_expectations) (4.1.1)\n",
            "Collecting colorama>=0.4.3\n",
            "  Downloading colorama-0.4.5-py2.py3-none-any.whl (16 kB)\n",
            "Requirement already satisfied: python-dateutil>=2.8.1 in /usr/local/lib/python3.7/dist-packages (from great_expectations) (2.8.2)\n",
            "Requirement already satisfied: pandas>=1.1.0 in /usr/local/lib/python3.7/dist-packages (from great_expectations) (1.3.5)\n",
            "Requirement already satisfied: numpy>=1.18.5 in /usr/local/lib/python3.7/dist-packages (from great_expectations) (1.21.6)\n",
            "Collecting pyparsing<3,>=2.4\n",
            "  Downloading pyparsing-2.4.7-py2.py3-none-any.whl (67 kB)\n",
            "\u001b[K     |████████████████████████████████| 67 kB 6.9 MB/s \n",
            "\u001b[?25hRequirement already satisfied: ipywidgets>=7.5.1 in /usr/local/lib/python3.7/dist-packages (from great_expectations) (7.7.1)\n",
            "Requirement already satisfied: termcolor>=1.1.0 in /usr/local/lib/python3.7/dist-packages (from great_expectations) (1.1.0)\n",
            "Requirement already satisfied: altair<5,>=4.0.0 in /usr/local/lib/python3.7/dist-packages (from great_expectations) (4.2.0)\n",
            "Requirement already satisfied: scipy>=0.19.0 in /usr/local/lib/python3.7/dist-packages (from great_expectations) (1.7.3)\n",
            "Collecting ruamel.yaml<0.17.18,>=0.16\n",
            "  Downloading ruamel.yaml-0.17.17-py3-none-any.whl (109 kB)\n",
            "\u001b[K     |████████████████████████████████| 109 kB 67.8 MB/s \n",
            "\u001b[?25hRequirement already satisfied: requests>=2.20 in /usr/local/lib/python3.7/dist-packages (from great_expectations) (2.23.0)\n",
            "Requirement already satisfied: jinja2>=2.10 in /usr/local/lib/python3.7/dist-packages (from great_expectations) (2.11.3)\n",
            "Collecting jsonpatch>=1.22\n",
            "  Downloading jsonpatch-1.32-py2.py3-none-any.whl (12 kB)\n",
            "Requirement already satisfied: jsonschema>=2.5.1 in /usr/local/lib/python3.7/dist-packages (from great_expectations) (4.3.3)\n",
            "Requirement already satisfied: toolz in /usr/local/lib/python3.7/dist-packages (from altair<5,>=4.0.0->great_expectations) (0.12.0)\n",
            "Requirement already satisfied: entrypoints in /usr/local/lib/python3.7/dist-packages (from altair<5,>=4.0.0->great_expectations) (0.4)\n",
            "Requirement already satisfied: cffi>=1.12 in /usr/local/lib/python3.7/dist-packages (from cryptography>=3.2->great_expectations) (1.15.1)\n",
            "Requirement already satisfied: pycparser in /usr/local/lib/python3.7/dist-packages (from cffi>=1.12->cryptography>=3.2->great_expectations) (2.21)\n",
            "Requirement already satisfied: zipp>=0.5 in /usr/local/lib/python3.7/dist-packages (from importlib-metadata>=1.7.0->great_expectations) (3.8.1)\n",
            "Requirement already satisfied: pickleshare in /usr/local/lib/python3.7/dist-packages (from Ipython>=7.16.3->great_expectations) (0.7.5)\n",
            "Requirement already satisfied: pygments in /usr/local/lib/python3.7/dist-packages (from Ipython>=7.16.3->great_expectations) (2.6.1)\n",
            "Requirement already satisfied: decorator in /usr/local/lib/python3.7/dist-packages (from Ipython>=7.16.3->great_expectations) (4.4.2)\n",
            "Collecting prompt-toolkit!=3.0.0,!=3.0.1,<3.1.0,>=2.0.0\n",
            "  Downloading prompt_toolkit-3.0.30-py3-none-any.whl (381 kB)\n",
            "\u001b[K     |████████████████████████████████| 381 kB 62.4 MB/s \n",
            "\u001b[?25hRequirement already satisfied: pexpect>4.3 in /usr/local/lib/python3.7/dist-packages (from Ipython>=7.16.3->great_expectations) (4.8.0)\n",
            "Requirement already satisfied: setuptools>=18.5 in /usr/local/lib/python3.7/dist-packages (from Ipython>=7.16.3->great_expectations) (57.4.0)\n",
            "Requirement already satisfied: matplotlib-inline in /usr/local/lib/python3.7/dist-packages (from Ipython>=7.16.3->great_expectations) (0.1.3)\n",
            "Requirement already satisfied: traitlets>=4.2 in /usr/local/lib/python3.7/dist-packages (from Ipython>=7.16.3->great_expectations) (5.1.1)\n",
            "Requirement already satisfied: jedi>=0.16 in /usr/local/lib/python3.7/dist-packages (from Ipython>=7.16.3->great_expectations) (0.18.1)\n",
            "Requirement already satisfied: backcall in /usr/local/lib/python3.7/dist-packages (from Ipython>=7.16.3->great_expectations) (0.2.0)\n",
            "Requirement already satisfied: widgetsnbextension~=3.6.0 in /usr/local/lib/python3.7/dist-packages (from ipywidgets>=7.5.1->great_expectations) (3.6.1)\n",
            "Requirement already satisfied: jupyterlab-widgets>=1.0.0 in /usr/local/lib/python3.7/dist-packages (from ipywidgets>=7.5.1->great_expectations) (1.1.1)\n",
            "Requirement already satisfied: ipykernel>=4.5.1 in /usr/local/lib/python3.7/dist-packages (from ipywidgets>=7.5.1->great_expectations) (4.10.1)\n",
            "Requirement already satisfied: ipython-genutils~=0.2.0 in /usr/local/lib/python3.7/dist-packages (from ipywidgets>=7.5.1->great_expectations) (0.2.0)\n",
            "Requirement already satisfied: jupyter-client in /usr/local/lib/python3.7/dist-packages (from ipykernel>=4.5.1->ipywidgets>=7.5.1->great_expectations) (5.3.5)\n",
            "Requirement already satisfied: tornado>=4.0 in /usr/local/lib/python3.7/dist-packages (from ipykernel>=4.5.1->ipywidgets>=7.5.1->great_expectations) (5.1.1)\n",
            "Requirement already satisfied: parso<0.9.0,>=0.8.0 in /usr/local/lib/python3.7/dist-packages (from jedi>=0.16->Ipython>=7.16.3->great_expectations) (0.8.3)\n",
            "Requirement already satisfied: MarkupSafe>=0.23 in /usr/local/lib/python3.7/dist-packages (from jinja2>=2.10->great_expectations) (2.0.1)\n",
            "Collecting jsonpointer>=1.9\n",
            "  Downloading jsonpointer-2.3-py2.py3-none-any.whl (7.8 kB)\n",
            "Requirement already satisfied: attrs>=17.4.0 in /usr/local/lib/python3.7/dist-packages (from jsonschema>=2.5.1->great_expectations) (22.1.0)\n",
            "Requirement already satisfied: pyrsistent!=0.17.0,!=0.17.1,!=0.17.2,>=0.14.0 in /usr/local/lib/python3.7/dist-packages (from jsonschema>=2.5.1->great_expectations) (0.18.1)\n",
            "Requirement already satisfied: importlib-resources>=1.4.0 in /usr/local/lib/python3.7/dist-packages (from jsonschema>=2.5.1->great_expectations) (5.9.0)\n",
            "Requirement already satisfied: fastjsonschema in /usr/local/lib/python3.7/dist-packages (from nbformat>=5.0->great_expectations) (2.16.1)\n",
            "Requirement already satisfied: jupyter-core in /usr/local/lib/python3.7/dist-packages (from nbformat>=5.0->great_expectations) (4.11.1)\n",
            "Requirement already satisfied: terminado>=0.8.3 in /usr/local/lib/python3.7/dist-packages (from notebook>=6.4.10->great_expectations) (0.13.3)\n",
            "Requirement already satisfied: nest-asyncio>=1.5 in /usr/local/lib/python3.7/dist-packages (from notebook>=6.4.10->great_expectations) (1.5.5)\n",
            "Requirement already satisfied: prometheus-client in /usr/local/lib/python3.7/dist-packages (from notebook>=6.4.10->great_expectations) (0.14.1)\n",
            "Collecting tornado>=4.0\n",
            "  Downloading tornado-6.2-cp37-abi3-manylinux_2_5_x86_64.manylinux1_x86_64.manylinux_2_17_x86_64.manylinux2014_x86_64.whl (423 kB)\n",
            "\u001b[K     |████████████████████████████████| 423 kB 49.2 MB/s \n",
            "\u001b[?25hRequirement already satisfied: nbconvert>=5 in /usr/local/lib/python3.7/dist-packages (from notebook>=6.4.10->great_expectations) (5.6.1)\n",
            "Requirement already satisfied: Send2Trash>=1.8.0 in /usr/local/lib/python3.7/dist-packages (from notebook>=6.4.10->great_expectations) (1.8.0)\n",
            "Requirement already satisfied: argon2-cffi in /usr/local/lib/python3.7/dist-packages (from notebook>=6.4.10->great_expectations) (21.3.0)\n",
            "Requirement already satisfied: pyzmq>=17 in /usr/local/lib/python3.7/dist-packages (from notebook>=6.4.10->great_expectations) (23.2.0)\n",
            "Requirement already satisfied: pandocfilters>=1.4.1 in /usr/local/lib/python3.7/dist-packages (from nbconvert>=5->notebook>=6.4.10->great_expectations) (1.5.0)\n",
            "Requirement already satisfied: bleach in /usr/local/lib/python3.7/dist-packages (from nbconvert>=5->notebook>=6.4.10->great_expectations) (5.0.1)\n",
            "Requirement already satisfied: testpath in /usr/local/lib/python3.7/dist-packages (from nbconvert>=5->notebook>=6.4.10->great_expectations) (0.6.0)\n",
            "Requirement already satisfied: defusedxml in /usr/local/lib/python3.7/dist-packages (from nbconvert>=5->notebook>=6.4.10->great_expectations) (0.7.1)\n",
            "Requirement already satisfied: ptyprocess>=0.5 in /usr/local/lib/python3.7/dist-packages (from pexpect>4.3->Ipython>=7.16.3->great_expectations) (0.7.0)\n",
            "Requirement already satisfied: wcwidth in /usr/local/lib/python3.7/dist-packages (from prompt-toolkit!=3.0.0,!=3.0.1,<3.1.0,>=2.0.0->Ipython>=7.16.3->great_expectations) (0.2.5)\n",
            "Requirement already satisfied: six>=1.5 in /usr/local/lib/python3.7/dist-packages (from python-dateutil>=2.8.1->great_expectations) (1.15.0)\n",
            "Requirement already satisfied: idna<3,>=2.5 in /usr/local/lib/python3.7/dist-packages (from requests>=2.20->great_expectations) (2.10)\n",
            "Collecting urllib3<1.27,>=1.25.4\n",
            "  Downloading urllib3-1.25.11-py2.py3-none-any.whl (127 kB)\n",
            "\u001b[K     |████████████████████████████████| 127 kB 40.6 MB/s \n",
            "\u001b[?25hRequirement already satisfied: chardet<4,>=3.0.2 in /usr/local/lib/python3.7/dist-packages (from requests>=2.20->great_expectations) (3.0.4)\n",
            "Requirement already satisfied: certifi>=2017.4.17 in /usr/local/lib/python3.7/dist-packages (from requests>=2.20->great_expectations) (2022.6.15)\n",
            "Collecting ruamel.yaml.clib>=0.1.2\n",
            "  Downloading ruamel.yaml.clib-0.2.6-cp37-cp37m-manylinux1_x86_64.whl (546 kB)\n",
            "\u001b[K     |████████████████████████████████| 546 kB 78.1 MB/s \n",
            "\u001b[?25hRequirement already satisfied: argon2-cffi-bindings in /usr/local/lib/python3.7/dist-packages (from argon2-cffi->notebook>=6.4.10->great_expectations) (21.2.0)\n",
            "Requirement already satisfied: webencodings in /usr/local/lib/python3.7/dist-packages (from bleach->nbconvert>=5->notebook>=6.4.10->great_expectations) (0.5.1)\n",
            "Installing collected packages: tornado, prompt-toolkit, Ipython, notebook, urllib3, ruamel.yaml.clib, pyparsing, jsonpointer, ruamel.yaml, makefun, jsonpatch, cryptography, colorama, great-expectations\n",
            "  Attempting uninstall: tornado\n",
            "    Found existing installation: tornado 5.1.1\n",
            "    Uninstalling tornado-5.1.1:\n",
            "      Successfully uninstalled tornado-5.1.1\n",
            "  Attempting uninstall: prompt-toolkit\n",
            "    Found existing installation: prompt-toolkit 1.0.18\n",
            "    Uninstalling prompt-toolkit-1.0.18:\n",
            "      Successfully uninstalled prompt-toolkit-1.0.18\n",
            "  Attempting uninstall: Ipython\n",
            "    Found existing installation: ipython 5.5.0\n",
            "    Uninstalling ipython-5.5.0:\n",
            "      Successfully uninstalled ipython-5.5.0\n",
            "  Attempting uninstall: notebook\n",
            "    Found existing installation: notebook 5.3.1\n",
            "    Uninstalling notebook-5.3.1:\n",
            "      Successfully uninstalled notebook-5.3.1\n",
            "  Attempting uninstall: urllib3\n",
            "    Found existing installation: urllib3 1.24.3\n",
            "    Uninstalling urllib3-1.24.3:\n",
            "      Successfully uninstalled urllib3-1.24.3\n",
            "  Attempting uninstall: pyparsing\n",
            "    Found existing installation: pyparsing 3.0.9\n",
            "    Uninstalling pyparsing-3.0.9:\n",
            "      Successfully uninstalled pyparsing-3.0.9\n",
            "\u001b[31mERROR: pip's dependency resolver does not currently take into account all the packages that are installed. This behaviour is the source of the following dependency conflicts.\n",
            "jupyter-console 5.2.0 requires prompt-toolkit<2.0.0,>=1.0.0, but you have prompt-toolkit 3.0.30 which is incompatible.\n",
            "google-colab 1.0.0 requires ipython~=5.5.0, but you have ipython 7.34.0 which is incompatible.\n",
            "google-colab 1.0.0 requires notebook~=5.3.0, but you have notebook 6.4.12 which is incompatible.\n",
            "google-colab 1.0.0 requires tornado~=5.1.0, but you have tornado 6.2 which is incompatible.\u001b[0m\n",
            "Successfully installed Ipython-7.34.0 colorama-0.4.5 cryptography-37.0.4 great-expectations-0.15.18 jsonpatch-1.32 jsonpointer-2.3 makefun-1.14.0 notebook-6.4.12 prompt-toolkit-3.0.30 pyparsing-2.4.7 ruamel.yaml-0.17.17 ruamel.yaml.clib-0.2.6 tornado-6.2 urllib3-1.25.11\n"
          ]
        },
        {
          "data": {
            "application/vnd.colab-display-data+json": {
              "pip_warning": {
                "packages": [
                  "IPython",
                  "prompt_toolkit",
                  "pyparsing",
                  "tornado"
                ]
              }
            }
          },
          "metadata": {},
          "output_type": "display_data"
        }
      ],
      "source": [
        "# Install great expectations\n",
        "!pip install great_expectations"
      ]
    },
    {
      "cell_type": "code",
      "execution_count": 3,
      "metadata": {
        "id": "2XbWNf1Te5fM"
      },
      "outputs": [],
      "source": [
        "# Import SparkSession and great expectations \n",
        "from pyspark.sql import SparkSession\n",
        "import great_expectations as ge\n",
        "\n",
        "# Create a SparkSession\n",
        "spark = SparkSession.builder.appName(\"SparkSQL\").getOrCreate()\n",
        "# Start Spark session\n",
        "from pyspark import SparkFiles"
      ]
    },
    {
      "cell_type": "code",
      "execution_count": 4,
      "metadata": {
        "colab": {
          "base_uri": "https://localhost:8080/"
        },
        "id": "XiVGvvzwgGXe",
        "outputId": "c58da5d8-7850-489f-f7e3-342511e61875"
      },
      "outputs": [
        {
          "name": "stdout",
          "output_type": "stream",
          "text": [
            "+-----+---+---------+-----------------+---------+----------+---------+-------+----------------+-----------------------+------+----------+--------------+--------+---------------+-------------+-------------+-----------+------------------+------+--------+-----------------+-----------------+-------------+---------------+\n",
            "|   id|Age|Attrition|   BusinessTravel|DailyRate|Department|Education|JobRole|DistanceFromHome|EnvironmentSatisfaction|Gender|HourlyRate|JobInvolvement|JobLevel|JobSatisfaction|MaritalStatus|MonthlyIncome|MonthlyRate|NumCompaniesWorked|Over18|OverTime|PercentSalaryHike|PerformanceRating|StandardHours|WorkLifeBalance|\n",
            "+-----+---+---------+-----------------+---------+----------+---------+-------+----------------+-----------------------+------+----------+--------------+--------+---------------+-------------+-------------+-----------+------------------+------+--------+-----------------+-----------------+-------------+---------------+\n",
            "|12378| 35|      Yes|Travel_Frequently|      502|         S|        a|      l|               5|                      4|     F|        48|             4|       2|              5|     Divorced|         9200|      10448|                 2|     Y|     Yes|                5|                1|           80|              1|\n",
            "|12379| 42|       No|       Non-Travel|      497|         S|        a|      l|               3|                      3|     F|        50|             4|       3|              5|       Single|        10719|       9049|                 3|     Y|      No|                7|                2|           80|              4|\n",
            "|12380| 34|       No|       Non-Travel|      505|         T|        e|      c|               4|                      3|     M|        46|             2|       3|              5|       Single|         9843|       9941|                 3|     Y|      No|               10|                3|           80|              1|\n",
            "|12381| 43|       No|       Non-Travel|      493|         T|        e|      c|               5|                      2|     F|        48|             3|       1|              5|     Divorced|        12077|      10150|                 5|     Y|     Yes|                1|                3|           80|              4|\n",
            "|12382| 43|      Yes|    Travel_Rarely|      536|         R|        e|      s|               4|                      4|     M|        53|             2|       3|              2|       Single|        10486|      10008|                 2|     Y|      No|                9|                1|           80|              3|\n",
            "|12383| 44|       No|       Non-Travel|      511|         S|        a|      l|               6|                      2|     F|        49|             4|       2|              2|      Married|        10512|       9021|                 4|     Y|     Yes|                9|                2|           80|              3|\n",
            "|12384| 51|       No|       Non-Travel|      527|         T|        e|      c|               6|                      3|     F|        49|             4|       3|              3|       Single|        11769|       9672|                 2|     Y|      No|               17|                1|           80|              3|\n",
            "|12385| 49|       No|       Non-Travel|      516|         R|        e|      s|               2|                      3|     F|        49|             4|       3|              3|      Married|        11628|       9242|                 3|     Y|      No|                4|                1|           80|              2|\n",
            "|12386| 40|      Yes|Travel_Frequently|      504|         S|        a|      l|               4|                      3|     F|        49|             4|       1|              4|     Divorced|         9849|      12045|                 2|     Y|      No|               22|                1|           80|              3|\n",
            "|12387| 38|       No|       Non-Travel|      496|         S|        a|      l|               5|                      4|     F|        49|             4|       1|              5|      Married|         9666|      10949|                 3|     Y|      No|               17|                3|           80|              3|\n",
            "|12388| 42|       No|    Travel_Rarely|      490|         R|        e|      s|               3|                      3|     F|        50|             4|       3|              4|      Married|        10692|       8043|                 4|     Y|     Yes|               14|                2|           80|              1|\n",
            "|12389| 30|       No|       Non-Travel|      510|         T|        e|      c|               2|                      3|     M|        48|             3|       1|              2|      Married|        11448|      10020|                 2|     Y|      No|               11|                3|           80|              3|\n",
            "|12390| 65|       No|       Non-Travel|      505|         T|        e|      c|               4|                      4|     M|        50|             2|       1|              2|      Married|         9714|      11179|                 2|     Y|      No|               10|                3|           80|              2|\n",
            "|12391| 39|       No|       Non-Travel|      507|         S|        a|      l|               3|                      3|     M|        53|             4|       3|              5|       Single|        10215|      11106|                 4|     Y|     Yes|               11|                1|           80|              3|\n",
            "|12392| 28|       No|       Non-Travel|      483|         T|        e|      c|               4|                      2|     M|        44|             3|       3|              2|     Divorced|        10242|      10723|                 3|     Y|      No|                3|                3|           80|              3|\n",
            "|12393| 30|       No|       Non-Travel|      492|         T|        e|      c|               3|                      3|     F|        51|             4|       2|              2|      Married|        10057|      11020|                 1|     Y|      No|                5|                2|           80|              3|\n",
            "|12394| 36|       No|    Travel_Rarely|      486|         S|        a|      l|               6|                      4|     M|        48|             4|       3|              5|     Divorced|        10442|       9681|                 2|     Y|      No|               14|                3|           80|              3|\n",
            "|12395| 60|       No|       Non-Travel|      494|         S|        a|      l|               4|                      4|     F|        49|             4|       3|              5|       Single|         7969|       7797|                 1|     Y|      No|               10|                2|           80|              2|\n",
            "|12396| 50|       No|       Non-Travel|      495|         R|        e|      s|               6|                      4|     M|        48|             4|       2|              3|      Married|         8773|      10747|                 2|     Y|      No|                7|                2|           80|              2|\n",
            "|12397| 38|       No|       Non-Travel|      503|         R|        e|      s|               2|                      2|     M|        48|             4|       2|              2|     Divorced|        10564|      11221|                 1|     Y|     Yes|               11|                3|           80|              2|\n",
            "+-----+---+---------+-----------------+---------+----------+---------+-------+----------------+-----------------------+------+----------+--------------+--------+---------------+-------------+-------------+-----------+------------------+------+--------+-----------------+-----------------+-------------+---------------+\n",
            "only showing top 20 rows\n",
            "\n"
          ]
        }
      ],
      "source": [
        "# Read the data into a Spark DataFrame.\n",
        "employees_df = spark.read.csv('/content/attrition.csv', sep=',', header=True)\n",
        "employees_df.show()"
      ]
    },
    {
      "cell_type": "code",
      "execution_count": 5,
      "metadata": {
        "colab": {
          "base_uri": "https://localhost:8080/"
        },
        "id": "e7qrX9vZ0tUF",
        "outputId": "92b14bcc-29a0-44f2-c23f-0b58aef1d5dc"
      },
      "outputs": [
        {
          "name": "stdout",
          "output_type": "stream",
          "text": [
            "['id', 'Age', 'Attrition', 'BusinessTravel', 'DailyRate', 'Department', 'Education', 'JobRole', 'DistanceFromHome', 'EnvironmentSatisfaction', 'Gender', 'HourlyRate', 'JobInvolvement', 'JobLevel', 'JobSatisfaction', 'MaritalStatus', 'MonthlyIncome', 'MonthlyRate', 'NumCompaniesWorked', 'Over18', 'OverTime', 'PercentSalaryHike', 'PerformanceRating', 'StandardHours', 'WorkLifeBalance']\n"
          ]
        }
      ],
      "source": [
        "# Save the column names to a list. \n",
        "columns = employees_df.schema.names\n",
        "print(columns)"
      ]
    },
    {
      "cell_type": "code",
      "execution_count": 6,
      "metadata": {
        "colab": {
          "base_uri": "https://localhost:8080/",
          "height": 300
        },
        "id": "4ofXYDMUHN6V",
        "outputId": "94924a51-7726-4706-e2fb-55bb388fd6ab"
      },
      "outputs": [
        {
          "data": {
            "text/html": [
              "\n",
              "  <div id=\"df-e65b1b16-d54a-48c2-96f1-423f71fcd302\">\n",
              "    <div class=\"colab-df-container\">\n",
              "      <div>\n",
              "<style scoped>\n",
              "    .dataframe tbody tr th:only-of-type {\n",
              "        vertical-align: middle;\n",
              "    }\n",
              "\n",
              "    .dataframe tbody tr th {\n",
              "        vertical-align: top;\n",
              "    }\n",
              "\n",
              "    .dataframe thead th {\n",
              "        text-align: right;\n",
              "    }\n",
              "</style>\n",
              "<table border=\"1\" class=\"dataframe\">\n",
              "  <thead>\n",
              "    <tr style=\"text-align: right;\">\n",
              "      <th></th>\n",
              "      <th>id</th>\n",
              "      <th>Age</th>\n",
              "      <th>Attrition</th>\n",
              "      <th>BusinessTravel</th>\n",
              "      <th>DailyRate</th>\n",
              "      <th>Department</th>\n",
              "      <th>Education</th>\n",
              "      <th>JobRole</th>\n",
              "      <th>DistanceFromHome</th>\n",
              "      <th>EnvironmentSatisfaction</th>\n",
              "      <th>...</th>\n",
              "      <th>MaritalStatus</th>\n",
              "      <th>MonthlyIncome</th>\n",
              "      <th>MonthlyRate</th>\n",
              "      <th>NumCompaniesWorked</th>\n",
              "      <th>Over18</th>\n",
              "      <th>OverTime</th>\n",
              "      <th>PercentSalaryHike</th>\n",
              "      <th>PerformanceRating</th>\n",
              "      <th>StandardHours</th>\n",
              "      <th>WorkLifeBalance</th>\n",
              "    </tr>\n",
              "  </thead>\n",
              "  <tbody>\n",
              "    <tr>\n",
              "      <th>0</th>\n",
              "      <td>12378</td>\n",
              "      <td>35</td>\n",
              "      <td>Yes</td>\n",
              "      <td>Travel_Frequently</td>\n",
              "      <td>502</td>\n",
              "      <td>S</td>\n",
              "      <td>a</td>\n",
              "      <td>l</td>\n",
              "      <td>5</td>\n",
              "      <td>4</td>\n",
              "      <td>...</td>\n",
              "      <td>Divorced</td>\n",
              "      <td>9200</td>\n",
              "      <td>10448</td>\n",
              "      <td>2</td>\n",
              "      <td>Y</td>\n",
              "      <td>Yes</td>\n",
              "      <td>5</td>\n",
              "      <td>1</td>\n",
              "      <td>80</td>\n",
              "      <td>1</td>\n",
              "    </tr>\n",
              "    <tr>\n",
              "      <th>1</th>\n",
              "      <td>12379</td>\n",
              "      <td>42</td>\n",
              "      <td>No</td>\n",
              "      <td>Non-Travel</td>\n",
              "      <td>497</td>\n",
              "      <td>S</td>\n",
              "      <td>a</td>\n",
              "      <td>l</td>\n",
              "      <td>3</td>\n",
              "      <td>3</td>\n",
              "      <td>...</td>\n",
              "      <td>Single</td>\n",
              "      <td>10719</td>\n",
              "      <td>9049</td>\n",
              "      <td>3</td>\n",
              "      <td>Y</td>\n",
              "      <td>No</td>\n",
              "      <td>7</td>\n",
              "      <td>2</td>\n",
              "      <td>80</td>\n",
              "      <td>4</td>\n",
              "    </tr>\n",
              "    <tr>\n",
              "      <th>2</th>\n",
              "      <td>12380</td>\n",
              "      <td>34</td>\n",
              "      <td>No</td>\n",
              "      <td>Non-Travel</td>\n",
              "      <td>505</td>\n",
              "      <td>T</td>\n",
              "      <td>e</td>\n",
              "      <td>c</td>\n",
              "      <td>4</td>\n",
              "      <td>3</td>\n",
              "      <td>...</td>\n",
              "      <td>Single</td>\n",
              "      <td>9843</td>\n",
              "      <td>9941</td>\n",
              "      <td>3</td>\n",
              "      <td>Y</td>\n",
              "      <td>No</td>\n",
              "      <td>10</td>\n",
              "      <td>3</td>\n",
              "      <td>80</td>\n",
              "      <td>1</td>\n",
              "    </tr>\n",
              "    <tr>\n",
              "      <th>3</th>\n",
              "      <td>12381</td>\n",
              "      <td>43</td>\n",
              "      <td>No</td>\n",
              "      <td>Non-Travel</td>\n",
              "      <td>493</td>\n",
              "      <td>T</td>\n",
              "      <td>e</td>\n",
              "      <td>c</td>\n",
              "      <td>5</td>\n",
              "      <td>2</td>\n",
              "      <td>...</td>\n",
              "      <td>Divorced</td>\n",
              "      <td>12077</td>\n",
              "      <td>10150</td>\n",
              "      <td>5</td>\n",
              "      <td>Y</td>\n",
              "      <td>Yes</td>\n",
              "      <td>1</td>\n",
              "      <td>3</td>\n",
              "      <td>80</td>\n",
              "      <td>4</td>\n",
              "    </tr>\n",
              "    <tr>\n",
              "      <th>4</th>\n",
              "      <td>12382</td>\n",
              "      <td>43</td>\n",
              "      <td>Yes</td>\n",
              "      <td>Travel_Rarely</td>\n",
              "      <td>536</td>\n",
              "      <td>R</td>\n",
              "      <td>e</td>\n",
              "      <td>s</td>\n",
              "      <td>4</td>\n",
              "      <td>4</td>\n",
              "      <td>...</td>\n",
              "      <td>Single</td>\n",
              "      <td>10486</td>\n",
              "      <td>10008</td>\n",
              "      <td>2</td>\n",
              "      <td>Y</td>\n",
              "      <td>No</td>\n",
              "      <td>9</td>\n",
              "      <td>1</td>\n",
              "      <td>80</td>\n",
              "      <td>3</td>\n",
              "    </tr>\n",
              "  </tbody>\n",
              "</table>\n",
              "<p>5 rows × 25 columns</p>\n",
              "</div>\n",
              "      <button class=\"colab-df-convert\" onclick=\"convertToInteractive('df-e65b1b16-d54a-48c2-96f1-423f71fcd302')\"\n",
              "              title=\"Convert this dataframe to an interactive table.\"\n",
              "              style=\"display:none;\">\n",
              "        \n",
              "  <svg xmlns=\"http://www.w3.org/2000/svg\" height=\"24px\"viewBox=\"0 0 24 24\"\n",
              "       width=\"24px\">\n",
              "    <path d=\"M0 0h24v24H0V0z\" fill=\"none\"/>\n",
              "    <path d=\"M18.56 5.44l.94 2.06.94-2.06 2.06-.94-2.06-.94-.94-2.06-.94 2.06-2.06.94zm-11 1L8.5 8.5l.94-2.06 2.06-.94-2.06-.94L8.5 2.5l-.94 2.06-2.06.94zm10 10l.94 2.06.94-2.06 2.06-.94-2.06-.94-.94-2.06-.94 2.06-2.06.94z\"/><path d=\"M17.41 7.96l-1.37-1.37c-.4-.4-.92-.59-1.43-.59-.52 0-1.04.2-1.43.59L10.3 9.45l-7.72 7.72c-.78.78-.78 2.05 0 2.83L4 21.41c.39.39.9.59 1.41.59.51 0 1.02-.2 1.41-.59l7.78-7.78 2.81-2.81c.8-.78.8-2.07 0-2.86zM5.41 20L4 18.59l7.72-7.72 1.47 1.35L5.41 20z\"/>\n",
              "  </svg>\n",
              "      </button>\n",
              "      \n",
              "  <style>\n",
              "    .colab-df-container {\n",
              "      display:flex;\n",
              "      flex-wrap:wrap;\n",
              "      gap: 12px;\n",
              "    }\n",
              "\n",
              "    .colab-df-convert {\n",
              "      background-color: #E8F0FE;\n",
              "      border: none;\n",
              "      border-radius: 50%;\n",
              "      cursor: pointer;\n",
              "      display: none;\n",
              "      fill: #1967D2;\n",
              "      height: 32px;\n",
              "      padding: 0 0 0 0;\n",
              "      width: 32px;\n",
              "    }\n",
              "\n",
              "    .colab-df-convert:hover {\n",
              "      background-color: #E2EBFA;\n",
              "      box-shadow: 0px 1px 2px rgba(60, 64, 67, 0.3), 0px 1px 3px 1px rgba(60, 64, 67, 0.15);\n",
              "      fill: #174EA6;\n",
              "    }\n",
              "\n",
              "    [theme=dark] .colab-df-convert {\n",
              "      background-color: #3B4455;\n",
              "      fill: #D2E3FC;\n",
              "    }\n",
              "\n",
              "    [theme=dark] .colab-df-convert:hover {\n",
              "      background-color: #434B5C;\n",
              "      box-shadow: 0px 1px 3px 1px rgba(0, 0, 0, 0.15);\n",
              "      filter: drop-shadow(0px 1px 2px rgba(0, 0, 0, 0.3));\n",
              "      fill: #FFFFFF;\n",
              "    }\n",
              "  </style>\n",
              "\n",
              "      <script>\n",
              "        const buttonEl =\n",
              "          document.querySelector('#df-e65b1b16-d54a-48c2-96f1-423f71fcd302 button.colab-df-convert');\n",
              "        buttonEl.style.display =\n",
              "          google.colab.kernel.accessAllowed ? 'block' : 'none';\n",
              "\n",
              "        async function convertToInteractive(key) {\n",
              "          const element = document.querySelector('#df-e65b1b16-d54a-48c2-96f1-423f71fcd302');\n",
              "          const dataTable =\n",
              "            await google.colab.kernel.invokeFunction('convertToInteractive',\n",
              "                                                     [key], {});\n",
              "          if (!dataTable) return;\n",
              "\n",
              "          const docLinkHtml = 'Like what you see? Visit the ' +\n",
              "            '<a target=\"_blank\" href=https://colab.research.google.com/notebooks/data_table.ipynb>data table notebook</a>'\n",
              "            + ' to learn more about interactive tables.';\n",
              "          element.innerHTML = '';\n",
              "          dataTable['output_type'] = 'display_data';\n",
              "          await google.colab.output.renderOutput(dataTable, element);\n",
              "          const docLink = document.createElement('div');\n",
              "          docLink.innerHTML = docLinkHtml;\n",
              "          element.appendChild(docLink);\n",
              "        }\n",
              "      </script>\n",
              "    </div>\n",
              "  </div>\n",
              "  "
            ],
            "text/plain": [
              "      id Age Attrition     BusinessTravel DailyRate Department Education  \\\n",
              "0  12378  35       Yes  Travel_Frequently       502          S         a   \n",
              "1  12379  42        No         Non-Travel       497          S         a   \n",
              "2  12380  34        No         Non-Travel       505          T         e   \n",
              "3  12381  43        No         Non-Travel       493          T         e   \n",
              "4  12382  43       Yes      Travel_Rarely       536          R         e   \n",
              "\n",
              "  JobRole DistanceFromHome EnvironmentSatisfaction  ... MaritalStatus  \\\n",
              "0       l                5                       4  ...      Divorced   \n",
              "1       l                3                       3  ...        Single   \n",
              "2       c                4                       3  ...        Single   \n",
              "3       c                5                       2  ...      Divorced   \n",
              "4       s                4                       4  ...        Single   \n",
              "\n",
              "  MonthlyIncome MonthlyRate NumCompaniesWorked Over18 OverTime  \\\n",
              "0          9200       10448                  2      Y      Yes   \n",
              "1         10719        9049                  3      Y       No   \n",
              "2          9843        9941                  3      Y       No   \n",
              "3         12077       10150                  5      Y      Yes   \n",
              "4         10486       10008                  2      Y       No   \n",
              "\n",
              "  PercentSalaryHike PerformanceRating StandardHours WorkLifeBalance  \n",
              "0                 5                 1            80               1  \n",
              "1                 7                 2            80               4  \n",
              "2                10                 3            80               1  \n",
              "3                 1                 3            80               4  \n",
              "4                 9                 1            80               3  \n",
              "\n",
              "[5 rows x 25 columns]"
            ]
          },
          "execution_count": 6,
          "metadata": {},
          "output_type": "execute_result"
        }
      ],
      "source": [
        "# Create the Great Expectations DataFrame\n",
        "employees_df_ge = ge.dataset.SparkDFDataset(employees_df)\n",
        "employees_df_ge.head()"
      ]
    },
    {
      "cell_type": "code",
      "execution_count": 7,
      "metadata": {
        "colab": {
          "base_uri": "https://localhost:8080/"
        },
        "id": "-JyGKtiBzW_-",
        "outputId": "bd8bb63e-e095-49e7-c001-6db8139b9cdb"
      },
      "outputs": [
        {
          "name": "stdout",
          "output_type": "stream",
          "text": [
            "Over18\n"
          ]
        }
      ],
      "source": [
        "# Test that each column doesn't contain null values. If a column does contain null values print out the column name.\n",
        "results = []\n",
        "for column in columns:\n",
        "  results.append(employees_df_ge.expect_column_values_to_not_be_null(column=column)['success'])\n",
        "false_index = results.index(False)\n",
        "print(columns[false_index])"
      ]
    },
    {
      "cell_type": "code",
      "execution_count": 8,
      "metadata": {
        "id": "SrBMWx9ynnOi"
      },
      "outputs": [],
      "source": [
        "# Use a function to remove the null values and bad data from a temporary view and save the data with null values to a parquet file. \n",
        "def clean_data():\n",
        "  employees_df.createOrReplaceTempView('employees')\n",
        "  employee_null_df = spark.sql(\n",
        "      \"\"\"\n",
        "      SELECT\n",
        "        *\n",
        "      FROM employees\n",
        "      WHERE Over18 IS NULL \n",
        "            OR Attrition == \"Yes\" \n",
        "            OR StandardHours < 80\n",
        "            OR Age < 18\n",
        "      \"\"\"\n",
        "  )\n",
        "  employee_null_df.createOrReplaceTempView('removed_employees')\n",
        "  employee_null_df.write.mode(\"overwrite\").parquet(\"removed_employees_parquet\")\n",
        "  print(\"Bad records found and written to a temporary view, 'removed_employees', and parquet , 'removed_employees_parquet'.\")"
      ]
    },
    {
      "cell_type": "code",
      "execution_count": 9,
      "metadata": {
        "colab": {
          "base_uri": "https://localhost:8080/"
        },
        "id": "sSdn_ycvN6IW",
        "outputId": "0df69425-580a-45d4-86f3-bb821a163669"
      },
      "outputs": [
        {
          "name": "stdout",
          "output_type": "stream",
          "text": [
            "Bad records found and written to a temporary view, 'removed_employees', and parquet , 'removed_employees_parquet'.\n"
          ]
        }
      ],
      "source": [
        "# Retrieve the \"success\" fields for the columns that meet the criteria in the clean_data() function.\n",
        "result = []\n",
        "result.append(employees_df_ge.expect_column_values_to_not_be_null('Over18')['success'])\n",
        "result.append(employees_df_ge.expect_column_values_to_be_in_set('Attrition', ['Yes'])['success'])\n",
        "result.append(employees_df_ge.expect_column_values_to_be_between('StandardHours', 0, 80)['success'])\n",
        "result.append(employees_df_ge.expect_column_values_to_be_between('Age', 0, 18)['success'])\n",
        "# If the columns meet the criteria call the clean_data() function.\n",
        "if False in result:\n",
        "  clean_data()\n",
        "else:\n",
        "  print(\"success\")"
      ]
    },
    {
      "cell_type": "code",
      "execution_count": 10,
      "metadata": {
        "colab": {
          "base_uri": "https://localhost:8080/"
        },
        "id": "0cnIQcvCL_7_",
        "outputId": "f4d55ac9-3cbd-4708-e3f9-f2611b6b52f9"
      },
      "outputs": [
        {
          "name": "stdout",
          "output_type": "stream",
          "text": [
            "+-----+---+---------+-----------------+---------+----------+---------+-------+----------------+-----------------------+------+----------+--------------+--------+---------------+-------------+-------------+-----------+------------------+------+--------+-----------------+-----------------+-------------+---------------+\n",
            "|id   |Age|Attrition|BusinessTravel   |DailyRate|Department|Education|JobRole|DistanceFromHome|EnvironmentSatisfaction|Gender|HourlyRate|JobInvolvement|JobLevel|JobSatisfaction|MaritalStatus|MonthlyIncome|MonthlyRate|NumCompaniesWorked|Over18|OverTime|PercentSalaryHike|PerformanceRating|StandardHours|WorkLifeBalance|\n",
            "+-----+---+---------+-----------------+---------+----------+---------+-------+----------------+-----------------------+------+----------+--------------+--------+---------------+-------------+-------------+-----------+------------------+------+--------+-----------------+-----------------+-------------+---------------+\n",
            "|12378|35 |Yes      |Travel_Frequently|502      |S         |a        |l      |5               |4                      |F     |48        |4             |2       |5              |Divorced     |9200         |10448      |2                 |Y     |Yes     |5                |1                |80           |1              |\n",
            "|12382|43 |Yes      |Travel_Rarely    |536      |R         |e        |s      |4               |4                      |M     |53        |2             |3       |2              |Single       |10486        |10008      |2                 |Y     |No      |9                |1                |80           |3              |\n",
            "|12386|40 |Yes      |Travel_Frequently|504      |S         |a        |l      |4               |3                      |F     |49        |4             |1       |4              |Divorced     |9849         |12045      |2                 |Y     |No      |22               |1                |80           |3              |\n",
            "|12403|36 |Yes      |Travel_Rarely    |494      |R         |e        |s      |6               |4                      |M     |47        |2             |1       |5              |Married      |10157        |10975      |4                 |Y     |Yes     |10               |3                |80           |3              |\n",
            "|12404|40 |Yes      |Non-Travel       |493      |R         |e        |s      |4               |4                      |F     |46        |3             |3       |2              |Married      |9935         |11655      |2                 |Y     |Yes     |4                |1                |80           |3              |\n",
            "|12406|50 |Yes      |Non-Travel       |482      |R         |e        |s      |6               |4                      |M     |48        |2             |1       |3              |Married      |10204        |8678       |3                 |Y     |No      |4                |2                |80           |2              |\n",
            "|12428|42 |Yes      |Non-Travel       |466      |T         |e        |c      |5               |4                      |F     |48        |3             |2       |2              |Single       |9763         |8469       |2                 |Y     |Yes     |8                |3                |80           |3              |\n",
            "|12433|64 |Yes      |Non-Travel       |489      |S         |a        |l      |3               |4                      |F     |51        |4             |1       |2              |Married      |10777        |9917       |1                 |Y     |Yes     |4                |1                |80           |3              |\n",
            "|12436|15 |No       |Non-Travel       |504      |R         |e        |s      |1               |3                      |M     |45        |3             |1       |5              |Married      |10729        |10859      |0                 |Y     |No      |17               |3                |80           |2              |\n",
            "|12438|50 |No       |Non-Travel       |505      |R         |e        |s      |4               |4                      |F     |55        |2             |2       |3              |Single       |9926         |9246       |2                 |Y     |No      |15               |2                |40           |3              |\n",
            "|12439|46 |Yes      |Non-Travel       |508      |R         |e        |s      |7               |2                      |M     |49        |5             |1       |4              |Married      |8591         |11253      |3                 |Y     |Yes     |6                |2                |80           |3              |\n",
            "|12442|57 |Yes      |Non-Travel       |490      |S         |a        |l      |5               |3                      |M     |48        |3             |2       |5              |Married      |8112         |10494      |4                 |Y     |Yes     |0                |3                |80           |2              |\n",
            "|12444|58 |Yes      |Non-Travel       |502      |R         |e        |s      |4               |5                      |F     |50        |2             |3       |5              |Married      |9702         |11793      |3                 |Y     |No      |8                |4                |80           |3              |\n",
            "|12445|37 |Yes      |Non-Travel       |497      |T         |e        |c      |5               |4                      |F     |53        |3             |2       |2              |Single       |9534         |11318      |0                 |Y     |Yes     |7                |1                |80           |2              |\n",
            "|12452|43 |Yes      |Non-Travel       |491      |T         |e        |c      |5               |4                      |F     |49        |4             |1       |2              |Married      |9420         |12018      |2                 |Y     |Yes     |6                |3                |80           |3              |\n",
            "|12453|51 |Yes      |Non-Travel       |503      |T         |e        |c      |5               |5                      |M     |50        |5             |3       |2              |Married      |10192        |11267      |2                 |Y     |Yes     |6                |1                |80           |3              |\n",
            "|12464|44 |Yes      |Non-Travel       |498      |S         |a        |l      |4               |4                      |M     |47        |3             |2       |4              |Married      |9699         |10243      |3                 |Y     |No      |8                |2                |80           |3              |\n",
            "|12465|49 |Yes      |Non-Travel       |494      |R         |e        |s      |4               |4                      |M     |50        |3             |3       |5              |Married      |10354        |11058      |3                 |Y     |Yes     |17               |2                |80           |3              |\n",
            "|12468|42 |No       |Non-Travel       |516      |T         |e        |c      |4               |4                      |F     |48        |2             |1       |4              |Married      |9113         |8785       |3                 |Y     |No      |10               |2                |40           |3              |\n",
            "|12470|40 |No       |Non-Travel       |496      |S         |a        |l      |6               |2                      |M     |50        |3             |3       |4              |Divorced     |9439         |10266      |1                 |null  |No      |11               |3                |80           |3              |\n",
            "+-----+---+---------+-----------------+---------+----------+---------+-------+----------------+-----------------------+------+----------+--------------+--------+---------------+-------------+-------------+-----------+------------------+------+--------+-----------------+-----------------+-------------+---------------+\n",
            "only showing top 20 rows\n",
            "\n",
            "247\n"
          ]
        }
      ],
      "source": [
        "# Read in our customers parquet data\n",
        "removed_employees_df=spark.read.parquet('removed_employees_parquet')\n",
        "removed_employees_df.show(truncate=False)\n",
        "# Get the number of rows. \n",
        "print(removed_employees_df.count())"
      ]
    },
    {
      "cell_type": "code",
      "execution_count": 13,
      "metadata": {
        "id": "28RIwfL-P8yj"
      },
      "outputs": [],
      "source": [
        "# Use a function to transform the employees temporary view if the id is not in the removed_employees.\n",
        "def transform_data():\n",
        "  transformed_df = spark.sql(\n",
        "      \"\"\"\n",
        "      SELECT\n",
        "        id,\n",
        "        Attrition,\n",
        "        BusinessTravel,\n",
        "        DailyRate,\n",
        "        Department,\n",
        "        JobRole,\n",
        "        HourlyRate,\n",
        "        MonthlyIncome,\n",
        "        MonthlyRate,\n",
        "        OverTime,\n",
        "        PercentSalaryHike,\n",
        "        PerformanceRating,\n",
        "        StandardHours,\n",
        "        UNIX_TIMESTAMP() AS Created_At,\n",
        "        UNIX_TIMESTAMP() AS Updated_at,\n",
        "        'From Client' AS Source\n",
        "      FROM employees\n",
        "      WHERE id not in (select id from removed_employees)\n",
        "      \"\"\"\n",
        "  )\n",
        "  return transformed_df"
      ]
    },
    {
      "cell_type": "code",
      "execution_count": 14,
      "metadata": {
        "colab": {
          "base_uri": "https://localhost:8080/"
        },
        "id": "s89jTmD2O16n",
        "outputId": "7d465756-af16-451f-be6c-5662cc02116c"
      },
      "outputs": [
        {
          "name": "stdout",
          "output_type": "stream",
          "text": [
            "Success: Wrote the transformed data to a parquet file, 'employee_parquet'\n"
          ]
        }
      ],
      "source": [
        "# Call the transformation function and convert the transformed DataFrame into a Great Expectations DataFrame\n",
        "transformed_df = transform_data()\n",
        "transformed_df_ge = ge.dataset.SparkDFDataset(transformed_df)\n",
        "# Retrieve the \"success\" fields for the transformed DataFrame.\n",
        "transformed_result = []\n",
        "transformed_result.append(transformed_df_ge.expect_table_column_count_to_equal(16)['success'])\n",
        "transformed_result.append(transformed_df_ge.expect_column_values_to_not_be_null('Source')['success'])\n",
        "transformed_result.append(transformed_df_ge.expect_column_values_to_not_be_null('Created_At')['success'])\n",
        "transformed_result.append(transformed_df_ge.expect_column_values_to_not_be_null('Updated_At')['success'])\n",
        "transformed_result.append(transformed_df_ge.expect_column_values_to_be_in_set('Attrition', ['No'])['success'])\n",
        "transformed_result.append(transformed_df_ge.expect_column_values_to_be_between('StandardHours', 80, 150)['success'])\n",
        "# If the \"success\" field is 'False' print \"Failed\", if not then write the transformed DataFrame to a parquet file.\n",
        "if False in transformed_result:\n",
        "  print('Failed')\n",
        "else:\n",
        "  transformed_df.write.mode(\"overwrite\").parquet(\"employee_parquet\")\n",
        "  print(\"Success: Wrote the transformed data to a parquet file, 'employee_parquet'\")\n"
      ]
    },
    {
      "cell_type": "code",
      "execution_count": 15,
      "metadata": {
        "colab": {
          "base_uri": "https://localhost:8080/"
        },
        "id": "NlNrERvzOrSG",
        "outputId": "eb89e5c6-6db7-49c0-9c99-742aa9631cd5"
      },
      "outputs": [
        {
          "name": "stdout",
          "output_type": "stream",
          "text": [
            "+-----+---------+-----------------+---------+----------+-------+----------+-------------+-----------+--------+-----------------+-----------------+-------------+----------+----------+-----------+\n",
            "|id   |Attrition|BusinessTravel   |DailyRate|Department|JobRole|HourlyRate|MonthlyIncome|MonthlyRate|OverTime|PercentSalaryHike|PerformanceRating|StandardHours|Created_At|Updated_at|Source     |\n",
            "+-----+---------+-----------------+---------+----------+-------+----------+-------------+-----------+--------+-----------------+-----------------+-------------+----------+----------+-----------+\n",
            "|12379|No       |Non-Travel       |497      |S         |l      |50        |10719        |9049       |No      |7                |2                |80           |1660330941|1660330941|From Client|\n",
            "|12380|No       |Non-Travel       |505      |T         |c      |46        |9843         |9941       |No      |10               |3                |80           |1660330941|1660330941|From Client|\n",
            "|12381|No       |Non-Travel       |493      |T         |c      |48        |12077        |10150      |Yes     |1                |3                |80           |1660330941|1660330941|From Client|\n",
            "|12383|No       |Non-Travel       |511      |S         |l      |49        |10512        |9021       |Yes     |9                |2                |80           |1660330941|1660330941|From Client|\n",
            "|12384|No       |Non-Travel       |527      |T         |c      |49        |11769        |9672       |No      |17               |1                |80           |1660330941|1660330941|From Client|\n",
            "|12385|No       |Non-Travel       |516      |R         |s      |49        |11628        |9242       |No      |4                |1                |80           |1660330941|1660330941|From Client|\n",
            "|12387|No       |Non-Travel       |496      |S         |l      |49        |9666         |10949      |No      |17               |3                |80           |1660330941|1660330941|From Client|\n",
            "|12388|No       |Travel_Rarely    |490      |R         |s      |50        |10692        |8043       |Yes     |14               |2                |80           |1660330941|1660330941|From Client|\n",
            "|12389|No       |Non-Travel       |510      |T         |c      |48        |11448        |10020      |No      |11               |3                |80           |1660330941|1660330941|From Client|\n",
            "|12390|No       |Non-Travel       |505      |T         |c      |50        |9714         |11179      |No      |10               |3                |80           |1660330941|1660330941|From Client|\n",
            "|12391|No       |Non-Travel       |507      |S         |l      |53        |10215        |11106      |Yes     |11               |1                |80           |1660330941|1660330941|From Client|\n",
            "|12392|No       |Non-Travel       |483      |T         |c      |44        |10242        |10723      |No      |3                |3                |80           |1660330941|1660330941|From Client|\n",
            "|12393|No       |Non-Travel       |492      |T         |c      |51        |10057        |11020      |No      |5                |2                |80           |1660330941|1660330941|From Client|\n",
            "|12394|No       |Travel_Rarely    |486      |S         |l      |48        |10442        |9681       |No      |14               |3                |80           |1660330941|1660330941|From Client|\n",
            "|12395|No       |Non-Travel       |494      |S         |l      |49        |7969         |7797       |No      |10               |2                |80           |1660330941|1660330941|From Client|\n",
            "|12396|No       |Non-Travel       |495      |R         |s      |48        |8773         |10747      |No      |7                |2                |80           |1660330941|1660330941|From Client|\n",
            "|12397|No       |Non-Travel       |503      |R         |s      |48        |10564        |11221      |Yes     |11               |3                |80           |1660330941|1660330941|From Client|\n",
            "|12398|No       |Travel_Rarely    |495      |R         |s      |48        |10991        |8530       |No      |5                |2                |80           |1660330941|1660330941|From Client|\n",
            "|12399|No       |Non-Travel       |512      |S         |l      |51        |11139        |12263      |No      |9                |1                |80           |1660330941|1660330941|From Client|\n",
            "|12400|No       |Travel_Frequently|488      |T         |c      |44        |11318        |12252      |No      |16               |3                |80           |1660330941|1660330941|From Client|\n",
            "+-----+---------+-----------------+---------+----------+-------+----------+-------------+-----------+--------+-----------------+-----------------+-------------+----------+----------+-----------+\n",
            "only showing top 20 rows\n",
            "\n",
            "1203\n"
          ]
        }
      ],
      "source": [
        "# Read in our customers parquet data\n",
        "employees_df=spark.read.parquet('employee_parquet')\n",
        "employees_df.show(truncate=False)\n",
        "# Get the number of rows. \n",
        "print(employees_df.count())"
      ]
    },
    {
      "cell_type": "code",
      "execution_count": null,
      "metadata": {
        "id": "8-AMnSFl3u6q"
      },
      "outputs": [],
      "source": []
    }
  ],
  "metadata": {
    "colab": {
      "collapsed_sections": [],
      "name": "GE_attrition_solved.ipynb",
      "provenance": []
    },
    "kernelspec": {
      "display_name": "Python 3.8.12 ('qatest')",
      "language": "python",
      "name": "python3"
    },
    "language_info": {
      "name": "python",
      "version": "3.8.12"
    },
    "vscode": {
      "interpreter": {
        "hash": "df07ec09c4017cff5cffe5c6e95982b3fd889b25c9af2c66175cc1127f95fbfd"
      }
    }
  },
  "nbformat": 4,
  "nbformat_minor": 0
}
