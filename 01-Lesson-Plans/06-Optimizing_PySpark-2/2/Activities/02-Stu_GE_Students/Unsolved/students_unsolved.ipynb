{
  "cells": [
    {
      "cell_type": "code",
      "execution_count": null,
      "metadata": {
        "id": "a_KW73O2e3dw"
      },
      "outputs": [],
      "source": [
        "# Activate Spark in our Colab notebook.\n",
        "import os\n",
        "# Find the latest version of spark 3.0  from http://www.apache.org/dist/spark/ and enter as the spark version\n",
        "# For example: 'spark-3.2.2'\n",
        "spark_version = 'spark-3.2.2'\n",
        "# spark_version = 'spark-3.<enter version>'\n",
        "os.environ['SPARK_VERSION']=spark_version\n",
        "\n",
        "# Install Spark and Java\n",
        "!apt-get update\n",
        "!apt-get install openjdk-11-jdk-headless -qq > /dev/null\n",
        "!wget -q http://www.apache.org/dist/spark/$SPARK_VERSION/$SPARK_VERSION-bin-hadoop3.2.tgz\n",
        "!tar xf $SPARK_VERSION-bin-hadoop3.2.tgz\n",
        "!pip install -q findspark\n",
        "\n",
        "# Set Environment Variables\n",
        "os.environ[\"JAVA_HOME\"] = \"/usr/lib/jvm/java-11-openjdk-amd64\"\n",
        "os.environ[\"SPARK_HOME\"] = f\"/content/{spark_version}-bin-hadoop3.2\"\n",
        "\n",
        "# Start a SparkSession\n",
        "import findspark\n",
        "findspark.init()"
      ]
    },
    {
      "cell_type": "code",
      "execution_count": null,
      "metadata": {
        "id": "4IJraprRdxY3"
      },
      "outputs": [],
      "source": [
        "# Install great expectations\n",
        "!pip install great_expectations"
      ]
    },
    {
      "cell_type": "code",
      "execution_count": null,
      "metadata": {
        "id": "2XbWNf1Te5fM"
      },
      "outputs": [],
      "source": [
        "# Import SparkSession and great expectations \n",
        "from pyspark.sql import SparkSession\n",
        "import great_expectations as ge\n",
        "\n",
        "# Create a SparkSession\n",
        "spark = SparkSession.builder.appName(\"SparkSQL\").getOrCreate()\n",
        "# Start Spark session\n",
        "from pyspark import SparkFiles"
      ]
    },
    {
      "cell_type": "code",
      "execution_count": null,
      "metadata": {
        "id": "XiVGvvzwgGXe"
      },
      "outputs": [],
      "source": [
        "# Read the data into a Spark DataFrame.\n",
        "students_df = spark.read.csv('/content/students.csv', sep=',', header=True)\n",
        "students_df.show()"
      ]
    },
    {
      "cell_type": "code",
      "execution_count": null,
      "metadata": {
        "id": "4ofXYDMUHN6V"
      },
      "outputs": [],
      "source": [
        "# Convert the Spark DataFrame into a Great Expectations DataFrame.\n",
        "students_df_ge = ge.dataset.SparkDFDataset(students_df)\n",
        "students_df_ge.head()"
      ]
    },
    {
      "cell_type": "code",
      "execution_count": null,
      "metadata": {
        "id": "85lgS8GIK9t6"
      },
      "outputs": [],
      "source": [
        "# Check that the DataFrame has the correct number of columns.\n"
      ]
    },
    {
      "cell_type": "code",
      "execution_count": null,
      "metadata": {
        "id": "7Krqov5zLrfh"
      },
      "outputs": [],
      "source": [
        "# Check that the DataFrame has the correct number of rows.\n"
      ]
    },
    {
      "cell_type": "code",
      "execution_count": null,
      "metadata": {
        "id": "YGFyvdsLL2nz"
      },
      "outputs": [],
      "source": [
        "# Test that the columns are in the order they are supposed to be.\n"
      ]
    },
    {
      "cell_type": "code",
      "execution_count": null,
      "metadata": {
        "id": "hJuXU1_zMeSB"
      },
      "outputs": [],
      "source": [
        "# Test that the values in the grade column are in the set 9th, 10th, 11th, and 12th.\n"
      ]
    },
    {
      "cell_type": "code",
      "execution_count": null,
      "metadata": {
        "id": "_SaUK7C9evFJ"
      },
      "outputs": [],
      "source": [
        "# Bonus: Test that the values in the math_score column are an integer datatype."
      ]
    }
  ],
  "metadata": {
    "colab": {
      "collapsed_sections": [],
      "name": "students_unsolved.ipynb",
      "provenance": []
    },
    "kernelspec": {
      "display_name": "Python 3.8.12 ('qatest')",
      "language": "python",
      "name": "python3"
    },
    "language_info": {
      "name": "python",
      "version": "3.8.12"
    },
    "vscode": {
      "interpreter": {
        "hash": "df07ec09c4017cff5cffe5c6e95982b3fd889b25c9af2c66175cc1127f95fbfd"
      }
    }
  },
  "nbformat": 4,
  "nbformat_minor": 0
}
