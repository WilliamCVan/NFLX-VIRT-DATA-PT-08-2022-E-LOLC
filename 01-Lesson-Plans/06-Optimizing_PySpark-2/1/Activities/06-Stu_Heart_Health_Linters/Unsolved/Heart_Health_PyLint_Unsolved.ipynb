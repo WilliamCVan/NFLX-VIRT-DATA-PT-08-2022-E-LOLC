{
  "cells": [
    {
      "cell_type": "code",
      "execution_count": 1,
      "metadata": {
        "colab": {
          "base_uri": "https://localhost:8080/"
        },
        "id": "eYJ7F1aXNLzq",
        "outputId": "e9b67d34-9487-4c25-ab74-7ffe28c896a5"
      },
      "outputs": [
        {
          "name": "stdout",
          "output_type": "stream",
          "text": [
            "\r0% [Working]\r            \rHit:1 http://ppa.launchpad.net/c2d4u.team/c2d4u4.0+/ubuntu bionic InRelease\n",
            "\r0% [Waiting for headers] [Connecting to security.ubuntu.com (91.189.91.38)] [Co\r                                                                               \rHit:2 http://archive.ubuntu.com/ubuntu bionic InRelease\n",
            "\r                                                                               \rGet:3 http://archive.ubuntu.com/ubuntu bionic-updates InRelease [88.7 kB]\n",
            "\r                                                                               \rHit:4 http://ppa.launchpad.net/cran/libgit2/ubuntu bionic InRelease\n",
            "\r0% [3 InRelease 15.6 kB/88.7 kB 18%] [Connecting to security.ubuntu.com (91.189\r0% [1 InRelease gpgv 15.9 kB] [3 InRelease 15.6 kB/88.7 kB 18%] [Connecting to \r                                                                               \rGet:5 https://cloud.r-project.org/bin/linux/ubuntu bionic-cran40/ InRelease [3,626 B]\n",
            "\r0% [1 InRelease gpgv 15.9 kB] [3 InRelease 57.6 kB/88.7 kB 65%] [Connecting to \r0% [1 InRelease gpgv 15.9 kB] [3 InRelease 57.6 kB/88.7 kB 65%] [Connecting to \r                                                                               \rHit:6 http://ppa.launchpad.net/deadsnakes/ppa/ubuntu bionic InRelease\n",
            "\r0% [1 InRelease gpgv 15.9 kB] [3 InRelease 59.1 kB/88.7 kB 67%] [Connecting to \r0% [1 InRelease gpgv 15.9 kB] [Waiting for headers] [Connecting to security.ubu\r                                                                               \rGet:7 http://archive.ubuntu.com/ubuntu bionic-backports InRelease [74.6 kB]\n",
            "Hit:8 http://ppa.launchpad.net/graphics-drivers/ppa/ubuntu bionic InRelease\n",
            "Get:9 http://security.ubuntu.com/ubuntu bionic-security InRelease [88.7 kB]\n",
            "Ign:10 https://developer.download.nvidia.com/compute/machine-learning/repos/ubuntu1804/x86_64  InRelease\n",
            "Get:11 https://developer.download.nvidia.com/compute/cuda/repos/ubuntu1804/x86_64  InRelease [1,581 B]\n",
            "Hit:12 https://developer.download.nvidia.com/compute/machine-learning/repos/ubuntu1804/x86_64  Release\n",
            "Get:13 http://archive.ubuntu.com/ubuntu bionic-updates/main amd64 Packages [3,336 kB]\n",
            "Get:14 http://archive.ubuntu.com/ubuntu bionic-updates/universe amd64 Packages [2,306 kB]\n",
            "Get:15 http://security.ubuntu.com/ubuntu bionic-security/main amd64 Packages [2,905 kB]\n",
            "Get:16 https://developer.download.nvidia.com/compute/cuda/repos/ubuntu1804/x86_64  Packages [902 kB]\n",
            "Get:18 http://security.ubuntu.com/ubuntu bionic-security/universe amd64 Packages [1,528 kB]\n",
            "Fetched 11.2 MB in 10s (1,097 kB/s)\n",
            "Reading package lists... Done\n"
          ]
        }
      ],
      "source": [
        "# Activate Spark in our Colab notebook.\n",
        "import os\n",
        "# Find the latest version of spark 3.0  from http://www.apache.org/dist/spark/ and enter as the spark version\n",
        "# For example: 'spark-3.2.2'\n",
        "spark_version = 'spark-3.2.2'\n",
        "# spark_version = 'spark-3.<enter version>'\n",
        "os.environ['SPARK_VERSION']=spark_version\n",
        "\n",
        "# Install Spark and Java\n",
        "!apt-get update\n",
        "!apt-get install openjdk-11-jdk-headless -qq > /dev/null\n",
        "!wget -q http://www.apache.org/dist/spark/$SPARK_VERSION/$SPARK_VERSION-bin-hadoop3.2.tgz\n",
        "!tar xf $SPARK_VERSION-bin-hadoop3.2.tgz\n",
        "!pip install -q findspark\n",
        "\n",
        "# Set Environment Variables\n",
        "os.environ[\"JAVA_HOME\"] = \"/usr/lib/jvm/java-11-openjdk-amd64\"\n",
        "os.environ[\"SPARK_HOME\"] = f\"/content/{spark_version}-bin-hadoop3.2\""
      ]
    },
    {
      "cell_type": "code",
      "execution_count": 2,
      "metadata": {
        "colab": {
          "base_uri": "https://localhost:8080/"
        },
        "id": "2b6P_hDdNUb9",
        "outputId": "6efb20b3-1e37-446f-efca-e657c3fd1e0a"
      },
      "outputs": [
        {
          "name": "stdout",
          "output_type": "stream",
          "text": [
            "Looking in indexes: https://pypi.org/simple, https://us-python.pkg.dev/colab-wheels/public/simple/\n",
            "Collecting pylint\n",
            "  Downloading pylint-2.14.5-py3-none-any.whl (488 kB)\n",
            "\u001b[K     |████████████████████████████████| 488 kB 11.8 MB/s \n",
            "\u001b[?25hCollecting platformdirs>=2.2.0\n",
            "  Downloading platformdirs-2.5.2-py3-none-any.whl (14 kB)\n",
            "Collecting tomlkit>=0.10.1\n",
            "  Downloading tomlkit-0.11.1-py3-none-any.whl (34 kB)\n",
            "Requirement already satisfied: tomli>=1.1.0 in /usr/local/lib/python3.7/dist-packages (from pylint) (2.0.1)\n",
            "Collecting isort<6,>=4.2.5\n",
            "  Downloading isort-5.10.1-py3-none-any.whl (103 kB)\n",
            "\u001b[K     |████████████████████████████████| 103 kB 76.0 MB/s \n",
            "\u001b[?25hRequirement already satisfied: dill>=0.2 in /usr/local/lib/python3.7/dist-packages (from pylint) (0.3.5.1)\n",
            "Requirement already satisfied: typing-extensions>=3.10.0 in /usr/local/lib/python3.7/dist-packages (from pylint) (4.1.1)\n",
            "Collecting mccabe<0.8,>=0.6\n",
            "  Downloading mccabe-0.7.0-py2.py3-none-any.whl (7.3 kB)\n",
            "Collecting astroid<=2.12.0-dev0,>=2.11.6\n",
            "  Downloading astroid-2.11.7-py3-none-any.whl (251 kB)\n",
            "\u001b[K     |████████████████████████████████| 251 kB 87.7 MB/s \n",
            "\u001b[?25hRequirement already satisfied: wrapt<2,>=1.11 in /usr/local/lib/python3.7/dist-packages (from astroid<=2.12.0-dev0,>=2.11.6->pylint) (1.14.1)\n",
            "Collecting typed-ast<2.0,>=1.4.0\n",
            "  Downloading typed_ast-1.5.4-cp37-cp37m-manylinux_2_5_x86_64.manylinux1_x86_64.manylinux_2_12_x86_64.manylinux2010_x86_64.whl (843 kB)\n",
            "\u001b[K     |████████████████████████████████| 843 kB 59.0 MB/s \n",
            "\u001b[?25hRequirement already satisfied: setuptools>=20.0 in /usr/local/lib/python3.7/dist-packages (from astroid<=2.12.0-dev0,>=2.11.6->pylint) (57.4.0)\n",
            "Collecting lazy-object-proxy>=1.4.0\n",
            "  Downloading lazy_object_proxy-1.7.1-cp37-cp37m-manylinux_2_5_x86_64.manylinux1_x86_64.manylinux_2_17_x86_64.manylinux2014_x86_64.whl (57 kB)\n",
            "\u001b[K     |████████████████████████████████| 57 kB 5.1 MB/s \n",
            "\u001b[?25hInstalling collected packages: typed-ast, lazy-object-proxy, tomlkit, platformdirs, mccabe, isort, astroid, pylint\n",
            "Successfully installed astroid-2.11.7 isort-5.10.1 lazy-object-proxy-1.7.1 mccabe-0.7.0 platformdirs-2.5.2 pylint-2.14.5 tomlkit-0.11.1 typed-ast-1.5.4\n"
          ]
        }
      ],
      "source": [
        "!pip install pylint"
      ]
    },
    {
      "cell_type": "code",
      "execution_count": 3,
      "metadata": {
        "colab": {
          "base_uri": "https://localhost:8080/",
          "height": 53
        },
        "id": "Q4GS_wYFNV8o",
        "outputId": "908f200f-4504-4d94-c5ce-13ab9bb9a9bf"
      },
      "outputs": [
        {
          "name": "stdout",
          "output_type": "stream",
          "text": [
            "/content/tests\n"
          ]
        },
        {
          "data": {
            "application/vnd.google.colaboratory.intrinsic+json": {
              "type": "string"
            },
            "text/plain": [
              "'/content/tests'"
            ]
          },
          "execution_count": 3,
          "metadata": {},
          "output_type": "execute_result"
        }
      ],
      "source": [
        "# Create and navigate to the tests directory.\n",
        "from pathlib import Path\n",
        "if Path.cwd().name != 'tests':\n",
        "    %mkdir tests\n",
        "    %cd tests\n",
        "# Show the current working directory.  \n",
        "%pwd"
      ]
    },
    {
      "cell_type": "code",
      "execution_count": 4,
      "metadata": {
        "colab": {
          "base_uri": "https://localhost:8080/"
        },
        "id": "H4RPKXEyNX5b",
        "outputId": "feb46b0f-05cd-4b54-ae68-d76c5165a4f4"
      },
      "outputs": [
        {
          "name": "stdout",
          "output_type": "stream",
          "text": [
            "Writing __init__.py\n"
          ]
        }
      ],
      "source": [
        "# Create a  __init__.py file that will contain that will be used to run our functions. \n",
        "# This file will be stored in our pwd (/content/tests)\n",
        "%%file __init__.py\n",
        "pass"
      ]
    },
    {
      "cell_type": "code",
      "execution_count": 5,
      "metadata": {
        "colab": {
          "base_uri": "https://localhost:8080/"
        },
        "id": "Jxt_tx6ENZ87",
        "outputId": "6560f2a0-5887-42e5-ed75-e5758bde065b"
      },
      "outputs": [
        {
          "name": "stdout",
          "output_type": "stream",
          "text": [
            "Writing heart_health.py\n"
          ]
        }
      ],
      "source": [
        "# Create a heart_health.py file that will contain our functions.\n",
        "# This file will be stored in our pwd (/content/tests).\n",
        "%%file heart_health.py\n",
        "from pyspark import SparkFiles\n",
        "from pyspark.sql import SparkSession\n",
        "\n",
        "spark = SparkSession.builder.appName(\"sparkHeartData\").getOrCreate()\n",
        "\n",
        "def import_data():\n",
        "    url = \"https://2u-data-curriculum-team.s3.amazonaws.com/nflx-data-science-adv/week-6/heart_health.csv\"\n",
        "    spark.sparkContext.addFile(url)\n",
        "    df = spark.read.csv(SparkFiles.get(\"heart_health.csv\"), sep=\",\", header=True)\n",
        "    df.createOrReplaceTempView('HEART_HEALTH')\n",
        "\n",
        "    return df\n",
        "\n",
        "def get_states():\n",
        "    transformed_df = spark.sql(\"\"\"\n",
        "    SELECT DISTINCT\n",
        "        STATE\n",
        "    FROM HEART_HEALTH\n",
        "    \"\"\")\n",
        "\n",
        "    return transformed_df\n",
        "\n",
        "\n",
        "def get_states_with_above_avg_death_rate():\n",
        "    transformed_df = spark.sql(\"\"\"\n",
        "    SELECT\n",
        "        STATE,\n",
        "        AVG(Death_Rate)\n",
        "    FROM HEART_HEALTH\n",
        "    GROUP BY STATE\n",
        "    HAVING AVG(Death_Rate) > 400\n",
        "    \"\"\")\n",
        "\n",
        "    return transformed_df\n",
        "\n",
        "\n",
        "def test_row_count_source():\n",
        "    df = import_data()\n",
        "    assert df.count() == 799\n",
        "    assert len(df.columns) == 9\n",
        "\n",
        "\n",
        "def test_column_count_source():\n",
        "    df = import_data()\n",
        "    assert len(df.columns) == 9\n",
        "\n",
        "\n",
        "def test_get_states():\n",
        "    df = get_states()\n",
        "\n",
        "    assert df.schema.names == ['STATE']\n",
        "\n",
        "\n",
        "def test_row_count_get_states():\n",
        "    df = get_states()\n",
        "    assert df.count() == 5\n",
        "\n",
        "\n",
        "def test_row_count_avg_death_rate():\n",
        "    df = get_states_with_above_avg_death_rate()\n",
        "    assert df.count() == 5\n",
        "\n",
        "\n",
        "def test_column_count_avg_death_rate():\n",
        "    df = get_states_with_above_avg_death_rate()\n",
        "    assert len(df.columns) == 2\n",
        "\n",
        "\n",
        "def test_get_states_vs_avg_death_rate_count():\n",
        "    df_get_states = get_states()\n",
        "    df_avg_death_rate = get_states_with_above_avg_death_rate()\n",
        "    assert df_get_states.count() == df_avg_death_rate.count()\n"
      ]
    },
    {
      "cell_type": "code",
      "execution_count": 6,
      "metadata": {
        "colab": {
          "base_uri": "https://localhost:8080/"
        },
        "id": "zMSM53aaNePK",
        "outputId": "30cde02e-d9eb-48c3-d87d-d45177679b9c"
      },
      "outputs": [
        {
          "name": "stdout",
          "output_type": "stream",
          "text": [
            "************* Module tests.heart_health\n",
            "heart_health.py:7:0: C0301: Line too long (106/100) (line-too-long)\n",
            "heart_health.py:72:0: C0304: Final newline missing (missing-final-newline)\n",
            "heart_health.py:1:0: C0114: Missing module docstring (missing-module-docstring)\n",
            "heart_health.py:1:0: E0401: Unable to import 'pyspark' (import-error)\n",
            "heart_health.py:2:0: E0401: Unable to import 'pyspark.sql' (import-error)\n",
            "heart_health.py:6:0: C0116: Missing function or method docstring (missing-function-docstring)\n",
            "heart_health.py:9:4: C0103: Variable name \"df\" doesn't conform to snake_case naming style (invalid-name)\n",
            "heart_health.py:14:0: C0116: Missing function or method docstring (missing-function-docstring)\n",
            "heart_health.py:24:0: C0116: Missing function or method docstring (missing-function-docstring)\n",
            "heart_health.py:37:0: C0116: Missing function or method docstring (missing-function-docstring)\n",
            "heart_health.py:38:4: C0103: Variable name \"df\" doesn't conform to snake_case naming style (invalid-name)\n",
            "heart_health.py:43:0: C0116: Missing function or method docstring (missing-function-docstring)\n",
            "heart_health.py:44:4: C0103: Variable name \"df\" doesn't conform to snake_case naming style (invalid-name)\n",
            "heart_health.py:48:0: C0116: Missing function or method docstring (missing-function-docstring)\n",
            "heart_health.py:49:4: C0103: Variable name \"df\" doesn't conform to snake_case naming style (invalid-name)\n",
            "heart_health.py:54:0: C0116: Missing function or method docstring (missing-function-docstring)\n",
            "heart_health.py:55:4: C0103: Variable name \"df\" doesn't conform to snake_case naming style (invalid-name)\n",
            "heart_health.py:59:0: C0116: Missing function or method docstring (missing-function-docstring)\n",
            "heart_health.py:60:4: C0103: Variable name \"df\" doesn't conform to snake_case naming style (invalid-name)\n",
            "heart_health.py:64:0: C0116: Missing function or method docstring (missing-function-docstring)\n",
            "heart_health.py:65:4: C0103: Variable name \"df\" doesn't conform to snake_case naming style (invalid-name)\n",
            "heart_health.py:69:0: C0116: Missing function or method docstring (missing-function-docstring)\n",
            "\n",
            "-----------------------------------\n",
            "Your code has been rated at 2.11/10\n",
            "\n"
          ]
        }
      ],
      "source": [
        "!python -m pylint heart_health.py"
      ]
    }
  ],
  "metadata": {
    "colab": {
      "name": "Heart_Health_PyLint_Unsolved.ipynb",
      "provenance": []
    },
    "kernelspec": {
      "display_name": "Python 3.8.12 ('qatest')",
      "language": "python",
      "name": "python3"
    },
    "language_info": {
      "name": "python",
      "version": "3.8.12"
    },
    "vscode": {
      "interpreter": {
        "hash": "df07ec09c4017cff5cffe5c6e95982b3fd889b25c9af2c66175cc1127f95fbfd"
      }
    }
  },
  "nbformat": 4,
  "nbformat_minor": 0
}
