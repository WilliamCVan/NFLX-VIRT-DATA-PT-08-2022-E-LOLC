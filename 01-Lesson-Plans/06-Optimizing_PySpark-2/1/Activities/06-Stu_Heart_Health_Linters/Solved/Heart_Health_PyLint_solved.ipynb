{
  "cells": [
    {
      "cell_type": "code",
      "execution_count": 1,
      "metadata": {
        "colab": {
          "base_uri": "https://localhost:8080/"
        },
        "id": "eYJ7F1aXNLzq",
        "outputId": "9b9f7f80-75e2-4673-f4a2-701a965e15a8"
      },
      "outputs": [
        {
          "name": "stdout",
          "output_type": "stream",
          "text": [
            "\r0% [Working]\r            \rGet:1 https://developer.download.nvidia.com/compute/cuda/repos/ubuntu1804/x86_64  InRelease [1,581 B]\n",
            "\r0% [Connecting to archive.ubuntu.com] [Connecting to security.ubuntu.com] [Wait\r0% [Connecting to archive.ubuntu.com] [Connecting to security.ubuntu.com] [Wait\r                                                                               \rGet:2 https://cloud.r-project.org/bin/linux/ubuntu bionic-cran40/ InRelease [3,626 B]\n",
            "Ign:3 https://developer.download.nvidia.com/compute/machine-learning/repos/ubuntu1804/x86_64  InRelease\n",
            "Hit:4 https://developer.download.nvidia.com/compute/machine-learning/repos/ubuntu1804/x86_64  Release\n",
            "Get:5 http://ppa.launchpad.net/c2d4u.team/c2d4u4.0+/ubuntu bionic InRelease [15.9 kB]\n",
            "Hit:6 http://archive.ubuntu.com/ubuntu bionic InRelease\n",
            "Get:7 http://archive.ubuntu.com/ubuntu bionic-updates InRelease [88.7 kB]\n",
            "Get:8 https://developer.download.nvidia.com/compute/cuda/repos/ubuntu1804/x86_64  Packages [816 kB]\n",
            "Hit:9 http://ppa.launchpad.net/cran/libgit2/ubuntu bionic InRelease\n",
            "Get:10 http://security.ubuntu.com/ubuntu bionic-security InRelease [88.7 kB]\n",
            "Get:11 http://ppa.launchpad.net/deadsnakes/ppa/ubuntu bionic InRelease [15.9 kB]\n",
            "Get:12 http://archive.ubuntu.com/ubuntu bionic-backports InRelease [74.6 kB]\n",
            "Hit:13 http://ppa.launchpad.net/graphics-drivers/ppa/ubuntu bionic InRelease\n",
            "Get:15 http://ppa.launchpad.net/c2d4u.team/c2d4u4.0+/ubuntu bionic/main Sources [2,075 kB]\n",
            "Get:16 http://ppa.launchpad.net/c2d4u.team/c2d4u4.0+/ubuntu bionic/main amd64 Packages [1,063 kB]\n",
            "Get:17 http://archive.ubuntu.com/ubuntu bionic-updates/main amd64 Packages [3,324 kB]\n",
            "Get:18 http://ppa.launchpad.net/deadsnakes/ppa/ubuntu bionic/main amd64 Packages [45.3 kB]\n",
            "Get:19 http://security.ubuntu.com/ubuntu bionic-security/main amd64 Packages [2,890 kB]\n",
            "Get:20 http://archive.ubuntu.com/ubuntu bionic-updates/restricted amd64 Packages [1,099 kB]\n",
            "Get:21 http://archive.ubuntu.com/ubuntu bionic-updates/universe amd64 Packages [2,300 kB]\n",
            "Get:22 http://security.ubuntu.com/ubuntu bionic-security/universe amd64 Packages [1,521 kB]\n",
            "Get:23 http://security.ubuntu.com/ubuntu bionic-security/restricted amd64 Packages [1,055 kB]\n",
            "Fetched 16.5 MB in 7s (2,382 kB/s)\n",
            "Reading package lists... Done\n"
          ]
        }
      ],
      "source": [
        "# Activate Spark in our Colab notebook.\n",
        "import os\n",
        "# Find the latest version of spark 3.0  from http://www.apache.org/dist/spark/ and enter as the spark version\n",
        "# For example: 'spark-3.2.2'\n",
        "spark_version = 'spark-3.2.2'\n",
        "# spark_version = 'spark-3.<enter version>'\n",
        "os.environ['SPARK_VERSION']=spark_version\n",
        "\n",
        "# Install Spark and Java\n",
        "!apt-get update\n",
        "!apt-get install openjdk-11-jdk-headless -qq > /dev/null\n",
        "!wget -q http://www.apache.org/dist/spark/$SPARK_VERSION/$SPARK_VERSION-bin-hadoop3.2.tgz\n",
        "!tar xf $SPARK_VERSION-bin-hadoop3.2.tgz\n",
        "!pip install -q findspark\n",
        "\n",
        "# Set Environment Variables\n",
        "os.environ[\"JAVA_HOME\"] = \"/usr/lib/jvm/java-11-openjdk-amd64\"\n",
        "os.environ[\"SPARK_HOME\"] = f\"/content/{spark_version}-bin-hadoop3.2\""
      ]
    },
    {
      "cell_type": "code",
      "execution_count": 2,
      "metadata": {
        "colab": {
          "base_uri": "https://localhost:8080/"
        },
        "id": "2b6P_hDdNUb9",
        "outputId": "b0e9f77c-de6a-439b-c6bc-fc8b045c4b22"
      },
      "outputs": [
        {
          "name": "stdout",
          "output_type": "stream",
          "text": [
            "Looking in indexes: https://pypi.org/simple, https://us-python.pkg.dev/colab-wheels/public/simple/\n",
            "Collecting pylint\n",
            "  Downloading pylint-2.14.4-py3-none-any.whl (488 kB)\n",
            "\u001b[K     |████████████████████████████████| 488 kB 5.0 MB/s \n",
            "\u001b[?25hRequirement already satisfied: dill>=0.2 in /usr/local/lib/python3.7/dist-packages (from pylint) (0.3.5.1)\n",
            "Collecting astroid<=2.12.0-dev0,>=2.11.6\n",
            "  Downloading astroid-2.11.7-py3-none-any.whl (251 kB)\n",
            "\u001b[K     |████████████████████████████████| 251 kB 21.0 MB/s \n",
            "\u001b[?25hCollecting platformdirs>=2.2.0\n",
            "  Downloading platformdirs-2.5.2-py3-none-any.whl (14 kB)\n",
            "Collecting tomlkit>=0.10.1\n",
            "  Downloading tomlkit-0.11.1-py3-none-any.whl (34 kB)\n",
            "Collecting mccabe<0.8,>=0.6\n",
            "  Downloading mccabe-0.7.0-py2.py3-none-any.whl (7.3 kB)\n",
            "Requirement already satisfied: tomli>=1.1.0 in /usr/local/lib/python3.7/dist-packages (from pylint) (2.0.1)\n",
            "Collecting isort<6,>=4.2.5\n",
            "  Downloading isort-5.10.1-py3-none-any.whl (103 kB)\n",
            "\u001b[K     |████████████████████████████████| 103 kB 62.3 MB/s \n",
            "\u001b[?25hRequirement already satisfied: typing-extensions>=3.10.0 in /usr/local/lib/python3.7/dist-packages (from pylint) (4.1.1)\n",
            "Collecting lazy-object-proxy>=1.4.0\n",
            "  Downloading lazy_object_proxy-1.7.1-cp37-cp37m-manylinux_2_5_x86_64.manylinux1_x86_64.manylinux_2_17_x86_64.manylinux2014_x86_64.whl (57 kB)\n",
            "\u001b[K     |████████████████████████████████| 57 kB 5.1 MB/s \n",
            "\u001b[?25hRequirement already satisfied: setuptools>=20.0 in /usr/local/lib/python3.7/dist-packages (from astroid<=2.12.0-dev0,>=2.11.6->pylint) (57.4.0)\n",
            "Collecting typed-ast<2.0,>=1.4.0\n",
            "  Downloading typed_ast-1.5.4-cp37-cp37m-manylinux_2_5_x86_64.manylinux1_x86_64.manylinux_2_12_x86_64.manylinux2010_x86_64.whl (843 kB)\n",
            "\u001b[K     |████████████████████████████████| 843 kB 49.8 MB/s \n",
            "\u001b[?25hRequirement already satisfied: wrapt<2,>=1.11 in /usr/local/lib/python3.7/dist-packages (from astroid<=2.12.0-dev0,>=2.11.6->pylint) (1.14.1)\n",
            "Installing collected packages: typed-ast, lazy-object-proxy, tomlkit, platformdirs, mccabe, isort, astroid, pylint\n",
            "Successfully installed astroid-2.11.7 isort-5.10.1 lazy-object-proxy-1.7.1 mccabe-0.7.0 platformdirs-2.5.2 pylint-2.14.4 tomlkit-0.11.1 typed-ast-1.5.4\n"
          ]
        }
      ],
      "source": [
        "!pip install pylint"
      ]
    },
    {
      "cell_type": "code",
      "execution_count": 3,
      "metadata": {
        "colab": {
          "base_uri": "https://localhost:8080/",
          "height": 54
        },
        "id": "Q4GS_wYFNV8o",
        "outputId": "ed3c95f1-0023-4a4f-8b8f-e746d8699522"
      },
      "outputs": [
        {
          "name": "stdout",
          "output_type": "stream",
          "text": [
            "/content/tests\n"
          ]
        },
        {
          "data": {
            "application/vnd.google.colaboratory.intrinsic+json": {
              "type": "string"
            },
            "text/plain": [
              "'/content/tests'"
            ]
          },
          "execution_count": null,
          "metadata": {},
          "output_type": "execute_result"
        }
      ],
      "source": [
        "# Create and navigate to the tests directory.\n",
        "from pathlib import Path\n",
        "if Path.cwd().name != 'tests':\n",
        "    %mkdir tests\n",
        "    %cd tests\n",
        "# Show the current working directory.  \n",
        "%pwd"
      ]
    },
    {
      "cell_type": "code",
      "execution_count": 4,
      "metadata": {
        "colab": {
          "base_uri": "https://localhost:8080/"
        },
        "id": "H4RPKXEyNX5b",
        "outputId": "c7a22f42-90af-46b3-a7f7-24710501e2eb"
      },
      "outputs": [
        {
          "name": "stdout",
          "output_type": "stream",
          "text": [
            "Writing __init__.py\n"
          ]
        }
      ],
      "source": [
        "# Create a  __init__.py file that will contain that will be used to run our functions. \n",
        "# This file will be stored in our pwd (/content/tests)\n",
        "%%file __init__.py\n",
        "pass"
      ]
    },
    {
      "cell_type": "code",
      "execution_count": 7,
      "metadata": {
        "colab": {
          "base_uri": "https://localhost:8080/"
        },
        "id": "Jxt_tx6ENZ87",
        "outputId": "b4c670d1-2318-4f29-af09-9fcbd5948cdf"
      },
      "outputs": [
        {
          "name": "stdout",
          "output_type": "stream",
          "text": [
            "Overwriting heart_health.py\n"
          ]
        }
      ],
      "source": [
        "# Create a heart_health.py file that will contain our functions.\n",
        "# This file will be stored in our pwd (/content/tests).\n",
        "%%file heart_health.py\n",
        "\"\"\"\n",
        "Heart Health Module\n",
        "\"\"\"\n",
        "\n",
        "from pyspark import SparkFiles # pylint: disable=import-error\n",
        "from pyspark.sql import SparkSession # pylint: disable=import-error\n",
        "\n",
        "spark = SparkSession.builder.appName(\"sparkHeartData\").getOrCreate()\n",
        "\n",
        "def import_data():\n",
        "    \"\"\"\n",
        "    Imports the heart health dataset from S3.\n",
        "    \"\"\"\n",
        "\n",
        "    url = \"https://2u-data-curriculum-team.s3.amazonaws.com/nflx-data-science-adv/week-6/heart_health.csv\"\n",
        "    spark.sparkContext.addFile(url)\n",
        "    source_df = spark.read.csv(SparkFiles.get(\"heart_health.csv\"), sep=\",\", header=True)\n",
        "    source_df.createOrReplaceTempView('HEART_HEALTH')\n",
        "\n",
        "    return source_df\n",
        "\n",
        "def get_states():\n",
        "    \"\"\"\n",
        "    Transform the Heart Health dataset.\n",
        "    \"\"\"\n",
        "\n",
        "    transformed_df = spark.sql(\"\"\"\n",
        "    SELECT DISTINCT\n",
        "        STATE\n",
        "    FROM HEART_HEALTH\n",
        "    \"\"\")\n",
        "\n",
        "    return transformed_df\n",
        "\n",
        "\n",
        "def get_states_with_above_avg_death_rate():\n",
        "    \"\"\"\n",
        "    Transforms the Heart Health dataset.\n",
        "    \"\"\"\n",
        "\n",
        "    transformed_df = spark.sql(\"\"\"\n",
        "    SELECT\n",
        "        STATE,\n",
        "        AVG(Death_Rate)\n",
        "    FROM HEART_HEALTH\n",
        "    GROUP BY STATE\n",
        "    HAVING AVG(Death_Rate) > 400\n",
        "    \"\"\")\n",
        "\n",
        "    return transformed_df\n",
        "\n",
        "\n",
        "def test_row_count_source():\n",
        "    \"\"\"\n",
        "    Tests the number rows in the source dataset.\n",
        "    \"\"\"\n",
        "\n",
        "    source_df = import_data()\n",
        "    assert source_df.count() == 799\n",
        "\n",
        "\n",
        "def test_column_count_source():\n",
        "    \"\"\"\n",
        "    Tests the number of columns in the source dataset.\n",
        "    \"\"\"\n",
        "\n",
        "    source_df = import_data()\n",
        "    assert len(source_df.columns) == 9\n",
        "\n",
        "\n",
        "def test_get_states():\n",
        "    \"\"\"\n",
        "    Tests the transform logic to ensure state is the only column.\n",
        "    \"\"\"\n",
        "\n",
        "    transformed_df = get_states()\n",
        "\n",
        "    assert transformed_df.schema.names == ['STATE']\n",
        "\n",
        "\n",
        "def test_row_count_get_states():\n",
        "    \"\"\"\n",
        "    Tests the row count of the transformed dataset.\n",
        "    \"\"\"\n",
        "\n",
        "    transformed_df = get_states()\n",
        "    assert transformed_df.count() == 5\n",
        "\n",
        "\n",
        "def test_row_count_avg_death_rate():\n",
        "    \"\"\"\n",
        "    Tests the row count of the average death rate transformed dataset.\n",
        "    \"\"\"\n",
        "\n",
        "    death_rate_df = get_states_with_above_avg_death_rate()\n",
        "    assert death_rate_df.count() == 5\n",
        "\n",
        "\n",
        "def test_column_count_avg_death_rate():\n",
        "    \"\"\"\n",
        "    Tests the columns count of the average death rate transformed dataset.\n",
        "    \"\"\"\n",
        "\n",
        "    death_rate_df = get_states_with_above_avg_death_rate()\n",
        "    assert len(death_rate_df.columns) == 2\n",
        "\n",
        "\n",
        "def test_get_states_vs_avg_death_rate_count():\n",
        "    \"\"\"\n",
        "    Tests to ensure that the counts between the two transformations match.\n",
        "    \"\"\"\n",
        "\n",
        "    df_get_states = get_states()\n",
        "    df_avg_death_rate = get_states_with_above_avg_death_rate()\n",
        "    assert df_get_states.count() == df_avg_death_rate.count()\n",
        "\n"
      ]
    },
    {
      "cell_type": "code",
      "execution_count": 8,
      "metadata": {
        "colab": {
          "base_uri": "https://localhost:8080/"
        },
        "id": "zMSM53aaNePK",
        "outputId": "0a1504b0-5ba4-421d-f542-cca7bad73fa7"
      },
      "outputs": [
        {
          "name": "stdout",
          "output_type": "stream",
          "text": [
            "\n",
            "-------------------------------------------------------------------\n",
            "Your code has been rated at 10.00/10 (previous run: 7.03/10, +2.97)\n",
            "\n"
          ]
        }
      ],
      "source": [
        "!python -m pylint heart_health.py"
      ]
    }
  ],
  "metadata": {
    "colab": {
      "name": "Heart_Health_PyLint.ipynb",
      "provenance": []
    },
    "kernelspec": {
      "display_name": "Python 3.9.6 64-bit",
      "language": "python",
      "name": "python3"
    },
    "language_info": {
      "name": "python",
      "version": "3.9.6"
    },
    "vscode": {
      "interpreter": {
        "hash": "aee8b7b246df8f9039afb4144a1f6fd8d2ca17a180786b69acc140d282b71a49"
      }
    }
  },
  "nbformat": 4,
  "nbformat_minor": 0
}
