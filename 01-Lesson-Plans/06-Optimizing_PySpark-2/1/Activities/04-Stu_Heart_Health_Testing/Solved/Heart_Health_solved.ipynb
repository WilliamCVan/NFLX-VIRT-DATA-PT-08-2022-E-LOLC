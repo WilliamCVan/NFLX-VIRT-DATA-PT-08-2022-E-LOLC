{
  "cells": [
    {
      "cell_type": "code",
      "execution_count": 1,
      "metadata": {
        "colab": {
          "base_uri": "https://localhost:8080/"
        },
        "id": "I1s5USpL_TDm",
        "outputId": "64a692fd-ef79-4ea9-cf24-ab7eb45a78f9"
      },
      "outputs": [
        {
          "name": "stdout",
          "output_type": "stream",
          "text": [
            "\r0% [Working]\r            \rHit:1 http://archive.ubuntu.com/ubuntu bionic InRelease\n",
            "\r0% [Waiting for headers] [Connected to cloud.r-project.org (108.157.162.43)] [C\r                                                                               \rGet:2 http://archive.ubuntu.com/ubuntu bionic-updates InRelease [88.7 kB]\n",
            "\r                                                                               \rGet:3 http://security.ubuntu.com/ubuntu bionic-security InRelease [88.7 kB]\n",
            "\r                                                                               \rGet:4 https://developer.download.nvidia.com/compute/cuda/repos/ubuntu1804/x86_64  InRelease [1,581 B]\n",
            "\r0% [2 InRelease 15.6 kB/88.7 kB 18%] [3 InRelease 20.0 kB/88.7 kB 23%] [Waiting\r0% [1 InRelease gpgv 242 kB] [2 InRelease 15.6 kB/88.7 kB 18%] [3 InRelease 20.\r                                                                               \rGet:5 https://cloud.r-project.org/bin/linux/ubuntu bionic-cran40/ InRelease [3,626 B]\n",
            "Get:6 http://ppa.launchpad.net/c2d4u.team/c2d4u4.0+/ubuntu bionic InRelease [15.9 kB]\n",
            "Get:7 http://archive.ubuntu.com/ubuntu bionic-backports InRelease [74.6 kB]\n",
            "Ign:8 https://developer.download.nvidia.com/compute/machine-learning/repos/ubuntu1804/x86_64  InRelease\n",
            "Hit:9 https://developer.download.nvidia.com/compute/machine-learning/repos/ubuntu1804/x86_64  Release\n",
            "Hit:10 http://ppa.launchpad.net/cran/libgit2/ubuntu bionic InRelease\n",
            "Get:11 http://ppa.launchpad.net/deadsnakes/ppa/ubuntu bionic InRelease [15.9 kB]\n",
            "Hit:12 http://ppa.launchpad.net/graphics-drivers/ppa/ubuntu bionic InRelease\n",
            "Get:13 https://developer.download.nvidia.com/compute/cuda/repos/ubuntu1804/x86_64  Packages [816 kB]\n",
            "Get:14 http://archive.ubuntu.com/ubuntu bionic-updates/universe amd64 Packages [2,300 kB]\n",
            "Get:15 http://archive.ubuntu.com/ubuntu bionic-updates/main amd64 Packages [3,326 kB]\n",
            "Get:16 http://archive.ubuntu.com/ubuntu bionic-updates/restricted amd64 Packages [1,101 kB]\n",
            "Get:17 http://security.ubuntu.com/ubuntu bionic-security/universe amd64 Packages [1,523 kB]\n",
            "Get:18 http://security.ubuntu.com/ubuntu bionic-security/main amd64 Packages [2,890 kB]\n",
            "Get:19 http://security.ubuntu.com/ubuntu bionic-security/restricted amd64 Packages [1,055 kB]\n",
            "Get:21 http://ppa.launchpad.net/c2d4u.team/c2d4u4.0+/ubuntu bionic/main Sources [2,075 kB]\n",
            "Get:22 http://ppa.launchpad.net/c2d4u.team/c2d4u4.0+/ubuntu bionic/main amd64 Packages [1,063 kB]\n",
            "Get:23 http://ppa.launchpad.net/deadsnakes/ppa/ubuntu bionic/main amd64 Packages [45.3 kB]\n",
            "Fetched 16.5 MB in 8s (2,058 kB/s)\n",
            "Reading package lists... Done\n"
          ]
        }
      ],
      "source": [
        "# Activate Spark in our Colab notebook.\n",
        "import os\n",
        "# Find the latest version of spark 3.0  from http://www.apache.org/dist/spark/ and enter as the spark version\n",
        "# For example: 'spark-3.2.2'\n",
        "spark_version = 'spark-3.2.2'\n",
        "# spark_version = 'spark-3.<enter version>'\n",
        "os.environ['SPARK_VERSION']=spark_version\n",
        "\n",
        "# Install Spark and Java\n",
        "!apt-get update\n",
        "!apt-get install openjdk-11-jdk-headless -qq > /dev/null\n",
        "!wget -q http://www.apache.org/dist/spark/$SPARK_VERSION/$SPARK_VERSION-bin-hadoop3.2.tgz\n",
        "!tar xf $SPARK_VERSION-bin-hadoop3.2.tgz\n",
        "!pip install -q findspark\n",
        "\n",
        "# Set Environment Variables\n",
        "os.environ[\"JAVA_HOME\"] = \"/usr/lib/jvm/java-11-openjdk-amd64\"\n",
        "os.environ[\"SPARK_HOME\"] = f\"/content/{spark_version}-bin-hadoop3.2\""
      ]
    },
    {
      "cell_type": "code",
      "execution_count": 2,
      "metadata": {
        "id": "7gLb5ZyA_VIE"
      },
      "outputs": [],
      "source": [
        "# Install pytest and pytest-sugar to make our output look nice.\n",
        "!pip install -q pytest pytest-sugar"
      ]
    },
    {
      "cell_type": "code",
      "execution_count": 3,
      "metadata": {
        "colab": {
          "base_uri": "https://localhost:8080/",
          "height": 53
        },
        "id": "I8snDLSb_Ykr",
        "outputId": "6acc0544-e7da-4fb7-c01e-d38cd5d526de"
      },
      "outputs": [
        {
          "name": "stdout",
          "output_type": "stream",
          "text": [
            "/content/tests\n"
          ]
        },
        {
          "data": {
            "application/vnd.google.colaboratory.intrinsic+json": {
              "type": "string"
            },
            "text/plain": [
              "'/content/tests'"
            ]
          },
          "execution_count": 3,
          "metadata": {},
          "output_type": "execute_result"
        }
      ],
      "source": [
        "# Create and navigate to the tdd directory.\n",
        "from pathlib import Path\n",
        "if Path.cwd().name != 'tests':\n",
        "    %mkdir tests\n",
        "    %cd tests\n",
        "# Show the current working directory.  \n",
        "%pwd"
      ]
    },
    {
      "cell_type": "code",
      "execution_count": 4,
      "metadata": {
        "colab": {
          "base_uri": "https://localhost:8080/"
        },
        "id": "1TyIQdD-_aMd",
        "outputId": "b537bc42-a2d4-4385-9e22-444f22ebc630"
      },
      "outputs": [
        {
          "name": "stdout",
          "output_type": "stream",
          "text": [
            "Writing __init__.py\n"
          ]
        }
      ],
      "source": [
        "# Create a  __init__.py file that will contain that will be used to run our functions. \n",
        "# This file will be stored in our pwd (/content/tests)\n",
        "%%file __init__.py\n",
        "pass"
      ]
    },
    {
      "cell_type": "code",
      "execution_count": 13,
      "metadata": {
        "colab": {
          "base_uri": "https://localhost:8080/"
        },
        "id": "vIxxsVpS_ax0",
        "outputId": "608a774d-e878-41a2-eef1-ea8980b5c8cb"
      },
      "outputs": [
        {
          "name": "stdout",
          "output_type": "stream",
          "text": [
            "Overwriting heart_health.py\n"
          ]
        }
      ],
      "source": [
        "# Create a heart_health.py file that will contain our functions.\n",
        "# This file will be stored in our pwd (/content/tests).\n",
        "%%file heart_health.py\n",
        "\n",
        "# Import findspark() and initialize. \n",
        "import findspark\n",
        "findspark.init()\n",
        "\n",
        "# Import other dependencies. \n",
        "from pyspark import SparkFiles\n",
        "from pyspark.sql import SparkSession\n",
        "spark = SparkSession.builder.appName(\"sparkHealthData\").getOrCreate()\n",
        "\n",
        "def import_data():\n",
        "    url = \"https://2u-data-curriculum-team.s3.amazonaws.com/nflx-data-science-adv/week-6/heart_health.csv\"\n",
        "    spark.sparkContext.addFile(url)\n",
        "    df = spark.read.csv(SparkFiles.get(\"heart_health.csv\"), sep=\",\", header=True)\n",
        "    df.createOrReplaceTempView('HEART_HEALTH')\n",
        "\n",
        "    return df\n",
        "\n",
        "# 1. Write a function called \"get_states()\" that selects the distinct states from the \"HEART_HEALTH\" view. \n",
        "def get_states():\n",
        "    transformed_df = spark.sql(\"\"\"\n",
        "    SELECT DISTINCT\n",
        "        STATE\n",
        "    FROM HEART_HEALTH\n",
        "    \"\"\")\n",
        "\n",
        "    return transformed_df\n",
        "\n",
        "# 2. Write a function called \"get_states_with_above_avg_death_rate\" that selects the states, average death rate from the \"HEART_HEALTH\" view grouped by state \n",
        "# where the average death rate is greater than 400. \n",
        "def get_states_with_above_avg_death_rate():\n",
        "    transformed_df = spark.sql(\"\"\"\n",
        "    SELECT\n",
        "        STATE,\n",
        "        AVG(Death_Rate)\n",
        "    FROM HEART_HEALTH\n",
        "    GROUP BY STATE\n",
        "    HAVING AVG(Death_Rate) > 400\n",
        "    \"\"\")\n",
        "\n",
        "    return transformed_df"
      ]
    },
    {
      "cell_type": "markdown",
      "metadata": {
        "id": "hVB8RwyQMqNE"
      },
      "source": [
        "Test Suite"
      ]
    },
    {
      "cell_type": "code",
      "execution_count": 16,
      "metadata": {
        "colab": {
          "base_uri": "https://localhost:8080/"
        },
        "id": "g5nLuFyV_1Gm",
        "outputId": "daffd54f-0ecd-4fb7-858c-35fe09f04b7c"
      },
      "outputs": [
        {
          "name": "stdout",
          "output_type": "stream",
          "text": [
            "Overwriting test_heart_health.py\n"
          ]
        }
      ],
      "source": [
        "# Create a test_heart_health.py file that will contain the the test functions.\n",
        "# This file will be stored in our pwd (/content/tests).\n",
        "%%file test_heart_health.py\n",
        "\n",
        "# Import the functions to test: import_data get_states, get_states_with_above_avg_death_rate\n",
        "from heart_health import import_data, get_states, get_states_with_above_avg_death_rate\n",
        "\n",
        "# 1. Write a test that returns 799 rows from the import_data function. \n",
        "def test_row_count_source():\n",
        "    df = import_data()\n",
        "    assert df.count() == 799\n",
        "\n",
        "# 2. Write a test that returns 9 columns from the import_data function.\n",
        "def test_column_count_source():\n",
        "    df = import_data()\n",
        "    assert len(df.columns) == 9\n",
        "\n",
        "# 3. Write a test that ensures that we are only getting the \"STATE\" column returned from the get_states() function.\n",
        "def test_get_states():\n",
        "    df = get_states()\n",
        "    assert df.schema.names == ['STATE']\n",
        "\n",
        "# 4. Write a test that ensures that we are only getting five distinct states \n",
        "# after the the transformation in the get_states() function.\n",
        "def test_row_count_get_states():\n",
        "    df = get_states()\n",
        "    assert df.count() == 5\n",
        "\n",
        "# 5. Write a test that to ensure that we only get 5 rows from the get_states_with_above_avg_death_rate() function. \n",
        "def test_row_count_avg_death_rate():\n",
        "    df = get_states_with_above_avg_death_rate()\n",
        "    assert df.count() == 5\n",
        "\n",
        "# 6. Write a test that to ensure that we only get 2 columns from the get_states_with_above_avg_death_rate() function. \n",
        "def test_column_count_avg_death_rate():\n",
        "    df = get_states_with_above_avg_death_rate()\n",
        "    assert len(df.columns) == 2\n",
        "\n",
        "# 7. Write a test to see if any states were removed because they had death rate lower than 400.\n",
        "def test_get_states_vs_avg_death_rate_count():\n",
        "    df_get_states = get_states()\n",
        "    df_avg_death_rate = get_states_with_above_avg_death_rate()\n",
        "    assert df_get_states.count() == df_avg_death_rate.count()"
      ]
    },
    {
      "cell_type": "code",
      "execution_count": 17,
      "metadata": {
        "colab": {
          "base_uri": "https://localhost:8080/"
        },
        "id": "kJIU8aC7AJGB",
        "outputId": "d04df538-5bf4-476b-f89b-75efbc0bba72"
      },
      "outputs": [
        {
          "name": "stdout",
          "output_type": "stream",
          "text": [
            "\u001b[1mTest session starts (platform: linux, Python 3.7.13, pytest 3.6.4, pytest-sugar 0.9.5)\u001b[0m\n",
            "rootdir: /content/tests, inifile:\n",
            "plugins: typeguard-2.7.1, sugar-0.9.5\n",
            "\n",
            " \u001b[36m\u001b[0mtest_heart_health.py\u001b[0m \u001b[32m✓\u001b[0m\u001b[32m✓\u001b[0m\u001b[32m✓\u001b[0m\u001b[32m✓\u001b[0m\u001b[32m✓\u001b[0m\u001b[32m✓\u001b[0m\u001b[32m✓\u001b[0m                                    \u001b[32m100% \u001b[0m\u001b[40m\u001b[32m█\u001b[0m\u001b[40m\u001b[32m█\u001b[0m\u001b[40m\u001b[32m█\u001b[0m\u001b[40m\u001b[32m█\u001b[0m\u001b[40m\u001b[32m█\u001b[0m\u001b[40m\u001b[32m█\u001b[0m\u001b[40m\u001b[32m█\u001b[0m\u001b[40m\u001b[32m█\u001b[0m\u001b[40m\u001b[32m█\u001b[0m\u001b[40m\u001b[32m█\u001b[0m\n",
            "\n",
            "Results (26.76s):\n",
            "\u001b[32m       7 passed\u001b[0m\n"
          ]
        }
      ],
      "source": [
        "# Run the test_heart_health.py file with pytest. \n",
        "!python -m pytest test_heart_health.py"
      ]
    }
  ],
  "metadata": {
    "colab": {
      "collapsed_sections": [],
      "name": "Heart_Health_solved.ipynb",
      "provenance": []
    },
    "kernelspec": {
      "display_name": "Python 3.8.12 ('qatest')",
      "language": "python",
      "name": "python3"
    },
    "language_info": {
      "name": "python",
      "version": "3.8.12"
    },
    "vscode": {
      "interpreter": {
        "hash": "df07ec09c4017cff5cffe5c6e95982b3fd889b25c9af2c66175cc1127f95fbfd"
      }
    }
  },
  "nbformat": 4,
  "nbformat_minor": 0
}
