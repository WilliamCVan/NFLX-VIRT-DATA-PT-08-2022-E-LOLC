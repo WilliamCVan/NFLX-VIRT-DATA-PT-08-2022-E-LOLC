{
  "cells": [
    {
      "cell_type": "code",
      "execution_count": null,
      "metadata": {
        "id": "I1s5USpL_TDm"
      },
      "outputs": [],
      "source": [
        "# Activate Spark in our Colab notebook.\n",
        "import os\n",
        "# Find the latest version of spark 3.0  from http://www.apache.org/dist/spark/ and enter as the spark version\n",
        "# For example: 'spark-3.2.2'\n",
        "spark_version = 'spark-3.2.2'\n",
        "# spark_version = 'spark-3.<enter version>'\n",
        "os.environ['SPARK_VERSION']=spark_version\n",
        "\n",
        "# Install Spark and Java\n",
        "!apt-get update\n",
        "!apt-get install openjdk-11-jdk-headless -qq > /dev/null\n",
        "!wget -q http://www.apache.org/dist/spark/$SPARK_VERSION/$SPARK_VERSION-bin-hadoop3.2.tgz\n",
        "!tar xf $SPARK_VERSION-bin-hadoop3.2.tgz\n",
        "!pip install -q findspark\n",
        "\n",
        "# Set Environment Variables\n",
        "os.environ[\"JAVA_HOME\"] = \"/usr/lib/jvm/java-11-openjdk-amd64\"\n",
        "os.environ[\"SPARK_HOME\"] = f\"/content/{spark_version}-bin-hadoop3.2\""
      ]
    },
    {
      "cell_type": "code",
      "execution_count": null,
      "metadata": {
        "id": "7gLb5ZyA_VIE"
      },
      "outputs": [],
      "source": [
        "# Install pytest and pytest-sugar to make our output look nice.\n",
        "!pip install -q pytest pytest-sugar"
      ]
    },
    {
      "cell_type": "code",
      "execution_count": null,
      "metadata": {
        "id": "I8snDLSb_Ykr"
      },
      "outputs": [],
      "source": [
        "# Create and navigate to the tdd directory.\n",
        "from pathlib import Path\n",
        "if Path.cwd().name != 'tests':\n",
        "    %mkdir tests\n",
        "    %cd tests\n",
        "# Show the current working directory.  \n",
        "%pwd"
      ]
    },
    {
      "cell_type": "code",
      "execution_count": null,
      "metadata": {
        "id": "1TyIQdD-_aMd"
      },
      "outputs": [],
      "source": [
        "# Create a  __init__.py file that will contain that will be used to run our functions. \n",
        "# This file will be stored in our pwd (/content/tests)\n",
        "%%file __init__.py\n",
        "pass"
      ]
    },
    {
      "cell_type": "code",
      "execution_count": null,
      "metadata": {
        "id": "vIxxsVpS_ax0"
      },
      "outputs": [],
      "source": [
        "# Create a heart_health.py file that will contain our functions.\n",
        "# This file will be stored in our pwd (/content/tests).\n",
        "%%file heart_health.py\n",
        "\n",
        "# Import findspark() and initialize. \n",
        "import findspark\n",
        "findspark.init()\n",
        "\n",
        "# Import other dependencies. \n",
        "from pyspark import SparkFiles\n",
        "from pyspark.sql import SparkSession\n",
        "spark = SparkSession.builder.appName(\"sparkBankData\").getOrCreate()\n",
        "\n",
        "#  Create a function that imports the data asnd creates a temporary view called \"HEART_HEALTH\".\n",
        "def import_data():\n",
        "    url = \"https://2u-data-curriculum-team.s3.amazonaws.com/nflx-data-science-adv/week-6/heart_health.csv\"\n",
        "\n",
        "# 1. Write a function called \"get_states()\" that selects the distinct states from the \"HEART_HEALTH\" view. \n",
        "\n",
        "# 2. Write a function called \"get_states_with_above_avg_death_rate\" that selects the states, average death rate from the \"HEART_HEALTH\" view grouped by state \n",
        "# where the average death rate is greater than 400. \n"
      ]
    },
    {
      "cell_type": "markdown",
      "metadata": {
        "id": "8dsFPpqoTxlg"
      },
      "source": [
        "**Test Suite**"
      ]
    },
    {
      "cell_type": "code",
      "execution_count": null,
      "metadata": {
        "id": "g5nLuFyV_1Gm"
      },
      "outputs": [],
      "source": [
        " # Create a test_heart_health.py file that will contain the the test functions.\n",
        "# This file will be stored in our pwd (/content/tests).\n",
        "%%file test_heart_health.py\n",
        "\n",
        "# Import the functions to test: import_data get_states, get_states_with_above_avg_death_rate\n",
        "from heart_health import # import_data, get_states, get_states_with_above_avg_death_rate\n",
        "\n",
        "# 1. Write a test that returns 799 rows  from the import_data function. \n",
        "\n",
        "\n",
        "# 2. Write a test that returns 9 columns from the import_data function.\n",
        "\n",
        "\n",
        "# 3. Write a test that ensures that we are only getting the \"STATE\" column returned from the get_states() function.\n",
        "\n",
        "# 4. Write a test that ensures that we are only getting five distinct states \n",
        "# after the the transformation in the get_states() function.\n",
        "\n",
        "\n",
        "# 5. Write a test that to ensure that we only get 5 rows from the get_states_with_above_avg_death_rate() function. \n",
        "\n",
        "\n",
        "# 6. Write a test that to ensure that we only get 2 columns from the get_states_with_above_avg_death_rate() function. \n",
        "\n",
        "\n",
        "\n",
        "# 7. Write a test to see if any states were removed because they had death rate lower than 400. \n"
      ]
    },
    {
      "cell_type": "code",
      "execution_count": null,
      "metadata": {
        "id": "kJIU8aC7AJGB"
      },
      "outputs": [],
      "source": [
        "# Run the test_heart_health.py file with pytest. \n",
        "!python -m pytest test_heart_health.py"
      ]
    }
  ],
  "metadata": {
    "colab": {
      "collapsed_sections": [],
      "name": "Heart_Health_unsolved.ipynb",
      "provenance": []
    },
    "kernelspec": {
      "display_name": "Python 3.9.6 64-bit",
      "language": "python",
      "name": "python3"
    },
    "language_info": {
      "name": "python",
      "version": "3.9.6"
    },
    "vscode": {
      "interpreter": {
        "hash": "aee8b7b246df8f9039afb4144a1f6fd8d2ca17a180786b69acc140d282b71a49"
      }
    }
  },
  "nbformat": 4,
  "nbformat_minor": 0
}
