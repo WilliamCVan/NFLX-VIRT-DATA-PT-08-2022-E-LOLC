{
 "cells": [
  {
   "cell_type": "code",
   "execution_count": 1,
   "id": "fda25de2",
   "metadata": {},
   "outputs": [
    {
     "name": "stdout",
     "output_type": "stream",
     "text": [
      "{1: 'B', 3: 'D', 4: 'E'}\n"
     ]
    }
   ],
   "source": [
    "D = {0: 'A', 1: 'B', 2: 'C', 3: 'D', 4: 'E', 5: 'F'}\n",
    "removeKeys = [0, 2, 5]\n",
    "\n",
    "X = {k: D[k] for k in D.keys() - removeKeys}\n",
    "\n",
    "print(X)"
   ]
  },
  {
   "cell_type": "code",
   "execution_count": null,
   "id": "cf80c353",
   "metadata": {},
   "outputs": [],
   "source": []
  }
 ],
 "metadata": {
  "kernelspec": {
   "display_name": "Python 3 (ipykernel)",
   "language": "python",
   "name": "python3"
  },
  "language_info": {
   "codemirror_mode": {
    "name": "ipython",
    "version": 3
   },
   "file_extension": ".py",
   "mimetype": "text/x-python",
   "name": "python",
   "nbconvert_exporter": "python",
   "pygments_lexer": "ipython3",
   "version": "3.9.7"
  }
 },
 "nbformat": 4,
 "nbformat_minor": 5
}
